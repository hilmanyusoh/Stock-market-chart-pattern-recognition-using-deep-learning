{
 "cells": [
  {
   "cell_type": "code",
   "execution_count": 42,
   "id": "7dca924c",
   "metadata": {},
   "outputs": [],
   "source": [
    "import pandas as pd\n",
    "import numpy as np\n",
    "import os\n",
    "from cassandra.cluster import Cluster\n",
    "from datetime import datetime\n",
    "import plotly.graph_objects as go\n",
    "import settrade_v2\n",
    "from settrade_v2 import Investor\n",
    "import time"
   ]
  },
  {
   "cell_type": "code",
   "execution_count": 43,
   "id": "a5edc479",
   "metadata": {},
   "outputs": [
    {
     "name": "stderr",
     "output_type": "stream",
     "text": [
      "WARNING\tcassandra.cluster:cluster.py:__init__()- Cluster.__init__ called with contact_points specified, but no load_balancing_policy. In the next major version, this will raise an error; please specify a load-balancing policy. (contact_points = ['127.0.0.1'], lbp = None)\n",
      "WARNING\tcassandra.cluster:cluster.py:protocol_downgrade()- Downgrading core protocol version from 66 to 65 for 127.0.0.1:9042. To avoid this, it is best practice to explicitly set Cluster(protocol_version) to the version supported by your cluster. http://datastax.github.io/python-driver/api/cassandra/cluster.html#cassandra.cluster.Cluster.protocol_version\n",
      "WARNING\tcassandra.cluster:cluster.py:protocol_downgrade()- Downgrading core protocol version from 65 to 5 for 127.0.0.1:9042. To avoid this, it is best practice to explicitly set Cluster(protocol_version) to the version supported by your cluster. http://datastax.github.io/python-driver/api/cassandra/cluster.html#cassandra.cluster.Cluster.protocol_version\n"
     ]
    }
   ],
   "source": [
    "cluster = Cluster(['127.0.0.1']) \n",
    "session = cluster.connect()"
   ]
  },
  {
   "cell_type": "code",
   "execution_count": 44,
   "id": "e33669c1",
   "metadata": {},
   "outputs": [
    {
     "name": "stderr",
     "output_type": "stream",
     "text": [
      "INFO\tsettradev2:logger.py:wrapped()- [Elapsed time 0.263802s]login - success\n",
      "INFO\tsettradev2:logger.py:wrapped()- [Elapsed time 0.384236s]get_account_info - success\n"
     ]
    },
    {
     "data": {
      "text/plain": [
       "{'creditLine': 2000000000.0,\n",
       " 'excessEquity': 2000000000.0,\n",
       " 'cashBalance': 2000000000.0,\n",
       " 'equity': 2000000000.0,\n",
       " 'totalMR': 0.0,\n",
       " 'totalMM': 0.0,\n",
       " 'totalFM': 0.0,\n",
       " 'callForceFlag': 'No',\n",
       " 'callForceMargin': 0.0,\n",
       " 'liquidationValue': 2000000000.0,\n",
       " 'depositWithdrawal': 0.0,\n",
       " 'callForceMarginMM': 0.0,\n",
       " 'initialMargin': 0.0,\n",
       " 'closingMethod': 'Auto Net'}"
      ]
     },
     "execution_count": 44,
     "metadata": {},
     "output_type": "execute_result"
    }
   ],
   "source": [
    "import settrade_v2\n",
    "from settrade_v2 import Investor\n",
    "\n",
    "investor = Investor(\n",
    "    app_id=\"atBqrBrphDcChF32\",                                 \n",
    "    app_secret=\"AK0WsjfbWrRMIL9aCi8b7i12hGdEojdohbUCCb++jDTe\", \n",
    "    broker_id=\"SANDBOX\",\n",
    "    app_code=\"SANDBOX\",\n",
    "    is_auto_queue=False\n",
    ")\n",
    "\n",
    "deri = investor.Derivatives(account_no=\"Man-D\")            \n",
    "\n",
    "account_info = deri.get_account_info()\n",
    "\n",
    "account_info    "
   ]
  },
  {
   "cell_type": "code",
   "execution_count": 45,
   "id": "b58c2197",
   "metadata": {},
   "outputs": [
    {
     "name": "stderr",
     "output_type": "stream",
     "text": [
      "INFO\tsettradev2:logger.py:wrapped()- [Elapsed time 0.588140s]get_candlestick - success\n"
     ]
    }
   ],
   "source": [
    "#Get Candlestick\n",
    "market = investor.MarketData()\n",
    "res = market.get_candlestick(\n",
    "symbol=\"AOT\",\n",
    "interval=\"1d\",\n",
    "limit=1,\n",
    "normalized=True,)"
   ]
  },
  {
   "cell_type": "code",
   "execution_count": 46,
   "id": "3ea9630a",
   "metadata": {},
   "outputs": [
    {
     "data": {
      "text/html": [
       "<div>\n",
       "<style scoped>\n",
       "    .dataframe tbody tr th:only-of-type {\n",
       "        vertical-align: middle;\n",
       "    }\n",
       "\n",
       "    .dataframe tbody tr th {\n",
       "        vertical-align: top;\n",
       "    }\n",
       "\n",
       "    .dataframe thead th {\n",
       "        text-align: right;\n",
       "    }\n",
       "</style>\n",
       "<table border=\"1\" class=\"dataframe\">\n",
       "  <thead>\n",
       "    <tr style=\"text-align: right;\">\n",
       "      <th></th>\n",
       "      <th>lastSequence</th>\n",
       "      <th>time</th>\n",
       "      <th>open</th>\n",
       "      <th>high</th>\n",
       "      <th>low</th>\n",
       "      <th>close</th>\n",
       "      <th>volume</th>\n",
       "      <th>value</th>\n",
       "    </tr>\n",
       "  </thead>\n",
       "  <tbody>\n",
       "    <tr>\n",
       "      <th>0</th>\n",
       "      <td>0</td>\n",
       "      <td>1760634000</td>\n",
       "      <td>40.0</td>\n",
       "      <td>41.5</td>\n",
       "      <td>39.75</td>\n",
       "      <td>40.25</td>\n",
       "      <td>38939890</td>\n",
       "      <td>0</td>\n",
       "    </tr>\n",
       "  </tbody>\n",
       "</table>\n",
       "</div>"
      ],
      "text/plain": [
       "   lastSequence        time  open  high    low  close    volume  value\n",
       "0             0  1760634000  40.0  41.5  39.75  40.25  38939890      0"
      ]
     },
     "execution_count": 46,
     "metadata": {},
     "output_type": "execute_result"
    }
   ],
   "source": [
    "if isinstance(res, dict) and \"data\" in res:\n",
    "    raw_data = res[\"data\"]\n",
    "else:\n",
    "    raw_data = res  # กรณี res เป็น list เลย\n",
    "df = pd.DataFrame(raw_data)\n",
    "df"
   ]
  },
  {
   "cell_type": "code",
   "execution_count": 47,
   "id": "30a63d68",
   "metadata": {},
   "outputs": [],
   "source": [
    "session.set_keyspace('data_stock')"
   ]
  },
  {
   "cell_type": "code",
   "execution_count": null,
   "id": "3ac68930",
   "metadata": {},
   "outputs": [
    {
     "name": "stdout",
     "output_type": "stream",
     "text": [
      "\n",
      "📦 กำลังโหลดข้อมูล 24CS ...\n"
     ]
    },
    {
     "name": "stderr",
     "output_type": "stream",
     "text": [
      "INFO\tsettradev2:logger.py:wrapped()- [Elapsed time 0.340462s]get_candlestick - success\n"
     ]
    },
    {
     "name": "stdout",
     "output_type": "stream",
     "text": [
      "✅ เพิ่มข้อมูล 731 รายการของหุ้น 24CS สำเร็จ!\n",
      "\n",
      "📦 กำลังโหลดข้อมูล 2S ...\n"
     ]
    },
    {
     "name": "stderr",
     "output_type": "stream",
     "text": [
      "INFO\tsettradev2:logger.py:wrapped()- [Elapsed time 0.208146s]get_candlestick - success\n"
     ]
    },
    {
     "name": "stdout",
     "output_type": "stream",
     "text": [
      "✅ เพิ่มข้อมูล 731 รายการของหุ้น 2S สำเร็จ!\n",
      "\n",
      "📦 กำลังโหลดข้อมูล 3BBIF ...\n"
     ]
    },
    {
     "name": "stderr",
     "output_type": "stream",
     "text": [
      "INFO\tsettradev2:logger.py:wrapped()- [Elapsed time 0.332235s]get_candlestick - success\n"
     ]
    },
    {
     "name": "stdout",
     "output_type": "stream",
     "text": [
      "✅ เพิ่มข้อมูล 731 รายการของหุ้น 3BBIF สำเร็จ!\n",
      "\n",
      "📦 กำลังโหลดข้อมูล A ...\n"
     ]
    },
    {
     "name": "stderr",
     "output_type": "stream",
     "text": [
      "INFO\tsettradev2:logger.py:wrapped()- [Elapsed time 0.243892s]get_candlestick - success\n"
     ]
    },
    {
     "name": "stdout",
     "output_type": "stream",
     "text": [
      "✅ เพิ่มข้อมูล 699 รายการของหุ้น A สำเร็จ!\n",
      "\n",
      "📦 กำลังโหลดข้อมูล A5 ...\n"
     ]
    },
    {
     "name": "stderr",
     "output_type": "stream",
     "text": [
      "INFO\tsettradev2:logger.py:wrapped()- [Elapsed time 0.204636s]get_candlestick - success\n"
     ]
    },
    {
     "name": "stdout",
     "output_type": "stream",
     "text": [
      "✅ เพิ่มข้อมูล 731 รายการของหุ้น A5 สำเร็จ!\n",
      "\n",
      "📦 กำลังโหลดข้อมูล AAI ...\n"
     ]
    },
    {
     "name": "stderr",
     "output_type": "stream",
     "text": [
      "INFO\tsettradev2:logger.py:wrapped()- [Elapsed time 0.348445s]get_candlestick - success\n"
     ]
    },
    {
     "name": "stdout",
     "output_type": "stream",
     "text": [
      "✅ เพิ่มข้อมูล 722 รายการของหุ้น AAI สำเร็จ!\n"
     ]
    },
    {
     "name": "stderr",
     "output_type": "stream",
     "text": [
      "INFO\tsettradev2:logger.py:wrapped()- [Elapsed time 0.153999s]get_candlestick - success\n"
     ]
    },
    {
     "name": "stdout",
     "output_type": "stream",
     "text": [
      "\n",
      "📦 กำลังโหลดข้อมูล AAV ...\n",
      "✅ เพิ่มข้อมูล 731 รายการของหุ้น AAV สำเร็จ!\n",
      "\n",
      "📦 กำลังโหลดข้อมูล ABM ...\n"
     ]
    },
    {
     "name": "stderr",
     "output_type": "stream",
     "text": [
      "INFO\tsettradev2:logger.py:wrapped()- [Elapsed time 0.364021s]get_candlestick - success\n"
     ]
    },
    {
     "name": "stdout",
     "output_type": "stream",
     "text": [
      "✅ เพิ่มข้อมูล 730 รายการของหุ้น ABM สำเร็จ!\n",
      "\n",
      "📦 กำลังโหลดข้อมูล ACAP ...\n"
     ]
    },
    {
     "name": "stderr",
     "output_type": "stream",
     "text": [
      "INFO\tsettradev2:logger.py:wrapped()- [Elapsed time 0.387163s]get_candlestick - success\n"
     ]
    },
    {
     "name": "stdout",
     "output_type": "stream",
     "text": [
      "✅ เพิ่มข้อมูล 109 รายการของหุ้น ACAP สำเร็จ!\n",
      "\n",
      "📦 กำลังโหลดข้อมูล ACC ...\n"
     ]
    },
    {
     "name": "stderr",
     "output_type": "stream",
     "text": [
      "INFO\tsettradev2:logger.py:wrapped()- [Elapsed time 0.383609s]get_candlestick - success\n"
     ]
    },
    {
     "name": "stdout",
     "output_type": "stream",
     "text": [
      "✅ เพิ่มข้อมูล 730 รายการของหุ้น ACC สำเร็จ!\n",
      "\n",
      "📦 กำลังโหลดข้อมูล ACE ...\n"
     ]
    },
    {
     "name": "stderr",
     "output_type": "stream",
     "text": [
      "INFO\tsettradev2:logger.py:wrapped()- [Elapsed time 0.217997s]get_candlestick - success\n"
     ]
    },
    {
     "name": "stdout",
     "output_type": "stream",
     "text": [
      "✅ เพิ่มข้อมูล 731 รายการของหุ้น ACE สำเร็จ!\n",
      "\n",
      "📦 กำลังโหลดข้อมูล ACG ...\n"
     ]
    },
    {
     "name": "stderr",
     "output_type": "stream",
     "text": [
      "INFO\tsettradev2:logger.py:wrapped()- [Elapsed time 0.384038s]get_candlestick - success\n"
     ]
    },
    {
     "name": "stdout",
     "output_type": "stream",
     "text": [
      "✅ เพิ่มข้อมูล 726 รายการของหุ้น ACG สำเร็จ!\n",
      "\n",
      "📦 กำลังโหลดข้อมูล ADB ...\n"
     ]
    },
    {
     "name": "stderr",
     "output_type": "stream",
     "text": [
      "INFO\tsettradev2:logger.py:wrapped()- [Elapsed time 0.554254s]get_candlestick - success\n"
     ]
    },
    {
     "name": "stdout",
     "output_type": "stream",
     "text": [
      "✅ เพิ่มข้อมูล 731 รายการของหุ้น ADB สำเร็จ!\n",
      "\n",
      "📦 กำลังโหลดข้อมูล ADD ...\n"
     ]
    },
    {
     "name": "stderr",
     "output_type": "stream",
     "text": [
      "INFO\tsettradev2:logger.py:wrapped()- [Elapsed time 0.343806s]get_candlestick - success\n"
     ]
    },
    {
     "name": "stdout",
     "output_type": "stream",
     "text": [
      "✅ เพิ่มข้อมูล 730 รายการของหุ้น ADD สำเร็จ!\n",
      "\n",
      "📦 กำลังโหลดข้อมูล ADVANC ...\n"
     ]
    },
    {
     "name": "stderr",
     "output_type": "stream",
     "text": [
      "INFO\tsettradev2:logger.py:wrapped()- [Elapsed time 0.292232s]get_candlestick - success\n"
     ]
    },
    {
     "name": "stdout",
     "output_type": "stream",
     "text": [
      "✅ เพิ่มข้อมูล 731 รายการของหุ้น ADVANC สำเร็จ!\n"
     ]
    },
    {
     "name": "stderr",
     "output_type": "stream",
     "text": [
      "INFO\tsettradev2:logger.py:wrapped()- [Elapsed time 0.177387s]get_candlestick - success\n"
     ]
    },
    {
     "name": "stdout",
     "output_type": "stream",
     "text": [
      "\n",
      "📦 กำลังโหลดข้อมูล ADVICE ...\n",
      "✅ เพิ่มข้อมูล 416 รายการของหุ้น ADVICE สำเร็จ!\n",
      "\n",
      "📦 กำลังโหลดข้อมูล AE ...\n"
     ]
    },
    {
     "name": "stderr",
     "output_type": "stream",
     "text": [
      "INFO\tsettradev2:logger.py:wrapped()- [Elapsed time 0.226328s]get_candlestick - success\n"
     ]
    },
    {
     "name": "stdout",
     "output_type": "stream",
     "text": [
      "✅ เพิ่มข้อมูล 731 รายการของหุ้น AE สำเร็จ!\n",
      "\n",
      "📦 กำลังโหลดข้อมูล AEONTS ...\n"
     ]
    },
    {
     "name": "stderr",
     "output_type": "stream",
     "text": [
      "INFO\tsettradev2:logger.py:wrapped()- [Elapsed time 0.362274s]get_candlestick - success\n"
     ]
    },
    {
     "name": "stdout",
     "output_type": "stream",
     "text": [
      "✅ เพิ่มข้อมูล 731 รายการของหุ้น AEONTS สำเร็จ!\n",
      "\n",
      "📦 กำลังโหลดข้อมูล AF ...\n"
     ]
    },
    {
     "name": "stderr",
     "output_type": "stream",
     "text": [
      "INFO\tsettradev2:logger.py:wrapped()- [Elapsed time 0.239313s]get_candlestick - success\n"
     ]
    },
    {
     "name": "stdout",
     "output_type": "stream",
     "text": [
      "✅ เพิ่มข้อมูล 728 รายการของหุ้น AF สำเร็จ!\n"
     ]
    },
    {
     "name": "stderr",
     "output_type": "stream",
     "text": [
      "ERROR\tsettradev2:logger.py:wrapped()- [Elapsed time 0.156517s]get_candlestick - {'code': 'TCHART-APP-02', 'message': 'Symbol not found [AFC]'}\n"
     ]
    },
    {
     "name": "stdout",
     "output_type": "stream",
     "text": [
      "\n",
      "📦 กำลังโหลดข้อมูล AFC ...\n",
      "❌ ไม่สามารถดึงข้อมูลของ AFC: Symbol not found [AFC]\n",
      "⚠️ ไม่มีข้อมูลสำหรับ AFC\n",
      "\n",
      "📦 กำลังโหลดข้อมูล AGE ...\n"
     ]
    },
    {
     "name": "stderr",
     "output_type": "stream",
     "text": [
      "INFO\tsettradev2:logger.py:wrapped()- [Elapsed time 0.393493s]get_candlestick - success\n"
     ]
    },
    {
     "name": "stdout",
     "output_type": "stream",
     "text": [
      "✅ เพิ่มข้อมูล 731 รายการของหุ้น AGE สำเร็จ!\n"
     ]
    },
    {
     "name": "stderr",
     "output_type": "stream",
     "text": [
      "INFO\tsettradev2:logger.py:wrapped()- [Elapsed time 0.174511s]get_candlestick - success\n"
     ]
    },
    {
     "name": "stdout",
     "output_type": "stream",
     "text": [
      "\n",
      "📦 กำลังโหลดข้อมูล AH ...\n",
      "✅ เพิ่มข้อมูล 731 รายการของหุ้น AH สำเร็จ!\n",
      "\n",
      "📦 กำลังโหลดข้อมูล AHC ...\n"
     ]
    },
    {
     "name": "stderr",
     "output_type": "stream",
     "text": [
      "INFO\tsettradev2:logger.py:wrapped()- [Elapsed time 0.337149s]get_candlestick - success\n"
     ]
    },
    {
     "name": "stdout",
     "output_type": "stream",
     "text": [
      "✅ เพิ่มข้อมูล 722 รายการของหุ้น AHC สำเร็จ!\n",
      "\n",
      "📦 กำลังโหลดข้อมูล AI ...\n"
     ]
    },
    {
     "name": "stderr",
     "output_type": "stream",
     "text": [
      "INFO\tsettradev2:logger.py:wrapped()- [Elapsed time 0.339135s]get_candlestick - success\n"
     ]
    },
    {
     "name": "stdout",
     "output_type": "stream",
     "text": [
      "✅ เพิ่มข้อมูล 731 รายการของหุ้น AI สำเร็จ!\n"
     ]
    },
    {
     "name": "stderr",
     "output_type": "stream",
     "text": [
      "INFO\tsettradev2:logger.py:wrapped()- [Elapsed time 0.200573s]get_candlestick - success\n"
     ]
    },
    {
     "name": "stdout",
     "output_type": "stream",
     "text": [
      "\n",
      "📦 กำลังโหลดข้อมูล AIE ...\n",
      "✅ เพิ่มข้อมูล 731 รายการของหุ้น AIE สำเร็จ!\n",
      "\n",
      "📦 กำลังโหลดข้อมูล AIMCG ...\n"
     ]
    },
    {
     "name": "stderr",
     "output_type": "stream",
     "text": [
      "INFO\tsettradev2:logger.py:wrapped()- [Elapsed time 0.224478s]get_candlestick - success\n"
     ]
    },
    {
     "name": "stdout",
     "output_type": "stream",
     "text": [
      "✅ เพิ่มข้อมูล 731 รายการของหุ้น AIMCG สำเร็จ!\n"
     ]
    },
    {
     "name": "stderr",
     "output_type": "stream",
     "text": [
      "INFO\tsettradev2:logger.py:wrapped()- [Elapsed time 0.165941s]get_candlestick - success\n"
     ]
    },
    {
     "name": "stdout",
     "output_type": "stream",
     "text": [
      "\n",
      "📦 กำลังโหลดข้อมูล AIMIRT ...\n",
      "✅ เพิ่มข้อมูล 731 รายการของหุ้น AIMIRT สำเร็จ!\n",
      "\n",
      "📦 กำลังโหลดข้อมูล AIRA ...\n"
     ]
    },
    {
     "name": "stderr",
     "output_type": "stream",
     "text": [
      "INFO\tsettradev2:logger.py:wrapped()- [Elapsed time 0.433775s]get_candlestick - success\n"
     ]
    },
    {
     "name": "stdout",
     "output_type": "stream",
     "text": [
      "✅ เพิ่มข้อมูล 575 รายการของหุ้น AIRA สำเร็จ!\n",
      "\n",
      "📦 กำลังโหลดข้อมูล AIT ...\n"
     ]
    },
    {
     "name": "stderr",
     "output_type": "stream",
     "text": [
      "INFO\tsettradev2:logger.py:wrapped()- [Elapsed time 0.250728s]get_candlestick - success\n"
     ]
    },
    {
     "name": "stdout",
     "output_type": "stream",
     "text": [
      "✅ เพิ่มข้อมูล 731 รายการของหุ้น AIT สำเร็จ!\n"
     ]
    },
    {
     "name": "stderr",
     "output_type": "stream",
     "text": [
      "INFO\tsettradev2:logger.py:wrapped()- [Elapsed time 0.167678s]get_candlestick - success\n"
     ]
    },
    {
     "name": "stdout",
     "output_type": "stream",
     "text": [
      "\n",
      "📦 กำลังโหลดข้อมูล AJ ...\n",
      "✅ เพิ่มข้อมูล 731 รายการของหุ้น AJ สำเร็จ!\n",
      "\n",
      "📦 กำลังโหลดข้อมูล AJA ...\n"
     ]
    },
    {
     "name": "stderr",
     "output_type": "stream",
     "text": [
      "INFO\tsettradev2:logger.py:wrapped()- [Elapsed time 0.370857s]get_candlestick - success\n"
     ]
    },
    {
     "name": "stdout",
     "output_type": "stream",
     "text": [
      "✅ เพิ่มข้อมูล 731 รายการของหุ้น AJA สำเร็จ!\n",
      "\n",
      "📦 กำลังโหลดข้อมูล AKP ...\n"
     ]
    },
    {
     "name": "stderr",
     "output_type": "stream",
     "text": [
      "INFO\tsettradev2:logger.py:wrapped()- [Elapsed time 0.214481s]get_candlestick - success\n"
     ]
    },
    {
     "name": "stdout",
     "output_type": "stream",
     "text": [
      "✅ เพิ่มข้อมูล 731 รายการของหุ้น AKP สำเร็จ!\n"
     ]
    },
    {
     "name": "stderr",
     "output_type": "stream",
     "text": [
      "INFO\tsettradev2:logger.py:wrapped()- [Elapsed time 0.161606s]get_candlestick - success\n"
     ]
    },
    {
     "name": "stdout",
     "output_type": "stream",
     "text": [
      "\n",
      "📦 กำลังโหลดข้อมูล AKR ...\n",
      "✅ เพิ่มข้อมูล 731 รายการของหุ้น AKR สำเร็จ!\n",
      "\n",
      "📦 กำลังโหลดข้อมูล AKS ...\n"
     ]
    },
    {
     "name": "stderr",
     "output_type": "stream",
     "text": [
      "INFO\tsettradev2:logger.py:wrapped()- [Elapsed time 0.361536s]get_candlestick - success\n"
     ]
    },
    {
     "name": "stdout",
     "output_type": "stream",
     "text": [
      "✅ เพิ่มข้อมูล 730 รายการของหุ้น AKS สำเร็จ!\n",
      "\n",
      "📦 กำลังโหลดข้อมูล ALLA ...\n"
     ]
    },
    {
     "name": "stderr",
     "output_type": "stream",
     "text": [
      "INFO\tsettradev2:logger.py:wrapped()- [Elapsed time 0.353957s]get_candlestick - success\n"
     ]
    },
    {
     "name": "stdout",
     "output_type": "stream",
     "text": [
      "✅ เพิ่มข้อมูล 731 รายการของหุ้น ALLA สำเร็จ!\n",
      "\n",
      "📦 กำลังโหลดข้อมูล ALLY ...\n"
     ]
    },
    {
     "name": "stderr",
     "output_type": "stream",
     "text": [
      "INFO\tsettradev2:logger.py:wrapped()- [Elapsed time 0.373359s]get_candlestick - success\n"
     ]
    },
    {
     "name": "stdout",
     "output_type": "stream",
     "text": [
      "✅ เพิ่มข้อมูล 731 รายการของหุ้น ALLY สำเร็จ!\n",
      "\n",
      "📦 กำลังโหลดข้อมูล ALPHAX ...\n"
     ]
    },
    {
     "name": "stderr",
     "output_type": "stream",
     "text": [
      "INFO\tsettradev2:logger.py:wrapped()- [Elapsed time 0.360162s]get_candlestick - success\n"
     ]
    },
    {
     "name": "stdout",
     "output_type": "stream",
     "text": [
      "✅ เพิ่มข้อมูล 731 รายการของหุ้น ALPHAX สำเร็จ!\n",
      "\n",
      "📦 กำลังโหลดข้อมูล ALT ...\n"
     ]
    },
    {
     "name": "stderr",
     "output_type": "stream",
     "text": [
      "INFO\tsettradev2:logger.py:wrapped()- [Elapsed time 0.335245s]get_candlestick - success\n"
     ]
    },
    {
     "name": "stdout",
     "output_type": "stream",
     "text": [
      "✅ เพิ่มข้อมูล 731 รายการของหุ้น ALT สำเร็จ!\n",
      "\n",
      "📦 กำลังโหลดข้อมูล ALUCON ...\n"
     ]
    },
    {
     "name": "stderr",
     "output_type": "stream",
     "text": [
      "INFO\tsettradev2:logger.py:wrapped()- [Elapsed time 0.342854s]get_candlestick - success\n"
     ]
    },
    {
     "name": "stdout",
     "output_type": "stream",
     "text": [
      "✅ เพิ่มข้อมูล 609 รายการของหุ้น ALUCON สำเร็จ!\n",
      "\n",
      "📦 กำลังโหลดข้อมูล AMA ...\n"
     ]
    },
    {
     "name": "stderr",
     "output_type": "stream",
     "text": [
      "INFO\tsettradev2:logger.py:wrapped()- [Elapsed time 0.201907s]get_candlestick - success\n"
     ]
    },
    {
     "name": "stdout",
     "output_type": "stream",
     "text": [
      "✅ เพิ่มข้อมูล 731 รายการของหุ้น AMA สำเร็จ!\n",
      "\n",
      "📦 กำลังโหลดข้อมูล AMANAH ...\n"
     ]
    },
    {
     "name": "stderr",
     "output_type": "stream",
     "text": [
      "INFO\tsettradev2:logger.py:wrapped()- [Elapsed time 0.238328s]get_candlestick - success\n"
     ]
    },
    {
     "name": "stdout",
     "output_type": "stream",
     "text": [
      "✅ เพิ่มข้อมูล 730 รายการของหุ้น AMANAH สำเร็จ!\n"
     ]
    },
    {
     "name": "stderr",
     "output_type": "stream",
     "text": [
      "INFO\tsettradev2:logger.py:wrapped()- [Elapsed time 0.169043s]get_candlestick - success\n"
     ]
    },
    {
     "name": "stdout",
     "output_type": "stream",
     "text": [
      "\n",
      "📦 กำลังโหลดข้อมูล AMARC ...\n",
      "✅ เพิ่มข้อมูล 730 รายการของหุ้น AMARC สำเร็จ!\n"
     ]
    },
    {
     "name": "stderr",
     "output_type": "stream",
     "text": [
      "INFO\tsettradev2:logger.py:wrapped()- [Elapsed time 0.192764s]get_candlestick - success\n"
     ]
    },
    {
     "name": "stdout",
     "output_type": "stream",
     "text": [
      "\n",
      "📦 กำลังโหลดข้อมูล AMARIN ...\n",
      "✅ เพิ่มข้อมูล 715 รายการของหุ้น AMARIN สำเร็จ!\n",
      "\n",
      "📦 กำลังโหลดข้อมูล AMATA ...\n"
     ]
    },
    {
     "name": "stderr",
     "output_type": "stream",
     "text": [
      "INFO\tsettradev2:logger.py:wrapped()- [Elapsed time 0.385220s]get_candlestick - success\n"
     ]
    },
    {
     "name": "stdout",
     "output_type": "stream",
     "text": [
      "✅ เพิ่มข้อมูล 731 รายการของหุ้น AMATA สำเร็จ!\n",
      "\n",
      "📦 กำลังโหลดข้อมูล AMATAR ...\n"
     ]
    },
    {
     "name": "stderr",
     "output_type": "stream",
     "text": [
      "INFO\tsettradev2:logger.py:wrapped()- [Elapsed time 0.370082s]get_candlestick - success\n"
     ]
    },
    {
     "name": "stdout",
     "output_type": "stream",
     "text": [
      "✅ เพิ่มข้อมูล 726 รายการของหุ้น AMATAR สำเร็จ!\n",
      "\n",
      "📦 กำลังโหลดข้อมูล AMATAV ...\n"
     ]
    },
    {
     "name": "stderr",
     "output_type": "stream",
     "text": [
      "INFO\tsettradev2:logger.py:wrapped()- [Elapsed time 0.221481s]get_candlestick - success\n"
     ]
    },
    {
     "name": "stdout",
     "output_type": "stream",
     "text": [
      "✅ เพิ่มข้อมูล 731 รายการของหุ้น AMATAV สำเร็จ!\n",
      "\n",
      "📦 กำลังโหลดข้อมูล AMC ...\n"
     ]
    },
    {
     "name": "stderr",
     "output_type": "stream",
     "text": [
      "INFO\tsettradev2:logger.py:wrapped()- [Elapsed time 0.358824s]get_candlestick - success\n"
     ]
    },
    {
     "name": "stdout",
     "output_type": "stream",
     "text": [
      "✅ เพิ่มข้อมูล 728 รายการของหุ้น AMC สำเร็จ!\n",
      "\n",
      "📦 กำลังโหลดข้อมูล AMR ...\n"
     ]
    },
    {
     "name": "stderr",
     "output_type": "stream",
     "text": [
      "INFO\tsettradev2:logger.py:wrapped()- [Elapsed time 0.207690s]get_candlestick - success\n"
     ]
    },
    {
     "name": "stdout",
     "output_type": "stream",
     "text": [
      "✅ เพิ่มข้อมูล 731 รายการของหุ้น AMR สำเร็จ!\n",
      "\n",
      "📦 กำลังโหลดข้อมูล ANAN ...\n"
     ]
    },
    {
     "name": "stderr",
     "output_type": "stream",
     "text": [
      "INFO\tsettradev2:logger.py:wrapped()- [Elapsed time 0.363170s]get_candlestick - success\n"
     ]
    },
    {
     "name": "stdout",
     "output_type": "stream",
     "text": [
      "✅ เพิ่มข้อมูล 731 รายการของหุ้น ANAN สำเร็จ!\n",
      "\n",
      "📦 กำลังโหลดข้อมูล ANI ...\n"
     ]
    },
    {
     "name": "stderr",
     "output_type": "stream",
     "text": [
      "INFO\tsettradev2:logger.py:wrapped()- [Elapsed time 0.351991s]get_candlestick - success\n"
     ]
    },
    {
     "name": "stdout",
     "output_type": "stream",
     "text": [
      "✅ เพิ่มข้อมูล 448 รายการของหุ้น ANI สำเร็จ!\n",
      "\n",
      "📦 กำลังโหลดข้อมูล AOT ...\n"
     ]
    },
    {
     "name": "stderr",
     "output_type": "stream",
     "text": [
      "INFO\tsettradev2:logger.py:wrapped()- [Elapsed time 0.259168s]get_candlestick - success\n"
     ]
    },
    {
     "name": "stdout",
     "output_type": "stream",
     "text": [
      "✅ เพิ่มข้อมูล 731 รายการของหุ้น AOT สำเร็จ!\n",
      "\n",
      "📦 กำลังโหลดข้อมูล AP ...\n"
     ]
    },
    {
     "name": "stderr",
     "output_type": "stream",
     "text": [
      "INFO\tsettradev2:logger.py:wrapped()- [Elapsed time 0.206251s]get_candlestick - success\n"
     ]
    },
    {
     "name": "stdout",
     "output_type": "stream",
     "text": [
      "✅ เพิ่มข้อมูล 731 รายการของหุ้น AP สำเร็จ!\n",
      "\n",
      "📦 กำลังโหลดข้อมูล APCO ...\n"
     ]
    },
    {
     "name": "stderr",
     "output_type": "stream",
     "text": [
      "INFO\tsettradev2:logger.py:wrapped()- [Elapsed time 0.352407s]get_candlestick - success\n"
     ]
    },
    {
     "name": "stdout",
     "output_type": "stream",
     "text": [
      "✅ เพิ่มข้อมูล 731 รายการของหุ้น APCO สำเร็จ!\n"
     ]
    },
    {
     "name": "stderr",
     "output_type": "stream",
     "text": [
      "INFO\tsettradev2:logger.py:wrapped()- [Elapsed time 0.196802s]get_candlestick - success\n"
     ]
    },
    {
     "name": "stdout",
     "output_type": "stream",
     "text": [
      "\n",
      "📦 กำลังโหลดข้อมูล APCS ...\n",
      "✅ เพิ่มข้อมูล 731 รายการของหุ้น APCS สำเร็จ!\n",
      "\n",
      "📦 กำลังโหลดข้อมูล APO ...\n"
     ]
    },
    {
     "name": "stderr",
     "output_type": "stream",
     "text": [
      "INFO\tsettradev2:logger.py:wrapped()- [Elapsed time 0.378557s]get_candlestick - success\n"
     ]
    },
    {
     "name": "stdout",
     "output_type": "stream",
     "text": [
      "✅ เพิ่มข้อมูล 373 รายการของหุ้น APO สำเร็จ!\n",
      "\n",
      "📦 กำลังโหลดข้อมูล APP ...\n"
     ]
    },
    {
     "name": "stderr",
     "output_type": "stream",
     "text": [
      "INFO\tsettradev2:logger.py:wrapped()- [Elapsed time 0.215794s]get_candlestick - success\n"
     ]
    },
    {
     "name": "stdout",
     "output_type": "stream",
     "text": [
      "✅ เพิ่มข้อมูล 731 รายการของหุ้น APP สำเร็จ!\n",
      "\n",
      "📦 กำลังโหลดข้อมูล APURE ...\n"
     ]
    },
    {
     "name": "stderr",
     "output_type": "stream",
     "text": [
      "INFO\tsettradev2:logger.py:wrapped()- [Elapsed time 0.330929s]get_candlestick - success\n"
     ]
    },
    {
     "name": "stdout",
     "output_type": "stream",
     "text": [
      "✅ เพิ่มข้อมูล 731 รายการของหุ้น APURE สำเร็จ!\n",
      "\n",
      "📦 กำลังโหลดข้อมูล AQUA ...\n"
     ]
    },
    {
     "name": "stderr",
     "output_type": "stream",
     "text": [
      "INFO\tsettradev2:logger.py:wrapped()- [Elapsed time 0.397745s]get_candlestick - success\n"
     ]
    },
    {
     "name": "stdout",
     "output_type": "stream",
     "text": [
      "✅ เพิ่มข้อมูล 731 รายการของหุ้น AQUA สำเร็จ!\n"
     ]
    },
    {
     "name": "stderr",
     "output_type": "stream",
     "text": [
      "INFO\tsettradev2:logger.py:wrapped()- [Elapsed time 0.189247s]get_candlestick - success\n"
     ]
    },
    {
     "name": "stdout",
     "output_type": "stream",
     "text": [
      "\n",
      "📦 กำลังโหลดข้อมูล ARIN ...\n",
      "✅ เพิ่มข้อมูล 728 รายการของหุ้น ARIN สำเร็จ!\n",
      "\n",
      "📦 กำลังโหลดข้อมูล ARIP ...\n"
     ]
    },
    {
     "name": "stderr",
     "output_type": "stream",
     "text": [
      "INFO\tsettradev2:logger.py:wrapped()- [Elapsed time 0.418796s]get_candlestick - success\n"
     ]
    },
    {
     "name": "stdout",
     "output_type": "stream",
     "text": [
      "✅ เพิ่มข้อมูล 731 รายการของหุ้น ARIP สำเร็จ!\n",
      "\n",
      "📦 กำลังโหลดข้อมูล ARROW ...\n"
     ]
    },
    {
     "name": "stderr",
     "output_type": "stream",
     "text": [
      "INFO\tsettradev2:logger.py:wrapped()- [Elapsed time 0.216750s]get_candlestick - success\n"
     ]
    },
    {
     "name": "stdout",
     "output_type": "stream",
     "text": [
      "✅ เพิ่มข้อมูล 730 รายการของหุ้น ARROW สำเร็จ!\n",
      "\n",
      "📦 กำลังโหลดข้อมูล AS ...\n"
     ]
    },
    {
     "name": "stderr",
     "output_type": "stream",
     "text": [
      "INFO\tsettradev2:logger.py:wrapped()- [Elapsed time 0.306529s]get_candlestick - success\n"
     ]
    },
    {
     "name": "stdout",
     "output_type": "stream",
     "text": [
      "✅ เพิ่มข้อมูล 731 รายการของหุ้น AS สำเร็จ!\n",
      "\n",
      "📦 กำลังโหลดข้อมูล ASAP ...\n"
     ]
    },
    {
     "name": "stderr",
     "output_type": "stream",
     "text": [
      "INFO\tsettradev2:logger.py:wrapped()- [Elapsed time 0.210723s]get_candlestick - success\n"
     ]
    },
    {
     "name": "stdout",
     "output_type": "stream",
     "text": [
      "✅ เพิ่มข้อมูล 726 รายการของหุ้น ASAP สำเร็จ!\n",
      "\n",
      "📦 กำลังโหลดข้อมูล ASEFA ...\n"
     ]
    },
    {
     "name": "stderr",
     "output_type": "stream",
     "text": [
      "INFO\tsettradev2:logger.py:wrapped()- [Elapsed time 0.330403s]get_candlestick - success\n"
     ]
    },
    {
     "name": "stdout",
     "output_type": "stream",
     "text": [
      "✅ เพิ่มข้อมูล 731 รายการของหุ้น ASEFA สำเร็จ!\n",
      "\n",
      "📦 กำลังโหลดข้อมูล ASIA ...\n"
     ]
    },
    {
     "name": "stderr",
     "output_type": "stream",
     "text": [
      "INFO\tsettradev2:logger.py:wrapped()- [Elapsed time 0.336912s]get_candlestick - success\n"
     ]
    },
    {
     "name": "stdout",
     "output_type": "stream",
     "text": [
      "✅ เพิ่มข้อมูล 664 รายการของหุ้น ASIA สำเร็จ!\n"
     ]
    },
    {
     "name": "stderr",
     "output_type": "stream",
     "text": [
      "INFO\tsettradev2:logger.py:wrapped()- [Elapsed time 0.172673s]get_candlestick - success\n"
     ]
    },
    {
     "name": "stdout",
     "output_type": "stream",
     "text": [
      "\n",
      "📦 กำลังโหลดข้อมูล ASIAN ...\n",
      "✅ เพิ่มข้อมูล 731 รายการของหุ้น ASIAN สำเร็จ!\n",
      "\n",
      "📦 กำลังโหลดข้อมูล ASIMAR ...\n"
     ]
    },
    {
     "name": "stderr",
     "output_type": "stream",
     "text": [
      "INFO\tsettradev2:logger.py:wrapped()- [Elapsed time 0.371716s]get_candlestick - success\n"
     ]
    },
    {
     "name": "stdout",
     "output_type": "stream",
     "text": [
      "✅ เพิ่มข้อมูล 731 รายการของหุ้น ASIMAR สำเร็จ!\n",
      "\n",
      "📦 กำลังโหลดข้อมูล ASK ...\n"
     ]
    },
    {
     "name": "stderr",
     "output_type": "stream",
     "text": [
      "INFO\tsettradev2:logger.py:wrapped()- [Elapsed time 0.314114s]get_candlestick - success\n"
     ]
    },
    {
     "name": "stdout",
     "output_type": "stream",
     "text": [
      "✅ เพิ่มข้อมูล 731 รายการของหุ้น ASK สำเร็จ!\n",
      "\n",
      "📦 กำลังโหลดข้อมูล ASN ...\n"
     ]
    },
    {
     "name": "stderr",
     "output_type": "stream",
     "text": [
      "INFO\tsettradev2:logger.py:wrapped()- [Elapsed time 0.287698s]get_candlestick - success\n"
     ]
    },
    {
     "name": "stdout",
     "output_type": "stream",
     "text": [
      "✅ เพิ่มข้อมูล 721 รายการของหุ้น ASN สำเร็จ!\n",
      "\n",
      "📦 กำลังโหลดข้อมูล ASP ...\n"
     ]
    },
    {
     "name": "stderr",
     "output_type": "stream",
     "text": [
      "INFO\tsettradev2:logger.py:wrapped()- [Elapsed time 0.358421s]get_candlestick - success\n"
     ]
    }
   ],
   "source": [
    "# ✅ โหลดรายชื่อหุ้นทั้งหมด\n",
    "import pandas as pd\n",
    "\n",
    "try:\n",
    "    symbols_df = pd.read_excel(\"/Users/hilmanyusoh/Desktop/Stock-market-chart-pattern-recognition-using-deep-learning/data_collection/settrade1.xlsx\")\n",
    "    symbols = symbols_df['หลักทรัพย์'].dropna().tolist()\n",
    "except FileNotFoundError:\n",
    "    print(\"❌ ไม่พบไฟล์ 'get_stock_name' กรุณาตรวจสอบชื่อไฟล์และตำแหน่งให้ถูกต้อง\")\n",
    "    raise  # หยุดโปรแกรมทันทีโดยแสดง error\n",
    "\n",
    "\n",
    "# ✅ ฟังก์ชันดึง candlestick จาก API\n",
    "def get_candlestick_data(symbol):\n",
    "    try:\n",
    "        res = market.get_candlestick(  # ✅ ต้องกำหนด market ก่อนใช้\n",
    "            symbol=symbol,\n",
    "            interval=\"1d\",\n",
    "            limit=1000,\n",
    "            normalized=True\n",
    "        )\n",
    "        return res\n",
    "    except Exception as e:\n",
    "        print(f\"❌ ไม่สามารถดึงข้อมูลของ {symbol}: {e}\")\n",
    "        return None\n",
    "\n",
    "# ✅ ฟังก์ชัน insert ข้อมูลลง Cassandra\n",
    "def insert_historical_data(symbol, res):\n",
    "    if not res or 'time' not in res:\n",
    "        print(f\"⚠️ ไม่มีข้อมูลสำหรับ {symbol}\")\n",
    "        return\n",
    "\n",
    "    for i in range(len(res[\"time\"])):\n",
    "        # ✅ แปลง timestamp ให้ถูกต้อง\n",
    "        timestamp = datetime.fromtimestamp(res[\"time\"][i])\n",
    "\n",
    "        session.execute(\"\"\"\n",
    "            INSERT INTO candlestick_data (\n",
    "                symbol, time, open_price, high_price, low_price,\n",
    "                close_price, volume, value\n",
    "            ) VALUES (%s, %s, %s, %s, %s, %s, %s, %s)\n",
    "        \"\"\", (\n",
    "            symbol,\n",
    "            timestamp,\n",
    "            res[\"open\"][i],\n",
    "            res[\"high\"][i],\n",
    "            res[\"low\"][i],\n",
    "            res[\"close\"][i],\n",
    "            res[\"volume\"][i],\n",
    "            res[\"value\"][i]\n",
    "        ))\n",
    "\n",
    "    print(f\"✅ เพิ่มข้อมูล {len(res['time'])} รายการของหุ้น {symbol} สำเร็จ!\")\n",
    "\n",
    "# ✅ ดึงและบันทึกข้อมูลทุกหุ้น\n",
    "for symbol in symbols:\n",
    "    print(f\"\\n📦 กำลังโหลดข้อมูล {symbol} ...\")\n",
    "    res = get_candlestick_data(symbol)\n",
    "    insert_historical_data(symbol, res)\n",
    "    time.sleep(2)  # 🕒 ลดโอกาสถูก block จาก API\n",
    "\n",
    "print(\"\\n🎉 เสร็จสิ้นการโหลดข้อมูลทั้งหมด!\")"
   ]
  },
  {
   "cell_type": "code",
   "execution_count": null,
   "id": "f256c9f3",
   "metadata": {},
   "outputs": [],
   "source": [
    "stock = \"AOT\"\n",
    "rows = session.execute(f\"SELECT * FROM candlestick_data WHERE symbol = '{stock}'\")"
   ]
  },
  {
   "cell_type": "code",
   "execution_count": null,
   "id": "3a2e5d7a",
   "metadata": {},
   "outputs": [
    {
     "data": {
      "text/html": [
       "<div>\n",
       "<style scoped>\n",
       "    .dataframe tbody tr th:only-of-type {\n",
       "        vertical-align: middle;\n",
       "    }\n",
       "\n",
       "    .dataframe tbody tr th {\n",
       "        vertical-align: top;\n",
       "    }\n",
       "\n",
       "    .dataframe thead th {\n",
       "        text-align: right;\n",
       "    }\n",
       "</style>\n",
       "<table border=\"1\" class=\"dataframe\">\n",
       "  <thead>\n",
       "    <tr style=\"text-align: right;\">\n",
       "      <th></th>\n",
       "      <th>symbol</th>\n",
       "      <th>time</th>\n",
       "      <th>open_price</th>\n",
       "      <th>high_price</th>\n",
       "      <th>low_price</th>\n",
       "      <th>close_price</th>\n",
       "      <th>volume</th>\n",
       "      <th>value</th>\n",
       "    </tr>\n",
       "  </thead>\n",
       "  <tbody>\n",
       "    <tr>\n",
       "      <th>0</th>\n",
       "      <td>AOT</td>\n",
       "      <td>2022-10-17</td>\n",
       "      <td>70.25</td>\n",
       "      <td>71.25</td>\n",
       "      <td>70.0</td>\n",
       "      <td>71.00</td>\n",
       "      <td>0.0</td>\n",
       "      <td>41596716</td>\n",
       "    </tr>\n",
       "    <tr>\n",
       "      <th>1</th>\n",
       "      <td>AOT</td>\n",
       "      <td>2022-10-18</td>\n",
       "      <td>72.00</td>\n",
       "      <td>72.25</td>\n",
       "      <td>70.0</td>\n",
       "      <td>70.25</td>\n",
       "      <td>0.0</td>\n",
       "      <td>32748153</td>\n",
       "    </tr>\n",
       "    <tr>\n",
       "      <th>2</th>\n",
       "      <td>AOT</td>\n",
       "      <td>2022-10-19</td>\n",
       "      <td>72.00</td>\n",
       "      <td>72.50</td>\n",
       "      <td>71.5</td>\n",
       "      <td>72.50</td>\n",
       "      <td>0.0</td>\n",
       "      <td>12560022</td>\n",
       "    </tr>\n",
       "    <tr>\n",
       "      <th>3</th>\n",
       "      <td>AOT</td>\n",
       "      <td>2022-10-20</td>\n",
       "      <td>73.00</td>\n",
       "      <td>73.00</td>\n",
       "      <td>71.0</td>\n",
       "      <td>71.50</td>\n",
       "      <td>0.0</td>\n",
       "      <td>26006293</td>\n",
       "    </tr>\n",
       "    <tr>\n",
       "      <th>4</th>\n",
       "      <td>AOT</td>\n",
       "      <td>2022-10-21</td>\n",
       "      <td>73.50</td>\n",
       "      <td>73.50</td>\n",
       "      <td>72.5</td>\n",
       "      <td>72.75</td>\n",
       "      <td>0.0</td>\n",
       "      <td>16760283</td>\n",
       "    </tr>\n",
       "  </tbody>\n",
       "</table>\n",
       "</div>"
      ],
      "text/plain": [
       "  symbol       time  open_price  high_price  low_price  close_price  volume  \\\n",
       "0    AOT 2022-10-17       70.25       71.25       70.0        71.00     0.0   \n",
       "1    AOT 2022-10-18       72.00       72.25       70.0        70.25     0.0   \n",
       "2    AOT 2022-10-19       72.00       72.50       71.5        72.50     0.0   \n",
       "3    AOT 2022-10-20       73.00       73.00       71.0        71.50     0.0   \n",
       "4    AOT 2022-10-21       73.50       73.50       72.5        72.75     0.0   \n",
       "\n",
       "      value  \n",
       "0  41596716  \n",
       "1  32748153  \n",
       "2  12560022  \n",
       "3  26006293  \n",
       "4  16760283  "
      ]
     },
     "execution_count": 40,
     "metadata": {},
     "output_type": "execute_result"
    }
   ],
   "source": [
    "df = pd.DataFrame(rows, columns=[\n",
    "    'symbol', 'time', 'open_price', 'high_price', 'low_price', 'close_price', 'volume', 'value'\n",
    "])\n",
    "\n",
    "# ✅ แปลงชนิดเวลา + เรียงลำดับ\n",
    "df['time'] = pd.to_datetime(df['time'])\n",
    "df = df.sort_values('time').reset_index(drop=True)\n",
    "df.head()"
   ]
  },
  {
   "cell_type": "code",
   "execution_count": null,
   "id": "724966e8",
   "metadata": {},
   "outputs": [
    {
     "data": {
      "application/vnd.plotly.v1+json": {
       "config": {
        "plotlyServerURL": "https://plot.ly"
       },
       "data": [
        {
         "close": {
          "bdata": "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",
          "dtype": "f8"
         },
         "high": {
          "bdata": "AAAAAADQUUAAAAAAABBSQAAAAAAAIFJAAAAAAABAUkAAAAAAAGBSQAAAAAAAkFJAAAAAAACAUkAAAAAAAIBSQAAAAAAAgFJAAAAAAACAUkAAAAAAAKBSQAAAAAAAwFJAAAAAAACwUkAAAAAAAMBSQAAAAAAAsFJAAAAAAACgUkAAAAAAALBSQAAAAAAAsFJAAAAAAAAQU0AAAAAAAABTQAAAAAAAAFNAAAAAAADwUkAAAAAAALBSQAAAAAAAoFJAAAAAAACwUkAAAAAAALBSQAAAAAAA0FJAAAAAAADAUkAAAAAAALBSQAAAAAAAkFJAAAAAAACgUkAAAAAAAMBSQAAAAAAA0FJAAAAAAACgUkAAAAAAAJBSQAAAAAAAoFJAAAAAAACQUkAAAAAAAKBSQAAAAAAAkFJAAAAAAACQUkAAAAAAAJBSQAAAAAAAcFJAAAAAAABwUkAAAAAAAHBSQAAAAAAAcFJAAAAAAABgUkAAAAAAAFBSQAAAAAAAcFJAAAAAAADgUkAAAAAAAOBSQAAAAAAAEFNAAAAAAAAgU0AAAAAAAPBSQAAAAAAA0FJAAAAAAADgUkAAAAAAAPBSQAAAAAAAAFNAAAAAAADwUkAAAAAAANBSQAAAAAAAoFJAAAAAAACgUkAAAAAAAJBSQAAAAAAAcFJAAAAAAADAUkAAAAAAANBSQAAAAAAAwFJAAAAAAADQUkAAAAAAAOBSQAAAAAAA4FJAAAAAAADQUkAAAAAAAOBSQAAAAAAA4FJAAAAAAADQUkAAAAAAALBSQAAAAAAAsFJAAAAAAACQUkAAAAAAAJBSQAAAAAAAgFJAAAAAAACQUkAAAAAAAHBSQAAAAAAAYFJAAAAAAABAUkAAAAAAADBSQAAAAAAAQFJAAAAAAABQUkAAAAAAADBSQAAAAAAAQFJAAAAAAABQUkAAAAAAAEBSQAAAAAAAIFJAAAAAAAAwUkAAAAAAADBSQAAAAAAAMFJAAAAAAABgUkAAAAAAACBSQAAAAAAA4FFAAAAAAADAUUAAAAAAAIBRQAAAAAAAkFFAAAAAAABQUUAAAAAAAEBRQAAAAAAA4FBAAAAAAADQUUAAAAAAALBRQAAAAAAA0FFAAAAAAACwUUAAAAAAALBRQAAAAAAA4FFAAAAAAAAgUkAAAAAAADBSQAAAAAAAEFJAAAAAAAAAUkAAAAAAABBSQAAAAAAAEFJAAAAAAADgUUAAAAAAAABSQAAAAAAAIFJAAAAAAAAAUkAAAAAAACBSQAAAAAAAMFJAAAAAAAAwUkAAAAAAADBSQAAAAAAAMFJAAAAAAABAUkAAAAAAAFBSQAAAAAAAMFJAAAAAAAAgUkAAAAAAADBSQAAAAAAAMFJAAAAAAABAUkAAAAAAAGBSQAAAAAAAUFJAAAAAAABwUkAAAAAAAHBSQAAAAAAAcFJAAAAAAACQUkAAAAAAAHBSQAAAAAAAgFJAAAAAAABwUkAAAAAAAHBSQAAAAAAAYFJAAAAAAAAQUkAAAAAAACBSQAAAAAAA4FFAAAAAAAAQUkAAAAAAAPBRQAAAAAAAwFFAAAAAAACwUUAAAAAAAKBRQAAAAAAAoFFAAAAAAADAUUAAAAAAAMBRQAAAAAAA0FFAAAAAAADQUUAAAAAAAKBRQAAAAAAAoFFAAAAAAADQUUAAAAAAABBSQAAAAAAAIFJAAAAAAAAgUkAAAAAAABBSQAAAAAAAAFJAAAAAAAAAUkAAAAAAAABSQAAAAAAAMFJAAAAAAABAUkAAAAAAADBSQAAAAAAAEFJAAAAAAAAAUkAAAAAAAABSQAAAAAAAAFJAAAAAAAAAUkAAAAAAABBSQAAAAAAAEFJAAAAAAAAAUkAAAAAAABBSQAAAAAAA8FFAAAAAAADQUUAAAAAAANBRQAAAAAAA0FFAAAAAAADgUUAAAAAAALBRQAAAAAAAkFFAAAAAAADAUUAAAAAAAOBRQAAAAAAAAFJAAAAAAADwUUAAAAAAAABSQAAAAAAA8FFAAAAAAADQUUAAAAAAAOBRQAAAAAAA4FFAAAAAAAAAUkAAAAAAAPBRQAAAAAAA0FFAAAAAAADAUUAAAAAAAOBRQAAAAAAAwFFAAAAAAACgUUAAAAAAAMBRQAAAAAAA0FFAAAAAAADgUUAAAAAAAMBRQAAAAAAAwFFAAAAAAACwUUAAAAAAAMBRQAAAAAAA0FFAAAAAAAAAUkAAAAAAACBSQAAAAAAAAFJAAAAAAAAgUkAAAAAAAGBSQAAAAAAAUFJAAAAAAABQUkAAAAAAAEBSQAAAAAAAQFJAAAAAAAAQUkAAAAAAABBSQAAAAAAAEFJAAAAAAAAAUkAAAAAAAOBRQAAAAAAA8FFAAAAAAADgUUAAAAAAAOBRQAAAAAAA8FFAAAAAAADQUUAAAAAAANBRQAAAAAAAoFFAAAAAAACgUUAAAAAAALBRQAAAAAAAoFFAAAAAAABwUUAAAAAAAGBRQAAAAAAAoFFAAAAAAADAUUAAAAAAALBRQAAAAAAAkFFAAAAAAABAUUAAAAAAAFBRQAAAAAAAUFFAAAAAAABAUUAAAAAAAFBRQAAAAAAAUFFAAAAAAABAUUAAAAAAACBRQAAAAAAAMFFAAAAAAAAwUUAAAAAAABBRQAAAAAAA8FBAAAAAAADAUEAAAAAAAMBQQAAAAAAAsFBAAAAAAADQUEAAAAAAANBQQAAAAAAA0FBAAAAAAADAUEAAAAAAACBRQAAAAAAAQFFAAAAAAABQUUAAAAAAAFBRQAAAAAAAQFFAAAAAAABQUUAAAAAAADBRQAAAAAAA8FBAAAAAAAAgUUAAAAAAADBRQAAAAAAAMFFAAAAAAABQUUAAAAAAAFBRQAAAAAAAQFFAAAAAAADgUEAAAAAAAIBQQAAAAAAAwE9AAAAAAAAAT0AAAAAAAOBOQAAAAAAAYE5AAAAAAAAATkAAAAAAAMBNQAAAAAAAQE5AAAAAAABATkAAAAAAACBOQAAAAAAAIE5AAAAAAAAATkAAAAAAAOBNQAAAAAAA4E1AAAAAAADgTkAAAAAAAGBOQAAAAAAAYE5AAAAAAABATkAAAAAAAIBOQAAAAAAAgE5AAAAAAABgTkAAAAAAAGBOQAAAAAAAYE5AAAAAAABATkAAAAAAACBPQAAAAAAAgE9AAAAAAAAAUEAAAAAAABBQQAAAAAAA4E9AAAAAAADgT0AAAAAAAKBPQAAAAAAAoE9AAAAAAACgT0AAAAAAAMBPQAAAAAAAoE9AAAAAAACAT0AAAAAAAOBOQAAAAAAAAE9AAAAAAACgTkAAAAAAACBOQAAAAAAAQE5AAAAAAAAATkAAAAAAAABOQAAAAAAAgE5AAAAAAABgTkAAAAAAAKBOQAAAAAAAAE9AAAAAAACAT0AAAAAAAABQQAAAAAAAUFBAAAAAAABAUEAAAAAAADBQQAAAAAAAQFBAAAAAAABQUEAAAAAAABBQQAAAAAAA4E9AAAAAAAAAUEAAAAAAAABQQAAAAAAAoE9AAAAAAACgT0AAAAAAAOBPQAAAAAAAQFBAAAAAAAAwUEAAAAAAACBQQAAAAAAAMFBAAAAAAAAQUEAAAAAAAHBQQAAAAAAAwFBAAAAAAAAwUEAAAAAAAFBQQAAAAAAAUFBAAAAAAACgUEAAAAAAAIBQQAAAAAAAgFBAAAAAAACgUEAAAAAAAMBQQAAAAAAAwFBAAAAAAACwUEAAAAAAAJBQQAAAAAAAkFBAAAAAAACQUEAAAAAAAJBQQAAAAAAAcFBAAAAAAABQUEAAAAAAAHBQQAAAAAAAcFBAAAAAAABgUEAAAAAAAHBQQAAAAAAAcFBAAAAAAABwUEAAAAAAAHBQQAAAAAAAgFBAAAAAAADAUEAAAAAAAOBQQAAAAAAA0FBAAAAAAACQUEAAAAAAAIBQQAAAAAAAQFBAAAAAAABAUEAAAAAAAFBQQAAAAAAAUFBAAAAAAAAgUEAAAAAAACBQQAAAAAAAMFBAAAAAAABgUEAAAAAAAHBQQAAAAAAAgFBAAAAAAACgUEAAAAAAAHBQQAAAAAAAgFBAAAAAAACgUEAAAAAAAMBQQAAAAAAA4FBAAAAAAADgUEAAAAAAANBQQAAAAAAA0FBAAAAAAADAUEAAAAAAAJBQQAAAAAAAkFBAAAAAAABgUEAAAAAAAHBQQAAAAAAAcFBAAAAAAAAwUEAAAAAAABBQQAAAAAAAQFBAAAAAAABAUEAAAAAAACBQQAAAAAAAwE9AAAAAAAAgT0AAAAAAAMBOQAAAAAAAYE5AAAAAAAAgTkAAAAAAAEBOQAAAAAAAYE5AAAAAAABATkAAAAAAAOBOQAAAAAAAwE5AAAAAAADATkAAAAAAAIBOQAAAAAAAYE1AAAAAAADATUAAAAAAAGBNQAAAAAAAQE1AAAAAAAAgTUAAAAAAAOBMQAAAAAAAYExAAAAAAABATEAAAAAAAKBMQAAAAAAAgExAAAAAAACgTEAAAAAAAKBMQAAAAAAAQE1AAAAAAACATUAAAAAAAIBNQAAAAAAAYE1AAAAAAABgTUAAAAAAAEBNQAAAAAAAYE1AAAAAAACATUAAAAAAACBNQAAAAAAAAE1AAAAAAADATEAAAAAAAOBMQAAAAAAA4ExAAAAAAABgTEAAAAAAAIBMQAAAAAAAQExAAAAAAAAATEAAAAAAACBMQAAAAAAAgExAAAAAAABATEAAAAAAAMBMQAAAAAAAgExAAAAAAABgTEAAAAAAACBMQAAAAAAAgExAAAAAAABATUAAAAAAAGBNQAAAAAAA4E1AAAAAAADgTUAAAAAAACBOQAAAAAAAgE5AAAAAAACATkAAAAAAAEBOQAAAAAAAIE5AAAAAAAAgTkAAAAAAACBOQAAAAAAAYE5AAAAAAABgTkAAAAAAAGBPQAAAAAAA4E9AAAAAAADAT0AAAAAAAEBPQAAAAAAAgE9AAAAAAABgT0AAAAAAAEBPQAAAAAAAYE9AAAAAAABAUEAAAAAAADBQQAAAAAAAIFBAAAAAAAAgUEAAAAAAAABQQAAAAAAA4E9AAAAAAAAAUEAAAAAAAMBPQAAAAAAAEFBAAAAAAAAQUEAAAAAAADBQQAAAAAAAIFBAAAAAAABAUEAAAAAAACBQQAAAAAAAEFBAAAAAAAAQUEAAAAAAACBQQAAAAAAAIFBAAAAAAAAQUEAAAAAAABBQQAAAAAAAEFBAAAAAAAAAUEAAAAAAAABQQAAAAAAAAFBAAAAAAADgT0AAAAAAAKBPQAAAAAAAQE9AAAAAAAAgT0AAAAAAAEBPQAAAAAAAIE9AAAAAAADgTkAAAAAAAABPQAAAAAAAIE9AAAAAAABgT0AAAAAAAIBPQAAAAAAAAE9AAAAAAAAAT0AAAAAAAMBOQAAAAAAAgE5AAAAAAAAgTkAAAAAAAOBNQAAAAAAA4E1AAAAAAABgTkAAAAAAACBPQAAAAAAAoE5AAAAAAADATkAAAAAAAABPQAAAAAAAAE9AAAAAAADgTkAAAAAAAMBOQAAAAAAA4E5AAAAAAADATkAAAAAAAOBOQAAAAAAAAE9AAAAAAADgTkAAAAAAAMBOQAAAAAAAoE5AAAAAAAAAT0AAAAAAAABPQAAAAAAA4E5AAAAAAADATkAAAAAAAIBOQAAAAAAAAE5AAAAAAADATUAAAAAAAGBNQAAAAAAAQE5AAAAAAAAgTkAAAAAAACBOQAAAAAAAIE5AAAAAAAAgTkAAAAAAAGBOQAAAAAAAAE5AAAAAAAAgTkAAAAAAAABOQAAAAAAAAE5AAAAAAADgTUAAAAAAAMBNQAAAAAAAgE1AAAAAAADgTEAAAAAAAEBNQAAAAAAAwExAAAAAAAAATUAAAAAAAABNQAAAAAAAwExAAAAAAABATUAAAAAAAEBNQAAAAAAAAE1AAAAAAADATEAAAAAAACBMQAAAAAAAAExAAAAAAABATEAAAAAAACBMQAAAAAAAQExAAAAAAACAS0AAAAAAAEBMQAAAAAAA4ExAAAAAAACgTEAAAAAAAEBMQAAAAAAA4EtAAAAAAADAS0AAAAAAAKBLQAAAAAAAIEtAAAAAAACAR0AAAAAAAEBGQAAAAAAAAEZAAAAAAAAgRkAAAAAAACBGQAAAAAAAwEVAAAAAAACARUAAAAAAAKBFQAAAAAAAIEZAAAAAAACgRUAAAAAAAMBFQAAAAAAAoEVAAAAAAAAARUAAAAAAAOBEQAAAAAAAQERAAAAAAAAgREAAAAAAAKBEQAAAAAAAoERAAAAAAAAAREAAAAAAACBEQAAAAAAAIERAAAAAAADgQ0AAAAAAAMBEQAAAAAAAwERAAAAAAABgREAAAAAAAGBEQAAAAAAAQERAAAAAAABAREAAAAAAACBEQAAAAAAAoENAAAAAAABAQ0AAAAAAAKBDQAAAAAAA4ENAAAAAAACAQ0AAAAAAAIBDQAAAAAAAIEJAAAAAAABgQkAAAAAAAOBDQAAAAAAAYENAAAAAAAAgQ0AAAAAAAEBDQAAAAAAAAENAAAAAAAAgQ0AAAAAAAMBCQAAAAAAAoENAAAAAAAAgQ0AAAAAAAOBCQAAAAAAAwEJAAAAAAADAQkAAAAAAAGBDQAAAAAAAYEVAAAAAAACAQ0AAAAAAAMBDQAAAAAAAoENAAAAAAACgQ0AAAAAAAOBDQAAAAAAAAENAAAAAAADgQUAAAAAAAMBBQAAAAAAA4EFAAAAAAADAQUAAAAAAAIBBQAAAAAAAYEFAAAAAAABAQUAAAAAAAEBBQAAAAAAAAEFAAAAAAAAAQUAAAAAAAEBBQAAAAAAAwEBAAAAAAADAQEAAAAAAAKBAQAAAAAAAwD9AAAAAAAAgQEAAAAAAAEBAQAAAAAAAgEBAAAAAAABAQEAAAAAAAMA/QAAAAAAAwD1AAAAAAADAPEAAAAAAAEA9QAAAAAAAgDxAAAAAAACAPEAAAAAAAEA9QAAAAAAAwD5AAAAAAABgQEAAAAAAAABAQAAAAAAAQD9AAAAAAACAPkAAAAAAAMA+QAAAAAAAgD5AAAAAAABAP0AAAAAAAEA/QAAAAAAAwD5AAAAAAACAPkAAAAAAAMA+QAAAAAAAIEBAAAAAAADAQEAAAAAAAABCQAAAAAAAoEJAAAAAAABAREAAAAAAACBEQAAAAAAA4ENAAAAAAACgQ0AAAAAAAKBDQAAAAAAAoENAAAAAAAAgRUAAAAAAACBFQAAAAAAAYEVAAAAAAAAgRUAAAAAAAMBEQAAAAAAAAERAAAAAAAAgREAAAAAAAKBEQAAAAAAAgERAAAAAAABAREAAAAAAAGBEQAAAAAAAAERAAAAAAADAQ0AAAAAAAIBDQAAAAAAAYENAAAAAAAAgQ0AAAAAAACBDQAAAAAAAAENAAAAAAABgQ0AAAAAAAABDQAAAAAAAwEJAAAAAAACgQkAAAAAAAGBCQAAAAAAAQEJAAAAAAABAQkAAAAAAAIBCQAAAAAAAYENAAAAAAABgQ0AAAAAAAIBDQAAAAAAAYENAAAAAAABAQ0AAAAAAAABDQAAAAAAAgENAAAAAAABgQ0AAAAAAAABEQAAAAAAAIERAAAAAAAAAREAAAAAAAABEQAAAAAAAwENAAAAAAADgQ0AAAAAAAABEQAAAAAAAAERAAAAAAADgQ0AAAAAAAABEQAAAAAAAYERAAAAAAADgREAAAAAAAABFQAAAAAAAAEZAAAAAAADARUAAAAAAAGBFQAAAAAAAYEVAAAAAAACARUAAAAAAAKBFQAAAAAAAgERAAAAAAACAREAAAAAAAMBEQAAAAAAAAEVA",
          "dtype": "f8"
         },
         "low": {
          "bdata": "AAAAAACAUUAAAAAAAIBRQAAAAAAA4FFAAAAAAADAUUAAAAAAACBSQAAAAAAAYFJAAAAAAABgUkAAAAAAAFBSQAAAAAAAQFJAAAAAAABgUkAAAAAAAGBSQAAAAAAAkFJAAAAAAACAUkAAAAAAAJBSQAAAAAAAgFJAAAAAAACAUkAAAAAAAJBSQAAAAAAAkFJAAAAAAADAUkAAAAAAAMBSQAAAAAAAsFJAAAAAAACgUkAAAAAAAIBSQAAAAAAAYFJAAAAAAABgUkAAAAAAAGBSQAAAAAAAoFJAAAAAAACgUkAAAAAAAIBSQAAAAAAAcFJAAAAAAACAUkAAAAAAAKBSQAAAAAAAcFJAAAAAAABwUkAAAAAAAEBSQAAAAAAAYFJAAAAAAABgUkAAAAAAAGBSQAAAAAAAYFJAAAAAAABgUkAAAAAAAFBSQAAAAAAAQFJAAAAAAABQUkAAAAAAAEBSQAAAAAAAMFJAAAAAAAAgUkAAAAAAACBSQAAAAAAAUFJAAAAAAACQUkAAAAAAAMBSQAAAAAAA0FJAAAAAAADAUkAAAAAAAMBSQAAAAAAAoFJAAAAAAACAUkAAAAAAANBSQAAAAAAAwFJAAAAAAACwUkAAAAAAAIBSQAAAAAAAgFJAAAAAAABQUkAAAAAAACBSQAAAAAAAQFJAAAAAAABQUkAAAAAAAKBSQAAAAAAAkFJAAAAAAACwUkAAAAAAALBSQAAAAAAAsFJAAAAAAACwUkAAAAAAAMBSQAAAAAAAsFJAAAAAAACQUkAAAAAAAIBSQAAAAAAAoFJAAAAAAABwUkAAAAAAAHBSQAAAAAAAUFJAAAAAAABQUkAAAAAAAFBSQAAAAAAAQFJAAAAAAAAgUkAAAAAAAOBRQAAAAAAA8FFAAAAAAAAwUkAAAAAAAABSQAAAAAAAIFJAAAAAAAAgUkAAAAAAAABSQAAAAAAA8FFAAAAAAAAQUkAAAAAAAABSQAAAAAAAEFJAAAAAAAAgUkAAAAAAANBRQAAAAAAAkFFAAAAAAABwUUAAAAAAAEBRQAAAAAAAYFFAAAAAAAAgUUAAAAAAAOBQQAAAAAAAgFBAAAAAAADgUEAAAAAAAGBRQAAAAAAAgFFAAAAAAABgUUAAAAAAAIBRQAAAAAAAkFFAAAAAAADAUUAAAAAAAPBRQAAAAAAA4FFAAAAAAADQUUAAAAAAAPBRQAAAAAAAwFFAAAAAAACwUUAAAAAAAMBRQAAAAAAA8FFAAAAAAADQUUAAAAAAAPBRQAAAAAAA4FFAAAAAAADwUUAAAAAAAPBRQAAAAAAA4FFAAAAAAAAQUkAAAAAAABBSQAAAAAAAAFJAAAAAAADgUUAAAAAAAABSQAAAAAAAEFJAAAAAAAAgUkAAAAAAADBSQAAAAAAAMFJAAAAAAABAUkAAAAAAAEBSQAAAAAAAYFJAAAAAAABQUkAAAAAAAEBSQAAAAAAAUFJAAAAAAABAUkAAAAAAAEBSQAAAAAAAAFJAAAAAAADAUUAAAAAAAOBRQAAAAAAAkFFAAAAAAABAUUAAAAAAAJBRQAAAAAAAkFFAAAAAAACAUUAAAAAAAIBRQAAAAAAAgFFAAAAAAACQUUAAAAAAAIBRQAAAAAAAoFFAAAAAAACwUUAAAAAAAHBRQAAAAAAAcFFAAAAAAACQUUAAAAAAAMBRQAAAAAAA4FFAAAAAAADwUUAAAAAAAOBRQAAAAAAA0FFAAAAAAACwUUAAAAAAANBRQAAAAAAAAFJAAAAAAAAAUkAAAAAAAABSQAAAAAAA4FFAAAAAAADQUUAAAAAAAOBRQAAAAAAA0FFAAAAAAADAUUAAAAAAANBRQAAAAAAA4FFAAAAAAADQUUAAAAAAAPBRQAAAAAAAsFFAAAAAAACQUUAAAAAAAJBRQAAAAAAAoFFAAAAAAACgUUAAAAAAAFBRQAAAAAAAUFFAAAAAAACAUUAAAAAAALBRQAAAAAAAwFFAAAAAAACgUUAAAAAAAKBRQAAAAAAAsFFAAAAAAACwUUAAAAAAAMBRQAAAAAAAsFFAAAAAAADQUUAAAAAAAMBRQAAAAAAAoFFAAAAAAACgUUAAAAAAAJBRQAAAAAAAgFFAAAAAAACAUUAAAAAAAGBRQAAAAAAAoFFAAAAAAACgUUAAAAAAAIBRQAAAAAAAcFFAAAAAAACAUUAAAAAAAJBRQAAAAAAAoFFAAAAAAADAUUAAAAAAAPBRQAAAAAAA0FFAAAAAAADwUUAAAAAAAABSQAAAAAAAMFJAAAAAAAAgUkAAAAAAABBSQAAAAAAAAFJAAAAAAADwUUAAAAAAANBRQAAAAAAA4FFAAAAAAADAUUAAAAAAAKBRQAAAAAAA0FFAAAAAAADAUUAAAAAAALBRQAAAAAAAwFFAAAAAAACgUUAAAAAAAJBRQAAAAAAAYFFAAAAAAABQUUAAAAAAAHBRQAAAAAAAYFFAAAAAAABAUUAAAAAAAEBRQAAAAAAAUFFAAAAAAABwUUAAAAAAAHBRQAAAAAAAYFFAAAAAAADgUEAAAAAAAABRQAAAAAAAMFFAAAAAAAAgUUAAAAAAACBRQAAAAAAA8FBAAAAAAAAQUUAAAAAAAKBQQAAAAAAA0FBAAAAAAAAAUUAAAAAAAOBQQAAAAAAAsFBAAAAAAABgUEAAAAAAAIBQQAAAAAAAgFBAAAAAAACQUEAAAAAAAKBQQAAAAAAAkFBAAAAAAACAUEAAAAAAAMBQQAAAAAAAIFFAAAAAAAAgUUAAAAAAABBRQAAAAAAAIFFAAAAAAAAQUUAAAAAAAOBQQAAAAAAAwFBAAAAAAADwUEAAAAAAAABRQAAAAAAAAFFAAAAAAAAQUUAAAAAAACBRQAAAAAAAwFBAAAAAAABwUEAAAAAAAMBOQAAAAAAAAE9AAAAAAABATkAAAAAAACBOQAAAAAAAgE1AAAAAAACATUAAAAAAAABNQAAAAAAAQE1AAAAAAADATUAAAAAAAIBNQAAAAAAA4E1AAAAAAACgTUAAAAAAAGBNQAAAAAAAgE1AAAAAAAAATkAAAAAAAABOQAAAAAAAAE5AAAAAAACgTUAAAAAAAIBNQAAAAAAAAE5AAAAAAAAgTkAAAAAAAOBNQAAAAAAAwE1AAAAAAADATUAAAAAAAOBNQAAAAAAAAE9AAAAAAABgT0AAAAAAAIBPQAAAAAAAYE9AAAAAAABgT0AAAAAAAEBPQAAAAAAAIE9AAAAAAABgT0AAAAAAACBPQAAAAAAAQE9AAAAAAACgTkAAAAAAAEBOQAAAAAAAYE5AAAAAAAAATkAAAAAAAGBNQAAAAAAAYE1AAAAAAACATUAAAAAAAIBNQAAAAAAA4E1AAAAAAAAATkAAAAAAAMBNQAAAAAAA4E1AAAAAAAAgT0AAAAAAACBPQAAAAAAAEFBAAAAAAADgT0AAAAAAABBQQAAAAAAAAFBAAAAAAAAgUEAAAAAAAKBPQAAAAAAAYE9AAAAAAACAT0AAAAAAAGBPQAAAAAAAgE9AAAAAAABAT0AAAAAAAGBPQAAAAAAA4E9AAAAAAAAAUEAAAAAAAABQQAAAAAAAwE9AAAAAAACAT0AAAAAAAMBPQAAAAAAAMFBAAAAAAAAAUEAAAAAAABBQQAAAAAAAEFBAAAAAAABAUEAAAAAAAFBQQAAAAAAAUFBAAAAAAABgUEAAAAAAAIBQQAAAAAAAgFBAAAAAAACAUEAAAAAAADBQQAAAAAAAQFBAAAAAAABgUEAAAAAAAFBQQAAAAAAAQFBAAAAAAAAgUEAAAAAAABBQQAAAAAAAQFBAAAAAAABAUEAAAAAAAFBQQAAAAAAAUFBAAAAAAABAUEAAAAAAADBQQAAAAAAAYFBAAAAAAABgUEAAAAAAALBQQAAAAAAAoFBAAAAAAABAUEAAAAAAAEBQQAAAAAAAgE9AAAAAAADgT0AAAAAAACBQQAAAAAAAEFBAAAAAAAAAUEAAAAAAAMBPQAAAAAAAAFBAAAAAAAAgUEAAAAAAACBQQAAAAAAAYFBAAAAAAABwUEAAAAAAAEBQQAAAAAAAUFBAAAAAAABwUEAAAAAAAKBQQAAAAAAAsFBAAAAAAADAUEAAAAAAAHBQQAAAAAAAgFBAAAAAAABgUEAAAAAAAGBQQAAAAAAAUFBAAAAAAABAUEAAAAAAAFBQQAAAAAAAEFBAAAAAAADAT0AAAAAAAKBPQAAAAAAAAFBAAAAAAADgT0AAAAAAAKBPQAAAAAAAwE5AAAAAAABgTkAAAAAAACBOQAAAAAAAAE5AAAAAAACATUAAAAAAAMBNQAAAAAAAAE5AAAAAAACgTUAAAAAAAEBOQAAAAAAAQE5AAAAAAAAATkAAAAAAACBOQAAAAAAAYExAAAAAAAAATUAAAAAAAABNQAAAAAAAAE1AAAAAAABATEAAAAAAAEBMQAAAAAAA4EtAAAAAAADgS0AAAAAAAGBMQAAAAAAAIExAAAAAAAAgTEAAAAAAAEBMQAAAAAAAYExAAAAAAAAATUAAAAAAAEBNQAAAAAAAIE1AAAAAAAAgTUAAAAAAAMBMQAAAAAAA4ExAAAAAAAAgTUAAAAAAAMBMQAAAAAAAoExAAAAAAABgTEAAAAAAAGBMQAAAAAAAgExAAAAAAADAS0AAAAAAAABMQAAAAAAA4EtAAAAAAACAS0AAAAAAAIBLQAAAAAAA4EtAAAAAAAAATEAAAAAAACBMQAAAAAAA4EtAAAAAAACAS0AAAAAAAKBLQAAAAAAAAExAAAAAAAAgTEAAAAAAAOBMQAAAAAAAAE1AAAAAAACgTUAAAAAAAMBNQAAAAAAA4E1AAAAAAADgTUAAAAAAAOBNQAAAAAAAwE1AAAAAAADgTUAAAAAAAOBNQAAAAAAAAE5AAAAAAAAgTkAAAAAAAGBOQAAAAAAAYE9AAAAAAAAAT0AAAAAAAOBOQAAAAAAA4E5AAAAAAAAAT0AAAAAAAABPQAAAAAAAAE9AAAAAAABgT0AAAAAAAABQQAAAAAAAwE9AAAAAAADgT0AAAAAAAIBPQAAAAAAAgE9AAAAAAACgT0AAAAAAAIBPQAAAAAAA4E9AAAAAAADAT0AAAAAAAABQQAAAAAAA4E9AAAAAAAAAUEAAAAAAAOBPQAAAAAAA4E9AAAAAAADgT0AAAAAAAOBPQAAAAAAA4E9AAAAAAADgT0AAAAAAAMBPQAAAAAAAoE9AAAAAAACgT0AAAAAAAIBPQAAAAAAAoE9AAAAAAACAT0AAAAAAAKBOQAAAAAAAoE5AAAAAAACgTkAAAAAAAMBOQAAAAAAAgE5AAAAAAACATkAAAAAAAKBOQAAAAAAA4E5AAAAAAAAgT0AAAAAAAMBOQAAAAAAAoE5AAAAAAACATkAAAAAAAEBOQAAAAAAA4E1AAAAAAADATUAAAAAAACBNQAAAAAAAQE1AAAAAAADATUAAAAAAAIBOQAAAAAAAAE5AAAAAAABATkAAAAAAAIBOQAAAAAAAoE5AAAAAAACATkAAAAAAAIBOQAAAAAAAgE5AAAAAAABgTkAAAAAAAGBOQAAAAAAAoE5AAAAAAACgTkAAAAAAAGBOQAAAAAAAIE5AAAAAAABATkAAAAAAAKBOQAAAAAAAYE5AAAAAAACATkAAAAAAAIBNQAAAAAAAgE1AAAAAAABgTUAAAAAAAGBMQAAAAAAAoE1AAAAAAADATUAAAAAAAOBNQAAAAAAA4E1AAAAAAADATUAAAAAAAMBNQAAAAAAAoE1AAAAAAACgTUAAAAAAAGBNQAAAAAAAYE1AAAAAAABgTUAAAAAAAGBNQAAAAAAAAE1AAAAAAADgS0AAAAAAAEBMQAAAAAAAQExAAAAAAABgTEAAAAAAAIBMQAAAAAAAYExAAAAAAACgTEAAAAAAAOBMQAAAAAAAgExAAAAAAAAATEAAAAAAAKBLQAAAAAAAoEtAAAAAAADAS0AAAAAAAOBLQAAAAAAAoEtAAAAAAACgSkAAAAAAAKBLQAAAAAAAQExAAAAAAADAS0AAAAAAAMBLQAAAAAAA4EpAAAAAAAAAS0AAAAAAAABLQAAAAAAAQEdAAAAAAADAREAAAAAAAGBFQAAAAAAAYEVAAAAAAABgRUAAAAAAAMBFQAAAAAAAAEVAAAAAAADAREAAAAAAAOBEQAAAAAAAYEVAAAAAAAAARUAAAAAAAOBEQAAAAAAAwENAAAAAAAAAREAAAAAAAEBEQAAAAAAA4ENAAAAAAABAQ0AAAAAAAOBCQAAAAAAAgENAAAAAAACAQ0AAAAAAAKBDQAAAAAAAYENAAAAAAABgQ0AAAAAAAMBDQAAAAAAAIERAAAAAAAAAREAAAAAAAOBDQAAAAAAA4ENAAAAAAADAQ0AAAAAAAKBDQAAAAAAAIENAAAAAAACAQkAAAAAAAOBCQAAAAAAAQENAAAAAAAAgQ0AAAAAAAIBCQAAAAAAAAEFAAAAAAADAQUAAAAAAAABDQAAAAAAA4EJAAAAAAACAQkAAAAAAAIBCQAAAAAAAwEJAAAAAAACAQkAAAAAAAEBCQAAAAAAA4EJAAAAAAABgQkAAAAAAAEBCQAAAAAAAAEJAAAAAAAAAQkAAAAAAAGBCQAAAAAAAIENAAAAAAACAQkAAAAAAAKBCQAAAAAAAQENAAAAAAAAgQ0AAAAAAAMBCQAAAAAAAoEJAAAAAAADgQEAAAAAAAEBBQAAAAAAAQEFAAAAAAABAQUAAAAAAAKBAQAAAAAAAAEFAAAAAAADgQEAAAAAAAOBAQAAAAAAAgEBAAAAAAACAQEAAAAAAAMBAQAAAAAAAQEBAAAAAAABAQEAAAAAAAIA/QAAAAAAAQD9AAAAAAABAP0AAAAAAAIA/QAAAAAAAAEBAAAAAAAAAQEAAAAAAAIA8QAAAAAAAwDpAAAAAAABAO0AAAAAAAMA7QAAAAAAAADtAAAAAAADAO0AAAAAAAMA7QAAAAAAAAD1AAAAAAAAAPkAAAAAAAAA/QAAAAAAAAD5AAAAAAACAPUAAAAAAAMA9QAAAAAAAwD1AAAAAAABAPkAAAAAAAEA+QAAAAAAAAD5AAAAAAADAPUAAAAAAAAA+QAAAAAAAwD5AAAAAAACAP0AAAAAAAOBAQAAAAAAA4EFAAAAAAAAgQkAAAAAAACBDQAAAAAAAQENAAAAAAACgQkAAAAAAAOBCQAAAAAAAIENAAAAAAABgQ0AAAAAAAIBEQAAAAAAAwERAAAAAAABAREAAAAAAAKBDQAAAAAAAgENAAAAAAACgQ0AAAAAAAABEQAAAAAAA4ENAAAAAAADAQ0AAAAAAAMBDQAAAAAAAIENAAAAAAABAQ0AAAAAAAMBCQAAAAAAA4EJAAAAAAACAQkAAAAAAAKBCQAAAAAAAwEJAAAAAAADAQkAAAAAAAIBCQAAAAAAAQEJAAAAAAABAQkAAAAAAAOBBQAAAAAAAgEFAAAAAAAAAQkAAAAAAAOBBQAAAAAAAgEJAAAAAAACAQkAAAAAAAOBCQAAAAAAA4EJAAAAAAADAQkAAAAAAAIBCQAAAAAAAAENAAAAAAADgQkAAAAAAAEBDQAAAAAAAoENAAAAAAACAQ0AAAAAAAGBDQAAAAAAAQENAAAAAAABgQ0AAAAAAAIBDQAAAAAAAoENAAAAAAACAQ0AAAAAAAKBDQAAAAAAA4ENAAAAAAAAgREAAAAAAAKBEQAAAAAAA4ERAAAAAAACAREAAAAAAAKBEQAAAAAAAAEVAAAAAAADgREAAAAAAAGBEQAAAAAAAoENAAAAAAADgQ0AAAAAAAABEQAAAAAAAoERA",
          "dtype": "f8"
         },
         "name": "AOT",
         "open": {
          "bdata": "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",
          "dtype": "f8"
         },
         "type": "candlestick",
         "x": [
          "2022-10-17T00:00:00",
          "2022-10-18T00:00:00",
          "2022-10-19T00:00:00",
          "2022-10-20T00:00:00",
          "2022-10-21T00:00:00",
          "2022-10-25T00:00:00",
          "2022-10-26T00:00:00",
          "2022-10-27T00:00:00",
          "2022-10-28T00:00:00",
          "2022-10-31T00:00:00",
          "2022-11-01T00:00:00",
          "2022-11-02T00:00:00",
          "2022-11-03T00:00:00",
          "2022-11-04T00:00:00",
          "2022-11-07T00:00:00",
          "2022-11-08T00:00:00",
          "2022-11-09T00:00:00",
          "2022-11-10T00:00:00",
          "2022-11-11T00:00:00",
          "2022-11-14T00:00:00",
          "2022-11-15T00:00:00",
          "2022-11-16T00:00:00",
          "2022-11-17T00:00:00",
          "2022-11-18T00:00:00",
          "2022-11-21T00:00:00",
          "2022-11-22T00:00:00",
          "2022-11-23T00:00:00",
          "2022-11-24T00:00:00",
          "2022-11-25T00:00:00",
          "2022-11-28T00:00:00",
          "2022-11-29T00:00:00",
          "2022-11-30T00:00:00",
          "2022-12-01T00:00:00",
          "2022-12-02T00:00:00",
          "2022-12-06T00:00:00",
          "2022-12-07T00:00:00",
          "2022-12-08T00:00:00",
          "2022-12-09T00:00:00",
          "2022-12-13T00:00:00",
          "2022-12-14T00:00:00",
          "2022-12-15T00:00:00",
          "2022-12-16T00:00:00",
          "2022-12-19T00:00:00",
          "2022-12-20T00:00:00",
          "2022-12-21T00:00:00",
          "2022-12-22T00:00:00",
          "2022-12-23T00:00:00",
          "2022-12-26T00:00:00",
          "2022-12-27T00:00:00",
          "2022-12-28T00:00:00",
          "2022-12-29T00:00:00",
          "2022-12-30T00:00:00",
          "2023-01-03T00:00:00",
          "2023-01-04T00:00:00",
          "2023-01-05T00:00:00",
          "2023-01-06T00:00:00",
          "2023-01-09T00:00:00",
          "2023-01-10T00:00:00",
          "2023-01-11T00:00:00",
          "2023-01-12T00:00:00",
          "2023-01-13T00:00:00",
          "2023-01-16T00:00:00",
          "2023-01-17T00:00:00",
          "2023-01-18T00:00:00",
          "2023-01-19T00:00:00",
          "2023-01-20T00:00:00",
          "2023-01-23T00:00:00",
          "2023-01-24T00:00:00",
          "2023-01-25T00:00:00",
          "2023-01-26T00:00:00",
          "2023-01-27T00:00:00",
          "2023-01-30T00:00:00",
          "2023-01-31T00:00:00",
          "2023-02-01T00:00:00",
          "2023-02-02T00:00:00",
          "2023-02-03T00:00:00",
          "2023-02-06T00:00:00",
          "2023-02-07T00:00:00",
          "2023-02-08T00:00:00",
          "2023-02-09T00:00:00",
          "2023-02-10T00:00:00",
          "2023-02-13T00:00:00",
          "2023-02-14T00:00:00",
          "2023-02-15T00:00:00",
          "2023-02-16T00:00:00",
          "2023-02-17T00:00:00",
          "2023-02-20T00:00:00",
          "2023-02-21T00:00:00",
          "2023-02-22T00:00:00",
          "2023-02-23T00:00:00",
          "2023-02-24T00:00:00",
          "2023-02-27T00:00:00",
          "2023-02-28T00:00:00",
          "2023-03-01T00:00:00",
          "2023-03-02T00:00:00",
          "2023-03-03T00:00:00",
          "2023-03-07T00:00:00",
          "2023-03-08T00:00:00",
          "2023-03-09T00:00:00",
          "2023-03-10T00:00:00",
          "2023-03-13T00:00:00",
          "2023-03-14T00:00:00",
          "2023-03-15T00:00:00",
          "2023-03-16T00:00:00",
          "2023-03-17T00:00:00",
          "2023-03-20T00:00:00",
          "2023-03-21T00:00:00",
          "2023-03-22T00:00:00",
          "2023-03-23T00:00:00",
          "2023-03-24T00:00:00",
          "2023-03-27T00:00:00",
          "2023-03-28T00:00:00",
          "2023-03-29T00:00:00",
          "2023-03-30T00:00:00",
          "2023-03-31T00:00:00",
          "2023-04-03T00:00:00",
          "2023-04-04T00:00:00",
          "2023-04-05T00:00:00",
          "2023-04-07T00:00:00",
          "2023-04-10T00:00:00",
          "2023-04-11T00:00:00",
          "2023-04-12T00:00:00",
          "2023-04-17T00:00:00",
          "2023-04-18T00:00:00",
          "2023-04-19T00:00:00",
          "2023-04-20T00:00:00",
          "2023-04-21T00:00:00",
          "2023-04-24T00:00:00",
          "2023-04-25T00:00:00",
          "2023-04-26T00:00:00",
          "2023-04-27T00:00:00",
          "2023-04-28T00:00:00",
          "2023-05-02T00:00:00",
          "2023-05-03T00:00:00",
          "2023-05-08T00:00:00",
          "2023-05-09T00:00:00",
          "2023-05-10T00:00:00",
          "2023-05-11T00:00:00",
          "2023-05-12T00:00:00",
          "2023-05-15T00:00:00",
          "2023-05-16T00:00:00",
          "2023-05-17T00:00:00",
          "2023-05-18T00:00:00",
          "2023-05-19T00:00:00",
          "2023-05-22T00:00:00",
          "2023-05-23T00:00:00",
          "2023-05-24T00:00:00",
          "2023-05-25T00:00:00",
          "2023-05-26T00:00:00",
          "2023-05-29T00:00:00",
          "2023-05-30T00:00:00",
          "2023-05-31T00:00:00",
          "2023-06-01T00:00:00",
          "2023-06-02T00:00:00",
          "2023-06-06T00:00:00",
          "2023-06-07T00:00:00",
          "2023-06-08T00:00:00",
          "2023-06-09T00:00:00",
          "2023-06-12T00:00:00",
          "2023-06-13T00:00:00",
          "2023-06-14T00:00:00",
          "2023-06-15T00:00:00",
          "2023-06-16T00:00:00",
          "2023-06-19T00:00:00",
          "2023-06-20T00:00:00",
          "2023-06-21T00:00:00",
          "2023-06-22T00:00:00",
          "2023-06-23T00:00:00",
          "2023-06-26T00:00:00",
          "2023-06-27T00:00:00",
          "2023-06-28T00:00:00",
          "2023-06-29T00:00:00",
          "2023-06-30T00:00:00",
          "2023-07-03T00:00:00",
          "2023-07-04T00:00:00",
          "2023-07-05T00:00:00",
          "2023-07-06T00:00:00",
          "2023-07-07T00:00:00",
          "2023-07-10T00:00:00",
          "2023-07-11T00:00:00",
          "2023-07-12T00:00:00",
          "2023-07-13T00:00:00",
          "2023-07-14T00:00:00",
          "2023-07-17T00:00:00",
          "2023-07-18T00:00:00",
          "2023-07-19T00:00:00",
          "2023-07-20T00:00:00",
          "2023-07-21T00:00:00",
          "2023-07-24T00:00:00",
          "2023-07-25T00:00:00",
          "2023-07-26T00:00:00",
          "2023-07-27T00:00:00",
          "2023-07-31T00:00:00",
          "2023-08-02T00:00:00",
          "2023-08-03T00:00:00",
          "2023-08-04T00:00:00",
          "2023-08-07T00:00:00",
          "2023-08-08T00:00:00",
          "2023-08-09T00:00:00",
          "2023-08-10T00:00:00",
          "2023-08-11T00:00:00",
          "2023-08-15T00:00:00",
          "2023-08-16T00:00:00",
          "2023-08-17T00:00:00",
          "2023-08-18T00:00:00",
          "2023-08-21T00:00:00",
          "2023-08-22T00:00:00",
          "2023-08-23T00:00:00",
          "2023-08-24T00:00:00",
          "2023-08-25T00:00:00",
          "2023-08-28T00:00:00",
          "2023-08-29T00:00:00",
          "2023-08-30T00:00:00",
          "2023-08-31T00:00:00",
          "2023-09-01T00:00:00",
          "2023-09-04T00:00:00",
          "2023-09-05T00:00:00",
          "2023-09-06T00:00:00",
          "2023-09-07T00:00:00",
          "2023-09-08T00:00:00",
          "2023-09-11T00:00:00",
          "2023-09-12T00:00:00",
          "2023-09-13T00:00:00",
          "2023-09-14T00:00:00",
          "2023-09-15T00:00:00",
          "2023-09-18T00:00:00",
          "2023-09-19T00:00:00",
          "2023-09-20T00:00:00",
          "2023-09-21T00:00:00",
          "2023-09-22T00:00:00",
          "2023-09-25T00:00:00",
          "2023-09-26T00:00:00",
          "2023-09-27T00:00:00",
          "2023-09-28T00:00:00",
          "2023-09-29T00:00:00",
          "2023-10-02T00:00:00",
          "2023-10-03T00:00:00",
          "2023-10-04T00:00:00",
          "2023-10-05T00:00:00",
          "2023-10-06T00:00:00",
          "2023-10-09T00:00:00",
          "2023-10-10T00:00:00",
          "2023-10-11T00:00:00",
          "2023-10-12T00:00:00",
          "2023-10-16T00:00:00",
          "2023-10-17T00:00:00",
          "2023-10-18T00:00:00",
          "2023-10-19T00:00:00",
          "2023-10-20T00:00:00",
          "2023-10-24T00:00:00",
          "2023-10-25T00:00:00",
          "2023-10-26T00:00:00",
          "2023-10-27T00:00:00",
          "2023-10-30T00:00:00",
          "2023-10-31T00:00:00",
          "2023-11-01T00:00:00",
          "2023-11-02T00:00:00",
          "2023-11-03T00:00:00",
          "2023-11-06T00:00:00",
          "2023-11-07T00:00:00",
          "2023-11-08T00:00:00",
          "2023-11-09T00:00:00",
          "2023-11-10T00:00:00",
          "2023-11-13T00:00:00",
          "2023-11-14T00:00:00",
          "2023-11-15T00:00:00",
          "2023-11-16T00:00:00",
          "2023-11-17T00:00:00",
          "2023-11-20T00:00:00",
          "2023-11-21T00:00:00",
          "2023-11-22T00:00:00",
          "2023-11-23T00:00:00",
          "2023-11-24T00:00:00",
          "2023-11-27T00:00:00",
          "2023-11-28T00:00:00",
          "2023-11-29T00:00:00",
          "2023-11-30T00:00:00",
          "2023-12-01T00:00:00",
          "2023-12-04T00:00:00",
          "2023-12-06T00:00:00",
          "2023-12-07T00:00:00",
          "2023-12-08T00:00:00",
          "2023-12-12T00:00:00",
          "2023-12-13T00:00:00",
          "2023-12-14T00:00:00",
          "2023-12-15T00:00:00",
          "2023-12-18T00:00:00",
          "2023-12-19T00:00:00",
          "2023-12-20T00:00:00",
          "2023-12-21T00:00:00",
          "2023-12-22T00:00:00",
          "2023-12-25T00:00:00",
          "2023-12-26T00:00:00",
          "2023-12-27T00:00:00",
          "2023-12-28T00:00:00",
          "2024-01-02T00:00:00",
          "2024-01-03T00:00:00",
          "2024-01-04T00:00:00",
          "2024-01-05T00:00:00",
          "2024-01-08T00:00:00",
          "2024-01-09T00:00:00",
          "2024-01-10T00:00:00",
          "2024-01-11T00:00:00",
          "2024-01-12T00:00:00",
          "2024-01-15T00:00:00",
          "2024-01-16T00:00:00",
          "2024-01-17T00:00:00",
          "2024-01-18T00:00:00",
          "2024-01-19T00:00:00",
          "2024-01-22T00:00:00",
          "2024-01-23T00:00:00",
          "2024-01-24T00:00:00",
          "2024-01-25T00:00:00",
          "2024-01-26T00:00:00",
          "2024-01-29T00:00:00",
          "2024-01-30T00:00:00",
          "2024-01-31T00:00:00",
          "2024-02-01T00:00:00",
          "2024-02-02T00:00:00",
          "2024-02-05T00:00:00",
          "2024-02-06T00:00:00",
          "2024-02-07T00:00:00",
          "2024-02-08T00:00:00",
          "2024-02-09T00:00:00",
          "2024-02-12T00:00:00",
          "2024-02-13T00:00:00",
          "2024-02-14T00:00:00",
          "2024-02-15T00:00:00",
          "2024-02-16T00:00:00",
          "2024-02-19T00:00:00",
          "2024-02-20T00:00:00",
          "2024-02-21T00:00:00",
          "2024-02-22T00:00:00",
          "2024-02-23T00:00:00",
          "2024-02-27T00:00:00",
          "2024-02-28T00:00:00",
          "2024-02-29T00:00:00",
          "2024-03-01T00:00:00",
          "2024-03-04T00:00:00",
          "2024-03-05T00:00:00",
          "2024-03-06T00:00:00",
          "2024-03-07T00:00:00",
          "2024-03-08T00:00:00",
          "2024-03-11T00:00:00",
          "2024-03-12T00:00:00",
          "2024-03-13T00:00:00",
          "2024-03-14T00:00:00",
          "2024-03-15T00:00:00",
          "2024-03-18T00:00:00",
          "2024-03-19T00:00:00",
          "2024-03-20T00:00:00",
          "2024-03-21T00:00:00",
          "2024-03-22T00:00:00",
          "2024-03-25T00:00:00",
          "2024-03-26T00:00:00",
          "2024-03-27T00:00:00",
          "2024-03-28T00:00:00",
          "2024-03-29T00:00:00",
          "2024-04-01T00:00:00",
          "2024-04-02T00:00:00",
          "2024-04-03T00:00:00",
          "2024-04-04T00:00:00",
          "2024-04-05T00:00:00",
          "2024-04-09T00:00:00",
          "2024-04-10T00:00:00",
          "2024-04-11T00:00:00",
          "2024-04-17T00:00:00",
          "2024-04-18T00:00:00",
          "2024-04-19T00:00:00",
          "2024-04-22T00:00:00",
          "2024-04-23T00:00:00",
          "2024-04-24T00:00:00",
          "2024-04-25T00:00:00",
          "2024-04-26T00:00:00",
          "2024-04-29T00:00:00",
          "2024-04-30T00:00:00",
          "2024-05-02T00:00:00",
          "2024-05-03T00:00:00",
          "2024-05-07T00:00:00",
          "2024-05-08T00:00:00",
          "2024-05-09T00:00:00",
          "2024-05-10T00:00:00",
          "2024-05-13T00:00:00",
          "2024-05-14T00:00:00",
          "2024-05-15T00:00:00",
          "2024-05-16T00:00:00",
          "2024-05-17T00:00:00",
          "2024-05-20T00:00:00",
          "2024-05-21T00:00:00",
          "2024-05-23T00:00:00",
          "2024-05-24T00:00:00",
          "2024-05-27T00:00:00",
          "2024-05-28T00:00:00",
          "2024-05-29T00:00:00",
          "2024-05-30T00:00:00",
          "2024-05-31T00:00:00",
          "2024-06-04T00:00:00",
          "2024-06-05T00:00:00",
          "2024-06-06T00:00:00",
          "2024-06-07T00:00:00",
          "2024-06-10T00:00:00",
          "2024-06-11T00:00:00",
          "2024-06-12T00:00:00",
          "2024-06-13T00:00:00",
          "2024-06-14T00:00:00",
          "2024-06-17T00:00:00",
          "2024-06-18T00:00:00",
          "2024-06-19T00:00:00",
          "2024-06-20T00:00:00",
          "2024-06-21T00:00:00",
          "2024-06-24T00:00:00",
          "2024-06-25T00:00:00",
          "2024-06-26T00:00:00",
          "2024-06-27T00:00:00",
          "2024-06-28T00:00:00",
          "2024-07-01T00:00:00",
          "2024-07-02T00:00:00",
          "2024-07-03T00:00:00",
          "2024-07-04T00:00:00",
          "2024-07-05T00:00:00",
          "2024-07-08T00:00:00",
          "2024-07-09T00:00:00",
          "2024-07-10T00:00:00",
          "2024-07-11T00:00:00",
          "2024-07-12T00:00:00",
          "2024-07-15T00:00:00",
          "2024-07-16T00:00:00",
          "2024-07-17T00:00:00",
          "2024-07-18T00:00:00",
          "2024-07-19T00:00:00",
          "2024-07-23T00:00:00",
          "2024-07-24T00:00:00",
          "2024-07-25T00:00:00",
          "2024-07-26T00:00:00",
          "2024-07-30T00:00:00",
          "2024-07-31T00:00:00",
          "2024-08-01T00:00:00",
          "2024-08-02T00:00:00",
          "2024-08-05T00:00:00",
          "2024-08-06T00:00:00",
          "2024-08-07T00:00:00",
          "2024-08-08T00:00:00",
          "2024-08-09T00:00:00",
          "2024-08-13T00:00:00",
          "2024-08-14T00:00:00",
          "2024-08-15T00:00:00",
          "2024-08-16T00:00:00",
          "2024-08-19T00:00:00",
          "2024-08-20T00:00:00",
          "2024-08-21T00:00:00",
          "2024-08-22T00:00:00",
          "2024-08-23T00:00:00",
          "2024-08-26T00:00:00",
          "2024-08-27T00:00:00",
          "2024-08-28T00:00:00",
          "2024-08-29T00:00:00",
          "2024-08-30T00:00:00",
          "2024-09-02T00:00:00",
          "2024-09-03T00:00:00",
          "2024-09-04T00:00:00",
          "2024-09-05T00:00:00",
          "2024-09-06T00:00:00",
          "2024-09-09T00:00:00",
          "2024-09-10T00:00:00",
          "2024-09-11T00:00:00",
          "2024-09-12T00:00:00",
          "2024-09-13T00:00:00",
          "2024-09-16T00:00:00",
          "2024-09-17T00:00:00",
          "2024-09-18T00:00:00",
          "2024-09-19T00:00:00",
          "2024-09-20T00:00:00",
          "2024-09-23T00:00:00",
          "2024-09-24T00:00:00",
          "2024-09-25T00:00:00",
          "2024-09-26T00:00:00",
          "2024-09-27T00:00:00",
          "2024-09-30T00:00:00",
          "2024-10-01T00:00:00",
          "2024-10-02T00:00:00",
          "2024-10-03T00:00:00",
          "2024-10-04T00:00:00",
          "2024-10-07T00:00:00",
          "2024-10-08T00:00:00",
          "2024-10-09T00:00:00",
          "2024-10-10T00:00:00",
          "2024-10-11T00:00:00",
          "2024-10-15T00:00:00",
          "2024-10-16T00:00:00",
          "2024-10-17T00:00:00",
          "2024-10-18T00:00:00",
          "2024-10-21T00:00:00",
          "2024-10-22T00:00:00",
          "2024-10-24T00:00:00",
          "2024-10-25T00:00:00",
          "2024-10-28T00:00:00",
          "2024-10-29T00:00:00",
          "2024-10-30T00:00:00",
          "2024-10-31T00:00:00",
          "2024-11-01T00:00:00",
          "2024-11-04T00:00:00",
          "2024-11-05T00:00:00",
          "2024-11-06T00:00:00",
          "2024-11-07T00:00:00",
          "2024-11-08T00:00:00",
          "2024-11-11T00:00:00",
          "2024-11-12T00:00:00",
          "2024-11-13T00:00:00",
          "2024-11-14T00:00:00",
          "2024-11-15T00:00:00",
          "2024-11-18T00:00:00",
          "2024-11-19T00:00:00",
          "2024-11-20T00:00:00",
          "2024-11-21T00:00:00",
          "2024-11-22T00:00:00",
          "2024-11-25T00:00:00",
          "2024-11-26T00:00:00",
          "2024-11-27T00:00:00",
          "2024-11-28T00:00:00",
          "2024-11-29T00:00:00",
          "2024-12-02T00:00:00",
          "2024-12-03T00:00:00",
          "2024-12-04T00:00:00",
          "2024-12-06T00:00:00",
          "2024-12-09T00:00:00",
          "2024-12-11T00:00:00",
          "2024-12-12T00:00:00",
          "2024-12-13T00:00:00",
          "2024-12-16T00:00:00",
          "2024-12-17T00:00:00",
          "2024-12-18T00:00:00",
          "2024-12-19T00:00:00",
          "2024-12-20T00:00:00",
          "2024-12-23T00:00:00",
          "2024-12-24T00:00:00",
          "2024-12-25T00:00:00",
          "2024-12-26T00:00:00",
          "2024-12-27T00:00:00",
          "2024-12-30T00:00:00",
          "2025-01-02T00:00:00",
          "2025-01-03T00:00:00",
          "2025-01-06T00:00:00",
          "2025-01-07T00:00:00",
          "2025-01-08T00:00:00",
          "2025-01-09T00:00:00",
          "2025-01-10T00:00:00",
          "2025-01-13T00:00:00",
          "2025-01-14T00:00:00",
          "2025-01-15T00:00:00",
          "2025-01-16T00:00:00",
          "2025-01-17T00:00:00",
          "2025-01-20T00:00:00",
          "2025-01-21T00:00:00",
          "2025-01-22T00:00:00",
          "2025-01-23T00:00:00",
          "2025-01-24T00:00:00",
          "2025-01-27T00:00:00",
          "2025-01-28T00:00:00",
          "2025-01-29T00:00:00",
          "2025-01-30T00:00:00",
          "2025-01-31T00:00:00",
          "2025-02-03T00:00:00",
          "2025-02-04T00:00:00",
          "2025-02-05T00:00:00",
          "2025-02-06T00:00:00",
          "2025-02-07T00:00:00",
          "2025-02-10T00:00:00",
          "2025-02-11T00:00:00",
          "2025-02-13T00:00:00",
          "2025-02-14T00:00:00",
          "2025-02-17T00:00:00",
          "2025-02-18T00:00:00",
          "2025-02-19T00:00:00",
          "2025-02-20T00:00:00",
          "2025-02-21T00:00:00",
          "2025-02-24T00:00:00",
          "2025-02-25T00:00:00",
          "2025-02-26T00:00:00",
          "2025-02-27T00:00:00",
          "2025-02-28T00:00:00",
          "2025-03-03T00:00:00",
          "2025-03-04T00:00:00",
          "2025-03-05T00:00:00",
          "2025-03-06T00:00:00",
          "2025-03-07T00:00:00",
          "2025-03-10T00:00:00",
          "2025-03-11T00:00:00",
          "2025-03-12T00:00:00",
          "2025-03-13T00:00:00",
          "2025-03-14T00:00:00",
          "2025-03-17T00:00:00",
          "2025-03-18T00:00:00",
          "2025-03-19T00:00:00",
          "2025-03-20T00:00:00",
          "2025-03-21T00:00:00",
          "2025-03-24T00:00:00",
          "2025-03-25T00:00:00",
          "2025-03-26T00:00:00",
          "2025-03-27T00:00:00",
          "2025-03-28T00:00:00",
          "2025-03-31T00:00:00",
          "2025-04-01T00:00:00",
          "2025-04-02T00:00:00",
          "2025-04-03T00:00:00",
          "2025-04-04T00:00:00",
          "2025-04-08T00:00:00",
          "2025-04-09T00:00:00",
          "2025-04-10T00:00:00",
          "2025-04-11T00:00:00",
          "2025-04-16T00:00:00",
          "2025-04-17T00:00:00",
          "2025-04-18T00:00:00",
          "2025-04-21T00:00:00",
          "2025-04-22T00:00:00",
          "2025-04-23T00:00:00",
          "2025-04-24T00:00:00",
          "2025-04-25T00:00:00",
          "2025-04-28T00:00:00",
          "2025-04-29T00:00:00",
          "2025-04-30T00:00:00",
          "2025-05-02T00:00:00",
          "2025-05-06T00:00:00",
          "2025-05-07T00:00:00",
          "2025-05-08T00:00:00",
          "2025-05-09T00:00:00",
          "2025-05-13T00:00:00",
          "2025-05-14T00:00:00",
          "2025-05-15T00:00:00",
          "2025-05-16T00:00:00",
          "2025-05-19T00:00:00",
          "2025-05-20T00:00:00",
          "2025-05-21T00:00:00",
          "2025-05-22T00:00:00",
          "2025-05-23T00:00:00",
          "2025-05-26T00:00:00",
          "2025-05-27T00:00:00",
          "2025-05-28T00:00:00",
          "2025-05-29T00:00:00",
          "2025-05-30T00:00:00",
          "2025-06-04T00:00:00",
          "2025-06-05T00:00:00",
          "2025-06-06T00:00:00",
          "2025-06-09T00:00:00",
          "2025-06-10T00:00:00",
          "2025-06-11T00:00:00",
          "2025-06-12T00:00:00",
          "2025-06-13T00:00:00",
          "2025-06-16T00:00:00",
          "2025-06-17T00:00:00",
          "2025-06-18T00:00:00",
          "2025-06-19T00:00:00",
          "2025-06-20T00:00:00",
          "2025-06-23T00:00:00",
          "2025-06-24T00:00:00",
          "2025-06-25T00:00:00",
          "2025-06-26T00:00:00",
          "2025-06-27T00:00:00",
          "2025-06-30T00:00:00",
          "2025-07-01T00:00:00",
          "2025-07-02T00:00:00",
          "2025-07-03T00:00:00",
          "2025-07-04T00:00:00",
          "2025-07-07T00:00:00",
          "2025-07-08T00:00:00",
          "2025-07-09T00:00:00",
          "2025-07-11T00:00:00",
          "2025-07-14T00:00:00",
          "2025-07-15T00:00:00",
          "2025-07-16T00:00:00",
          "2025-07-17T00:00:00",
          "2025-07-18T00:00:00",
          "2025-07-21T00:00:00",
          "2025-07-22T00:00:00",
          "2025-07-23T00:00:00",
          "2025-07-24T00:00:00",
          "2025-07-25T00:00:00",
          "2025-07-29T00:00:00",
          "2025-07-30T00:00:00",
          "2025-07-31T00:00:00",
          "2025-08-01T00:00:00",
          "2025-08-04T00:00:00",
          "2025-08-05T00:00:00",
          "2025-08-06T00:00:00",
          "2025-08-07T00:00:00",
          "2025-08-08T00:00:00",
          "2025-08-13T00:00:00",
          "2025-08-14T00:00:00",
          "2025-08-15T00:00:00",
          "2025-08-18T00:00:00",
          "2025-08-19T00:00:00",
          "2025-08-20T00:00:00",
          "2025-08-21T00:00:00",
          "2025-08-22T00:00:00",
          "2025-08-25T00:00:00",
          "2025-08-26T00:00:00",
          "2025-08-27T00:00:00",
          "2025-08-28T00:00:00",
          "2025-08-29T00:00:00",
          "2025-09-01T00:00:00",
          "2025-09-02T00:00:00",
          "2025-09-03T00:00:00",
          "2025-09-04T00:00:00",
          "2025-09-05T00:00:00",
          "2025-09-08T00:00:00",
          "2025-09-09T00:00:00",
          "2025-09-10T00:00:00",
          "2025-09-11T00:00:00",
          "2025-09-12T00:00:00",
          "2025-09-15T00:00:00",
          "2025-09-16T00:00:00",
          "2025-09-17T00:00:00",
          "2025-09-18T00:00:00",
          "2025-09-19T00:00:00",
          "2025-09-22T00:00:00",
          "2025-09-23T00:00:00",
          "2025-09-24T00:00:00",
          "2025-09-25T00:00:00",
          "2025-09-26T00:00:00",
          "2025-09-29T00:00:00",
          "2025-09-30T00:00:00",
          "2025-10-01T00:00:00",
          "2025-10-02T00:00:00",
          "2025-10-03T00:00:00",
          "2025-10-06T00:00:00",
          "2025-10-07T00:00:00",
          "2025-10-08T00:00:00",
          "2025-10-09T00:00:00",
          "2025-10-10T00:00:00",
          "2025-10-14T00:00:00",
          "2025-10-15T00:00:00",
          "2025-10-16T00:00:00",
          "2025-10-17T00:00:00"
         ]
        },
        {
         "marker": {
          "color": "rgba(128,128,128,0.3)"
         },
         "name": "Volume",
         "type": "bar",
         "x": [
          "2022-10-17T00:00:00",
          "2022-10-18T00:00:00",
          "2022-10-19T00:00:00",
          "2022-10-20T00:00:00",
          "2022-10-21T00:00:00",
          "2022-10-25T00:00:00",
          "2022-10-26T00:00:00",
          "2022-10-27T00:00:00",
          "2022-10-28T00:00:00",
          "2022-10-31T00:00:00",
          "2022-11-01T00:00:00",
          "2022-11-02T00:00:00",
          "2022-11-03T00:00:00",
          "2022-11-04T00:00:00",
          "2022-11-07T00:00:00",
          "2022-11-08T00:00:00",
          "2022-11-09T00:00:00",
          "2022-11-10T00:00:00",
          "2022-11-11T00:00:00",
          "2022-11-14T00:00:00",
          "2022-11-15T00:00:00",
          "2022-11-16T00:00:00",
          "2022-11-17T00:00:00",
          "2022-11-18T00:00:00",
          "2022-11-21T00:00:00",
          "2022-11-22T00:00:00",
          "2022-11-23T00:00:00",
          "2022-11-24T00:00:00",
          "2022-11-25T00:00:00",
          "2022-11-28T00:00:00",
          "2022-11-29T00:00:00",
          "2022-11-30T00:00:00",
          "2022-12-01T00:00:00",
          "2022-12-02T00:00:00",
          "2022-12-06T00:00:00",
          "2022-12-07T00:00:00",
          "2022-12-08T00:00:00",
          "2022-12-09T00:00:00",
          "2022-12-13T00:00:00",
          "2022-12-14T00:00:00",
          "2022-12-15T00:00:00",
          "2022-12-16T00:00:00",
          "2022-12-19T00:00:00",
          "2022-12-20T00:00:00",
          "2022-12-21T00:00:00",
          "2022-12-22T00:00:00",
          "2022-12-23T00:00:00",
          "2022-12-26T00:00:00",
          "2022-12-27T00:00:00",
          "2022-12-28T00:00:00",
          "2022-12-29T00:00:00",
          "2022-12-30T00:00:00",
          "2023-01-03T00:00:00",
          "2023-01-04T00:00:00",
          "2023-01-05T00:00:00",
          "2023-01-06T00:00:00",
          "2023-01-09T00:00:00",
          "2023-01-10T00:00:00",
          "2023-01-11T00:00:00",
          "2023-01-12T00:00:00",
          "2023-01-13T00:00:00",
          "2023-01-16T00:00:00",
          "2023-01-17T00:00:00",
          "2023-01-18T00:00:00",
          "2023-01-19T00:00:00",
          "2023-01-20T00:00:00",
          "2023-01-23T00:00:00",
          "2023-01-24T00:00:00",
          "2023-01-25T00:00:00",
          "2023-01-26T00:00:00",
          "2023-01-27T00:00:00",
          "2023-01-30T00:00:00",
          "2023-01-31T00:00:00",
          "2023-02-01T00:00:00",
          "2023-02-02T00:00:00",
          "2023-02-03T00:00:00",
          "2023-02-06T00:00:00",
          "2023-02-07T00:00:00",
          "2023-02-08T00:00:00",
          "2023-02-09T00:00:00",
          "2023-02-10T00:00:00",
          "2023-02-13T00:00:00",
          "2023-02-14T00:00:00",
          "2023-02-15T00:00:00",
          "2023-02-16T00:00:00",
          "2023-02-17T00:00:00",
          "2023-02-20T00:00:00",
          "2023-02-21T00:00:00",
          "2023-02-22T00:00:00",
          "2023-02-23T00:00:00",
          "2023-02-24T00:00:00",
          "2023-02-27T00:00:00",
          "2023-02-28T00:00:00",
          "2023-03-01T00:00:00",
          "2023-03-02T00:00:00",
          "2023-03-03T00:00:00",
          "2023-03-07T00:00:00",
          "2023-03-08T00:00:00",
          "2023-03-09T00:00:00",
          "2023-03-10T00:00:00",
          "2023-03-13T00:00:00",
          "2023-03-14T00:00:00",
          "2023-03-15T00:00:00",
          "2023-03-16T00:00:00",
          "2023-03-17T00:00:00",
          "2023-03-20T00:00:00",
          "2023-03-21T00:00:00",
          "2023-03-22T00:00:00",
          "2023-03-23T00:00:00",
          "2023-03-24T00:00:00",
          "2023-03-27T00:00:00",
          "2023-03-28T00:00:00",
          "2023-03-29T00:00:00",
          "2023-03-30T00:00:00",
          "2023-03-31T00:00:00",
          "2023-04-03T00:00:00",
          "2023-04-04T00:00:00",
          "2023-04-05T00:00:00",
          "2023-04-07T00:00:00",
          "2023-04-10T00:00:00",
          "2023-04-11T00:00:00",
          "2023-04-12T00:00:00",
          "2023-04-17T00:00:00",
          "2023-04-18T00:00:00",
          "2023-04-19T00:00:00",
          "2023-04-20T00:00:00",
          "2023-04-21T00:00:00",
          "2023-04-24T00:00:00",
          "2023-04-25T00:00:00",
          "2023-04-26T00:00:00",
          "2023-04-27T00:00:00",
          "2023-04-28T00:00:00",
          "2023-05-02T00:00:00",
          "2023-05-03T00:00:00",
          "2023-05-08T00:00:00",
          "2023-05-09T00:00:00",
          "2023-05-10T00:00:00",
          "2023-05-11T00:00:00",
          "2023-05-12T00:00:00",
          "2023-05-15T00:00:00",
          "2023-05-16T00:00:00",
          "2023-05-17T00:00:00",
          "2023-05-18T00:00:00",
          "2023-05-19T00:00:00",
          "2023-05-22T00:00:00",
          "2023-05-23T00:00:00",
          "2023-05-24T00:00:00",
          "2023-05-25T00:00:00",
          "2023-05-26T00:00:00",
          "2023-05-29T00:00:00",
          "2023-05-30T00:00:00",
          "2023-05-31T00:00:00",
          "2023-06-01T00:00:00",
          "2023-06-02T00:00:00",
          "2023-06-06T00:00:00",
          "2023-06-07T00:00:00",
          "2023-06-08T00:00:00",
          "2023-06-09T00:00:00",
          "2023-06-12T00:00:00",
          "2023-06-13T00:00:00",
          "2023-06-14T00:00:00",
          "2023-06-15T00:00:00",
          "2023-06-16T00:00:00",
          "2023-06-19T00:00:00",
          "2023-06-20T00:00:00",
          "2023-06-21T00:00:00",
          "2023-06-22T00:00:00",
          "2023-06-23T00:00:00",
          "2023-06-26T00:00:00",
          "2023-06-27T00:00:00",
          "2023-06-28T00:00:00",
          "2023-06-29T00:00:00",
          "2023-06-30T00:00:00",
          "2023-07-03T00:00:00",
          "2023-07-04T00:00:00",
          "2023-07-05T00:00:00",
          "2023-07-06T00:00:00",
          "2023-07-07T00:00:00",
          "2023-07-10T00:00:00",
          "2023-07-11T00:00:00",
          "2023-07-12T00:00:00",
          "2023-07-13T00:00:00",
          "2023-07-14T00:00:00",
          "2023-07-17T00:00:00",
          "2023-07-18T00:00:00",
          "2023-07-19T00:00:00",
          "2023-07-20T00:00:00",
          "2023-07-21T00:00:00",
          "2023-07-24T00:00:00",
          "2023-07-25T00:00:00",
          "2023-07-26T00:00:00",
          "2023-07-27T00:00:00",
          "2023-07-31T00:00:00",
          "2023-08-02T00:00:00",
          "2023-08-03T00:00:00",
          "2023-08-04T00:00:00",
          "2023-08-07T00:00:00",
          "2023-08-08T00:00:00",
          "2023-08-09T00:00:00",
          "2023-08-10T00:00:00",
          "2023-08-11T00:00:00",
          "2023-08-15T00:00:00",
          "2023-08-16T00:00:00",
          "2023-08-17T00:00:00",
          "2023-08-18T00:00:00",
          "2023-08-21T00:00:00",
          "2023-08-22T00:00:00",
          "2023-08-23T00:00:00",
          "2023-08-24T00:00:00",
          "2023-08-25T00:00:00",
          "2023-08-28T00:00:00",
          "2023-08-29T00:00:00",
          "2023-08-30T00:00:00",
          "2023-08-31T00:00:00",
          "2023-09-01T00:00:00",
          "2023-09-04T00:00:00",
          "2023-09-05T00:00:00",
          "2023-09-06T00:00:00",
          "2023-09-07T00:00:00",
          "2023-09-08T00:00:00",
          "2023-09-11T00:00:00",
          "2023-09-12T00:00:00",
          "2023-09-13T00:00:00",
          "2023-09-14T00:00:00",
          "2023-09-15T00:00:00",
          "2023-09-18T00:00:00",
          "2023-09-19T00:00:00",
          "2023-09-20T00:00:00",
          "2023-09-21T00:00:00",
          "2023-09-22T00:00:00",
          "2023-09-25T00:00:00",
          "2023-09-26T00:00:00",
          "2023-09-27T00:00:00",
          "2023-09-28T00:00:00",
          "2023-09-29T00:00:00",
          "2023-10-02T00:00:00",
          "2023-10-03T00:00:00",
          "2023-10-04T00:00:00",
          "2023-10-05T00:00:00",
          "2023-10-06T00:00:00",
          "2023-10-09T00:00:00",
          "2023-10-10T00:00:00",
          "2023-10-11T00:00:00",
          "2023-10-12T00:00:00",
          "2023-10-16T00:00:00",
          "2023-10-17T00:00:00",
          "2023-10-18T00:00:00",
          "2023-10-19T00:00:00",
          "2023-10-20T00:00:00",
          "2023-10-24T00:00:00",
          "2023-10-25T00:00:00",
          "2023-10-26T00:00:00",
          "2023-10-27T00:00:00",
          "2023-10-30T00:00:00",
          "2023-10-31T00:00:00",
          "2023-11-01T00:00:00",
          "2023-11-02T00:00:00",
          "2023-11-03T00:00:00",
          "2023-11-06T00:00:00",
          "2023-11-07T00:00:00",
          "2023-11-08T00:00:00",
          "2023-11-09T00:00:00",
          "2023-11-10T00:00:00",
          "2023-11-13T00:00:00",
          "2023-11-14T00:00:00",
          "2023-11-15T00:00:00",
          "2023-11-16T00:00:00",
          "2023-11-17T00:00:00",
          "2023-11-20T00:00:00",
          "2023-11-21T00:00:00",
          "2023-11-22T00:00:00",
          "2023-11-23T00:00:00",
          "2023-11-24T00:00:00",
          "2023-11-27T00:00:00",
          "2023-11-28T00:00:00",
          "2023-11-29T00:00:00",
          "2023-11-30T00:00:00",
          "2023-12-01T00:00:00",
          "2023-12-04T00:00:00",
          "2023-12-06T00:00:00",
          "2023-12-07T00:00:00",
          "2023-12-08T00:00:00",
          "2023-12-12T00:00:00",
          "2023-12-13T00:00:00",
          "2023-12-14T00:00:00",
          "2023-12-15T00:00:00",
          "2023-12-18T00:00:00",
          "2023-12-19T00:00:00",
          "2023-12-20T00:00:00",
          "2023-12-21T00:00:00",
          "2023-12-22T00:00:00",
          "2023-12-25T00:00:00",
          "2023-12-26T00:00:00",
          "2023-12-27T00:00:00",
          "2023-12-28T00:00:00",
          "2024-01-02T00:00:00",
          "2024-01-03T00:00:00",
          "2024-01-04T00:00:00",
          "2024-01-05T00:00:00",
          "2024-01-08T00:00:00",
          "2024-01-09T00:00:00",
          "2024-01-10T00:00:00",
          "2024-01-11T00:00:00",
          "2024-01-12T00:00:00",
          "2024-01-15T00:00:00",
          "2024-01-16T00:00:00",
          "2024-01-17T00:00:00",
          "2024-01-18T00:00:00",
          "2024-01-19T00:00:00",
          "2024-01-22T00:00:00",
          "2024-01-23T00:00:00",
          "2024-01-24T00:00:00",
          "2024-01-25T00:00:00",
          "2024-01-26T00:00:00",
          "2024-01-29T00:00:00",
          "2024-01-30T00:00:00",
          "2024-01-31T00:00:00",
          "2024-02-01T00:00:00",
          "2024-02-02T00:00:00",
          "2024-02-05T00:00:00",
          "2024-02-06T00:00:00",
          "2024-02-07T00:00:00",
          "2024-02-08T00:00:00",
          "2024-02-09T00:00:00",
          "2024-02-12T00:00:00",
          "2024-02-13T00:00:00",
          "2024-02-14T00:00:00",
          "2024-02-15T00:00:00",
          "2024-02-16T00:00:00",
          "2024-02-19T00:00:00",
          "2024-02-20T00:00:00",
          "2024-02-21T00:00:00",
          "2024-02-22T00:00:00",
          "2024-02-23T00:00:00",
          "2024-02-27T00:00:00",
          "2024-02-28T00:00:00",
          "2024-02-29T00:00:00",
          "2024-03-01T00:00:00",
          "2024-03-04T00:00:00",
          "2024-03-05T00:00:00",
          "2024-03-06T00:00:00",
          "2024-03-07T00:00:00",
          "2024-03-08T00:00:00",
          "2024-03-11T00:00:00",
          "2024-03-12T00:00:00",
          "2024-03-13T00:00:00",
          "2024-03-14T00:00:00",
          "2024-03-15T00:00:00",
          "2024-03-18T00:00:00",
          "2024-03-19T00:00:00",
          "2024-03-20T00:00:00",
          "2024-03-21T00:00:00",
          "2024-03-22T00:00:00",
          "2024-03-25T00:00:00",
          "2024-03-26T00:00:00",
          "2024-03-27T00:00:00",
          "2024-03-28T00:00:00",
          "2024-03-29T00:00:00",
          "2024-04-01T00:00:00",
          "2024-04-02T00:00:00",
          "2024-04-03T00:00:00",
          "2024-04-04T00:00:00",
          "2024-04-05T00:00:00",
          "2024-04-09T00:00:00",
          "2024-04-10T00:00:00",
          "2024-04-11T00:00:00",
          "2024-04-17T00:00:00",
          "2024-04-18T00:00:00",
          "2024-04-19T00:00:00",
          "2024-04-22T00:00:00",
          "2024-04-23T00:00:00",
          "2024-04-24T00:00:00",
          "2024-04-25T00:00:00",
          "2024-04-26T00:00:00",
          "2024-04-29T00:00:00",
          "2024-04-30T00:00:00",
          "2024-05-02T00:00:00",
          "2024-05-03T00:00:00",
          "2024-05-07T00:00:00",
          "2024-05-08T00:00:00",
          "2024-05-09T00:00:00",
          "2024-05-10T00:00:00",
          "2024-05-13T00:00:00",
          "2024-05-14T00:00:00",
          "2024-05-15T00:00:00",
          "2024-05-16T00:00:00",
          "2024-05-17T00:00:00",
          "2024-05-20T00:00:00",
          "2024-05-21T00:00:00",
          "2024-05-23T00:00:00",
          "2024-05-24T00:00:00",
          "2024-05-27T00:00:00",
          "2024-05-28T00:00:00",
          "2024-05-29T00:00:00",
          "2024-05-30T00:00:00",
          "2024-05-31T00:00:00",
          "2024-06-04T00:00:00",
          "2024-06-05T00:00:00",
          "2024-06-06T00:00:00",
          "2024-06-07T00:00:00",
          "2024-06-10T00:00:00",
          "2024-06-11T00:00:00",
          "2024-06-12T00:00:00",
          "2024-06-13T00:00:00",
          "2024-06-14T00:00:00",
          "2024-06-17T00:00:00",
          "2024-06-18T00:00:00",
          "2024-06-19T00:00:00",
          "2024-06-20T00:00:00",
          "2024-06-21T00:00:00",
          "2024-06-24T00:00:00",
          "2024-06-25T00:00:00",
          "2024-06-26T00:00:00",
          "2024-06-27T00:00:00",
          "2024-06-28T00:00:00",
          "2024-07-01T00:00:00",
          "2024-07-02T00:00:00",
          "2024-07-03T00:00:00",
          "2024-07-04T00:00:00",
          "2024-07-05T00:00:00",
          "2024-07-08T00:00:00",
          "2024-07-09T00:00:00",
          "2024-07-10T00:00:00",
          "2024-07-11T00:00:00",
          "2024-07-12T00:00:00",
          "2024-07-15T00:00:00",
          "2024-07-16T00:00:00",
          "2024-07-17T00:00:00",
          "2024-07-18T00:00:00",
          "2024-07-19T00:00:00",
          "2024-07-23T00:00:00",
          "2024-07-24T00:00:00",
          "2024-07-25T00:00:00",
          "2024-07-26T00:00:00",
          "2024-07-30T00:00:00",
          "2024-07-31T00:00:00",
          "2024-08-01T00:00:00",
          "2024-08-02T00:00:00",
          "2024-08-05T00:00:00",
          "2024-08-06T00:00:00",
          "2024-08-07T00:00:00",
          "2024-08-08T00:00:00",
          "2024-08-09T00:00:00",
          "2024-08-13T00:00:00",
          "2024-08-14T00:00:00",
          "2024-08-15T00:00:00",
          "2024-08-16T00:00:00",
          "2024-08-19T00:00:00",
          "2024-08-20T00:00:00",
          "2024-08-21T00:00:00",
          "2024-08-22T00:00:00",
          "2024-08-23T00:00:00",
          "2024-08-26T00:00:00",
          "2024-08-27T00:00:00",
          "2024-08-28T00:00:00",
          "2024-08-29T00:00:00",
          "2024-08-30T00:00:00",
          "2024-09-02T00:00:00",
          "2024-09-03T00:00:00",
          "2024-09-04T00:00:00",
          "2024-09-05T00:00:00",
          "2024-09-06T00:00:00",
          "2024-09-09T00:00:00",
          "2024-09-10T00:00:00",
          "2024-09-11T00:00:00",
          "2024-09-12T00:00:00",
          "2024-09-13T00:00:00",
          "2024-09-16T00:00:00",
          "2024-09-17T00:00:00",
          "2024-09-18T00:00:00",
          "2024-09-19T00:00:00",
          "2024-09-20T00:00:00",
          "2024-09-23T00:00:00",
          "2024-09-24T00:00:00",
          "2024-09-25T00:00:00",
          "2024-09-26T00:00:00",
          "2024-09-27T00:00:00",
          "2024-09-30T00:00:00",
          "2024-10-01T00:00:00",
          "2024-10-02T00:00:00",
          "2024-10-03T00:00:00",
          "2024-10-04T00:00:00",
          "2024-10-07T00:00:00",
          "2024-10-08T00:00:00",
          "2024-10-09T00:00:00",
          "2024-10-10T00:00:00",
          "2024-10-11T00:00:00",
          "2024-10-15T00:00:00",
          "2024-10-16T00:00:00",
          "2024-10-17T00:00:00",
          "2024-10-18T00:00:00",
          "2024-10-21T00:00:00",
          "2024-10-22T00:00:00",
          "2024-10-24T00:00:00",
          "2024-10-25T00:00:00",
          "2024-10-28T00:00:00",
          "2024-10-29T00:00:00",
          "2024-10-30T00:00:00",
          "2024-10-31T00:00:00",
          "2024-11-01T00:00:00",
          "2024-11-04T00:00:00",
          "2024-11-05T00:00:00",
          "2024-11-06T00:00:00",
          "2024-11-07T00:00:00",
          "2024-11-08T00:00:00",
          "2024-11-11T00:00:00",
          "2024-11-12T00:00:00",
          "2024-11-13T00:00:00",
          "2024-11-14T00:00:00",
          "2024-11-15T00:00:00",
          "2024-11-18T00:00:00",
          "2024-11-19T00:00:00",
          "2024-11-20T00:00:00",
          "2024-11-21T00:00:00",
          "2024-11-22T00:00:00",
          "2024-11-25T00:00:00",
          "2024-11-26T00:00:00",
          "2024-11-27T00:00:00",
          "2024-11-28T00:00:00",
          "2024-11-29T00:00:00",
          "2024-12-02T00:00:00",
          "2024-12-03T00:00:00",
          "2024-12-04T00:00:00",
          "2024-12-06T00:00:00",
          "2024-12-09T00:00:00",
          "2024-12-11T00:00:00",
          "2024-12-12T00:00:00",
          "2024-12-13T00:00:00",
          "2024-12-16T00:00:00",
          "2024-12-17T00:00:00",
          "2024-12-18T00:00:00",
          "2024-12-19T00:00:00",
          "2024-12-20T00:00:00",
          "2024-12-23T00:00:00",
          "2024-12-24T00:00:00",
          "2024-12-25T00:00:00",
          "2024-12-26T00:00:00",
          "2024-12-27T00:00:00",
          "2024-12-30T00:00:00",
          "2025-01-02T00:00:00",
          "2025-01-03T00:00:00",
          "2025-01-06T00:00:00",
          "2025-01-07T00:00:00",
          "2025-01-08T00:00:00",
          "2025-01-09T00:00:00",
          "2025-01-10T00:00:00",
          "2025-01-13T00:00:00",
          "2025-01-14T00:00:00",
          "2025-01-15T00:00:00",
          "2025-01-16T00:00:00",
          "2025-01-17T00:00:00",
          "2025-01-20T00:00:00",
          "2025-01-21T00:00:00",
          "2025-01-22T00:00:00",
          "2025-01-23T00:00:00",
          "2025-01-24T00:00:00",
          "2025-01-27T00:00:00",
          "2025-01-28T00:00:00",
          "2025-01-29T00:00:00",
          "2025-01-30T00:00:00",
          "2025-01-31T00:00:00",
          "2025-02-03T00:00:00",
          "2025-02-04T00:00:00",
          "2025-02-05T00:00:00",
          "2025-02-06T00:00:00",
          "2025-02-07T00:00:00",
          "2025-02-10T00:00:00",
          "2025-02-11T00:00:00",
          "2025-02-13T00:00:00",
          "2025-02-14T00:00:00",
          "2025-02-17T00:00:00",
          "2025-02-18T00:00:00",
          "2025-02-19T00:00:00",
          "2025-02-20T00:00:00",
          "2025-02-21T00:00:00",
          "2025-02-24T00:00:00",
          "2025-02-25T00:00:00",
          "2025-02-26T00:00:00",
          "2025-02-27T00:00:00",
          "2025-02-28T00:00:00",
          "2025-03-03T00:00:00",
          "2025-03-04T00:00:00",
          "2025-03-05T00:00:00",
          "2025-03-06T00:00:00",
          "2025-03-07T00:00:00",
          "2025-03-10T00:00:00",
          "2025-03-11T00:00:00",
          "2025-03-12T00:00:00",
          "2025-03-13T00:00:00",
          "2025-03-14T00:00:00",
          "2025-03-17T00:00:00",
          "2025-03-18T00:00:00",
          "2025-03-19T00:00:00",
          "2025-03-20T00:00:00",
          "2025-03-21T00:00:00",
          "2025-03-24T00:00:00",
          "2025-03-25T00:00:00",
          "2025-03-26T00:00:00",
          "2025-03-27T00:00:00",
          "2025-03-28T00:00:00",
          "2025-03-31T00:00:00",
          "2025-04-01T00:00:00",
          "2025-04-02T00:00:00",
          "2025-04-03T00:00:00",
          "2025-04-04T00:00:00",
          "2025-04-08T00:00:00",
          "2025-04-09T00:00:00",
          "2025-04-10T00:00:00",
          "2025-04-11T00:00:00",
          "2025-04-16T00:00:00",
          "2025-04-17T00:00:00",
          "2025-04-18T00:00:00",
          "2025-04-21T00:00:00",
          "2025-04-22T00:00:00",
          "2025-04-23T00:00:00",
          "2025-04-24T00:00:00",
          "2025-04-25T00:00:00",
          "2025-04-28T00:00:00",
          "2025-04-29T00:00:00",
          "2025-04-30T00:00:00",
          "2025-05-02T00:00:00",
          "2025-05-06T00:00:00",
          "2025-05-07T00:00:00",
          "2025-05-08T00:00:00",
          "2025-05-09T00:00:00",
          "2025-05-13T00:00:00",
          "2025-05-14T00:00:00",
          "2025-05-15T00:00:00",
          "2025-05-16T00:00:00",
          "2025-05-19T00:00:00",
          "2025-05-20T00:00:00",
          "2025-05-21T00:00:00",
          "2025-05-22T00:00:00",
          "2025-05-23T00:00:00",
          "2025-05-26T00:00:00",
          "2025-05-27T00:00:00",
          "2025-05-28T00:00:00",
          "2025-05-29T00:00:00",
          "2025-05-30T00:00:00",
          "2025-06-04T00:00:00",
          "2025-06-05T00:00:00",
          "2025-06-06T00:00:00",
          "2025-06-09T00:00:00",
          "2025-06-10T00:00:00",
          "2025-06-11T00:00:00",
          "2025-06-12T00:00:00",
          "2025-06-13T00:00:00",
          "2025-06-16T00:00:00",
          "2025-06-17T00:00:00",
          "2025-06-18T00:00:00",
          "2025-06-19T00:00:00",
          "2025-06-20T00:00:00",
          "2025-06-23T00:00:00",
          "2025-06-24T00:00:00",
          "2025-06-25T00:00:00",
          "2025-06-26T00:00:00",
          "2025-06-27T00:00:00",
          "2025-06-30T00:00:00",
          "2025-07-01T00:00:00",
          "2025-07-02T00:00:00",
          "2025-07-03T00:00:00",
          "2025-07-04T00:00:00",
          "2025-07-07T00:00:00",
          "2025-07-08T00:00:00",
          "2025-07-09T00:00:00",
          "2025-07-11T00:00:00",
          "2025-07-14T00:00:00",
          "2025-07-15T00:00:00",
          "2025-07-16T00:00:00",
          "2025-07-17T00:00:00",
          "2025-07-18T00:00:00",
          "2025-07-21T00:00:00",
          "2025-07-22T00:00:00",
          "2025-07-23T00:00:00",
          "2025-07-24T00:00:00",
          "2025-07-25T00:00:00",
          "2025-07-29T00:00:00",
          "2025-07-30T00:00:00",
          "2025-07-31T00:00:00",
          "2025-08-01T00:00:00",
          "2025-08-04T00:00:00",
          "2025-08-05T00:00:00",
          "2025-08-06T00:00:00",
          "2025-08-07T00:00:00",
          "2025-08-08T00:00:00",
          "2025-08-13T00:00:00",
          "2025-08-14T00:00:00",
          "2025-08-15T00:00:00",
          "2025-08-18T00:00:00",
          "2025-08-19T00:00:00",
          "2025-08-20T00:00:00",
          "2025-08-21T00:00:00",
          "2025-08-22T00:00:00",
          "2025-08-25T00:00:00",
          "2025-08-26T00:00:00",
          "2025-08-27T00:00:00",
          "2025-08-28T00:00:00",
          "2025-08-29T00:00:00",
          "2025-09-01T00:00:00",
          "2025-09-02T00:00:00",
          "2025-09-03T00:00:00",
          "2025-09-04T00:00:00",
          "2025-09-05T00:00:00",
          "2025-09-08T00:00:00",
          "2025-09-09T00:00:00",
          "2025-09-10T00:00:00",
          "2025-09-11T00:00:00",
          "2025-09-12T00:00:00",
          "2025-09-15T00:00:00",
          "2025-09-16T00:00:00",
          "2025-09-17T00:00:00",
          "2025-09-18T00:00:00",
          "2025-09-19T00:00:00",
          "2025-09-22T00:00:00",
          "2025-09-23T00:00:00",
          "2025-09-24T00:00:00",
          "2025-09-25T00:00:00",
          "2025-09-26T00:00:00",
          "2025-09-29T00:00:00",
          "2025-09-30T00:00:00",
          "2025-10-01T00:00:00",
          "2025-10-02T00:00:00",
          "2025-10-03T00:00:00",
          "2025-10-06T00:00:00",
          "2025-10-07T00:00:00",
          "2025-10-08T00:00:00",
          "2025-10-09T00:00:00",
          "2025-10-10T00:00:00",
          "2025-10-14T00:00:00",
          "2025-10-15T00:00:00",
          "2025-10-16T00:00:00",
          "2025-10-17T00:00:00"
         ],
         "y": {
          "bdata": "AAAAAAAAAAAAAAAAAAAAAAAAAAAAAAAAAAAAAAAAAAAAAAAAAAAAAAAAAAAAAAAAAAAAAAAAAAAAAAAAAAAAAAAAAAAAAAAAAAAAAAAAAAAAAAAAAAAAAAAAAAAAAAAAAAAAAAAAAAAAAAAAAAAAAAAAAAAAAAAAAAAAAAAAAAAAAAAAAAAAAAAAAAAAAAAAAAAAAAAAAAAAAAAAAAAAAAAAAAAAAAAAAAAAAAAAAAAAAAAAAAAAAAAAAAAAAAAAAAAAAAAAAAAAAAAAAAAAAAAAAAAAAAAAAAAAAAAAAAAAAAAAAAAAAAAAAAAAAAAAAAAAAAAAAAAAAAAAAAAAAAAAAAAAAAAAAAAAAAAAAAAAAAAAAAAAAAAAAAAAAAAAAAAAAAAAAAAAAAAAAAAAAAAAAAAAAAAAAAAAAAAAAAAAAAAAAAAAAAAAAAAAAAAAAAAAAAAAAAAAAAAAAAAAAAAAAAAAAAAAAAAAAAAAAAAAAAAAAAAAAAAAAAAAAAAAAAAAAAAAAAAAAAAAAAAAAAAAAAAAAAAAAAAAAAAAAAAAAAAAAAAAAAAAAAAAAAAAAAAAAAAAAAAAAAAAAAAAAAAAAAAAAAAAAAAAAAAAAAAAAAAAAAAAAAAAAAAAAAAAAAAAAAAAAAAAAAAAAAAAAAAAAAAAAAAAAAAAAAAAAAAAAAAAAAAAAAAAAAAAAAAAAAAAAAAAAAAAAAAAAAAAAAAAAAAAAAAAAAAAAAAAAAAAAAAAAAAAAAAAAAAAAAAAAAAAAAAAAAAAAAAAAAAAAAAAAAAAAAAAAAAAAAAAAAAAAAAAAAAAAAAAAAAAAAAAAAAAAAAAAAAAAAAAAAAAAAAAAAAAAAAAAAAAAAAAAAAAAAAAAAAAAAAAAAAAAAAAAAAAAAAAAAAAAAAAAAAAAAAAAAAAAAAAAAAAAAAAAAAAAAAAAAAAAAAAAAAAAAAAAAAAAAAAAAAAAAAAAAAAAAAAAAAAAAAAAAAAAAAAAAAAAAAAAAAAAAAAAAAAAAAAAAAAAAAAAAAAAAAAAAAAAAAAAAAAAAAAAAAAAAAAAAAAAAAAAAAAAAAAAAAAAAAAAAAAAAAAAAAAAAAAAAAAAAAAAAAAAAAAAAAAAAAAAAAAAAAAAAAAAAAAAAAAAAAAAAAAAAAAAAAAAAAAAAAAAAAAAAAAAAAAAAAAAAAAAAAAAAAAAAAAAAAAAAAAAAAAAAAAAAAAAAAAAAAAAAAAAAAAAAAAAAAAAAAAAAAAAAAAAAAAAAAAAAAAAAAAAAAAAAAAAAAAAAAAAAAAAAAAAAAAAAAAAAAAAAAAAAAAAAAAAAAAAAAAAAAAAAAAAAAAAAAAAAAAAAAAAAAAAAAAAAAAAAAAAAAAAAAAAAAAAAAAAAAAAAAAAAAAAAAAAAAAAAAAAAAAAAAAAAAAAAAAAAAAAAAAAAAAAAAAAAAAAAAAAAAAAAAAAAAAAAAAAAAAAAAAAAAAAAAAAAAAAAAAAAAAAAAAAAAAAAAAAAAAAAAAAAAAAAAAAAAAAAAAAAAAAAAAAAAAAAAAAAAAAAAAAAAAAAAAAAAAAAAAAAAAAAAAAAAAAAAAAAAAAAAAAAAAAAAAAAAAAAAAAAAAAAAAAAAAAAAAAAAAAAAAAAAAAAAAAAAAAAAAAAAAAAAAAAAAAAAAAAAAAAAAAAAAAAAAAAAAAAAAAAAAAAAAAAAAAAAAAAAAAAAAAAAAAAAAAAAAAAAAAAAAAAAAAAAAAAAAAAAAAAAAAAAAAAAAAAAAAAAAAAAAAAAAAAAAAAAAAAAAAAAAAAAAAAAAAAAAAAAAAAAAAAAAAAAAAAAAAAAAAAAAAAAAAAAAAAAAAAAAAAAAAAAAAAAAAAAAAAAAAAAAAAAAAAAAAAAAAAAAAAAAAAAAAAAAAAAAAAAAAAAAAAAAAAAAAAAAAAAAAAAAAAAAAAAAAAAAAAAAAAAAAAAAAAAAAAAAAAAAAAAAAAAAAAAAAAAAAAAAAAAAAAAAAAAAAAAAAAAAAAAAAAAAAAAAAAAAAAAAAAAAAAAAAAAAAAAAAAAAAAAAAAAAAAAAAAAAAAAAAAAAAAAAAAAAAAAAAAAAAAAAAAAAAAAAAAAAAAAAAAAAAAAAAAAAAAAAAAAAAAAAAAAAAAAAAAAAAAAAAAAAAAAAAAAAAAAAAAAAAAAAAAAAAAAAAAAAAAAAAAAAAAAAAAAAAAAAAAAAAAAAAAAAAAAAAAAAAAAAAAAAAAAAAAAAAAAAAAAAAAAAAAAAAAAAAAAAAAAAAAAAAAAAAAAAAAAAAAAAAAAAAAAAAAAAAAAAAAAAAAAAAAAAAAAAAAAAAAAAAAAAAAAAAAAAAAAAAAAAAAAAAAAAAAAAAAAAAAAAAAAAAAAAAAAAAAAAAAAAAAAAAAAAAAAAAAAAAAAAAAAAAAAAAAAAAAAAAAAAAAAAAAAAAAAAAAAAAAAAAAAAAAAAAAAAAAAAAAAAAAAAAAAAAAAAAAAAAAAAAAAAAAAAAAAAAAAAAAAAAAAAAAAAAAAAAAAAAAAAAAAAAAAAAAAAAAAAAAAAAAAAAAAAAAAAAAAAAAAAAAAAAAAAAAAAAAAAAAAAAAAAAAAAAAAAAAAAAAAAAAAAAAAAAAAAAAAAAAAAAAAAAAAAAAAAAAAAAAAAAAAAAAAAAAAAAAAAAAAAAAAAAAAAAAAAAAAAAAAAAAAAAAAAAAAAAAAAAAAAAAAAAAAAAAAAAAAAAAAAAAAAAAAAAAAAAAAAAAAAAAAAAAAAAAAAAAAAAAAAAAAAAAAAAAAAAAAAAAAAAAAAAAAAAAAAAAAAAAAAAAAAAAAAAAAAAAAAAAAAAAAAAAAAAAAAAAAAAAAAAAAAAAAAAAAAAAAAAAAAAAAAAAAAAAAAAAAAAAAAAAAAAAAAAAAAAAAAAAAAAAAAAAAAAAAAAAAAAAAAAAAAAAAAAAAAAAAAAAAAAAAAAAAAAAAAAAAAAAAAAAAAAAAAAAAAAAAAAAAAAAAAAAAAAAAAAAAAAAAAAAAAAAAAAAAAAAAAAAAAAAAAAAAAAAAAAAAAAAAAAAAAAAAAAAAAAAAAAAAAAAAAAAAAAAAAAAAAAAAAAAAAAAAAAAAAAAAAAAAAAAAAAAAAAAAAAAAAAAAAAAAAAAAAAAAAAAAAAAAAAAAAAAAAAAAAAAAAAAAAAAAAAAAAAAAAAAAAAAAAAAAAAAAAAAAAAAAAAAAAAAAAAAAAAAAAAAAAAAAAAAAAAAAAAAAAAAAAAAAAAAAAAAAAAAAAAAAAAAAAAAAAAAAAAAAAAAAAAAAAAAAAAAAAAAAAAAAAAAAAAAAAAAAAAAAAAAAAAAAAAAAAAAAAAAAAAAAAAAAAAAAAAAAAAAAAAAAAAAAAAAAAAAAAAAAAAAAAAAAAAAAAAAAAAAAAAAAAAAAAAAAAAAAAAAAAAAAAAAAAAAAAAAAAAAAAAAAAAAAAAAAAAAAAAAAAAAAAAAAAAAAAAAAAAAAAAAAAAAAAAAAAAAAAAAAAAAAAAAAAAAAAAAAAAAAAAAAAAAAAAAAAAAAAAAAAAAAAAAAAAAAAAAAAAAAAAAAAAAAAAAAAAAAAAAAAAAAAAAAAAAAAAAAAAAAAAAAAAAAAAAAAAAAAAAAAAAAAAAAAAAAAAAAAAAAAAAAAAAAAAAAAAAAAAAAAAAAAAAAAAAAAAAAAAAAAAAAAAAAAAAAAAAAAAAAAAAAAAAAAAAAAAAAAAAAAAAAAAAAAAAAAAAAAAAAAAAAAAAAAAAAAAAAAAAAAAAAAAAAAAAAAAAAAAAAAAAAAAAAAAAAAAAAAAAAAAAAAAAAAAAAAAAAAAAAAAAAAAAAAAAAAAAAAAAAAAAAAAAAAAAAAAAAAAAAAAAAAAAAAAAAAAAAAAAAAAAAAAAAAAAAAAAAAAAAAAAAAAAAAAAAAAAAAAAAAAAAAAAAAAAAAAAAAAAAAAAAAAAAAAAAAAAAAAAAAAAAAAAAAAAAAAAAAAAAAAAAAAAAAAAAAAAAAAAAAAAAAAAAAAAAAAAAAAAAAAAAAAAAAAAAAAAAAAAAAAAAAAAAAAAAAAAAAAAAAAAAAAAAAAAAAAAAAAAAAAAAAAAAAAAAAAAAAAAAAAAAAAAAAAAAAAAAAAAAAAAAAAAAAAAAAAAAAAAAAAAAAAAAAAAAAAAAAAAAAAAAAAAAAAAAAAAAAAAAAAAAAAAAAAAAAAAAAAAAAAAAAAAAAAAAAAAAAAAAAAAAAAAAAAAAAAAAAAAAAAAAAAAAAAAAAAAAAAAAAAAAAAAAAAAAAAAAAAAAAAAAAAAAAAAAAAAAAAAAAAAAAAAAAAAAAAAAAAAAAAAAAAAAAAAAAAAAAAAAAAAAAAAAAAAAAAAAAAAAAAAAAAAAAAAAAAAAAAAAAAAAAAAAAAAAAAAAAAAAAAAAAAAAAAAAAAAAAAAAAAAAAAAAAAAAAAAAAAAAAAAAAAAAAAAAAAAAAAAAAAAAAAAAAAAAAAAAAAAAAAAAAAAAAAAAAAAAAAAAAAAAAAAAAAAAAAAAAAAAAAAAAAAAAAAAAAAAAAAAAAAAAAAAAAAAAAAAAAAAAAAAAAAAAAAAAAAAAAAAAAAAAAAAAAAAAAAAAAAAAAAAAAAAAAAAAAAAAAAAAAAAAAAAAAAAAAAAAAAAAAAAAAAAAAAAAAAAAAAAAAAAAAAAAAAAAAAAAAAAAAAAAAAAAAAAAAAAAAAAAAAAAAAAAAAAAAAAAAAAAAAAAAAAAAAAAAAAAAAAAAAAAAAAAAAAAAAAAAAAAAAAAAAAAAAAAAAAAAAAAAAAAAAAAAAAAAAAAAAAAAAAAAAAAAAAAAAAAAAAAAAAAAAAAAAAAAAAAAAAAAAAAAAAAAAAAAAAAAAAAAAAAAAAAAAAAAAAAAAAAAAAAAAAAAAAAAAAAAAAAAAAAAAAAAAAAAAAAAAAAAAAAAAAAAAAAAAAAAAAAAAAAAAAAAAAAAAAAAAAAAAAAAAAAAAAAAAAAAAAAAAAAAAAAAAAAAAAAAAAAAAAAAAAAAAAAAAAAAAAAAAAAAAAAAAAAAAAAAAAAAAAAAAAAAAAAAAAAAAAAAAAAAAAAAAAAAAAAAAAAAAAAAAAAAAAAAAAAAAAAAAAAAAAAAAAAAAAAAAAAAAAAAAAAAAAAAAAAAAAAAAAAAAAAAAAAAAAAAAAAAAAAAAAAAAAAAAAAAAAAAAAAAAAAAAAAAAAAAAAAAAAAAAAAAAAAAAAAAAAAAAAAAAAAAAAAAAAAAAAAAAAAAAAAAAAAAAAAAAAAAAAAAAAAAAAAAAAAAAAAAAAAAAAAAAAAAAAAAAAAAAAAAAAAAAAAAAAAAAAAAAAAAAAAAAAAAAAAAAAAAAAAAAAAAAAAAAAAAAAAAAAAAAAAAAAAAAAAAAAAAAAAAAAAAAAAAAAAAAAAAAAAAAAAAAAAAAAAAAAAAAAAAAAAAAAAAAAAAAAAAAAAAAAAAAAAAAAAAAAAAAAAAAAAAAAAAAAAAAAAAAAAAAAAAAAAAAAAAAAAAAAAAAAAAAAAAAAAAAAAAAAAAAAAAAAAAAAAAAAAAAAAAAAAAAAAAAAAAAAAAAAAAAAAAAAAAAAAAAAAAAAAAAAAAAAAAAAAAAAAAAAAAAAAAAAAAAAAAAAAAAAAAAAAAAAAAAAAAAAAAAAAAAAAAAAAAAAAAAAAAAAAAAAAAAAAAAAAAAAAAAAAAAAAAAAAAAAAAAAAAAAAAAAAAAAAAAAAAAAAAAAAAAAAAAAAAAAAAAAAAAAAAAAAAAAAAAAAAAAAAAAAAAAAAAAAAAAAAAAAAAAAAAAAAAAAAAAAAAAAAAAAAAAAAAAAAAAAAAAAAAAAAAAAAAAAAAAAAAAAAAAAAAAAAAAAAAAAAAAAAAAAAAAAAAAAAAAAAAAAAAAAAAAAAAAAAAAAAAAAAAAAAAAAAAAAAAAAAAAAAAAAAAAAAAAAAAAAAAAAAAAAAAAAAAAAAAAAAAAAAAAAAAAAAAAAAAAAAAAAAAAAAAAAAAAAAAAAAAAAAAAAAAAAAAAAAAAAAAAAAAAAAAAAAAAAAAAAAAAAAAAAAAAAAAAAAAAAAAAAAAAAAAAAAAAAAAAAAAAAAAAAAAAAAAAAAAAAAAAAAAAAAAAAAAAAAAAAAAAAAAAAAAAAAAAAAAAAAAAAAAAAAAAAAAAAAAAAAAAAAAAAAAAAAAAAAAAAAAAAAAAAAAAAAAAAAAAAAAAAAAAAAAAAAAAAAAAAAAAAAAAAAAAAAAAAAAAAAAAAAAAAAAAAAAAAAAAAAAAAAAAAAAAAAAAAAAAAAAAAAAAAAAAAAAAAAAAAAAAAAAAAAAAAAAAAAAAAAAAAAAAAAAAAAAAAAAAAAAAAAAAAAAAAAAAAAAAAAAAAAAAAAAAAAAAAAAAAAAAAAAAAAAAAAAAAAAAAAAAAAAAAAAAAAAAAAAAAAAAAAAAAAAAAAAAAAAAAAAAAAAAAAAAAAAAAAAAAAAAAAAAAAAAAAAAAAAAAAAAAAAAAAAAAAAAAAAAAAAAAAAAAAAAAAAAAAAAAAAAAAAAAAAAAAAAAAAAAAAAAAAAAAAAAAAAAAAAAAAAAAAAAAAAAAAAAAAAAAAAAAAAAAAAAAAAAAAAAAAAAAAAAAAAAAAAAAAAAAAAAAAAAAAAAAAAAAAAAAAAAAAAAAAAAAAAAAAAAAAAAAAAAAAAAAAAAAAAAAAAAAAAAAAAAAAAAAAAAAAAAAAAAAAAAAAAAAAAAAAAAAAAAAAAAAAAAAAAAAAAAAAAAAAAAAAAAAAAAAAAAAAAAAAAAAAAAAAAAAAAAAAAAAAAAAAAAAAAAAAAAAAAAAAAAAAAAAAAAAAAAAAAAAAAAAAAAAAAAAAAAAAAAAAAAAAAAAAAAAAAAAAAAAAAAAAAAAAAAAAAAAAAAAAAAAAAAAAAAAAAAAAAAAAAAAAAAAAAAAAAAAAAAAAAAAAAAAAAAAAAAAAAAAAAAAAAAAAAAAAAAAAAAAAAAAAAAAAAAAAAAAAAAAAAAAAAAAAAAAAAAAAAAAAAAAAAAAAAAAAAAAAAAAAAAAAAAAAAAAAAAAAAAAAAAAAAAAAAAAAAAAAAAAAAAAAAAAAAAAAAAAAAAAAAAAAAAAAAAAAAAAAAAAAAAAAAAAAAAAAAAAAAAAAAAAAAAAAAAAAAAAAAAAAAAAAAAAAAAAAAAAAAAAAAAAAAAAAAAAAAAAAAAAAAAAAAAAAAAAAAAAAAAAAAAAAAAAAAAAAAAAAAAAAAAAAAAAAAAAAAAAAAAAAAAAAAAAAAAAAAAAAAAAAAAAAAAAAAAAAAAAAAAAAAAAAAAAAAAAAAAAAAAAAAAAAAAAAAAAAAAAAAAAAAAAAAAAAAAAAAAAAAAAAAAAAAAAAAAAAAAAAAAAAAAAAAAAAAAAAAAAAAAAAAAAAAAAAAAAAAAAAAAAAAAAAAAAAAAAAAAAAAAAAAAAAAAAAAAAAAAAAAAAAAAAAAAAAAAAAAAAAAAAAAAAAAAAAAAAAAAAAAAAAAAAAAAAAAAAAAAAAAAAAAAAAAAAAAAAAAAAAAAAAAAAAAAAAAAAAAAAAAAAAAAAAAAAAAAAAAAAAAAAAAAAAAAAAAAAAAAAAAAAAAAAAAAAAAAAAAAAAAAAAAAAAAAAAAAAAAAAAAAAAAAAAAAAAAAAAAAAAAAAAAAAAAAAAAAAAAAAAAAAAAAAAAAAAAAAAAAAAAAAAAAAAAAAAAAAAAAAAAAAAAAAAAAAAAAAAAAAAAAAAAAAAAAAAAAAAAAAAAAAAAAAAAAAAAAAAAAAAAAAAAAAAAAAAAAAAAAAAAAAAAAAAAAAAAAACDZtL5B",
          "dtype": "f8"
         },
         "yaxis": "y2"
        }
       ],
       "layout": {
        "height": 600,
        "template": {
         "data": {
          "bar": [
           {
            "error_x": {
             "color": "#2a3f5f"
            },
            "error_y": {
             "color": "#2a3f5f"
            },
            "marker": {
             "line": {
              "color": "white",
              "width": 0.5
             },
             "pattern": {
              "fillmode": "overlay",
              "size": 10,
              "solidity": 0.2
             }
            },
            "type": "bar"
           }
          ],
          "barpolar": [
           {
            "marker": {
             "line": {
              "color": "white",
              "width": 0.5
             },
             "pattern": {
              "fillmode": "overlay",
              "size": 10,
              "solidity": 0.2
             }
            },
            "type": "barpolar"
           }
          ],
          "carpet": [
           {
            "aaxis": {
             "endlinecolor": "#2a3f5f",
             "gridcolor": "#C8D4E3",
             "linecolor": "#C8D4E3",
             "minorgridcolor": "#C8D4E3",
             "startlinecolor": "#2a3f5f"
            },
            "baxis": {
             "endlinecolor": "#2a3f5f",
             "gridcolor": "#C8D4E3",
             "linecolor": "#C8D4E3",
             "minorgridcolor": "#C8D4E3",
             "startlinecolor": "#2a3f5f"
            },
            "type": "carpet"
           }
          ],
          "choropleth": [
           {
            "colorbar": {
             "outlinewidth": 0,
             "ticks": ""
            },
            "type": "choropleth"
           }
          ],
          "contour": [
           {
            "colorbar": {
             "outlinewidth": 0,
             "ticks": ""
            },
            "colorscale": [
             [
              0,
              "#0d0887"
             ],
             [
              0.1111111111111111,
              "#46039f"
             ],
             [
              0.2222222222222222,
              "#7201a8"
             ],
             [
              0.3333333333333333,
              "#9c179e"
             ],
             [
              0.4444444444444444,
              "#bd3786"
             ],
             [
              0.5555555555555556,
              "#d8576b"
             ],
             [
              0.6666666666666666,
              "#ed7953"
             ],
             [
              0.7777777777777778,
              "#fb9f3a"
             ],
             [
              0.8888888888888888,
              "#fdca26"
             ],
             [
              1,
              "#f0f921"
             ]
            ],
            "type": "contour"
           }
          ],
          "contourcarpet": [
           {
            "colorbar": {
             "outlinewidth": 0,
             "ticks": ""
            },
            "type": "contourcarpet"
           }
          ],
          "heatmap": [
           {
            "colorbar": {
             "outlinewidth": 0,
             "ticks": ""
            },
            "colorscale": [
             [
              0,
              "#0d0887"
             ],
             [
              0.1111111111111111,
              "#46039f"
             ],
             [
              0.2222222222222222,
              "#7201a8"
             ],
             [
              0.3333333333333333,
              "#9c179e"
             ],
             [
              0.4444444444444444,
              "#bd3786"
             ],
             [
              0.5555555555555556,
              "#d8576b"
             ],
             [
              0.6666666666666666,
              "#ed7953"
             ],
             [
              0.7777777777777778,
              "#fb9f3a"
             ],
             [
              0.8888888888888888,
              "#fdca26"
             ],
             [
              1,
              "#f0f921"
             ]
            ],
            "type": "heatmap"
           }
          ],
          "histogram": [
           {
            "marker": {
             "pattern": {
              "fillmode": "overlay",
              "size": 10,
              "solidity": 0.2
             }
            },
            "type": "histogram"
           }
          ],
          "histogram2d": [
           {
            "colorbar": {
             "outlinewidth": 0,
             "ticks": ""
            },
            "colorscale": [
             [
              0,
              "#0d0887"
             ],
             [
              0.1111111111111111,
              "#46039f"
             ],
             [
              0.2222222222222222,
              "#7201a8"
             ],
             [
              0.3333333333333333,
              "#9c179e"
             ],
             [
              0.4444444444444444,
              "#bd3786"
             ],
             [
              0.5555555555555556,
              "#d8576b"
             ],
             [
              0.6666666666666666,
              "#ed7953"
             ],
             [
              0.7777777777777778,
              "#fb9f3a"
             ],
             [
              0.8888888888888888,
              "#fdca26"
             ],
             [
              1,
              "#f0f921"
             ]
            ],
            "type": "histogram2d"
           }
          ],
          "histogram2dcontour": [
           {
            "colorbar": {
             "outlinewidth": 0,
             "ticks": ""
            },
            "colorscale": [
             [
              0,
              "#0d0887"
             ],
             [
              0.1111111111111111,
              "#46039f"
             ],
             [
              0.2222222222222222,
              "#7201a8"
             ],
             [
              0.3333333333333333,
              "#9c179e"
             ],
             [
              0.4444444444444444,
              "#bd3786"
             ],
             [
              0.5555555555555556,
              "#d8576b"
             ],
             [
              0.6666666666666666,
              "#ed7953"
             ],
             [
              0.7777777777777778,
              "#fb9f3a"
             ],
             [
              0.8888888888888888,
              "#fdca26"
             ],
             [
              1,
              "#f0f921"
             ]
            ],
            "type": "histogram2dcontour"
           }
          ],
          "mesh3d": [
           {
            "colorbar": {
             "outlinewidth": 0,
             "ticks": ""
            },
            "type": "mesh3d"
           }
          ],
          "parcoords": [
           {
            "line": {
             "colorbar": {
              "outlinewidth": 0,
              "ticks": ""
             }
            },
            "type": "parcoords"
           }
          ],
          "pie": [
           {
            "automargin": true,
            "type": "pie"
           }
          ],
          "scatter": [
           {
            "fillpattern": {
             "fillmode": "overlay",
             "size": 10,
             "solidity": 0.2
            },
            "type": "scatter"
           }
          ],
          "scatter3d": [
           {
            "line": {
             "colorbar": {
              "outlinewidth": 0,
              "ticks": ""
             }
            },
            "marker": {
             "colorbar": {
              "outlinewidth": 0,
              "ticks": ""
             }
            },
            "type": "scatter3d"
           }
          ],
          "scattercarpet": [
           {
            "marker": {
             "colorbar": {
              "outlinewidth": 0,
              "ticks": ""
             }
            },
            "type": "scattercarpet"
           }
          ],
          "scattergeo": [
           {
            "marker": {
             "colorbar": {
              "outlinewidth": 0,
              "ticks": ""
             }
            },
            "type": "scattergeo"
           }
          ],
          "scattergl": [
           {
            "marker": {
             "colorbar": {
              "outlinewidth": 0,
              "ticks": ""
             }
            },
            "type": "scattergl"
           }
          ],
          "scattermap": [
           {
            "marker": {
             "colorbar": {
              "outlinewidth": 0,
              "ticks": ""
             }
            },
            "type": "scattermap"
           }
          ],
          "scattermapbox": [
           {
            "marker": {
             "colorbar": {
              "outlinewidth": 0,
              "ticks": ""
             }
            },
            "type": "scattermapbox"
           }
          ],
          "scatterpolar": [
           {
            "marker": {
             "colorbar": {
              "outlinewidth": 0,
              "ticks": ""
             }
            },
            "type": "scatterpolar"
           }
          ],
          "scatterpolargl": [
           {
            "marker": {
             "colorbar": {
              "outlinewidth": 0,
              "ticks": ""
             }
            },
            "type": "scatterpolargl"
           }
          ],
          "scatterternary": [
           {
            "marker": {
             "colorbar": {
              "outlinewidth": 0,
              "ticks": ""
             }
            },
            "type": "scatterternary"
           }
          ],
          "surface": [
           {
            "colorbar": {
             "outlinewidth": 0,
             "ticks": ""
            },
            "colorscale": [
             [
              0,
              "#0d0887"
             ],
             [
              0.1111111111111111,
              "#46039f"
             ],
             [
              0.2222222222222222,
              "#7201a8"
             ],
             [
              0.3333333333333333,
              "#9c179e"
             ],
             [
              0.4444444444444444,
              "#bd3786"
             ],
             [
              0.5555555555555556,
              "#d8576b"
             ],
             [
              0.6666666666666666,
              "#ed7953"
             ],
             [
              0.7777777777777778,
              "#fb9f3a"
             ],
             [
              0.8888888888888888,
              "#fdca26"
             ],
             [
              1,
              "#f0f921"
             ]
            ],
            "type": "surface"
           }
          ],
          "table": [
           {
            "cells": {
             "fill": {
              "color": "#EBF0F8"
             },
             "line": {
              "color": "white"
             }
            },
            "header": {
             "fill": {
              "color": "#C8D4E3"
             },
             "line": {
              "color": "white"
             }
            },
            "type": "table"
           }
          ]
         },
         "layout": {
          "annotationdefaults": {
           "arrowcolor": "#2a3f5f",
           "arrowhead": 0,
           "arrowwidth": 1
          },
          "autotypenumbers": "strict",
          "coloraxis": {
           "colorbar": {
            "outlinewidth": 0,
            "ticks": ""
           }
          },
          "colorscale": {
           "diverging": [
            [
             0,
             "#8e0152"
            ],
            [
             0.1,
             "#c51b7d"
            ],
            [
             0.2,
             "#de77ae"
            ],
            [
             0.3,
             "#f1b6da"
            ],
            [
             0.4,
             "#fde0ef"
            ],
            [
             0.5,
             "#f7f7f7"
            ],
            [
             0.6,
             "#e6f5d0"
            ],
            [
             0.7,
             "#b8e186"
            ],
            [
             0.8,
             "#7fbc41"
            ],
            [
             0.9,
             "#4d9221"
            ],
            [
             1,
             "#276419"
            ]
           ],
           "sequential": [
            [
             0,
             "#0d0887"
            ],
            [
             0.1111111111111111,
             "#46039f"
            ],
            [
             0.2222222222222222,
             "#7201a8"
            ],
            [
             0.3333333333333333,
             "#9c179e"
            ],
            [
             0.4444444444444444,
             "#bd3786"
            ],
            [
             0.5555555555555556,
             "#d8576b"
            ],
            [
             0.6666666666666666,
             "#ed7953"
            ],
            [
             0.7777777777777778,
             "#fb9f3a"
            ],
            [
             0.8888888888888888,
             "#fdca26"
            ],
            [
             1,
             "#f0f921"
            ]
           ],
           "sequentialminus": [
            [
             0,
             "#0d0887"
            ],
            [
             0.1111111111111111,
             "#46039f"
            ],
            [
             0.2222222222222222,
             "#7201a8"
            ],
            [
             0.3333333333333333,
             "#9c179e"
            ],
            [
             0.4444444444444444,
             "#bd3786"
            ],
            [
             0.5555555555555556,
             "#d8576b"
            ],
            [
             0.6666666666666666,
             "#ed7953"
            ],
            [
             0.7777777777777778,
             "#fb9f3a"
            ],
            [
             0.8888888888888888,
             "#fdca26"
            ],
            [
             1,
             "#f0f921"
            ]
           ]
          },
          "colorway": [
           "#636efa",
           "#EF553B",
           "#00cc96",
           "#ab63fa",
           "#FFA15A",
           "#19d3f3",
           "#FF6692",
           "#B6E880",
           "#FF97FF",
           "#FECB52"
          ],
          "font": {
           "color": "#2a3f5f"
          },
          "geo": {
           "bgcolor": "white",
           "lakecolor": "white",
           "landcolor": "white",
           "showlakes": true,
           "showland": true,
           "subunitcolor": "#C8D4E3"
          },
          "hoverlabel": {
           "align": "left"
          },
          "hovermode": "closest",
          "mapbox": {
           "style": "light"
          },
          "paper_bgcolor": "white",
          "plot_bgcolor": "white",
          "polar": {
           "angularaxis": {
            "gridcolor": "#EBF0F8",
            "linecolor": "#EBF0F8",
            "ticks": ""
           },
           "bgcolor": "white",
           "radialaxis": {
            "gridcolor": "#EBF0F8",
            "linecolor": "#EBF0F8",
            "ticks": ""
           }
          },
          "scene": {
           "xaxis": {
            "backgroundcolor": "white",
            "gridcolor": "#DFE8F3",
            "gridwidth": 2,
            "linecolor": "#EBF0F8",
            "showbackground": true,
            "ticks": "",
            "zerolinecolor": "#EBF0F8"
           },
           "yaxis": {
            "backgroundcolor": "white",
            "gridcolor": "#DFE8F3",
            "gridwidth": 2,
            "linecolor": "#EBF0F8",
            "showbackground": true,
            "ticks": "",
            "zerolinecolor": "#EBF0F8"
           },
           "zaxis": {
            "backgroundcolor": "white",
            "gridcolor": "#DFE8F3",
            "gridwidth": 2,
            "linecolor": "#EBF0F8",
            "showbackground": true,
            "ticks": "",
            "zerolinecolor": "#EBF0F8"
           }
          },
          "shapedefaults": {
           "line": {
            "color": "#2a3f5f"
           }
          },
          "ternary": {
           "aaxis": {
            "gridcolor": "#DFE8F3",
            "linecolor": "#A2B1C6",
            "ticks": ""
           },
           "baxis": {
            "gridcolor": "#DFE8F3",
            "linecolor": "#A2B1C6",
            "ticks": ""
           },
           "bgcolor": "white",
           "caxis": {
            "gridcolor": "#DFE8F3",
            "linecolor": "#A2B1C6",
            "ticks": ""
           }
          },
          "title": {
           "x": 0.05
          },
          "xaxis": {
           "automargin": true,
           "gridcolor": "#EBF0F8",
           "linecolor": "#EBF0F8",
           "ticks": "",
           "title": {
            "standoff": 15
           },
           "zerolinecolor": "#EBF0F8",
           "zerolinewidth": 2
          },
          "yaxis": {
           "automargin": true,
           "gridcolor": "#EBF0F8",
           "linecolor": "#EBF0F8",
           "ticks": "",
           "title": {
            "standoff": 15
           },
           "zerolinecolor": "#EBF0F8",
           "zerolinewidth": 2
          }
         }
        },
        "title": {
         "text": "📈 AOT - Candlestick Chart with Volume"
        },
        "xaxis": {
         "rangeslider": {
          "visible": false
         }
        },
        "yaxis": {
         "title": {
          "text": "Price"
         }
        },
        "yaxis2": {
         "overlaying": "y",
         "showgrid": false,
         "side": "right",
         "title": {
          "text": "Volume"
         }
        }
       }
      }
     },
     "metadata": {},
     "output_type": "display_data"
    }
   ],
   "source": [
    "import plotly.graph_objects as go\n",
    "\n",
    "# ✅ สร้างกราฟ Candlestick\n",
    "fig = go.Figure()\n",
    "\n",
    "# 🔹 แท่งเทียนราคา\n",
    "fig.add_trace(go.Candlestick(\n",
    "    x=df['time'],\n",
    "    open=df['open_price'],\n",
    "    high=df['high_price'],\n",
    "    low=df['low_price'],\n",
    "    close=df['close_price'],\n",
    "    name=stock\n",
    "))\n",
    "\n",
    "# 🔹 Volume bar (แถบปริมาณการซื้อขาย)\n",
    "fig.add_trace(go.Bar(\n",
    "    x=df['time'],\n",
    "    y=df['volume'],\n",
    "    marker_color='rgba(128,128,128,0.3)',\n",
    "    yaxis='y2',\n",
    "    name='Volume'\n",
    "))\n",
    "\n",
    "# ✅ ปรับ layout ให้เหมือน TradingView\n",
    "fig.update_layout(\n",
    "    title=f'📈 {stock} - Candlestick Chart with Volume',\n",
    "    xaxis_rangeslider_visible=False,\n",
    "    yaxis=dict(title='Price'),\n",
    "    yaxis2=dict(\n",
    "        title='Volume',\n",
    "        overlaying='y',\n",
    "        side='right',\n",
    "        showgrid=False\n",
    "    ),\n",
    "    height=600,\n",
    "    template='plotly_white'\n",
    ")\n",
    "\n",
    "fig.show()"
   ]
  }
 ],
 "metadata": {
  "kernelspec": {
   "display_name": "Python 3",
   "language": "python",
   "name": "python3"
  },
  "language_info": {
   "codemirror_mode": {
    "name": "ipython",
    "version": 3
   },
   "file_extension": ".py",
   "mimetype": "text/x-python",
   "name": "python",
   "nbconvert_exporter": "python",
   "pygments_lexer": "ipython3",
   "version": "3.11.5"
  }
 },
 "nbformat": 4,
 "nbformat_minor": 5
}
