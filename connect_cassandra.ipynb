{
 "cells": [
  {
   "cell_type": "code",
   "execution_count": 172,
   "id": "cf6eefed",
   "metadata": {},
   "outputs": [],
   "source": [
    "import pandas as pd\n",
    "import numpy as np\n",
    "import os\n",
    "from cassandra.cluster import Cluster\n",
    "from datetime import datetime\n",
    "import plotly.graph_objects as go\n",
    "import mplfinance as mpf\n"
   ]
  },
  {
   "cell_type": "code",
   "execution_count": 173,
   "id": "cefb05e6",
   "metadata": {},
   "outputs": [],
   "source": [
    "# เชื่อมต่อกับ Cassandra Docker\n",
    "cluster = Cluster(['127.0.0.1'], port=9042)\n",
    "session = cluster.connect()\n"
   ]
  },
  {
   "cell_type": "code",
   "execution_count": 174,
   "id": "8f021ad3",
   "metadata": {},
   "outputs": [
    {
     "data": {
      "text/plain": [
       "<cassandra.cluster.ResultSet at 0x130917e50>"
      ]
     },
     "execution_count": 174,
     "metadata": {},
     "output_type": "execute_result"
    }
   ],
   "source": [
    "# สร้าง keyspace\n",
    "session.execute(\"\"\"\n",
    "    CREATE KEYSPACE IF NOT EXISTS stock_data \n",
    "    WITH replication = {'class': 'SimpleStrategy', 'replication_factor': '1'}\n",
    "\"\"\")"
   ]
  },
  {
   "cell_type": "code",
   "execution_count": 175,
   "id": "fe092731",
   "metadata": {},
   "outputs": [],
   "source": [
    "# ใช้งาน keyspace\n",
    "session.set_keyspace('stock_data')"
   ]
  },
  {
   "cell_type": "code",
   "execution_count": 176,
   "id": "85aaf2ba",
   "metadata": {},
   "outputs": [
    {
     "name": "stdout",
     "output_type": "stream",
     "text": [
      "✅ Connected and table ready.\n"
     ]
    }
   ],
   "source": [
    "# สร้าง table สำหรับเก็บข้อมูลหุ้น\n",
    "session.execute(\"\"\"\n",
    "    CREATE TABLE IF NOT EXISTS stock_price (\n",
    "        symbol text,\n",
    "        date date,\n",
    "        open float,\n",
    "        high float,\n",
    "        low float,\n",
    "        close float,\n",
    "        volume bigint,\n",
    "        PRIMARY KEY (symbol, date)\n",
    "    )\n",
    "\"\"\")\n",
    "\n",
    "print(\"✅ Connected and table ready.\")"
   ]
  },
  {
   "cell_type": "code",
   "execution_count": 177,
   "id": "4fc55cf3",
   "metadata": {},
   "outputs": [
    {
     "data": {
      "text/plain": [
       "{'creditLine': 2000000000.0,\n",
       " 'excessEquity': 2000000000.0,\n",
       " 'cashBalance': 2000000000.0,\n",
       " 'equity': 2000000000.0,\n",
       " 'totalMR': 0.0,\n",
       " 'totalMM': 0.0,\n",
       " 'totalFM': 0.0,\n",
       " 'callForceFlag': 'No',\n",
       " 'callForceMargin': 0.0,\n",
       " 'liquidationValue': 2000000000.0,\n",
       " 'depositWithdrawal': 0.0,\n",
       " 'callForceMarginMM': 0.0,\n",
       " 'initialMargin': 0.0,\n",
       " 'closingMethod': 'Auto Net'}"
      ]
     },
     "execution_count": 177,
     "metadata": {},
     "output_type": "execute_result"
    }
   ],
   "source": [
    "import settrade_v2\n",
    "from settrade_v2 import Investor\n",
    "\n",
    "investor = Investor(\n",
    "    app_id=\"ZGCsmM0t5c9VMLRJ\",                                 \n",
    "    app_secret=\"T5eQ70WLmOWDpVvV7jicJtspuBR2A361nzVGmR8xTF4=\", \n",
    "    broker_id=\"SANDBOX\",\n",
    "    app_code=\"SANDBOX\",\n",
    "    is_auto_queue=False\n",
    ")\n",
    "\n",
    "deri = investor.Derivatives(account_no=\"Hilman-D\")\n",
    "account_info = deri.get_account_info()\n",
    "\n",
    "account_info "
   ]
  },
  {
   "cell_type": "code",
   "execution_count": 178,
   "id": "23293ab3",
   "metadata": {},
   "outputs": [
    {
     "name": "stdout",
     "output_type": "stream",
     "text": [
      "{'instrumentType': 'STOCK', 'symbol': 'TRUBB', 'high': None, 'low': None, 'last': None, 'average': None, 'change': None, 'percentChange': None, 'totalVolume': 0, 'totalBuyVolume': 0, 'totalSellVolume': 0, 'totalNoSideVolume': 0, 'status': '', 'marketStatus': 'Close', 'securityType': 'CS', 'eps': -0.26896, 'pe': 0.0, 'pbv': 0.17, 'percentYield': 0.0, 'maturityDate': None, 'exercisePrice': None, 'underlying': None, 'underlyingPrice': None, 'intrinsicValue': None, 'theoretical': None, 'moneyness': None, 'lastTradingDate': None, 'toLastTrade': None, 'exerciseRatio': None, 'impliedVolatility': None, 'exchange': None, 'aumSize': None, 'inav': None}\n"
     ]
    }
   ],
   "source": [
    "# Get real-time quote\n",
    "market_data = investor.MarketData()\n",
    "stock = market_data.get_quote_symbol(\"TRUBB\")\n",
    "print(stock)"
   ]
  },
  {
   "cell_type": "code",
   "execution_count": 179,
   "id": "77228df8",
   "metadata": {},
   "outputs": [],
   "source": [
    "# get candlestick\n",
    "market_cd = investor.MarketData()\n",
    "res = market_cd.get_candlestick(symbol=\"TRUBB\", interval=\"1d\",normalized=True,)"
   ]
  },
  {
   "cell_type": "code",
   "execution_count": 180,
   "id": "25543f96",
   "metadata": {},
   "outputs": [
    {
     "data": {
      "text/html": [
       "<div>\n",
       "<style scoped>\n",
       "    .dataframe tbody tr th:only-of-type {\n",
       "        vertical-align: middle;\n",
       "    }\n",
       "\n",
       "    .dataframe tbody tr th {\n",
       "        vertical-align: top;\n",
       "    }\n",
       "\n",
       "    .dataframe thead th {\n",
       "        text-align: right;\n",
       "    }\n",
       "</style>\n",
       "<table border=\"1\" class=\"dataframe\">\n",
       "  <thead>\n",
       "    <tr style=\"text-align: right;\">\n",
       "      <th></th>\n",
       "      <th>lastSequence</th>\n",
       "      <th>time</th>\n",
       "      <th>open</th>\n",
       "      <th>high</th>\n",
       "      <th>low</th>\n",
       "      <th>close</th>\n",
       "      <th>volume</th>\n",
       "      <th>value</th>\n",
       "    </tr>\n",
       "  </thead>\n",
       "  <tbody>\n",
       "    <tr>\n",
       "      <th>0</th>\n",
       "      <td>0</td>\n",
       "      <td>1681923600</td>\n",
       "      <td>1.97</td>\n",
       "      <td>1.97</td>\n",
       "      <td>1.91</td>\n",
       "      <td>1.92</td>\n",
       "      <td>1393800</td>\n",
       "      <td>2701546.00</td>\n",
       "    </tr>\n",
       "    <tr>\n",
       "      <th>1</th>\n",
       "      <td>0</td>\n",
       "      <td>1682010000</td>\n",
       "      <td>1.91</td>\n",
       "      <td>1.94</td>\n",
       "      <td>1.90</td>\n",
       "      <td>1.92</td>\n",
       "      <td>568579</td>\n",
       "      <td>1089752.53</td>\n",
       "    </tr>\n",
       "    <tr>\n",
       "      <th>2</th>\n",
       "      <td>0</td>\n",
       "      <td>1682269200</td>\n",
       "      <td>1.91</td>\n",
       "      <td>1.92</td>\n",
       "      <td>1.88</td>\n",
       "      <td>1.89</td>\n",
       "      <td>1497140</td>\n",
       "      <td>2843716.00</td>\n",
       "    </tr>\n",
       "    <tr>\n",
       "      <th>3</th>\n",
       "      <td>0</td>\n",
       "      <td>1682355600</td>\n",
       "      <td>1.88</td>\n",
       "      <td>1.90</td>\n",
       "      <td>1.88</td>\n",
       "      <td>1.88</td>\n",
       "      <td>1108055</td>\n",
       "      <td>2088325.97</td>\n",
       "    </tr>\n",
       "    <tr>\n",
       "      <th>4</th>\n",
       "      <td>0</td>\n",
       "      <td>1682442000</td>\n",
       "      <td>1.89</td>\n",
       "      <td>1.90</td>\n",
       "      <td>1.87</td>\n",
       "      <td>1.90</td>\n",
       "      <td>270269</td>\n",
       "      <td>509443.04</td>\n",
       "    </tr>\n",
       "    <tr>\n",
       "      <th>...</th>\n",
       "      <td>...</td>\n",
       "      <td>...</td>\n",
       "      <td>...</td>\n",
       "      <td>...</td>\n",
       "      <td>...</td>\n",
       "      <td>...</td>\n",
       "      <td>...</td>\n",
       "      <td>...</td>\n",
       "    </tr>\n",
       "    <tr>\n",
       "      <th>495</th>\n",
       "      <td>0</td>\n",
       "      <td>1746118800</td>\n",
       "      <td>0.61</td>\n",
       "      <td>0.62</td>\n",
       "      <td>0.60</td>\n",
       "      <td>0.60</td>\n",
       "      <td>360350</td>\n",
       "      <td>217722.50</td>\n",
       "    </tr>\n",
       "    <tr>\n",
       "      <th>496</th>\n",
       "      <td>0</td>\n",
       "      <td>1746464400</td>\n",
       "      <td>0.60</td>\n",
       "      <td>0.61</td>\n",
       "      <td>0.60</td>\n",
       "      <td>0.60</td>\n",
       "      <td>438323</td>\n",
       "      <td>263573.26</td>\n",
       "    </tr>\n",
       "    <tr>\n",
       "      <th>497</th>\n",
       "      <td>0</td>\n",
       "      <td>1746550800</td>\n",
       "      <td>0.60</td>\n",
       "      <td>0.62</td>\n",
       "      <td>0.60</td>\n",
       "      <td>0.61</td>\n",
       "      <td>741872</td>\n",
       "      <td>449444.92</td>\n",
       "    </tr>\n",
       "    <tr>\n",
       "      <th>498</th>\n",
       "      <td>0</td>\n",
       "      <td>1746637200</td>\n",
       "      <td>0.61</td>\n",
       "      <td>0.62</td>\n",
       "      <td>0.60</td>\n",
       "      <td>0.62</td>\n",
       "      <td>203921</td>\n",
       "      <td>124374.80</td>\n",
       "    </tr>\n",
       "    <tr>\n",
       "      <th>499</th>\n",
       "      <td>0</td>\n",
       "      <td>1746723600</td>\n",
       "      <td>0.62</td>\n",
       "      <td>0.62</td>\n",
       "      <td>0.60</td>\n",
       "      <td>0.62</td>\n",
       "      <td>1417611</td>\n",
       "      <td>860897.71</td>\n",
       "    </tr>\n",
       "  </tbody>\n",
       "</table>\n",
       "<p>500 rows × 8 columns</p>\n",
       "</div>"
      ],
      "text/plain": [
       "     lastSequence        time  open  high   low  close   volume       value\n",
       "0               0  1681923600  1.97  1.97  1.91   1.92  1393800  2701546.00\n",
       "1               0  1682010000  1.91  1.94  1.90   1.92   568579  1089752.53\n",
       "2               0  1682269200  1.91  1.92  1.88   1.89  1497140  2843716.00\n",
       "3               0  1682355600  1.88  1.90  1.88   1.88  1108055  2088325.97\n",
       "4               0  1682442000  1.89  1.90  1.87   1.90   270269   509443.04\n",
       "..            ...         ...   ...   ...   ...    ...      ...         ...\n",
       "495             0  1746118800  0.61  0.62  0.60   0.60   360350   217722.50\n",
       "496             0  1746464400  0.60  0.61  0.60   0.60   438323   263573.26\n",
       "497             0  1746550800  0.60  0.62  0.60   0.61   741872   449444.92\n",
       "498             0  1746637200  0.61  0.62  0.60   0.62   203921   124374.80\n",
       "499             0  1746723600  0.62  0.62  0.60   0.62  1417611   860897.71\n",
       "\n",
       "[500 rows x 8 columns]"
      ]
     },
     "execution_count": 180,
     "metadata": {},
     "output_type": "execute_result"
    }
   ],
   "source": [
    "# 👀 ตรวจสอบก่อนว่า res เป็น dict และมี key 'data' หรือไม่\n",
    "if isinstance(res, dict) and \"data\" in res:\n",
    "    raw_data = res[\"data\"]\n",
    "else:\n",
    "    raw_data = res  # กรณี res เป็น list เลย\n",
    "df = pd.DataFrame(raw_data)\n",
    "df"
   ]
  },
  {
   "cell_type": "code",
   "execution_count": 181,
   "id": "7dde08e2",
   "metadata": {},
   "outputs": [
    {
     "data": {
      "text/plain": [
       "Index(['lastSequence', 'time', 'open', 'high', 'low', 'close', 'volume',\n",
       "       'value'],\n",
       "      dtype='object')"
      ]
     },
     "execution_count": 181,
     "metadata": {},
     "output_type": "execute_result"
    }
   ],
   "source": [
    "df.columns"
   ]
  },
  {
   "cell_type": "code",
   "execution_count": 182,
   "id": "cab902f1",
   "metadata": {},
   "outputs": [
    {
     "data": {
      "application/vnd.plotly.v1+json": {
       "config": {
        "plotlyServerURL": "https://plot.ly"
       },
       "data": [
        {
         "close": {
          "bdata": "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",
          "dtype": "f8"
         },
         "high": {
          "bdata": "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",
          "dtype": "f8"
         },
         "low": {
          "bdata": "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",
          "dtype": "f8"
         },
         "name": "Candlestick",
         "open": {
          "bdata": "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",
          "dtype": "f8"
         },
         "type": "candlestick",
         "x": [
          "1970-01-01T00:00:01.681923600",
          "1970-01-01T00:00:01.682010000",
          "1970-01-01T00:00:01.682269200",
          "1970-01-01T00:00:01.682355600",
          "1970-01-01T00:00:01.682442000",
          "1970-01-01T00:00:01.682528400",
          "1970-01-01T00:00:01.682614800",
          "1970-01-01T00:00:01.682960400",
          "1970-01-01T00:00:01.683046800",
          "1970-01-01T00:00:01.683478800",
          "1970-01-01T00:00:01.683565200",
          "1970-01-01T00:00:01.683651600",
          "1970-01-01T00:00:01.683738000",
          "1970-01-01T00:00:01.683824400",
          "1970-01-01T00:00:01.684083600",
          "1970-01-01T00:00:01.684170000",
          "1970-01-01T00:00:01.684256400",
          "1970-01-01T00:00:01.684342800",
          "1970-01-01T00:00:01.684429200",
          "1970-01-01T00:00:01.684688400",
          "1970-01-01T00:00:01.684774800",
          "1970-01-01T00:00:01.684861200",
          "1970-01-01T00:00:01.684947600",
          "1970-01-01T00:00:01.685034000",
          "1970-01-01T00:00:01.685293200",
          "1970-01-01T00:00:01.685379600",
          "1970-01-01T00:00:01.685466000",
          "1970-01-01T00:00:01.685552400",
          "1970-01-01T00:00:01.685638800",
          "1970-01-01T00:00:01.685984400",
          "1970-01-01T00:00:01.686070800",
          "1970-01-01T00:00:01.686157200",
          "1970-01-01T00:00:01.686243600",
          "1970-01-01T00:00:01.686502800",
          "1970-01-01T00:00:01.686589200",
          "1970-01-01T00:00:01.686675600",
          "1970-01-01T00:00:01.686762000",
          "1970-01-01T00:00:01.686848400",
          "1970-01-01T00:00:01.687107600",
          "1970-01-01T00:00:01.687194000",
          "1970-01-01T00:00:01.687280400",
          "1970-01-01T00:00:01.687366800",
          "1970-01-01T00:00:01.687453200",
          "1970-01-01T00:00:01.687712400",
          "1970-01-01T00:00:01.687798800",
          "1970-01-01T00:00:01.687885200",
          "1970-01-01T00:00:01.687971600",
          "1970-01-01T00:00:01.688058000",
          "1970-01-01T00:00:01.688317200",
          "1970-01-01T00:00:01.688403600",
          "1970-01-01T00:00:01.688490000",
          "1970-01-01T00:00:01.688576400",
          "1970-01-01T00:00:01.688662800",
          "1970-01-01T00:00:01.688922000",
          "1970-01-01T00:00:01.689008400",
          "1970-01-01T00:00:01.689094800",
          "1970-01-01T00:00:01.689181200",
          "1970-01-01T00:00:01.689267600",
          "1970-01-01T00:00:01.689526800",
          "1970-01-01T00:00:01.689613200",
          "1970-01-01T00:00:01.689699600",
          "1970-01-01T00:00:01.689786000",
          "1970-01-01T00:00:01.689872400",
          "1970-01-01T00:00:01.690131600",
          "1970-01-01T00:00:01.690218000",
          "1970-01-01T00:00:01.690304400",
          "1970-01-01T00:00:01.690390800",
          "1970-01-01T00:00:01.690736400",
          "1970-01-01T00:00:01.690909200",
          "1970-01-01T00:00:01.690995600",
          "1970-01-01T00:00:01.691082000",
          "1970-01-01T00:00:01.691341200",
          "1970-01-01T00:00:01.691427600",
          "1970-01-01T00:00:01.691514000",
          "1970-01-01T00:00:01.691600400",
          "1970-01-01T00:00:01.691686800",
          "1970-01-01T00:00:01.692032400",
          "1970-01-01T00:00:01.692118800",
          "1970-01-01T00:00:01.692205200",
          "1970-01-01T00:00:01.692291600",
          "1970-01-01T00:00:01.692550800",
          "1970-01-01T00:00:01.692637200",
          "1970-01-01T00:00:01.692723600",
          "1970-01-01T00:00:01.692810000",
          "1970-01-01T00:00:01.692896400",
          "1970-01-01T00:00:01.693155600",
          "1970-01-01T00:00:01.693242000",
          "1970-01-01T00:00:01.693328400",
          "1970-01-01T00:00:01.693414800",
          "1970-01-01T00:00:01.693501200",
          "1970-01-01T00:00:01.693760400",
          "1970-01-01T00:00:01.693846800",
          "1970-01-01T00:00:01.693933200",
          "1970-01-01T00:00:01.694019600",
          "1970-01-01T00:00:01.694106000",
          "1970-01-01T00:00:01.694365200",
          "1970-01-01T00:00:01.694451600",
          "1970-01-01T00:00:01.694538000",
          "1970-01-01T00:00:01.694624400",
          "1970-01-01T00:00:01.694710800",
          "1970-01-01T00:00:01.694970000",
          "1970-01-01T00:00:01.695056400",
          "1970-01-01T00:00:01.695142800",
          "1970-01-01T00:00:01.695229200",
          "1970-01-01T00:00:01.695315600",
          "1970-01-01T00:00:01.695574800",
          "1970-01-01T00:00:01.695661200",
          "1970-01-01T00:00:01.695747600",
          "1970-01-01T00:00:01.695834000",
          "1970-01-01T00:00:01.695920400",
          "1970-01-01T00:00:01.696179600",
          "1970-01-01T00:00:01.696266000",
          "1970-01-01T00:00:01.696352400",
          "1970-01-01T00:00:01.696438800",
          "1970-01-01T00:00:01.696525200",
          "1970-01-01T00:00:01.696784400",
          "1970-01-01T00:00:01.696870800",
          "1970-01-01T00:00:01.696957200",
          "1970-01-01T00:00:01.697043600",
          "1970-01-01T00:00:01.697389200",
          "1970-01-01T00:00:01.697475600",
          "1970-01-01T00:00:01.697562000",
          "1970-01-01T00:00:01.697648400",
          "1970-01-01T00:00:01.697734800",
          "1970-01-01T00:00:01.698080400",
          "1970-01-01T00:00:01.698166800",
          "1970-01-01T00:00:01.698253200",
          "1970-01-01T00:00:01.698339600",
          "1970-01-01T00:00:01.698598800",
          "1970-01-01T00:00:01.698685200",
          "1970-01-01T00:00:01.698771600",
          "1970-01-01T00:00:01.698858000",
          "1970-01-01T00:00:01.698944400",
          "1970-01-01T00:00:01.699203600",
          "1970-01-01T00:00:01.699290000",
          "1970-01-01T00:00:01.699376400",
          "1970-01-01T00:00:01.699462800",
          "1970-01-01T00:00:01.699549200",
          "1970-01-01T00:00:01.699808400",
          "1970-01-01T00:00:01.699894800",
          "1970-01-01T00:00:01.699981200",
          "1970-01-01T00:00:01.700067600",
          "1970-01-01T00:00:01.700154000",
          "1970-01-01T00:00:01.700413200",
          "1970-01-01T00:00:01.700499600",
          "1970-01-01T00:00:01.700586000",
          "1970-01-01T00:00:01.700672400",
          "1970-01-01T00:00:01.700758800",
          "1970-01-01T00:00:01.701018000",
          "1970-01-01T00:00:01.701104400",
          "1970-01-01T00:00:01.701190800",
          "1970-01-01T00:00:01.701277200",
          "1970-01-01T00:00:01.701363600",
          "1970-01-01T00:00:01.701622800",
          "1970-01-01T00:00:01.701795600",
          "1970-01-01T00:00:01.701882000",
          "1970-01-01T00:00:01.701968400",
          "1970-01-01T00:00:01.702314000",
          "1970-01-01T00:00:01.702400400",
          "1970-01-01T00:00:01.702486800",
          "1970-01-01T00:00:01.702573200",
          "1970-01-01T00:00:01.702832400",
          "1970-01-01T00:00:01.702918800",
          "1970-01-01T00:00:01.703005200",
          "1970-01-01T00:00:01.703091600",
          "1970-01-01T00:00:01.703178000",
          "1970-01-01T00:00:01.703437200",
          "1970-01-01T00:00:01.703523600",
          "1970-01-01T00:00:01.703610000",
          "1970-01-01T00:00:01.703696400",
          "1970-01-01T00:00:01.704128400",
          "1970-01-01T00:00:01.704214800",
          "1970-01-01T00:00:01.704301200",
          "1970-01-01T00:00:01.704387600",
          "1970-01-01T00:00:01.704646800",
          "1970-01-01T00:00:01.704733200",
          "1970-01-01T00:00:01.704819600",
          "1970-01-01T00:00:01.704906000",
          "1970-01-01T00:00:01.704992400",
          "1970-01-01T00:00:01.705251600",
          "1970-01-01T00:00:01.705338000",
          "1970-01-01T00:00:01.705424400",
          "1970-01-01T00:00:01.705510800",
          "1970-01-01T00:00:01.705597200",
          "1970-01-01T00:00:01.705856400",
          "1970-01-01T00:00:01.705942800",
          "1970-01-01T00:00:01.706029200",
          "1970-01-01T00:00:01.706115600",
          "1970-01-01T00:00:01.706202000",
          "1970-01-01T00:00:01.706461200",
          "1970-01-01T00:00:01.706547600",
          "1970-01-01T00:00:01.706634000",
          "1970-01-01T00:00:01.706720400",
          "1970-01-01T00:00:01.706806800",
          "1970-01-01T00:00:01.707066000",
          "1970-01-01T00:00:01.707152400",
          "1970-01-01T00:00:01.707238800",
          "1970-01-01T00:00:01.707325200",
          "1970-01-01T00:00:01.707411600",
          "1970-01-01T00:00:01.707670800",
          "1970-01-01T00:00:01.707757200",
          "1970-01-01T00:00:01.707843600",
          "1970-01-01T00:00:01.707930000",
          "1970-01-01T00:00:01.708016400",
          "1970-01-01T00:00:01.708275600",
          "1970-01-01T00:00:01.708362000",
          "1970-01-01T00:00:01.708448400",
          "1970-01-01T00:00:01.708534800",
          "1970-01-01T00:00:01.708621200",
          "1970-01-01T00:00:01.708966800",
          "1970-01-01T00:00:01.709053200",
          "1970-01-01T00:00:01.709139600",
          "1970-01-01T00:00:01.709226000",
          "1970-01-01T00:00:01.709485200",
          "1970-01-01T00:00:01.709571600",
          "1970-01-01T00:00:01.709658000",
          "1970-01-01T00:00:01.709744400",
          "1970-01-01T00:00:01.709830800",
          "1970-01-01T00:00:01.710090000",
          "1970-01-01T00:00:01.710176400",
          "1970-01-01T00:00:01.710262800",
          "1970-01-01T00:00:01.710349200",
          "1970-01-01T00:00:01.710435600",
          "1970-01-01T00:00:01.710694800",
          "1970-01-01T00:00:01.710781200",
          "1970-01-01T00:00:01.710867600",
          "1970-01-01T00:00:01.710954000",
          "1970-01-01T00:00:01.711040400",
          "1970-01-01T00:00:01.711299600",
          "1970-01-01T00:00:01.711386000",
          "1970-01-01T00:00:01.711472400",
          "1970-01-01T00:00:01.711558800",
          "1970-01-01T00:00:01.711645200",
          "1970-01-01T00:00:01.711904400",
          "1970-01-01T00:00:01.711990800",
          "1970-01-01T00:00:01.712077200",
          "1970-01-01T00:00:01.712163600",
          "1970-01-01T00:00:01.712250000",
          "1970-01-01T00:00:01.712595600",
          "1970-01-01T00:00:01.712682000",
          "1970-01-01T00:00:01.712768400",
          "1970-01-01T00:00:01.713286800",
          "1970-01-01T00:00:01.713373200",
          "1970-01-01T00:00:01.713459600",
          "1970-01-01T00:00:01.713718800",
          "1970-01-01T00:00:01.713805200",
          "1970-01-01T00:00:01.713891600",
          "1970-01-01T00:00:01.713978000",
          "1970-01-01T00:00:01.714064400",
          "1970-01-01T00:00:01.714323600",
          "1970-01-01T00:00:01.714410000",
          "1970-01-01T00:00:01.714582800",
          "1970-01-01T00:00:01.714669200",
          "1970-01-01T00:00:01.715014800",
          "1970-01-01T00:00:01.715101200",
          "1970-01-01T00:00:01.715187600",
          "1970-01-01T00:00:01.715274000",
          "1970-01-01T00:00:01.715533200",
          "1970-01-01T00:00:01.715619600",
          "1970-01-01T00:00:01.715706000",
          "1970-01-01T00:00:01.715792400",
          "1970-01-01T00:00:01.715878800",
          "1970-01-01T00:00:01.716138000",
          "1970-01-01T00:00:01.716224400",
          "1970-01-01T00:00:01.716397200",
          "1970-01-01T00:00:01.716483600",
          "1970-01-01T00:00:01.716742800",
          "1970-01-01T00:00:01.716829200",
          "1970-01-01T00:00:01.716915600",
          "1970-01-01T00:00:01.717002000",
          "1970-01-01T00:00:01.717088400",
          "1970-01-01T00:00:01.717434000",
          "1970-01-01T00:00:01.717520400",
          "1970-01-01T00:00:01.717606800",
          "1970-01-01T00:00:01.717693200",
          "1970-01-01T00:00:01.717952400",
          "1970-01-01T00:00:01.718038800",
          "1970-01-01T00:00:01.718125200",
          "1970-01-01T00:00:01.718211600",
          "1970-01-01T00:00:01.718298000",
          "1970-01-01T00:00:01.718557200",
          "1970-01-01T00:00:01.718643600",
          "1970-01-01T00:00:01.718730000",
          "1970-01-01T00:00:01.718816400",
          "1970-01-01T00:00:01.718902800",
          "1970-01-01T00:00:01.719162000",
          "1970-01-01T00:00:01.719248400",
          "1970-01-01T00:00:01.719334800",
          "1970-01-01T00:00:01.719421200",
          "1970-01-01T00:00:01.719507600",
          "1970-01-01T00:00:01.719766800",
          "1970-01-01T00:00:01.719853200",
          "1970-01-01T00:00:01.719939600",
          "1970-01-01T00:00:01.720026000",
          "1970-01-01T00:00:01.720112400",
          "1970-01-01T00:00:01.720371600",
          "1970-01-01T00:00:01.720458000",
          "1970-01-01T00:00:01.720544400",
          "1970-01-01T00:00:01.720630800",
          "1970-01-01T00:00:01.720717200",
          "1970-01-01T00:00:01.720976400",
          "1970-01-01T00:00:01.721062800",
          "1970-01-01T00:00:01.721149200",
          "1970-01-01T00:00:01.721235600",
          "1970-01-01T00:00:01.721322000",
          "1970-01-01T00:00:01.721667600",
          "1970-01-01T00:00:01.721754000",
          "1970-01-01T00:00:01.721840400",
          "1970-01-01T00:00:01.721926800",
          "1970-01-01T00:00:01.722272400",
          "1970-01-01T00:00:01.722358800",
          "1970-01-01T00:00:01.722445200",
          "1970-01-01T00:00:01.722531600",
          "1970-01-01T00:00:01.722790800",
          "1970-01-01T00:00:01.722877200",
          "1970-01-01T00:00:01.722963600",
          "1970-01-01T00:00:01.723050000",
          "1970-01-01T00:00:01.723136400",
          "1970-01-01T00:00:01.723482000",
          "1970-01-01T00:00:01.723568400",
          "1970-01-01T00:00:01.723654800",
          "1970-01-01T00:00:01.723741200",
          "1970-01-01T00:00:01.724000400",
          "1970-01-01T00:00:01.724086800",
          "1970-01-01T00:00:01.724173200",
          "1970-01-01T00:00:01.724259600",
          "1970-01-01T00:00:01.724346000",
          "1970-01-01T00:00:01.724605200",
          "1970-01-01T00:00:01.724691600",
          "1970-01-01T00:00:01.724778000",
          "1970-01-01T00:00:01.724864400",
          "1970-01-01T00:00:01.724950800",
          "1970-01-01T00:00:01.725210000",
          "1970-01-01T00:00:01.725296400",
          "1970-01-01T00:00:01.725382800",
          "1970-01-01T00:00:01.725469200",
          "1970-01-01T00:00:01.725555600",
          "1970-01-01T00:00:01.725814800",
          "1970-01-01T00:00:01.725901200",
          "1970-01-01T00:00:01.725987600",
          "1970-01-01T00:00:01.726074000",
          "1970-01-01T00:00:01.726160400",
          "1970-01-01T00:00:01.726419600",
          "1970-01-01T00:00:01.726506000",
          "1970-01-01T00:00:01.726592400",
          "1970-01-01T00:00:01.726678800",
          "1970-01-01T00:00:01.726765200",
          "1970-01-01T00:00:01.727024400",
          "1970-01-01T00:00:01.727110800",
          "1970-01-01T00:00:01.727197200",
          "1970-01-01T00:00:01.727283600",
          "1970-01-01T00:00:01.727370000",
          "1970-01-01T00:00:01.727629200",
          "1970-01-01T00:00:01.727715600",
          "1970-01-01T00:00:01.727802000",
          "1970-01-01T00:00:01.727888400",
          "1970-01-01T00:00:01.727974800",
          "1970-01-01T00:00:01.728234000",
          "1970-01-01T00:00:01.728320400",
          "1970-01-01T00:00:01.728406800",
          "1970-01-01T00:00:01.728493200",
          "1970-01-01T00:00:01.728579600",
          "1970-01-01T00:00:01.728925200",
          "1970-01-01T00:00:01.729011600",
          "1970-01-01T00:00:01.729098000",
          "1970-01-01T00:00:01.729184400",
          "1970-01-01T00:00:01.729443600",
          "1970-01-01T00:00:01.729530000",
          "1970-01-01T00:00:01.729702800",
          "1970-01-01T00:00:01.729789200",
          "1970-01-01T00:00:01.730048400",
          "1970-01-01T00:00:01.730134800",
          "1970-01-01T00:00:01.730221200",
          "1970-01-01T00:00:01.730307600",
          "1970-01-01T00:00:01.730394000",
          "1970-01-01T00:00:01.730653200",
          "1970-01-01T00:00:01.730739600",
          "1970-01-01T00:00:01.730826000",
          "1970-01-01T00:00:01.730912400",
          "1970-01-01T00:00:01.730998800",
          "1970-01-01T00:00:01.731258000",
          "1970-01-01T00:00:01.731344400",
          "1970-01-01T00:00:01.731430800",
          "1970-01-01T00:00:01.731517200",
          "1970-01-01T00:00:01.731603600",
          "1970-01-01T00:00:01.731862800",
          "1970-01-01T00:00:01.731949200",
          "1970-01-01T00:00:01.732035600",
          "1970-01-01T00:00:01.732122000",
          "1970-01-01T00:00:01.732208400",
          "1970-01-01T00:00:01.732467600",
          "1970-01-01T00:00:01.732554000",
          "1970-01-01T00:00:01.732640400",
          "1970-01-01T00:00:01.732726800",
          "1970-01-01T00:00:01.732813200",
          "1970-01-01T00:00:01.733072400",
          "1970-01-01T00:00:01.733158800",
          "1970-01-01T00:00:01.733245200",
          "1970-01-01T00:00:01.733418000",
          "1970-01-01T00:00:01.733677200",
          "1970-01-01T00:00:01.733850000",
          "1970-01-01T00:00:01.733936400",
          "1970-01-01T00:00:01.734022800",
          "1970-01-01T00:00:01.734282000",
          "1970-01-01T00:00:01.734368400",
          "1970-01-01T00:00:01.734454800",
          "1970-01-01T00:00:01.734541200",
          "1970-01-01T00:00:01.734627600",
          "1970-01-01T00:00:01.734886800",
          "1970-01-01T00:00:01.734973200",
          "1970-01-01T00:00:01.735059600",
          "1970-01-01T00:00:01.735146000",
          "1970-01-01T00:00:01.735232400",
          "1970-01-01T00:00:01.735491600",
          "1970-01-01T00:00:01.735750800",
          "1970-01-01T00:00:01.735837200",
          "1970-01-01T00:00:01.736096400",
          "1970-01-01T00:00:01.736182800",
          "1970-01-01T00:00:01.736269200",
          "1970-01-01T00:00:01.736355600",
          "1970-01-01T00:00:01.736442000",
          "1970-01-01T00:00:01.736701200",
          "1970-01-01T00:00:01.736787600",
          "1970-01-01T00:00:01.736874000",
          "1970-01-01T00:00:01.736960400",
          "1970-01-01T00:00:01.737046800",
          "1970-01-01T00:00:01.737306000",
          "1970-01-01T00:00:01.737392400",
          "1970-01-01T00:00:01.737478800",
          "1970-01-01T00:00:01.737565200",
          "1970-01-01T00:00:01.737651600",
          "1970-01-01T00:00:01.737910800",
          "1970-01-01T00:00:01.737997200",
          "1970-01-01T00:00:01.738083600",
          "1970-01-01T00:00:01.738170000",
          "1970-01-01T00:00:01.738256400",
          "1970-01-01T00:00:01.738515600",
          "1970-01-01T00:00:01.738602000",
          "1970-01-01T00:00:01.738688400",
          "1970-01-01T00:00:01.738774800",
          "1970-01-01T00:00:01.738861200",
          "1970-01-01T00:00:01.739120400",
          "1970-01-01T00:00:01.739206800",
          "1970-01-01T00:00:01.739379600",
          "1970-01-01T00:00:01.739466000",
          "1970-01-01T00:00:01.739725200",
          "1970-01-01T00:00:01.739811600",
          "1970-01-01T00:00:01.739898000",
          "1970-01-01T00:00:01.739984400",
          "1970-01-01T00:00:01.740070800",
          "1970-01-01T00:00:01.740330000",
          "1970-01-01T00:00:01.740416400",
          "1970-01-01T00:00:01.740502800",
          "1970-01-01T00:00:01.740589200",
          "1970-01-01T00:00:01.740675600",
          "1970-01-01T00:00:01.740934800",
          "1970-01-01T00:00:01.741021200",
          "1970-01-01T00:00:01.741107600",
          "1970-01-01T00:00:01.741194000",
          "1970-01-01T00:00:01.741280400",
          "1970-01-01T00:00:01.741539600",
          "1970-01-01T00:00:01.741626000",
          "1970-01-01T00:00:01.741712400",
          "1970-01-01T00:00:01.741798800",
          "1970-01-01T00:00:01.741885200",
          "1970-01-01T00:00:01.742144400",
          "1970-01-01T00:00:01.742230800",
          "1970-01-01T00:00:01.742317200",
          "1970-01-01T00:00:01.742403600",
          "1970-01-01T00:00:01.742490000",
          "1970-01-01T00:00:01.742749200",
          "1970-01-01T00:00:01.742835600",
          "1970-01-01T00:00:01.742922000",
          "1970-01-01T00:00:01.743008400",
          "1970-01-01T00:00:01.743094800",
          "1970-01-01T00:00:01.743354000",
          "1970-01-01T00:00:01.743440400",
          "1970-01-01T00:00:01.743526800",
          "1970-01-01T00:00:01.743613200",
          "1970-01-01T00:00:01.743699600",
          "1970-01-01T00:00:01.744045200",
          "1970-01-01T00:00:01.744131600",
          "1970-01-01T00:00:01.744218000",
          "1970-01-01T00:00:01.744304400",
          "1970-01-01T00:00:01.744736400",
          "1970-01-01T00:00:01.744822800",
          "1970-01-01T00:00:01.744909200",
          "1970-01-01T00:00:01.745168400",
          "1970-01-01T00:00:01.745254800",
          "1970-01-01T00:00:01.745341200",
          "1970-01-01T00:00:01.745427600",
          "1970-01-01T00:00:01.745514000",
          "1970-01-01T00:00:01.745773200",
          "1970-01-01T00:00:01.745859600",
          "1970-01-01T00:00:01.745946000",
          "1970-01-01T00:00:01.746118800",
          "1970-01-01T00:00:01.746464400",
          "1970-01-01T00:00:01.746550800",
          "1970-01-01T00:00:01.746637200",
          "1970-01-01T00:00:01.746723600"
         ]
        },
        {
         "marker": {
          "color": "rgba(150,150,150,0.3)"
         },
         "name": "Volume",
         "type": "bar",
         "x": [
          "1970-01-01T00:00:01.681923600",
          "1970-01-01T00:00:01.682010000",
          "1970-01-01T00:00:01.682269200",
          "1970-01-01T00:00:01.682355600",
          "1970-01-01T00:00:01.682442000",
          "1970-01-01T00:00:01.682528400",
          "1970-01-01T00:00:01.682614800",
          "1970-01-01T00:00:01.682960400",
          "1970-01-01T00:00:01.683046800",
          "1970-01-01T00:00:01.683478800",
          "1970-01-01T00:00:01.683565200",
          "1970-01-01T00:00:01.683651600",
          "1970-01-01T00:00:01.683738000",
          "1970-01-01T00:00:01.683824400",
          "1970-01-01T00:00:01.684083600",
          "1970-01-01T00:00:01.684170000",
          "1970-01-01T00:00:01.684256400",
          "1970-01-01T00:00:01.684342800",
          "1970-01-01T00:00:01.684429200",
          "1970-01-01T00:00:01.684688400",
          "1970-01-01T00:00:01.684774800",
          "1970-01-01T00:00:01.684861200",
          "1970-01-01T00:00:01.684947600",
          "1970-01-01T00:00:01.685034000",
          "1970-01-01T00:00:01.685293200",
          "1970-01-01T00:00:01.685379600",
          "1970-01-01T00:00:01.685466000",
          "1970-01-01T00:00:01.685552400",
          "1970-01-01T00:00:01.685638800",
          "1970-01-01T00:00:01.685984400",
          "1970-01-01T00:00:01.686070800",
          "1970-01-01T00:00:01.686157200",
          "1970-01-01T00:00:01.686243600",
          "1970-01-01T00:00:01.686502800",
          "1970-01-01T00:00:01.686589200",
          "1970-01-01T00:00:01.686675600",
          "1970-01-01T00:00:01.686762000",
          "1970-01-01T00:00:01.686848400",
          "1970-01-01T00:00:01.687107600",
          "1970-01-01T00:00:01.687194000",
          "1970-01-01T00:00:01.687280400",
          "1970-01-01T00:00:01.687366800",
          "1970-01-01T00:00:01.687453200",
          "1970-01-01T00:00:01.687712400",
          "1970-01-01T00:00:01.687798800",
          "1970-01-01T00:00:01.687885200",
          "1970-01-01T00:00:01.687971600",
          "1970-01-01T00:00:01.688058000",
          "1970-01-01T00:00:01.688317200",
          "1970-01-01T00:00:01.688403600",
          "1970-01-01T00:00:01.688490000",
          "1970-01-01T00:00:01.688576400",
          "1970-01-01T00:00:01.688662800",
          "1970-01-01T00:00:01.688922000",
          "1970-01-01T00:00:01.689008400",
          "1970-01-01T00:00:01.689094800",
          "1970-01-01T00:00:01.689181200",
          "1970-01-01T00:00:01.689267600",
          "1970-01-01T00:00:01.689526800",
          "1970-01-01T00:00:01.689613200",
          "1970-01-01T00:00:01.689699600",
          "1970-01-01T00:00:01.689786000",
          "1970-01-01T00:00:01.689872400",
          "1970-01-01T00:00:01.690131600",
          "1970-01-01T00:00:01.690218000",
          "1970-01-01T00:00:01.690304400",
          "1970-01-01T00:00:01.690390800",
          "1970-01-01T00:00:01.690736400",
          "1970-01-01T00:00:01.690909200",
          "1970-01-01T00:00:01.690995600",
          "1970-01-01T00:00:01.691082000",
          "1970-01-01T00:00:01.691341200",
          "1970-01-01T00:00:01.691427600",
          "1970-01-01T00:00:01.691514000",
          "1970-01-01T00:00:01.691600400",
          "1970-01-01T00:00:01.691686800",
          "1970-01-01T00:00:01.692032400",
          "1970-01-01T00:00:01.692118800",
          "1970-01-01T00:00:01.692205200",
          "1970-01-01T00:00:01.692291600",
          "1970-01-01T00:00:01.692550800",
          "1970-01-01T00:00:01.692637200",
          "1970-01-01T00:00:01.692723600",
          "1970-01-01T00:00:01.692810000",
          "1970-01-01T00:00:01.692896400",
          "1970-01-01T00:00:01.693155600",
          "1970-01-01T00:00:01.693242000",
          "1970-01-01T00:00:01.693328400",
          "1970-01-01T00:00:01.693414800",
          "1970-01-01T00:00:01.693501200",
          "1970-01-01T00:00:01.693760400",
          "1970-01-01T00:00:01.693846800",
          "1970-01-01T00:00:01.693933200",
          "1970-01-01T00:00:01.694019600",
          "1970-01-01T00:00:01.694106000",
          "1970-01-01T00:00:01.694365200",
          "1970-01-01T00:00:01.694451600",
          "1970-01-01T00:00:01.694538000",
          "1970-01-01T00:00:01.694624400",
          "1970-01-01T00:00:01.694710800",
          "1970-01-01T00:00:01.694970000",
          "1970-01-01T00:00:01.695056400",
          "1970-01-01T00:00:01.695142800",
          "1970-01-01T00:00:01.695229200",
          "1970-01-01T00:00:01.695315600",
          "1970-01-01T00:00:01.695574800",
          "1970-01-01T00:00:01.695661200",
          "1970-01-01T00:00:01.695747600",
          "1970-01-01T00:00:01.695834000",
          "1970-01-01T00:00:01.695920400",
          "1970-01-01T00:00:01.696179600",
          "1970-01-01T00:00:01.696266000",
          "1970-01-01T00:00:01.696352400",
          "1970-01-01T00:00:01.696438800",
          "1970-01-01T00:00:01.696525200",
          "1970-01-01T00:00:01.696784400",
          "1970-01-01T00:00:01.696870800",
          "1970-01-01T00:00:01.696957200",
          "1970-01-01T00:00:01.697043600",
          "1970-01-01T00:00:01.697389200",
          "1970-01-01T00:00:01.697475600",
          "1970-01-01T00:00:01.697562000",
          "1970-01-01T00:00:01.697648400",
          "1970-01-01T00:00:01.697734800",
          "1970-01-01T00:00:01.698080400",
          "1970-01-01T00:00:01.698166800",
          "1970-01-01T00:00:01.698253200",
          "1970-01-01T00:00:01.698339600",
          "1970-01-01T00:00:01.698598800",
          "1970-01-01T00:00:01.698685200",
          "1970-01-01T00:00:01.698771600",
          "1970-01-01T00:00:01.698858000",
          "1970-01-01T00:00:01.698944400",
          "1970-01-01T00:00:01.699203600",
          "1970-01-01T00:00:01.699290000",
          "1970-01-01T00:00:01.699376400",
          "1970-01-01T00:00:01.699462800",
          "1970-01-01T00:00:01.699549200",
          "1970-01-01T00:00:01.699808400",
          "1970-01-01T00:00:01.699894800",
          "1970-01-01T00:00:01.699981200",
          "1970-01-01T00:00:01.700067600",
          "1970-01-01T00:00:01.700154000",
          "1970-01-01T00:00:01.700413200",
          "1970-01-01T00:00:01.700499600",
          "1970-01-01T00:00:01.700586000",
          "1970-01-01T00:00:01.700672400",
          "1970-01-01T00:00:01.700758800",
          "1970-01-01T00:00:01.701018000",
          "1970-01-01T00:00:01.701104400",
          "1970-01-01T00:00:01.701190800",
          "1970-01-01T00:00:01.701277200",
          "1970-01-01T00:00:01.701363600",
          "1970-01-01T00:00:01.701622800",
          "1970-01-01T00:00:01.701795600",
          "1970-01-01T00:00:01.701882000",
          "1970-01-01T00:00:01.701968400",
          "1970-01-01T00:00:01.702314000",
          "1970-01-01T00:00:01.702400400",
          "1970-01-01T00:00:01.702486800",
          "1970-01-01T00:00:01.702573200",
          "1970-01-01T00:00:01.702832400",
          "1970-01-01T00:00:01.702918800",
          "1970-01-01T00:00:01.703005200",
          "1970-01-01T00:00:01.703091600",
          "1970-01-01T00:00:01.703178000",
          "1970-01-01T00:00:01.703437200",
          "1970-01-01T00:00:01.703523600",
          "1970-01-01T00:00:01.703610000",
          "1970-01-01T00:00:01.703696400",
          "1970-01-01T00:00:01.704128400",
          "1970-01-01T00:00:01.704214800",
          "1970-01-01T00:00:01.704301200",
          "1970-01-01T00:00:01.704387600",
          "1970-01-01T00:00:01.704646800",
          "1970-01-01T00:00:01.704733200",
          "1970-01-01T00:00:01.704819600",
          "1970-01-01T00:00:01.704906000",
          "1970-01-01T00:00:01.704992400",
          "1970-01-01T00:00:01.705251600",
          "1970-01-01T00:00:01.705338000",
          "1970-01-01T00:00:01.705424400",
          "1970-01-01T00:00:01.705510800",
          "1970-01-01T00:00:01.705597200",
          "1970-01-01T00:00:01.705856400",
          "1970-01-01T00:00:01.705942800",
          "1970-01-01T00:00:01.706029200",
          "1970-01-01T00:00:01.706115600",
          "1970-01-01T00:00:01.706202000",
          "1970-01-01T00:00:01.706461200",
          "1970-01-01T00:00:01.706547600",
          "1970-01-01T00:00:01.706634000",
          "1970-01-01T00:00:01.706720400",
          "1970-01-01T00:00:01.706806800",
          "1970-01-01T00:00:01.707066000",
          "1970-01-01T00:00:01.707152400",
          "1970-01-01T00:00:01.707238800",
          "1970-01-01T00:00:01.707325200",
          "1970-01-01T00:00:01.707411600",
          "1970-01-01T00:00:01.707670800",
          "1970-01-01T00:00:01.707757200",
          "1970-01-01T00:00:01.707843600",
          "1970-01-01T00:00:01.707930000",
          "1970-01-01T00:00:01.708016400",
          "1970-01-01T00:00:01.708275600",
          "1970-01-01T00:00:01.708362000",
          "1970-01-01T00:00:01.708448400",
          "1970-01-01T00:00:01.708534800",
          "1970-01-01T00:00:01.708621200",
          "1970-01-01T00:00:01.708966800",
          "1970-01-01T00:00:01.709053200",
          "1970-01-01T00:00:01.709139600",
          "1970-01-01T00:00:01.709226000",
          "1970-01-01T00:00:01.709485200",
          "1970-01-01T00:00:01.709571600",
          "1970-01-01T00:00:01.709658000",
          "1970-01-01T00:00:01.709744400",
          "1970-01-01T00:00:01.709830800",
          "1970-01-01T00:00:01.710090000",
          "1970-01-01T00:00:01.710176400",
          "1970-01-01T00:00:01.710262800",
          "1970-01-01T00:00:01.710349200",
          "1970-01-01T00:00:01.710435600",
          "1970-01-01T00:00:01.710694800",
          "1970-01-01T00:00:01.710781200",
          "1970-01-01T00:00:01.710867600",
          "1970-01-01T00:00:01.710954000",
          "1970-01-01T00:00:01.711040400",
          "1970-01-01T00:00:01.711299600",
          "1970-01-01T00:00:01.711386000",
          "1970-01-01T00:00:01.711472400",
          "1970-01-01T00:00:01.711558800",
          "1970-01-01T00:00:01.711645200",
          "1970-01-01T00:00:01.711904400",
          "1970-01-01T00:00:01.711990800",
          "1970-01-01T00:00:01.712077200",
          "1970-01-01T00:00:01.712163600",
          "1970-01-01T00:00:01.712250000",
          "1970-01-01T00:00:01.712595600",
          "1970-01-01T00:00:01.712682000",
          "1970-01-01T00:00:01.712768400",
          "1970-01-01T00:00:01.713286800",
          "1970-01-01T00:00:01.713373200",
          "1970-01-01T00:00:01.713459600",
          "1970-01-01T00:00:01.713718800",
          "1970-01-01T00:00:01.713805200",
          "1970-01-01T00:00:01.713891600",
          "1970-01-01T00:00:01.713978000",
          "1970-01-01T00:00:01.714064400",
          "1970-01-01T00:00:01.714323600",
          "1970-01-01T00:00:01.714410000",
          "1970-01-01T00:00:01.714582800",
          "1970-01-01T00:00:01.714669200",
          "1970-01-01T00:00:01.715014800",
          "1970-01-01T00:00:01.715101200",
          "1970-01-01T00:00:01.715187600",
          "1970-01-01T00:00:01.715274000",
          "1970-01-01T00:00:01.715533200",
          "1970-01-01T00:00:01.715619600",
          "1970-01-01T00:00:01.715706000",
          "1970-01-01T00:00:01.715792400",
          "1970-01-01T00:00:01.715878800",
          "1970-01-01T00:00:01.716138000",
          "1970-01-01T00:00:01.716224400",
          "1970-01-01T00:00:01.716397200",
          "1970-01-01T00:00:01.716483600",
          "1970-01-01T00:00:01.716742800",
          "1970-01-01T00:00:01.716829200",
          "1970-01-01T00:00:01.716915600",
          "1970-01-01T00:00:01.717002000",
          "1970-01-01T00:00:01.717088400",
          "1970-01-01T00:00:01.717434000",
          "1970-01-01T00:00:01.717520400",
          "1970-01-01T00:00:01.717606800",
          "1970-01-01T00:00:01.717693200",
          "1970-01-01T00:00:01.717952400",
          "1970-01-01T00:00:01.718038800",
          "1970-01-01T00:00:01.718125200",
          "1970-01-01T00:00:01.718211600",
          "1970-01-01T00:00:01.718298000",
          "1970-01-01T00:00:01.718557200",
          "1970-01-01T00:00:01.718643600",
          "1970-01-01T00:00:01.718730000",
          "1970-01-01T00:00:01.718816400",
          "1970-01-01T00:00:01.718902800",
          "1970-01-01T00:00:01.719162000",
          "1970-01-01T00:00:01.719248400",
          "1970-01-01T00:00:01.719334800",
          "1970-01-01T00:00:01.719421200",
          "1970-01-01T00:00:01.719507600",
          "1970-01-01T00:00:01.719766800",
          "1970-01-01T00:00:01.719853200",
          "1970-01-01T00:00:01.719939600",
          "1970-01-01T00:00:01.720026000",
          "1970-01-01T00:00:01.720112400",
          "1970-01-01T00:00:01.720371600",
          "1970-01-01T00:00:01.720458000",
          "1970-01-01T00:00:01.720544400",
          "1970-01-01T00:00:01.720630800",
          "1970-01-01T00:00:01.720717200",
          "1970-01-01T00:00:01.720976400",
          "1970-01-01T00:00:01.721062800",
          "1970-01-01T00:00:01.721149200",
          "1970-01-01T00:00:01.721235600",
          "1970-01-01T00:00:01.721322000",
          "1970-01-01T00:00:01.721667600",
          "1970-01-01T00:00:01.721754000",
          "1970-01-01T00:00:01.721840400",
          "1970-01-01T00:00:01.721926800",
          "1970-01-01T00:00:01.722272400",
          "1970-01-01T00:00:01.722358800",
          "1970-01-01T00:00:01.722445200",
          "1970-01-01T00:00:01.722531600",
          "1970-01-01T00:00:01.722790800",
          "1970-01-01T00:00:01.722877200",
          "1970-01-01T00:00:01.722963600",
          "1970-01-01T00:00:01.723050000",
          "1970-01-01T00:00:01.723136400",
          "1970-01-01T00:00:01.723482000",
          "1970-01-01T00:00:01.723568400",
          "1970-01-01T00:00:01.723654800",
          "1970-01-01T00:00:01.723741200",
          "1970-01-01T00:00:01.724000400",
          "1970-01-01T00:00:01.724086800",
          "1970-01-01T00:00:01.724173200",
          "1970-01-01T00:00:01.724259600",
          "1970-01-01T00:00:01.724346000",
          "1970-01-01T00:00:01.724605200",
          "1970-01-01T00:00:01.724691600",
          "1970-01-01T00:00:01.724778000",
          "1970-01-01T00:00:01.724864400",
          "1970-01-01T00:00:01.724950800",
          "1970-01-01T00:00:01.725210000",
          "1970-01-01T00:00:01.725296400",
          "1970-01-01T00:00:01.725382800",
          "1970-01-01T00:00:01.725469200",
          "1970-01-01T00:00:01.725555600",
          "1970-01-01T00:00:01.725814800",
          "1970-01-01T00:00:01.725901200",
          "1970-01-01T00:00:01.725987600",
          "1970-01-01T00:00:01.726074000",
          "1970-01-01T00:00:01.726160400",
          "1970-01-01T00:00:01.726419600",
          "1970-01-01T00:00:01.726506000",
          "1970-01-01T00:00:01.726592400",
          "1970-01-01T00:00:01.726678800",
          "1970-01-01T00:00:01.726765200",
          "1970-01-01T00:00:01.727024400",
          "1970-01-01T00:00:01.727110800",
          "1970-01-01T00:00:01.727197200",
          "1970-01-01T00:00:01.727283600",
          "1970-01-01T00:00:01.727370000",
          "1970-01-01T00:00:01.727629200",
          "1970-01-01T00:00:01.727715600",
          "1970-01-01T00:00:01.727802000",
          "1970-01-01T00:00:01.727888400",
          "1970-01-01T00:00:01.727974800",
          "1970-01-01T00:00:01.728234000",
          "1970-01-01T00:00:01.728320400",
          "1970-01-01T00:00:01.728406800",
          "1970-01-01T00:00:01.728493200",
          "1970-01-01T00:00:01.728579600",
          "1970-01-01T00:00:01.728925200",
          "1970-01-01T00:00:01.729011600",
          "1970-01-01T00:00:01.729098000",
          "1970-01-01T00:00:01.729184400",
          "1970-01-01T00:00:01.729443600",
          "1970-01-01T00:00:01.729530000",
          "1970-01-01T00:00:01.729702800",
          "1970-01-01T00:00:01.729789200",
          "1970-01-01T00:00:01.730048400",
          "1970-01-01T00:00:01.730134800",
          "1970-01-01T00:00:01.730221200",
          "1970-01-01T00:00:01.730307600",
          "1970-01-01T00:00:01.730394000",
          "1970-01-01T00:00:01.730653200",
          "1970-01-01T00:00:01.730739600",
          "1970-01-01T00:00:01.730826000",
          "1970-01-01T00:00:01.730912400",
          "1970-01-01T00:00:01.730998800",
          "1970-01-01T00:00:01.731258000",
          "1970-01-01T00:00:01.731344400",
          "1970-01-01T00:00:01.731430800",
          "1970-01-01T00:00:01.731517200",
          "1970-01-01T00:00:01.731603600",
          "1970-01-01T00:00:01.731862800",
          "1970-01-01T00:00:01.731949200",
          "1970-01-01T00:00:01.732035600",
          "1970-01-01T00:00:01.732122000",
          "1970-01-01T00:00:01.732208400",
          "1970-01-01T00:00:01.732467600",
          "1970-01-01T00:00:01.732554000",
          "1970-01-01T00:00:01.732640400",
          "1970-01-01T00:00:01.732726800",
          "1970-01-01T00:00:01.732813200",
          "1970-01-01T00:00:01.733072400",
          "1970-01-01T00:00:01.733158800",
          "1970-01-01T00:00:01.733245200",
          "1970-01-01T00:00:01.733418000",
          "1970-01-01T00:00:01.733677200",
          "1970-01-01T00:00:01.733850000",
          "1970-01-01T00:00:01.733936400",
          "1970-01-01T00:00:01.734022800",
          "1970-01-01T00:00:01.734282000",
          "1970-01-01T00:00:01.734368400",
          "1970-01-01T00:00:01.734454800",
          "1970-01-01T00:00:01.734541200",
          "1970-01-01T00:00:01.734627600",
          "1970-01-01T00:00:01.734886800",
          "1970-01-01T00:00:01.734973200",
          "1970-01-01T00:00:01.735059600",
          "1970-01-01T00:00:01.735146000",
          "1970-01-01T00:00:01.735232400",
          "1970-01-01T00:00:01.735491600",
          "1970-01-01T00:00:01.735750800",
          "1970-01-01T00:00:01.735837200",
          "1970-01-01T00:00:01.736096400",
          "1970-01-01T00:00:01.736182800",
          "1970-01-01T00:00:01.736269200",
          "1970-01-01T00:00:01.736355600",
          "1970-01-01T00:00:01.736442000",
          "1970-01-01T00:00:01.736701200",
          "1970-01-01T00:00:01.736787600",
          "1970-01-01T00:00:01.736874000",
          "1970-01-01T00:00:01.736960400",
          "1970-01-01T00:00:01.737046800",
          "1970-01-01T00:00:01.737306000",
          "1970-01-01T00:00:01.737392400",
          "1970-01-01T00:00:01.737478800",
          "1970-01-01T00:00:01.737565200",
          "1970-01-01T00:00:01.737651600",
          "1970-01-01T00:00:01.737910800",
          "1970-01-01T00:00:01.737997200",
          "1970-01-01T00:00:01.738083600",
          "1970-01-01T00:00:01.738170000",
          "1970-01-01T00:00:01.738256400",
          "1970-01-01T00:00:01.738515600",
          "1970-01-01T00:00:01.738602000",
          "1970-01-01T00:00:01.738688400",
          "1970-01-01T00:00:01.738774800",
          "1970-01-01T00:00:01.738861200",
          "1970-01-01T00:00:01.739120400",
          "1970-01-01T00:00:01.739206800",
          "1970-01-01T00:00:01.739379600",
          "1970-01-01T00:00:01.739466000",
          "1970-01-01T00:00:01.739725200",
          "1970-01-01T00:00:01.739811600",
          "1970-01-01T00:00:01.739898000",
          "1970-01-01T00:00:01.739984400",
          "1970-01-01T00:00:01.740070800",
          "1970-01-01T00:00:01.740330000",
          "1970-01-01T00:00:01.740416400",
          "1970-01-01T00:00:01.740502800",
          "1970-01-01T00:00:01.740589200",
          "1970-01-01T00:00:01.740675600",
          "1970-01-01T00:00:01.740934800",
          "1970-01-01T00:00:01.741021200",
          "1970-01-01T00:00:01.741107600",
          "1970-01-01T00:00:01.741194000",
          "1970-01-01T00:00:01.741280400",
          "1970-01-01T00:00:01.741539600",
          "1970-01-01T00:00:01.741626000",
          "1970-01-01T00:00:01.741712400",
          "1970-01-01T00:00:01.741798800",
          "1970-01-01T00:00:01.741885200",
          "1970-01-01T00:00:01.742144400",
          "1970-01-01T00:00:01.742230800",
          "1970-01-01T00:00:01.742317200",
          "1970-01-01T00:00:01.742403600",
          "1970-01-01T00:00:01.742490000",
          "1970-01-01T00:00:01.742749200",
          "1970-01-01T00:00:01.742835600",
          "1970-01-01T00:00:01.742922000",
          "1970-01-01T00:00:01.743008400",
          "1970-01-01T00:00:01.743094800",
          "1970-01-01T00:00:01.743354000",
          "1970-01-01T00:00:01.743440400",
          "1970-01-01T00:00:01.743526800",
          "1970-01-01T00:00:01.743613200",
          "1970-01-01T00:00:01.743699600",
          "1970-01-01T00:00:01.744045200",
          "1970-01-01T00:00:01.744131600",
          "1970-01-01T00:00:01.744218000",
          "1970-01-01T00:00:01.744304400",
          "1970-01-01T00:00:01.744736400",
          "1970-01-01T00:00:01.744822800",
          "1970-01-01T00:00:01.744909200",
          "1970-01-01T00:00:01.745168400",
          "1970-01-01T00:00:01.745254800",
          "1970-01-01T00:00:01.745341200",
          "1970-01-01T00:00:01.745427600",
          "1970-01-01T00:00:01.745514000",
          "1970-01-01T00:00:01.745773200",
          "1970-01-01T00:00:01.745859600",
          "1970-01-01T00:00:01.745946000",
          "1970-01-01T00:00:01.746118800",
          "1970-01-01T00:00:01.746464400",
          "1970-01-01T00:00:01.746550800",
          "1970-01-01T00:00:01.746637200",
          "1970-01-01T00:00:01.746723600"
         ],
         "y": {
          "bdata": "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",
          "dtype": "i4"
         },
         "yaxis": "y2"
        }
       ],
       "layout": {
        "height": 600,
        "template": {
         "data": {
          "bar": [
           {
            "error_x": {
             "color": "#2a3f5f"
            },
            "error_y": {
             "color": "#2a3f5f"
            },
            "marker": {
             "line": {
              "color": "#E5ECF6",
              "width": 0.5
             },
             "pattern": {
              "fillmode": "overlay",
              "size": 10,
              "solidity": 0.2
             }
            },
            "type": "bar"
           }
          ],
          "barpolar": [
           {
            "marker": {
             "line": {
              "color": "#E5ECF6",
              "width": 0.5
             },
             "pattern": {
              "fillmode": "overlay",
              "size": 10,
              "solidity": 0.2
             }
            },
            "type": "barpolar"
           }
          ],
          "carpet": [
           {
            "aaxis": {
             "endlinecolor": "#2a3f5f",
             "gridcolor": "white",
             "linecolor": "white",
             "minorgridcolor": "white",
             "startlinecolor": "#2a3f5f"
            },
            "baxis": {
             "endlinecolor": "#2a3f5f",
             "gridcolor": "white",
             "linecolor": "white",
             "minorgridcolor": "white",
             "startlinecolor": "#2a3f5f"
            },
            "type": "carpet"
           }
          ],
          "choropleth": [
           {
            "colorbar": {
             "outlinewidth": 0,
             "ticks": ""
            },
            "type": "choropleth"
           }
          ],
          "contour": [
           {
            "colorbar": {
             "outlinewidth": 0,
             "ticks": ""
            },
            "colorscale": [
             [
              0,
              "#0d0887"
             ],
             [
              0.1111111111111111,
              "#46039f"
             ],
             [
              0.2222222222222222,
              "#7201a8"
             ],
             [
              0.3333333333333333,
              "#9c179e"
             ],
             [
              0.4444444444444444,
              "#bd3786"
             ],
             [
              0.5555555555555556,
              "#d8576b"
             ],
             [
              0.6666666666666666,
              "#ed7953"
             ],
             [
              0.7777777777777778,
              "#fb9f3a"
             ],
             [
              0.8888888888888888,
              "#fdca26"
             ],
             [
              1,
              "#f0f921"
             ]
            ],
            "type": "contour"
           }
          ],
          "contourcarpet": [
           {
            "colorbar": {
             "outlinewidth": 0,
             "ticks": ""
            },
            "type": "contourcarpet"
           }
          ],
          "heatmap": [
           {
            "colorbar": {
             "outlinewidth": 0,
             "ticks": ""
            },
            "colorscale": [
             [
              0,
              "#0d0887"
             ],
             [
              0.1111111111111111,
              "#46039f"
             ],
             [
              0.2222222222222222,
              "#7201a8"
             ],
             [
              0.3333333333333333,
              "#9c179e"
             ],
             [
              0.4444444444444444,
              "#bd3786"
             ],
             [
              0.5555555555555556,
              "#d8576b"
             ],
             [
              0.6666666666666666,
              "#ed7953"
             ],
             [
              0.7777777777777778,
              "#fb9f3a"
             ],
             [
              0.8888888888888888,
              "#fdca26"
             ],
             [
              1,
              "#f0f921"
             ]
            ],
            "type": "heatmap"
           }
          ],
          "histogram": [
           {
            "marker": {
             "pattern": {
              "fillmode": "overlay",
              "size": 10,
              "solidity": 0.2
             }
            },
            "type": "histogram"
           }
          ],
          "histogram2d": [
           {
            "colorbar": {
             "outlinewidth": 0,
             "ticks": ""
            },
            "colorscale": [
             [
              0,
              "#0d0887"
             ],
             [
              0.1111111111111111,
              "#46039f"
             ],
             [
              0.2222222222222222,
              "#7201a8"
             ],
             [
              0.3333333333333333,
              "#9c179e"
             ],
             [
              0.4444444444444444,
              "#bd3786"
             ],
             [
              0.5555555555555556,
              "#d8576b"
             ],
             [
              0.6666666666666666,
              "#ed7953"
             ],
             [
              0.7777777777777778,
              "#fb9f3a"
             ],
             [
              0.8888888888888888,
              "#fdca26"
             ],
             [
              1,
              "#f0f921"
             ]
            ],
            "type": "histogram2d"
           }
          ],
          "histogram2dcontour": [
           {
            "colorbar": {
             "outlinewidth": 0,
             "ticks": ""
            },
            "colorscale": [
             [
              0,
              "#0d0887"
             ],
             [
              0.1111111111111111,
              "#46039f"
             ],
             [
              0.2222222222222222,
              "#7201a8"
             ],
             [
              0.3333333333333333,
              "#9c179e"
             ],
             [
              0.4444444444444444,
              "#bd3786"
             ],
             [
              0.5555555555555556,
              "#d8576b"
             ],
             [
              0.6666666666666666,
              "#ed7953"
             ],
             [
              0.7777777777777778,
              "#fb9f3a"
             ],
             [
              0.8888888888888888,
              "#fdca26"
             ],
             [
              1,
              "#f0f921"
             ]
            ],
            "type": "histogram2dcontour"
           }
          ],
          "mesh3d": [
           {
            "colorbar": {
             "outlinewidth": 0,
             "ticks": ""
            },
            "type": "mesh3d"
           }
          ],
          "parcoords": [
           {
            "line": {
             "colorbar": {
              "outlinewidth": 0,
              "ticks": ""
             }
            },
            "type": "parcoords"
           }
          ],
          "pie": [
           {
            "automargin": true,
            "type": "pie"
           }
          ],
          "scatter": [
           {
            "fillpattern": {
             "fillmode": "overlay",
             "size": 10,
             "solidity": 0.2
            },
            "type": "scatter"
           }
          ],
          "scatter3d": [
           {
            "line": {
             "colorbar": {
              "outlinewidth": 0,
              "ticks": ""
             }
            },
            "marker": {
             "colorbar": {
              "outlinewidth": 0,
              "ticks": ""
             }
            },
            "type": "scatter3d"
           }
          ],
          "scattercarpet": [
           {
            "marker": {
             "colorbar": {
              "outlinewidth": 0,
              "ticks": ""
             }
            },
            "type": "scattercarpet"
           }
          ],
          "scattergeo": [
           {
            "marker": {
             "colorbar": {
              "outlinewidth": 0,
              "ticks": ""
             }
            },
            "type": "scattergeo"
           }
          ],
          "scattergl": [
           {
            "marker": {
             "colorbar": {
              "outlinewidth": 0,
              "ticks": ""
             }
            },
            "type": "scattergl"
           }
          ],
          "scattermap": [
           {
            "marker": {
             "colorbar": {
              "outlinewidth": 0,
              "ticks": ""
             }
            },
            "type": "scattermap"
           }
          ],
          "scattermapbox": [
           {
            "marker": {
             "colorbar": {
              "outlinewidth": 0,
              "ticks": ""
             }
            },
            "type": "scattermapbox"
           }
          ],
          "scatterpolar": [
           {
            "marker": {
             "colorbar": {
              "outlinewidth": 0,
              "ticks": ""
             }
            },
            "type": "scatterpolar"
           }
          ],
          "scatterpolargl": [
           {
            "marker": {
             "colorbar": {
              "outlinewidth": 0,
              "ticks": ""
             }
            },
            "type": "scatterpolargl"
           }
          ],
          "scatterternary": [
           {
            "marker": {
             "colorbar": {
              "outlinewidth": 0,
              "ticks": ""
             }
            },
            "type": "scatterternary"
           }
          ],
          "surface": [
           {
            "colorbar": {
             "outlinewidth": 0,
             "ticks": ""
            },
            "colorscale": [
             [
              0,
              "#0d0887"
             ],
             [
              0.1111111111111111,
              "#46039f"
             ],
             [
              0.2222222222222222,
              "#7201a8"
             ],
             [
              0.3333333333333333,
              "#9c179e"
             ],
             [
              0.4444444444444444,
              "#bd3786"
             ],
             [
              0.5555555555555556,
              "#d8576b"
             ],
             [
              0.6666666666666666,
              "#ed7953"
             ],
             [
              0.7777777777777778,
              "#fb9f3a"
             ],
             [
              0.8888888888888888,
              "#fdca26"
             ],
             [
              1,
              "#f0f921"
             ]
            ],
            "type": "surface"
           }
          ],
          "table": [
           {
            "cells": {
             "fill": {
              "color": "#EBF0F8"
             },
             "line": {
              "color": "white"
             }
            },
            "header": {
             "fill": {
              "color": "#C8D4E3"
             },
             "line": {
              "color": "white"
             }
            },
            "type": "table"
           }
          ]
         },
         "layout": {
          "annotationdefaults": {
           "arrowcolor": "#2a3f5f",
           "arrowhead": 0,
           "arrowwidth": 1
          },
          "autotypenumbers": "strict",
          "coloraxis": {
           "colorbar": {
            "outlinewidth": 0,
            "ticks": ""
           }
          },
          "colorscale": {
           "diverging": [
            [
             0,
             "#8e0152"
            ],
            [
             0.1,
             "#c51b7d"
            ],
            [
             0.2,
             "#de77ae"
            ],
            [
             0.3,
             "#f1b6da"
            ],
            [
             0.4,
             "#fde0ef"
            ],
            [
             0.5,
             "#f7f7f7"
            ],
            [
             0.6,
             "#e6f5d0"
            ],
            [
             0.7,
             "#b8e186"
            ],
            [
             0.8,
             "#7fbc41"
            ],
            [
             0.9,
             "#4d9221"
            ],
            [
             1,
             "#276419"
            ]
           ],
           "sequential": [
            [
             0,
             "#0d0887"
            ],
            [
             0.1111111111111111,
             "#46039f"
            ],
            [
             0.2222222222222222,
             "#7201a8"
            ],
            [
             0.3333333333333333,
             "#9c179e"
            ],
            [
             0.4444444444444444,
             "#bd3786"
            ],
            [
             0.5555555555555556,
             "#d8576b"
            ],
            [
             0.6666666666666666,
             "#ed7953"
            ],
            [
             0.7777777777777778,
             "#fb9f3a"
            ],
            [
             0.8888888888888888,
             "#fdca26"
            ],
            [
             1,
             "#f0f921"
            ]
           ],
           "sequentialminus": [
            [
             0,
             "#0d0887"
            ],
            [
             0.1111111111111111,
             "#46039f"
            ],
            [
             0.2222222222222222,
             "#7201a8"
            ],
            [
             0.3333333333333333,
             "#9c179e"
            ],
            [
             0.4444444444444444,
             "#bd3786"
            ],
            [
             0.5555555555555556,
             "#d8576b"
            ],
            [
             0.6666666666666666,
             "#ed7953"
            ],
            [
             0.7777777777777778,
             "#fb9f3a"
            ],
            [
             0.8888888888888888,
             "#fdca26"
            ],
            [
             1,
             "#f0f921"
            ]
           ]
          },
          "colorway": [
           "#636efa",
           "#EF553B",
           "#00cc96",
           "#ab63fa",
           "#FFA15A",
           "#19d3f3",
           "#FF6692",
           "#B6E880",
           "#FF97FF",
           "#FECB52"
          ],
          "font": {
           "color": "#2a3f5f"
          },
          "geo": {
           "bgcolor": "white",
           "lakecolor": "white",
           "landcolor": "#E5ECF6",
           "showlakes": true,
           "showland": true,
           "subunitcolor": "white"
          },
          "hoverlabel": {
           "align": "left"
          },
          "hovermode": "closest",
          "mapbox": {
           "style": "light"
          },
          "paper_bgcolor": "white",
          "plot_bgcolor": "#E5ECF6",
          "polar": {
           "angularaxis": {
            "gridcolor": "white",
            "linecolor": "white",
            "ticks": ""
           },
           "bgcolor": "#E5ECF6",
           "radialaxis": {
            "gridcolor": "white",
            "linecolor": "white",
            "ticks": ""
           }
          },
          "scene": {
           "xaxis": {
            "backgroundcolor": "#E5ECF6",
            "gridcolor": "white",
            "gridwidth": 2,
            "linecolor": "white",
            "showbackground": true,
            "ticks": "",
            "zerolinecolor": "white"
           },
           "yaxis": {
            "backgroundcolor": "#E5ECF6",
            "gridcolor": "white",
            "gridwidth": 2,
            "linecolor": "white",
            "showbackground": true,
            "ticks": "",
            "zerolinecolor": "white"
           },
           "zaxis": {
            "backgroundcolor": "#E5ECF6",
            "gridcolor": "white",
            "gridwidth": 2,
            "linecolor": "white",
            "showbackground": true,
            "ticks": "",
            "zerolinecolor": "white"
           }
          },
          "shapedefaults": {
           "line": {
            "color": "#2a3f5f"
           }
          },
          "ternary": {
           "aaxis": {
            "gridcolor": "white",
            "linecolor": "white",
            "ticks": ""
           },
           "baxis": {
            "gridcolor": "white",
            "linecolor": "white",
            "ticks": ""
           },
           "bgcolor": "#E5ECF6",
           "caxis": {
            "gridcolor": "white",
            "linecolor": "white",
            "ticks": ""
           }
          },
          "title": {
           "x": 0.05
          },
          "xaxis": {
           "automargin": true,
           "gridcolor": "white",
           "linecolor": "white",
           "ticks": "",
           "title": {
            "standoff": 15
           },
           "zerolinecolor": "white",
           "zerolinewidth": 2
          },
          "yaxis": {
           "automargin": true,
           "gridcolor": "white",
           "linecolor": "white",
           "ticks": "",
           "title": {
            "standoff": 15
           },
           "zerolinecolor": "white",
           "zerolinewidth": 2
          }
         }
        },
        "title": {
         "text": "📈 กราฟแท่งเทียนหุ้น TRUBB (ล่าสุดจาก Settrade API)"
        },
        "xaxis": {
         "rangeslider": {
          "visible": false
         }
        },
        "yaxis": {
         "title": {
          "text": "ราคา"
         }
        },
        "yaxis2": {
         "overlaying": "y",
         "showgrid": false,
         "side": "right",
         "title": {
          "text": "Volume"
         }
        }
       }
      }
     },
     "metadata": {},
     "output_type": "display_data"
    }
   ],
   "source": [
    "# สร้าง DataFrame\n",
    "df = pd.DataFrame(raw_data)\n",
    "df[\"time\"] = pd.to_datetime(df[\"time\"])\n",
    "df.set_index(\"time\", inplace=True)\n",
    "\n",
    "# --- วาดกราฟ ---\n",
    "fig = go.Figure()\n",
    "fig.add_trace(go.Candlestick(\n",
    "    x=df.index,\n",
    "    open=df[\"open\"],\n",
    "    high=df[\"high\"],\n",
    "    low=df[\"low\"],\n",
    "    close=df[\"close\"],\n",
    "    name=\"Candlestick\"\n",
    "))\n",
    "fig.add_trace(go.Bar(\n",
    "    x=df.index,\n",
    "    y=df[\"volume\"],\n",
    "    name=\"Volume\",\n",
    "    yaxis='y2',\n",
    "    marker_color='rgba(150,150,150,0.3)'\n",
    "))\n",
    "fig.update_layout(\n",
    "    title=\"📈 กราฟแท่งเทียนหุ้น TRUBB (ล่าสุดจาก Settrade API)\",\n",
    "    xaxis_rangeslider_visible=False,\n",
    "    yaxis=dict(title=\"ราคา\"),\n",
    "    yaxis2=dict(title=\"Volume\", overlaying=\"y\", side=\"right\", showgrid=False),\n",
    "    height=600,\n",
    ")\n",
    "fig.show()"
   ]
  },
  {
   "cell_type": "code",
   "execution_count": 183,
   "id": "e230aae8",
   "metadata": {},
   "outputs": [
    {
     "name": "stdout",
     "output_type": "stream",
     "text": [
      "✅ ข้อมูลถูก insert ลงใน Cassandra เรียบร้อยแล้ว.\n"
     ]
    }
   ],
   "source": [
    "# --- Insert ลง Cassandra ---\n",
    "keyspace_name = \"stock_data\"\n",
    "session.set_keyspace(keyspace_name)\n",
    "\n",
    "for _, row in df.iterrows():\n",
    "    session.execute(\"\"\"\n",
    "        INSERT INTO stock_price (symbol, date, open, high, low, close, volume)\n",
    "        VALUES (%s, %s, %s, %s, %s, %s, %s)\n",
    "    \"\"\", (\n",
    "        \"TRUBB\", row.name.date(), row['open'], row['high'], row['low'], row['close'], int(row['volume'])\n",
    "    ))\n",
    "\n",
    "print(\"✅ ข้อมูลถูก insert ลงใน Cassandra เรียบร้อยแล้ว.\")\n"
   ]
  },
  {
   "cell_type": "code",
   "execution_count": 184,
   "id": "1b4ed82d",
   "metadata": {},
   "outputs": [
    {
     "data": {
      "text/html": [
       "<div>\n",
       "<style scoped>\n",
       "    .dataframe tbody tr th:only-of-type {\n",
       "        vertical-align: middle;\n",
       "    }\n",
       "\n",
       "    .dataframe tbody tr th {\n",
       "        vertical-align: top;\n",
       "    }\n",
       "\n",
       "    .dataframe thead th {\n",
       "        text-align: right;\n",
       "    }\n",
       "</style>\n",
       "<table border=\"1\" class=\"dataframe\">\n",
       "  <thead>\n",
       "    <tr style=\"text-align: right;\">\n",
       "      <th></th>\n",
       "      <th>symbol</th>\n",
       "      <th>date</th>\n",
       "      <th>close</th>\n",
       "      <th>high</th>\n",
       "      <th>low</th>\n",
       "      <th>open</th>\n",
       "      <th>volume</th>\n",
       "    </tr>\n",
       "  </thead>\n",
       "  <tbody>\n",
       "    <tr>\n",
       "      <th>0</th>\n",
       "      <td>TRUBB</td>\n",
       "      <td>1970-01-01</td>\n",
       "      <td>0.62</td>\n",
       "      <td>0.62</td>\n",
       "      <td>0.6</td>\n",
       "      <td>0.62</td>\n",
       "      <td>1417611</td>\n",
       "    </tr>\n",
       "  </tbody>\n",
       "</table>\n",
       "</div>"
      ],
      "text/plain": [
       "  symbol        date  close  high  low  open   volume\n",
       "0  TRUBB  1970-01-01   0.62  0.62  0.6  0.62  1417611"
      ]
     },
     "execution_count": 184,
     "metadata": {},
     "output_type": "execute_result"
    }
   ],
   "source": [
    "# --- อ่านข้อมูลจาก Cassandra มาแสดงผล ---\n",
    "table_name = \"stock_price\"  # ✅ ไม่มีเว้นวรรคด้านหน้า\n",
    "rows = session.execute(f\"SELECT * FROM {table_name} LIMIT 10\")\n",
    "df = pd.DataFrame(rows)\n",
    "df.head(10)"
   ]
  },
  {
   "cell_type": "code",
   "execution_count": null,
   "id": "a1480021",
   "metadata": {},
   "outputs": [],
   "source": []
  }
 ],
 "metadata": {
  "kernelspec": {
   "display_name": "Python 3",
   "language": "python",
   "name": "python3"
  },
  "language_info": {
   "codemirror_mode": {
    "name": "ipython",
    "version": 3
   },
   "file_extension": ".py",
   "mimetype": "text/x-python",
   "name": "python",
   "nbconvert_exporter": "python",
   "pygments_lexer": "ipython3",
   "version": "3.11.5"
  }
 },
 "nbformat": 4,
 "nbformat_minor": 5
}
