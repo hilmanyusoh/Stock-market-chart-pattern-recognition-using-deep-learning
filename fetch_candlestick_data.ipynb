{
 "cells": [
  {
   "cell_type": "code",
   "execution_count": 1,
   "id": "7dca924c",
   "metadata": {},
   "outputs": [],
   "source": [
    "import pandas as pd\n",
    "import numpy as np\n",
    "import os\n",
    "from cassandra.cluster import Cluster\n",
    "from datetime import datetime\n",
    "import plotly.graph_objects as go\n",
    "import settrade_v2\n",
    "from settrade_v2 import Investor\n",
    "import time"
   ]
  },
  {
   "cell_type": "code",
   "execution_count": 2,
   "id": "a5edc479",
   "metadata": {},
   "outputs": [],
   "source": [
    "cluster = Cluster(['127.0.0.1']) \n",
    "session = cluster.connect()"
   ]
  },
  {
   "cell_type": "code",
   "execution_count": null,
   "id": "e33669c1",
   "metadata": {},
   "outputs": [
    {
     "data": {
      "text/plain": [
       "{'creditLine': 2000000000.0,\n",
       " 'excessEquity': 2000000000.0,\n",
       " 'cashBalance': 2000000000.0,\n",
       " 'equity': 2000000000.0,\n",
       " 'totalMR': 0.0,\n",
       " 'totalMM': 0.0,\n",
       " 'totalFM': 0.0,\n",
       " 'callForceFlag': 'No',\n",
       " 'callForceMargin': 0.0,\n",
       " 'liquidationValue': 2000000000.0,\n",
       " 'depositWithdrawal': 0.0,\n",
       " 'callForceMarginMM': 0.0,\n",
       " 'initialMargin': 0.0,\n",
       " 'closingMethod': 'Auto Net'}"
      ]
     },
     "execution_count": 3,
     "metadata": {},
     "output_type": "execute_result"
    }
   ],
   "source": [
    "import settrade_v2\n",
    "from settrade_v2 import Investor\n",
    "\n",
    "investor = Investor(\n",
    "                app_id=\"ZGCsmM0t5c9VMLRJ\",                                 \n",
    "                app_secret=\"T5eQ70WLmOWDpVvV7jicJtspuBR2A361nzVGmR8xTF4=\", \n",
    "                broker_id=\"SANDBOX\",\n",
    "                app_code=\"SANDBOX\",\n",
    "                is_auto_queue = False)\n",
    "\n",
    "deri = investor.Derivatives(account_no=\"Hilman-D\")            \n",
    "\n",
    "account_info = deri.get_account_info()\n",
    "\n",
    "account_info    "
   ]
  },
  {
   "cell_type": "code",
   "execution_count": 4,
   "id": "b58c2197",
   "metadata": {},
   "outputs": [],
   "source": [
    "#Get Candlestick\n",
    "market = investor.MarketData()\n",
    "res = market.get_candlestick(\n",
    "symbol=\"AOT\",\n",
    "interval=\"1d\",\n",
    "limit=1,\n",
    "normalized=True,)"
   ]
  },
  {
   "cell_type": "code",
   "execution_count": 5,
   "id": "3ea9630a",
   "metadata": {},
   "outputs": [
    {
     "data": {
      "text/html": [
       "<div>\n",
       "<style scoped>\n",
       "    .dataframe tbody tr th:only-of-type {\n",
       "        vertical-align: middle;\n",
       "    }\n",
       "\n",
       "    .dataframe tbody tr th {\n",
       "        vertical-align: top;\n",
       "    }\n",
       "\n",
       "    .dataframe thead th {\n",
       "        text-align: right;\n",
       "    }\n",
       "</style>\n",
       "<table border=\"1\" class=\"dataframe\">\n",
       "  <thead>\n",
       "    <tr style=\"text-align: right;\">\n",
       "      <th></th>\n",
       "      <th>lastSequence</th>\n",
       "      <th>time</th>\n",
       "      <th>open</th>\n",
       "      <th>high</th>\n",
       "      <th>low</th>\n",
       "      <th>close</th>\n",
       "      <th>volume</th>\n",
       "      <th>value</th>\n",
       "    </tr>\n",
       "  </thead>\n",
       "  <tbody>\n",
       "    <tr>\n",
       "      <th>0</th>\n",
       "      <td>157799</td>\n",
       "      <td>1754413200</td>\n",
       "      <td>58.5</td>\n",
       "      <td>58.75</td>\n",
       "      <td>41.75</td>\n",
       "      <td>43.25</td>\n",
       "      <td>2846900</td>\n",
       "      <td>150172675.0</td>\n",
       "    </tr>\n",
       "  </tbody>\n",
       "</table>\n",
       "</div>"
      ],
      "text/plain": [
       "   lastSequence        time  open   high    low  close   volume        value\n",
       "0        157799  1754413200  58.5  58.75  41.75  43.25  2846900  150172675.0"
      ]
     },
     "execution_count": 5,
     "metadata": {},
     "output_type": "execute_result"
    }
   ],
   "source": [
    "if isinstance(res, dict) and \"data\" in res:\n",
    "    raw_data = res[\"data\"]\n",
    "else:\n",
    "    raw_data = res  # กรณี res เป็น list เลย\n",
    "df = pd.DataFrame(raw_data)\n",
    "df"
   ]
  },
  {
   "cell_type": "code",
   "execution_count": 6,
   "id": "30a63d68",
   "metadata": {},
   "outputs": [],
   "source": [
    "session.set_keyspace('stock_data')"
   ]
  },
  {
   "cell_type": "code",
   "execution_count": 3,
   "id": "2036ba41",
   "metadata": {},
   "outputs": [
    {
     "ename": "NameError",
     "evalue": "name 'session' is not defined",
     "output_type": "error",
     "traceback": [
      "\u001b[31m---------------------------------------------------------------------------\u001b[39m",
      "\u001b[31mNameError\u001b[39m                                 Traceback (most recent call last)",
      "\u001b[36mCell\u001b[39m\u001b[36m \u001b[39m\u001b[32mIn[3]\u001b[39m\u001b[32m, line 1\u001b[39m\n\u001b[32m----> \u001b[39m\u001b[32m1\u001b[39m \u001b[43msession\u001b[49m.execute(\u001b[33m\"\"\"\u001b[39m\n\u001b[32m      2\u001b[39m \u001b[33m    CREATE TABLE IF NOT EXISTS candlestick_data (\u001b[39m\n\u001b[32m      3\u001b[39m \u001b[33m        symbol text,\u001b[39m\n\u001b[32m      4\u001b[39m \u001b[33m        time timestamp,\u001b[39m\n\u001b[32m      5\u001b[39m \u001b[33m        open_price float,\u001b[39m\n\u001b[32m      6\u001b[39m \u001b[33m        high_price float,\u001b[39m\n\u001b[32m      7\u001b[39m \u001b[33m        low_price float,\u001b[39m\n\u001b[32m      8\u001b[39m \u001b[33m        close_price float,\u001b[39m\n\u001b[32m      9\u001b[39m \u001b[33m        volume bigint,\u001b[39m\n\u001b[32m     10\u001b[39m \u001b[33m        value float,\u001b[39m\n\u001b[32m     11\u001b[39m \u001b[33m        PRIMARY KEY (symbol, time)\u001b[39m\n\u001b[32m     12\u001b[39m \u001b[33m    ) WITH CLUSTERING ORDER BY (time ASC);\u001b[39m\n\u001b[32m     13\u001b[39m \u001b[33m\"\"\"\u001b[39m)\n\u001b[32m     14\u001b[39m \u001b[38;5;28mprint\u001b[39m(\u001b[33m\"\u001b[39m\u001b[33m✅ Keyspace และ Table พร้อมใช้งาน!\u001b[39m\u001b[33m\"\u001b[39m)\n",
      "\u001b[31mNameError\u001b[39m: name 'session' is not defined"
     ]
    }
   ],
   "source": [
    "session.execute(\"\"\"\n",
    "    CREATE TABLE IF NOT EXISTS candlestick_data (\n",
    "        symbol text,\n",
    "        time timestamp,\n",
    "        open_price float,\n",
    "        high_price float,\n",
    "        low_price float,\n",
    "        close_price float,\n",
    "        volume bigint,\n",
    "        value float,\n",
    "        PRIMARY KEY (symbol, time)\n",
    "    ) WITH CLUSTERING ORDER BY (time ASC);\n",
    "\"\"\")\n",
    "print(\"✅ Keyspace และ Table พร้อมใช้งาน!\")"
   ]
  },
  {
   "cell_type": "code",
   "execution_count": 8,
   "id": "3ac68930",
   "metadata": {},
   "outputs": [
    {
     "name": "stdout",
     "output_type": "stream",
     "text": [
      "\n",
      "📦 กำลังโหลดข้อมูล 24CS ...\n",
      "✅ เพิ่มข้อมูล 645 รายการของหุ้น 24CS สำเร็จ!\n",
      "\n",
      "📦 กำลังโหลดข้อมูล 2S ...\n",
      "✅ เพิ่มข้อมูล 721 รายการของหุ้น 2S สำเร็จ!\n",
      "\n",
      "📦 กำลังโหลดข้อมูล 3BBIF ...\n",
      "✅ เพิ่มข้อมูล 721 รายการของหุ้น 3BBIF สำเร็จ!\n",
      "\n",
      "📦 กำลังโหลดข้อมูล A ...\n",
      "✅ เพิ่มข้อมูล 712 รายการของหุ้น A สำเร็จ!\n",
      "\n",
      "📦 กำลังโหลดข้อมูล A5 ...\n"
     ]
    },
    {
     "ename": "KeyboardInterrupt",
     "evalue": "",
     "output_type": "error",
     "traceback": [
      "\u001b[31m---------------------------------------------------------------------------\u001b[39m",
      "\u001b[31mKeyboardInterrupt\u001b[39m                         Traceback (most recent call last)",
      "\u001b[36mCell\u001b[39m\u001b[36m \u001b[39m\u001b[32mIn[8]\u001b[39m\u001b[32m, line 58\u001b[39m\n\u001b[32m     56\u001b[39m     \u001b[38;5;28mprint\u001b[39m(\u001b[33mf\u001b[39m\u001b[33m\"\u001b[39m\u001b[38;5;130;01m\\n\u001b[39;00m\u001b[33m📦 กำลังโหลดข้อมูล \u001b[39m\u001b[38;5;132;01m{\u001b[39;00msymbol\u001b[38;5;132;01m}\u001b[39;00m\u001b[33m ...\u001b[39m\u001b[33m\"\u001b[39m)\n\u001b[32m     57\u001b[39m     res = get_candlestick_data(symbol)\n\u001b[32m---> \u001b[39m\u001b[32m58\u001b[39m     \u001b[43minsert_historical_data\u001b[49m\u001b[43m(\u001b[49m\u001b[43msymbol\u001b[49m\u001b[43m,\u001b[49m\u001b[43m \u001b[49m\u001b[43mres\u001b[49m\u001b[43m)\u001b[49m\n\u001b[32m     59\u001b[39m     time.sleep(\u001b[32m2\u001b[39m)  \u001b[38;5;66;03m# 🕒 ลดโอกาสถูก block จาก API\u001b[39;00m\n\u001b[32m     61\u001b[39m \u001b[38;5;28mprint\u001b[39m(\u001b[33m\"\u001b[39m\u001b[38;5;130;01m\\n\u001b[39;00m\u001b[33m🎉 เสร็จสิ้นการโหลดข้อมูลทั้งหมด!\u001b[39m\u001b[33m\"\u001b[39m)\n",
      "\u001b[36mCell\u001b[39m\u001b[36m \u001b[39m\u001b[32mIn[8]\u001b[39m\u001b[32m, line 36\u001b[39m, in \u001b[36minsert_historical_data\u001b[39m\u001b[34m(symbol, res)\u001b[39m\n\u001b[32m     32\u001b[39m \u001b[38;5;28;01mfor\u001b[39;00m i \u001b[38;5;129;01min\u001b[39;00m \u001b[38;5;28mrange\u001b[39m(\u001b[38;5;28mlen\u001b[39m(res[\u001b[33m\"\u001b[39m\u001b[33mtime\u001b[39m\u001b[33m\"\u001b[39m])):\n\u001b[32m     33\u001b[39m     \u001b[38;5;66;03m# ✅ แปลง timestamp ให้ถูกต้อง\u001b[39;00m\n\u001b[32m     34\u001b[39m     timestamp = datetime.fromtimestamp(res[\u001b[33m\"\u001b[39m\u001b[33mtime\u001b[39m\u001b[33m\"\u001b[39m][i])\n\u001b[32m---> \u001b[39m\u001b[32m36\u001b[39m     \u001b[43msession\u001b[49m\u001b[43m.\u001b[49m\u001b[43mexecute\u001b[49m\u001b[43m(\u001b[49m\u001b[33;43m\"\"\"\u001b[39;49m\n\u001b[32m     37\u001b[39m \u001b[33;43m        INSERT INTO candlestick_data (\u001b[39;49m\n\u001b[32m     38\u001b[39m \u001b[33;43m            symbol, time, open_price, high_price, low_price,\u001b[39;49m\n\u001b[32m     39\u001b[39m \u001b[33;43m            close_price, volume, value\u001b[39;49m\n\u001b[32m     40\u001b[39m \u001b[33;43m        ) VALUES (\u001b[39;49m\u001b[38;5;132;43;01m%s\u001b[39;49;00m\u001b[33;43m, \u001b[39;49m\u001b[38;5;132;43;01m%s\u001b[39;49;00m\u001b[33;43m, \u001b[39;49m\u001b[38;5;132;43;01m%s\u001b[39;49;00m\u001b[33;43m, \u001b[39;49m\u001b[38;5;132;43;01m%s\u001b[39;49;00m\u001b[33;43m, \u001b[39;49m\u001b[38;5;132;43;01m%s\u001b[39;49;00m\u001b[33;43m, \u001b[39;49m\u001b[38;5;132;43;01m%s\u001b[39;49;00m\u001b[33;43m, \u001b[39;49m\u001b[38;5;132;43;01m%s\u001b[39;49;00m\u001b[33;43m, \u001b[39;49m\u001b[38;5;132;43;01m%s\u001b[39;49;00m\u001b[33;43m)\u001b[39;49m\n\u001b[32m     41\u001b[39m \u001b[33;43m    \u001b[39;49m\u001b[33;43m\"\"\"\u001b[39;49m\u001b[43m,\u001b[49m\u001b[43m \u001b[49m\u001b[43m(\u001b[49m\n\u001b[32m     42\u001b[39m \u001b[43m        \u001b[49m\u001b[43msymbol\u001b[49m\u001b[43m,\u001b[49m\n\u001b[32m     43\u001b[39m \u001b[43m        \u001b[49m\u001b[43mtimestamp\u001b[49m\u001b[43m,\u001b[49m\n\u001b[32m     44\u001b[39m \u001b[43m        \u001b[49m\u001b[43mres\u001b[49m\u001b[43m[\u001b[49m\u001b[33;43m\"\u001b[39;49m\u001b[33;43mopen\u001b[39;49m\u001b[33;43m\"\u001b[39;49m\u001b[43m]\u001b[49m\u001b[43m[\u001b[49m\u001b[43mi\u001b[49m\u001b[43m]\u001b[49m\u001b[43m,\u001b[49m\n\u001b[32m     45\u001b[39m \u001b[43m        \u001b[49m\u001b[43mres\u001b[49m\u001b[43m[\u001b[49m\u001b[33;43m\"\u001b[39;49m\u001b[33;43mhigh\u001b[39;49m\u001b[33;43m\"\u001b[39;49m\u001b[43m]\u001b[49m\u001b[43m[\u001b[49m\u001b[43mi\u001b[49m\u001b[43m]\u001b[49m\u001b[43m,\u001b[49m\n\u001b[32m     46\u001b[39m \u001b[43m        \u001b[49m\u001b[43mres\u001b[49m\u001b[43m[\u001b[49m\u001b[33;43m\"\u001b[39;49m\u001b[33;43mlow\u001b[39;49m\u001b[33;43m\"\u001b[39;49m\u001b[43m]\u001b[49m\u001b[43m[\u001b[49m\u001b[43mi\u001b[49m\u001b[43m]\u001b[49m\u001b[43m,\u001b[49m\n\u001b[32m     47\u001b[39m \u001b[43m        \u001b[49m\u001b[43mres\u001b[49m\u001b[43m[\u001b[49m\u001b[33;43m\"\u001b[39;49m\u001b[33;43mclose\u001b[39;49m\u001b[33;43m\"\u001b[39;49m\u001b[43m]\u001b[49m\u001b[43m[\u001b[49m\u001b[43mi\u001b[49m\u001b[43m]\u001b[49m\u001b[43m,\u001b[49m\n\u001b[32m     48\u001b[39m \u001b[43m        \u001b[49m\u001b[43mres\u001b[49m\u001b[43m[\u001b[49m\u001b[33;43m\"\u001b[39;49m\u001b[33;43mvolume\u001b[39;49m\u001b[33;43m\"\u001b[39;49m\u001b[43m]\u001b[49m\u001b[43m[\u001b[49m\u001b[43mi\u001b[49m\u001b[43m]\u001b[49m\u001b[43m,\u001b[49m\n\u001b[32m     49\u001b[39m \u001b[43m        \u001b[49m\u001b[43mres\u001b[49m\u001b[43m[\u001b[49m\u001b[33;43m\"\u001b[39;49m\u001b[33;43mvalue\u001b[39;49m\u001b[33;43m\"\u001b[39;49m\u001b[43m]\u001b[49m\u001b[43m[\u001b[49m\u001b[43mi\u001b[49m\u001b[43m]\u001b[49m\n\u001b[32m     50\u001b[39m \u001b[43m    \u001b[49m\u001b[43m)\u001b[49m\u001b[43m)\u001b[49m\n\u001b[32m     52\u001b[39m \u001b[38;5;28mprint\u001b[39m(\u001b[33mf\u001b[39m\u001b[33m\"\u001b[39m\u001b[33m✅ เพิ่มข้อมูล \u001b[39m\u001b[38;5;132;01m{\u001b[39;00m\u001b[38;5;28mlen\u001b[39m(res[\u001b[33m'\u001b[39m\u001b[33mtime\u001b[39m\u001b[33m'\u001b[39m])\u001b[38;5;132;01m}\u001b[39;00m\u001b[33m รายการของหุ้น \u001b[39m\u001b[38;5;132;01m{\u001b[39;00msymbol\u001b[38;5;132;01m}\u001b[39;00m\u001b[33m สำเร็จ!\u001b[39m\u001b[33m\"\u001b[39m)\n",
      "\u001b[36mFile \u001b[39m\u001b[32m/Library/Frameworks/Python.framework/Versions/3.11/lib/python3.11/site-packages/cassandra/cluster.py:2677\u001b[39m, in \u001b[36mSession.execute\u001b[39m\u001b[34m(self, query, parameters, timeout, trace, custom_payload, execution_profile, paging_state, host, execute_as)\u001b[39m\n\u001b[32m   2634\u001b[39m \u001b[38;5;28;01mdef\u001b[39;00m\u001b[38;5;250m \u001b[39m\u001b[34mexecute\u001b[39m(\u001b[38;5;28mself\u001b[39m, query, parameters=\u001b[38;5;28;01mNone\u001b[39;00m, timeout=_NOT_SET, trace=\u001b[38;5;28;01mFalse\u001b[39;00m,\n\u001b[32m   2635\u001b[39m             custom_payload=\u001b[38;5;28;01mNone\u001b[39;00m, execution_profile=EXEC_PROFILE_DEFAULT,\n\u001b[32m   2636\u001b[39m             paging_state=\u001b[38;5;28;01mNone\u001b[39;00m, host=\u001b[38;5;28;01mNone\u001b[39;00m, execute_as=\u001b[38;5;28;01mNone\u001b[39;00m):\n\u001b[32m   2637\u001b[39m \u001b[38;5;250m    \u001b[39m\u001b[33;03m\"\"\"\u001b[39;00m\n\u001b[32m   2638\u001b[39m \u001b[33;03m    Execute the given query and synchronously wait for the response.\u001b[39;00m\n\u001b[32m   2639\u001b[39m \n\u001b[32m   (...)\u001b[39m\u001b[32m   2674\u001b[39m \u001b[33;03m    on a DSE cluster.\u001b[39;00m\n\u001b[32m   2675\u001b[39m \u001b[33;03m    \"\"\"\u001b[39;00m\n\u001b[32m-> \u001b[39m\u001b[32m2677\u001b[39m     \u001b[38;5;28;01mreturn\u001b[39;00m \u001b[38;5;28;43mself\u001b[39;49m\u001b[43m.\u001b[49m\u001b[43mexecute_async\u001b[49m\u001b[43m(\u001b[49m\u001b[43mquery\u001b[49m\u001b[43m,\u001b[49m\u001b[43m \u001b[49m\u001b[43mparameters\u001b[49m\u001b[43m,\u001b[49m\u001b[43m \u001b[49m\u001b[43mtrace\u001b[49m\u001b[43m,\u001b[49m\u001b[43m \u001b[49m\u001b[43mcustom_payload\u001b[49m\u001b[43m,\u001b[49m\u001b[43m \u001b[49m\u001b[43mtimeout\u001b[49m\u001b[43m,\u001b[49m\u001b[43m \u001b[49m\u001b[43mexecution_profile\u001b[49m\u001b[43m,\u001b[49m\u001b[43m \u001b[49m\u001b[43mpaging_state\u001b[49m\u001b[43m,\u001b[49m\u001b[43m \u001b[49m\u001b[43mhost\u001b[49m\u001b[43m,\u001b[49m\u001b[43m \u001b[49m\u001b[43mexecute_as\u001b[49m\u001b[43m)\u001b[49m\u001b[43m.\u001b[49m\u001b[43mresult\u001b[49m\u001b[43m(\u001b[49m\u001b[43m)\u001b[49m\n",
      "\u001b[36mFile \u001b[39m\u001b[32m/Library/Frameworks/Python.framework/Versions/3.11/lib/python3.11/site-packages/cassandra/cluster.py:4952\u001b[39m, in \u001b[36mResponseFuture.result\u001b[39m\u001b[34m(self)\u001b[39m\n\u001b[32m   4927\u001b[39m \u001b[38;5;28;01mdef\u001b[39;00m\u001b[38;5;250m \u001b[39m\u001b[34mresult\u001b[39m(\u001b[38;5;28mself\u001b[39m):\n\u001b[32m   4928\u001b[39m \u001b[38;5;250m    \u001b[39m\u001b[33;03m\"\"\"\u001b[39;00m\n\u001b[32m   4929\u001b[39m \u001b[33;03m    Return the final result or raise an Exception if errors were\u001b[39;00m\n\u001b[32m   4930\u001b[39m \u001b[33;03m    encountered.  If the final result or error has not been set\u001b[39;00m\n\u001b[32m   (...)\u001b[39m\u001b[32m   4950\u001b[39m \n\u001b[32m   4951\u001b[39m \u001b[33;03m    \"\"\"\u001b[39;00m\n\u001b[32m-> \u001b[39m\u001b[32m4952\u001b[39m     \u001b[38;5;28;43mself\u001b[39;49m\u001b[43m.\u001b[49m\u001b[43m_event\u001b[49m\u001b[43m.\u001b[49m\u001b[43mwait\u001b[49m\u001b[43m(\u001b[49m\u001b[43m)\u001b[49m\n\u001b[32m   4953\u001b[39m     \u001b[38;5;28;01mif\u001b[39;00m \u001b[38;5;28mself\u001b[39m._final_result \u001b[38;5;129;01mis\u001b[39;00m \u001b[38;5;129;01mnot\u001b[39;00m _NOT_SET:\n\u001b[32m   4954\u001b[39m         \u001b[38;5;28;01mreturn\u001b[39;00m ResultSet(\u001b[38;5;28mself\u001b[39m, \u001b[38;5;28mself\u001b[39m._final_result)\n",
      "\u001b[36mFile \u001b[39m\u001b[32m/Library/Frameworks/Python.framework/Versions/3.11/lib/python3.11/threading.py:622\u001b[39m, in \u001b[36mEvent.wait\u001b[39m\u001b[34m(self, timeout)\u001b[39m\n\u001b[32m    620\u001b[39m signaled = \u001b[38;5;28mself\u001b[39m._flag\n\u001b[32m    621\u001b[39m \u001b[38;5;28;01mif\u001b[39;00m \u001b[38;5;129;01mnot\u001b[39;00m signaled:\n\u001b[32m--> \u001b[39m\u001b[32m622\u001b[39m     signaled = \u001b[38;5;28;43mself\u001b[39;49m\u001b[43m.\u001b[49m\u001b[43m_cond\u001b[49m\u001b[43m.\u001b[49m\u001b[43mwait\u001b[49m\u001b[43m(\u001b[49m\u001b[43mtimeout\u001b[49m\u001b[43m)\u001b[49m\n\u001b[32m    623\u001b[39m \u001b[38;5;28;01mreturn\u001b[39;00m signaled\n",
      "\u001b[36mFile \u001b[39m\u001b[32m/Library/Frameworks/Python.framework/Versions/3.11/lib/python3.11/threading.py:320\u001b[39m, in \u001b[36mCondition.wait\u001b[39m\u001b[34m(self, timeout)\u001b[39m\n\u001b[32m    318\u001b[39m \u001b[38;5;28;01mtry\u001b[39;00m:    \u001b[38;5;66;03m# restore state no matter what (e.g., KeyboardInterrupt)\u001b[39;00m\n\u001b[32m    319\u001b[39m     \u001b[38;5;28;01mif\u001b[39;00m timeout \u001b[38;5;129;01mis\u001b[39;00m \u001b[38;5;28;01mNone\u001b[39;00m:\n\u001b[32m--> \u001b[39m\u001b[32m320\u001b[39m         \u001b[43mwaiter\u001b[49m\u001b[43m.\u001b[49m\u001b[43macquire\u001b[49m\u001b[43m(\u001b[49m\u001b[43m)\u001b[49m\n\u001b[32m    321\u001b[39m         gotit = \u001b[38;5;28;01mTrue\u001b[39;00m\n\u001b[32m    322\u001b[39m     \u001b[38;5;28;01melse\u001b[39;00m:\n",
      "\u001b[31mKeyboardInterrupt\u001b[39m: "
     ]
    }
   ],
   "source": [
    "# ✅ โหลดรายชื่อหุ้นทั้งหมด\n",
    "import pandas as pd\n",
    "\n",
    "try:\n",
    "    symbols_df = pd.read_excel(\"/Users/hilmanyusoh/Desktop/Stock-market-chart-pattern-recognition-using-deep-learning/data_collection/settrade1.xlsx\")\n",
    "    symbols = symbols_df['หลักทรัพย์'].dropna().tolist()\n",
    "except FileNotFoundError:\n",
    "    print(\"❌ ไม่พบไฟล์ 'get_stock_name' กรุณาตรวจสอบชื่อไฟล์และตำแหน่งให้ถูกต้อง\")\n",
    "    raise  # หยุดโปรแกรมทันทีโดยแสดง error\n",
    "\n",
    "\n",
    "# ✅ ฟังก์ชันดึง candlestick จาก API\n",
    "def get_candlestick_data(symbol):\n",
    "    try:\n",
    "        res = market.get_candlestick(  # ✅ ต้องกำหนด market ก่อนใช้\n",
    "            symbol=symbol,\n",
    "            interval=\"1d\",\n",
    "            limit=1000,\n",
    "            normalized=True\n",
    "        )\n",
    "        return res\n",
    "    except Exception as e:\n",
    "        print(f\"❌ ไม่สามารถดึงข้อมูลของ {symbol}: {e}\")\n",
    "        return None\n",
    "\n",
    "# ✅ ฟังก์ชัน insert ข้อมูลลง Cassandra\n",
    "def insert_historical_data(symbol, res):\n",
    "    if not res or 'time' not in res:\n",
    "        print(f\"⚠️ ไม่มีข้อมูลสำหรับ {symbol}\")\n",
    "        return\n",
    "\n",
    "    for i in range(len(res[\"time\"])):\n",
    "        # ✅ แปลง timestamp ให้ถูกต้อง\n",
    "        timestamp = datetime.fromtimestamp(res[\"time\"][i])\n",
    "\n",
    "        session.execute(\"\"\"\n",
    "            INSERT INTO candlestick_data (\n",
    "                symbol, time, open_price, high_price, low_price,\n",
    "                close_price, volume, value\n",
    "            ) VALUES (%s, %s, %s, %s, %s, %s, %s, %s)\n",
    "        \"\"\", (\n",
    "            symbol,\n",
    "            timestamp,\n",
    "            res[\"open\"][i],\n",
    "            res[\"high\"][i],\n",
    "            res[\"low\"][i],\n",
    "            res[\"close\"][i],\n",
    "            res[\"volume\"][i],\n",
    "            res[\"value\"][i]\n",
    "        ))\n",
    "\n",
    "    print(f\"✅ เพิ่มข้อมูล {len(res['time'])} รายการของหุ้น {symbol} สำเร็จ!\")\n",
    "\n",
    "# ✅ ดึงและบันทึกข้อมูลทุกหุ้น\n",
    "for symbol in symbols:\n",
    "    print(f\"\\n📦 กำลังโหลดข้อมูล {symbol} ...\")\n",
    "    res = get_candlestick_data(symbol)\n",
    "    insert_historical_data(symbol, res)\n",
    "    time.sleep(2)  # 🕒 ลดโอกาสถูก block จาก API\n",
    "\n",
    "print(\"\\n🎉 เสร็จสิ้นการโหลดข้อมูลทั้งหมด!\")"
   ]
  },
  {
   "cell_type": "code",
   "execution_count": null,
   "id": "f256c9f3",
   "metadata": {},
   "outputs": [],
   "source": [
    "stock = \"AOT\"\n",
    "rows = session.execute(f\"SELECT * FROM candlestick_data WHERE symbol = '{stock}'\")"
   ]
  },
  {
   "cell_type": "code",
   "execution_count": null,
   "id": "3a2e5d7a",
   "metadata": {},
   "outputs": [
    {
     "data": {
      "text/html": [
       "<div>\n",
       "<style scoped>\n",
       "    .dataframe tbody tr th:only-of-type {\n",
       "        vertical-align: middle;\n",
       "    }\n",
       "\n",
       "    .dataframe tbody tr th {\n",
       "        vertical-align: top;\n",
       "    }\n",
       "\n",
       "    .dataframe thead th {\n",
       "        text-align: right;\n",
       "    }\n",
       "</style>\n",
       "<table border=\"1\" class=\"dataframe\">\n",
       "  <thead>\n",
       "    <tr style=\"text-align: right;\">\n",
       "      <th></th>\n",
       "      <th>symbol</th>\n",
       "      <th>time</th>\n",
       "      <th>open_price</th>\n",
       "      <th>high_price</th>\n",
       "      <th>low_price</th>\n",
       "      <th>close_price</th>\n",
       "      <th>volume</th>\n",
       "      <th>value</th>\n",
       "    </tr>\n",
       "  </thead>\n",
       "  <tbody>\n",
       "    <tr>\n",
       "      <th>0</th>\n",
       "      <td>AOT</td>\n",
       "      <td>2022-05-17</td>\n",
       "      <td>67.5</td>\n",
       "      <td>67.75</td>\n",
       "      <td>66.75</td>\n",
       "      <td>67.25</td>\n",
       "      <td>2.074319e+09</td>\n",
       "      <td>30793716</td>\n",
       "    </tr>\n",
       "    <tr>\n",
       "      <th>1</th>\n",
       "      <td>AOT</td>\n",
       "      <td>2022-05-18</td>\n",
       "      <td>68.0</td>\n",
       "      <td>68.25</td>\n",
       "      <td>67.50</td>\n",
       "      <td>67.75</td>\n",
       "      <td>2.451592e+09</td>\n",
       "      <td>36115430</td>\n",
       "    </tr>\n",
       "    <tr>\n",
       "      <th>2</th>\n",
       "      <td>AOT</td>\n",
       "      <td>2022-05-19</td>\n",
       "      <td>68.0</td>\n",
       "      <td>68.00</td>\n",
       "      <td>67.25</td>\n",
       "      <td>67.50</td>\n",
       "      <td>1.545014e+09</td>\n",
       "      <td>22804375</td>\n",
       "    </tr>\n",
       "    <tr>\n",
       "      <th>3</th>\n",
       "      <td>AOT</td>\n",
       "      <td>2022-05-20</td>\n",
       "      <td>69.0</td>\n",
       "      <td>69.00</td>\n",
       "      <td>68.00</td>\n",
       "      <td>68.00</td>\n",
       "      <td>2.302927e+09</td>\n",
       "      <td>33533585</td>\n",
       "    </tr>\n",
       "    <tr>\n",
       "      <th>4</th>\n",
       "      <td>AOT</td>\n",
       "      <td>2022-05-23</td>\n",
       "      <td>69.5</td>\n",
       "      <td>69.50</td>\n",
       "      <td>68.50</td>\n",
       "      <td>69.50</td>\n",
       "      <td>2.058383e+09</td>\n",
       "      <td>29738708</td>\n",
       "    </tr>\n",
       "  </tbody>\n",
       "</table>\n",
       "</div>"
      ],
      "text/plain": [
       "  symbol       time  open_price  high_price  low_price  close_price  \\\n",
       "0    AOT 2022-05-17        67.5       67.75      66.75        67.25   \n",
       "1    AOT 2022-05-18        68.0       68.25      67.50        67.75   \n",
       "2    AOT 2022-05-19        68.0       68.00      67.25        67.50   \n",
       "3    AOT 2022-05-20        69.0       69.00      68.00        68.00   \n",
       "4    AOT 2022-05-23        69.5       69.50      68.50        69.50   \n",
       "\n",
       "         volume     value  \n",
       "0  2.074319e+09  30793716  \n",
       "1  2.451592e+09  36115430  \n",
       "2  1.545014e+09  22804375  \n",
       "3  2.302927e+09  33533585  \n",
       "4  2.058383e+09  29738708  "
      ]
     },
     "execution_count": 18,
     "metadata": {},
     "output_type": "execute_result"
    }
   ],
   "source": [
    "df = pd.DataFrame(rows, columns=[\n",
    "    'symbol', 'time', 'open_price', 'high_price', 'low_price', 'close_price', 'volume', 'value'\n",
    "])\n",
    "\n",
    "# ✅ แปลงชนิดเวลา + เรียงลำดับ\n",
    "df['time'] = pd.to_datetime(df['time'])\n",
    "df = df.sort_values('time').reset_index(drop=True)\n",
    "df.head()"
   ]
  },
  {
   "cell_type": "code",
   "execution_count": null,
   "id": "724966e8",
   "metadata": {},
   "outputs": [
    {
     "data": {
      "application/vnd.plotly.v1+json": {
       "config": {
        "plotlyServerURL": "https://plot.ly"
       },
       "data": [
        {
         "close": {
          "bdata": "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",
          "dtype": "f8"
         },
         "high": {
          "bdata": "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",
          "dtype": "f8"
         },
         "low": {
          "bdata": "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",
          "dtype": "f8"
         },
         "name": "AOT",
         "open": {
          "bdata": "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",
          "dtype": "f8"
         },
         "type": "candlestick",
         "x": [
          "2022-05-17T00:00:00",
          "2022-05-18T00:00:00",
          "2022-05-19T00:00:00",
          "2022-05-20T00:00:00",
          "2022-05-23T00:00:00",
          "2022-05-24T00:00:00",
          "2022-05-25T00:00:00",
          "2022-05-26T00:00:00",
          "2022-05-27T00:00:00",
          "2022-05-30T00:00:00",
          "2022-05-31T00:00:00",
          "2022-06-01T00:00:00",
          "2022-06-02T00:00:00",
          "2022-06-06T00:00:00",
          "2022-06-07T00:00:00",
          "2022-06-08T00:00:00",
          "2022-06-09T00:00:00",
          "2022-06-10T00:00:00",
          "2022-06-13T00:00:00",
          "2022-06-14T00:00:00",
          "2022-06-15T00:00:00",
          "2022-06-16T00:00:00",
          "2022-06-17T00:00:00",
          "2022-06-20T00:00:00",
          "2022-06-21T00:00:00",
          "2022-06-22T00:00:00",
          "2022-06-23T00:00:00",
          "2022-06-24T00:00:00",
          "2022-06-27T00:00:00",
          "2022-06-28T00:00:00",
          "2022-06-29T00:00:00",
          "2022-06-30T00:00:00",
          "2022-07-01T00:00:00",
          "2022-07-04T00:00:00",
          "2022-07-05T00:00:00",
          "2022-07-06T00:00:00",
          "2022-07-07T00:00:00",
          "2022-07-08T00:00:00",
          "2022-07-11T00:00:00",
          "2022-07-12T00:00:00",
          "2022-07-14T00:00:00",
          "2022-07-15T00:00:00",
          "2022-07-18T00:00:00",
          "2022-07-19T00:00:00",
          "2022-07-20T00:00:00",
          "2022-07-21T00:00:00",
          "2022-07-22T00:00:00",
          "2022-07-25T00:00:00",
          "2022-07-26T00:00:00",
          "2022-07-27T00:00:00",
          "2022-08-01T00:00:00",
          "2022-08-02T00:00:00",
          "2022-08-03T00:00:00",
          "2022-08-04T00:00:00",
          "2022-08-05T00:00:00",
          "2022-08-08T00:00:00",
          "2022-08-09T00:00:00",
          "2022-08-10T00:00:00",
          "2022-08-11T00:00:00",
          "2022-08-15T00:00:00",
          "2022-08-16T00:00:00",
          "2022-08-17T00:00:00",
          "2022-08-18T00:00:00",
          "2022-08-19T00:00:00",
          "2022-08-22T00:00:00",
          "2022-08-23T00:00:00",
          "2022-08-24T00:00:00",
          "2022-08-25T00:00:00",
          "2022-08-26T00:00:00",
          "2022-08-29T00:00:00",
          "2022-08-30T00:00:00",
          "2022-08-31T00:00:00",
          "2022-09-01T00:00:00",
          "2022-09-02T00:00:00",
          "2022-09-05T00:00:00",
          "2022-09-06T00:00:00",
          "2022-09-07T00:00:00",
          "2022-09-08T00:00:00",
          "2022-09-09T00:00:00",
          "2022-09-12T00:00:00",
          "2022-09-13T00:00:00",
          "2022-09-14T00:00:00",
          "2022-09-15T00:00:00",
          "2022-09-16T00:00:00",
          "2022-09-19T00:00:00",
          "2022-09-20T00:00:00",
          "2022-09-21T00:00:00",
          "2022-09-22T00:00:00",
          "2022-09-23T00:00:00",
          "2022-09-26T00:00:00",
          "2022-09-27T00:00:00",
          "2022-09-28T00:00:00",
          "2022-09-29T00:00:00",
          "2022-09-30T00:00:00",
          "2022-10-03T00:00:00",
          "2022-10-04T00:00:00",
          "2022-10-05T00:00:00",
          "2022-10-06T00:00:00",
          "2022-10-07T00:00:00",
          "2022-10-10T00:00:00",
          "2022-10-11T00:00:00",
          "2022-10-12T00:00:00",
          "2022-10-17T00:00:00",
          "2022-10-18T00:00:00",
          "2022-10-19T00:00:00",
          "2022-10-20T00:00:00",
          "2022-10-21T00:00:00",
          "2022-10-25T00:00:00",
          "2022-10-26T00:00:00",
          "2022-10-27T00:00:00",
          "2022-10-28T00:00:00",
          "2022-10-31T00:00:00",
          "2022-11-01T00:00:00",
          "2022-11-02T00:00:00",
          "2022-11-03T00:00:00",
          "2022-11-04T00:00:00",
          "2022-11-07T00:00:00",
          "2022-11-08T00:00:00",
          "2022-11-09T00:00:00",
          "2022-11-10T00:00:00",
          "2022-11-11T00:00:00",
          "2022-11-14T00:00:00",
          "2022-11-15T00:00:00",
          "2022-11-16T00:00:00",
          "2022-11-17T00:00:00",
          "2022-11-18T00:00:00",
          "2022-11-21T00:00:00",
          "2022-11-22T00:00:00",
          "2022-11-23T00:00:00",
          "2022-11-24T00:00:00",
          "2022-11-25T00:00:00",
          "2022-11-28T00:00:00",
          "2022-11-29T00:00:00",
          "2022-11-30T00:00:00",
          "2022-12-01T00:00:00",
          "2022-12-02T00:00:00",
          "2022-12-06T00:00:00",
          "2022-12-07T00:00:00",
          "2022-12-08T00:00:00",
          "2022-12-09T00:00:00",
          "2022-12-13T00:00:00",
          "2022-12-14T00:00:00",
          "2022-12-15T00:00:00",
          "2022-12-16T00:00:00",
          "2022-12-19T00:00:00",
          "2022-12-20T00:00:00",
          "2022-12-21T00:00:00",
          "2022-12-22T00:00:00",
          "2022-12-23T00:00:00",
          "2022-12-26T00:00:00",
          "2022-12-27T00:00:00",
          "2022-12-28T00:00:00",
          "2022-12-29T00:00:00",
          "2022-12-30T00:00:00",
          "2023-01-03T00:00:00",
          "2023-01-04T00:00:00",
          "2023-01-05T00:00:00",
          "2023-01-06T00:00:00",
          "2023-01-09T00:00:00",
          "2023-01-10T00:00:00",
          "2023-01-11T00:00:00",
          "2023-01-12T00:00:00",
          "2023-01-13T00:00:00",
          "2023-01-16T00:00:00",
          "2023-01-17T00:00:00",
          "2023-01-18T00:00:00",
          "2023-01-19T00:00:00",
          "2023-01-20T00:00:00",
          "2023-01-23T00:00:00",
          "2023-01-24T00:00:00",
          "2023-01-25T00:00:00",
          "2023-01-26T00:00:00",
          "2023-01-27T00:00:00",
          "2023-01-30T00:00:00",
          "2023-01-31T00:00:00",
          "2023-02-01T00:00:00",
          "2023-02-02T00:00:00",
          "2023-02-03T00:00:00",
          "2023-02-06T00:00:00",
          "2023-02-07T00:00:00",
          "2023-02-08T00:00:00",
          "2023-02-09T00:00:00",
          "2023-02-10T00:00:00",
          "2023-02-13T00:00:00",
          "2023-02-14T00:00:00",
          "2023-02-15T00:00:00",
          "2023-02-16T00:00:00",
          "2023-02-17T00:00:00",
          "2023-02-20T00:00:00",
          "2023-02-21T00:00:00",
          "2023-02-22T00:00:00",
          "2023-02-23T00:00:00",
          "2023-02-24T00:00:00",
          "2023-02-27T00:00:00",
          "2023-02-28T00:00:00",
          "2023-03-01T00:00:00",
          "2023-03-02T00:00:00",
          "2023-03-03T00:00:00",
          "2023-03-07T00:00:00",
          "2023-03-08T00:00:00",
          "2023-03-09T00:00:00",
          "2023-03-10T00:00:00",
          "2023-03-13T00:00:00",
          "2023-03-14T00:00:00",
          "2023-03-15T00:00:00",
          "2023-03-16T00:00:00",
          "2023-03-17T00:00:00",
          "2023-03-20T00:00:00",
          "2023-03-21T00:00:00",
          "2023-03-22T00:00:00",
          "2023-03-23T00:00:00",
          "2023-03-24T00:00:00",
          "2023-03-27T00:00:00",
          "2023-03-28T00:00:00",
          "2023-03-29T00:00:00",
          "2023-03-30T00:00:00",
          "2023-03-31T00:00:00",
          "2023-04-03T00:00:00",
          "2023-04-04T00:00:00",
          "2023-04-05T00:00:00",
          "2023-04-07T00:00:00",
          "2023-04-10T00:00:00",
          "2023-04-11T00:00:00",
          "2023-04-12T00:00:00",
          "2023-04-17T00:00:00",
          "2023-04-18T00:00:00",
          "2023-04-19T00:00:00",
          "2023-04-20T00:00:00",
          "2023-04-21T00:00:00",
          "2023-04-24T00:00:00",
          "2023-04-25T00:00:00",
          "2023-04-26T00:00:00",
          "2023-04-27T00:00:00",
          "2023-04-28T00:00:00",
          "2023-05-02T00:00:00",
          "2023-05-03T00:00:00",
          "2023-05-08T00:00:00",
          "2023-05-09T00:00:00",
          "2023-05-10T00:00:00",
          "2023-05-11T00:00:00",
          "2023-05-12T00:00:00",
          "2023-05-15T00:00:00",
          "2023-05-16T00:00:00",
          "2023-05-17T00:00:00",
          "2023-05-18T00:00:00",
          "2023-05-19T00:00:00",
          "2023-05-22T00:00:00",
          "2023-05-23T00:00:00",
          "2023-05-24T00:00:00",
          "2023-05-25T00:00:00",
          "2023-05-26T00:00:00",
          "2023-05-29T00:00:00",
          "2023-05-30T00:00:00",
          "2023-05-31T00:00:00",
          "2023-06-01T00:00:00",
          "2023-06-02T00:00:00",
          "2023-06-06T00:00:00",
          "2023-06-07T00:00:00",
          "2023-06-08T00:00:00",
          "2023-06-09T00:00:00",
          "2023-06-12T00:00:00",
          "2023-06-13T00:00:00",
          "2023-06-14T00:00:00",
          "2023-06-15T00:00:00",
          "2023-06-16T00:00:00",
          "2023-06-19T00:00:00",
          "2023-06-20T00:00:00",
          "2023-06-21T00:00:00",
          "2023-06-22T00:00:00",
          "2023-06-23T00:00:00",
          "2023-06-26T00:00:00",
          "2023-06-27T00:00:00",
          "2023-06-28T00:00:00",
          "2023-06-29T00:00:00",
          "2023-06-30T00:00:00",
          "2023-07-03T00:00:00",
          "2023-07-04T00:00:00",
          "2023-07-05T00:00:00",
          "2023-07-06T00:00:00",
          "2023-07-07T00:00:00",
          "2023-07-10T00:00:00",
          "2023-07-11T00:00:00",
          "2023-07-12T00:00:00",
          "2023-07-13T00:00:00",
          "2023-07-14T00:00:00",
          "2023-07-17T00:00:00",
          "2023-07-18T00:00:00",
          "2023-07-19T00:00:00",
          "2023-07-20T00:00:00",
          "2023-07-21T00:00:00",
          "2023-07-24T00:00:00",
          "2023-07-25T00:00:00",
          "2023-07-26T00:00:00",
          "2023-07-27T00:00:00",
          "2023-07-31T00:00:00",
          "2023-08-02T00:00:00",
          "2023-08-03T00:00:00",
          "2023-08-04T00:00:00",
          "2023-08-07T00:00:00",
          "2023-08-08T00:00:00",
          "2023-08-09T00:00:00",
          "2023-08-10T00:00:00",
          "2023-08-11T00:00:00",
          "2023-08-15T00:00:00",
          "2023-08-16T00:00:00",
          "2023-08-17T00:00:00",
          "2023-08-18T00:00:00",
          "2023-08-21T00:00:00",
          "2023-08-22T00:00:00",
          "2023-08-23T00:00:00",
          "2023-08-24T00:00:00",
          "2023-08-25T00:00:00",
          "2023-08-28T00:00:00",
          "2023-08-29T00:00:00",
          "2023-08-30T00:00:00",
          "2023-08-31T00:00:00",
          "2023-09-01T00:00:00",
          "2023-09-04T00:00:00",
          "2023-09-05T00:00:00",
          "2023-09-06T00:00:00",
          "2023-09-07T00:00:00",
          "2023-09-08T00:00:00",
          "2023-09-11T00:00:00",
          "2023-09-12T00:00:00",
          "2023-09-13T00:00:00",
          "2023-09-14T00:00:00",
          "2023-09-15T00:00:00",
          "2023-09-18T00:00:00",
          "2023-09-19T00:00:00",
          "2023-09-20T00:00:00",
          "2023-09-21T00:00:00",
          "2023-09-22T00:00:00",
          "2023-09-25T00:00:00",
          "2023-09-26T00:00:00",
          "2023-09-27T00:00:00",
          "2023-09-28T00:00:00",
          "2023-09-29T00:00:00",
          "2023-10-02T00:00:00",
          "2023-10-03T00:00:00",
          "2023-10-04T00:00:00",
          "2023-10-05T00:00:00",
          "2023-10-06T00:00:00",
          "2023-10-09T00:00:00",
          "2023-10-10T00:00:00",
          "2023-10-11T00:00:00",
          "2023-10-12T00:00:00",
          "2023-10-16T00:00:00",
          "2023-10-17T00:00:00",
          "2023-10-18T00:00:00",
          "2023-10-19T00:00:00",
          "2023-10-20T00:00:00",
          "2023-10-24T00:00:00",
          "2023-10-25T00:00:00",
          "2023-10-26T00:00:00",
          "2023-10-27T00:00:00",
          "2023-10-30T00:00:00",
          "2023-10-31T00:00:00",
          "2023-11-01T00:00:00",
          "2023-11-02T00:00:00",
          "2023-11-03T00:00:00",
          "2023-11-06T00:00:00",
          "2023-11-07T00:00:00",
          "2023-11-08T00:00:00",
          "2023-11-09T00:00:00",
          "2023-11-10T00:00:00",
          "2023-11-13T00:00:00",
          "2023-11-14T00:00:00",
          "2023-11-15T00:00:00",
          "2023-11-16T00:00:00",
          "2023-11-17T00:00:00",
          "2023-11-20T00:00:00",
          "2023-11-21T00:00:00",
          "2023-11-22T00:00:00",
          "2023-11-23T00:00:00",
          "2023-11-24T00:00:00",
          "2023-11-27T00:00:00",
          "2023-11-28T00:00:00",
          "2023-11-29T00:00:00",
          "2023-11-30T00:00:00",
          "2023-12-01T00:00:00",
          "2023-12-04T00:00:00",
          "2023-12-06T00:00:00",
          "2023-12-07T00:00:00",
          "2023-12-08T00:00:00",
          "2023-12-12T00:00:00",
          "2023-12-13T00:00:00",
          "2023-12-14T00:00:00",
          "2023-12-15T00:00:00",
          "2023-12-18T00:00:00",
          "2023-12-19T00:00:00",
          "2023-12-20T00:00:00",
          "2023-12-21T00:00:00",
          "2023-12-22T00:00:00",
          "2023-12-25T00:00:00",
          "2023-12-26T00:00:00",
          "2023-12-27T00:00:00",
          "2023-12-28T00:00:00",
          "2024-01-02T00:00:00",
          "2024-01-03T00:00:00",
          "2024-01-04T00:00:00",
          "2024-01-05T00:00:00",
          "2024-01-08T00:00:00",
          "2024-01-09T00:00:00",
          "2024-01-10T00:00:00",
          "2024-01-11T00:00:00",
          "2024-01-12T00:00:00",
          "2024-01-15T00:00:00",
          "2024-01-16T00:00:00",
          "2024-01-17T00:00:00",
          "2024-01-18T00:00:00",
          "2024-01-19T00:00:00",
          "2024-01-22T00:00:00",
          "2024-01-23T00:00:00",
          "2024-01-24T00:00:00",
          "2024-01-25T00:00:00",
          "2024-01-26T00:00:00",
          "2024-01-29T00:00:00",
          "2024-01-30T00:00:00",
          "2024-01-31T00:00:00",
          "2024-02-01T00:00:00",
          "2024-02-02T00:00:00",
          "2024-02-05T00:00:00",
          "2024-02-06T00:00:00",
          "2024-02-07T00:00:00",
          "2024-02-08T00:00:00",
          "2024-02-09T00:00:00",
          "2024-02-12T00:00:00",
          "2024-02-13T00:00:00",
          "2024-02-14T00:00:00",
          "2024-02-15T00:00:00",
          "2024-02-16T00:00:00",
          "2024-02-19T00:00:00",
          "2024-02-20T00:00:00",
          "2024-02-21T00:00:00",
          "2024-02-22T00:00:00",
          "2024-02-23T00:00:00",
          "2024-02-27T00:00:00",
          "2024-02-28T00:00:00",
          "2024-02-29T00:00:00",
          "2024-03-01T00:00:00",
          "2024-03-04T00:00:00",
          "2024-03-05T00:00:00",
          "2024-03-06T00:00:00",
          "2024-03-07T00:00:00",
          "2024-03-08T00:00:00",
          "2024-03-11T00:00:00",
          "2024-03-12T00:00:00",
          "2024-03-13T00:00:00",
          "2024-03-14T00:00:00",
          "2024-03-15T00:00:00",
          "2024-03-18T00:00:00",
          "2024-03-19T00:00:00",
          "2024-03-20T00:00:00",
          "2024-03-21T00:00:00",
          "2024-03-22T00:00:00",
          "2024-03-25T00:00:00",
          "2024-03-26T00:00:00",
          "2024-03-27T00:00:00",
          "2024-03-28T00:00:00",
          "2024-03-29T00:00:00",
          "2024-04-01T00:00:00",
          "2024-04-02T00:00:00",
          "2024-04-03T00:00:00",
          "2024-04-04T00:00:00",
          "2024-04-05T00:00:00",
          "2024-04-09T00:00:00",
          "2024-04-10T00:00:00",
          "2024-04-11T00:00:00",
          "2024-04-17T00:00:00",
          "2024-04-18T00:00:00",
          "2024-04-19T00:00:00",
          "2024-04-22T00:00:00",
          "2024-04-23T00:00:00",
          "2024-04-24T00:00:00",
          "2024-04-25T00:00:00",
          "2024-04-26T00:00:00",
          "2024-04-29T00:00:00",
          "2024-04-30T00:00:00",
          "2024-05-02T00:00:00",
          "2024-05-03T00:00:00",
          "2024-05-07T00:00:00",
          "2024-05-08T00:00:00",
          "2024-05-09T00:00:00",
          "2024-05-10T00:00:00",
          "2024-05-13T00:00:00",
          "2024-05-14T00:00:00",
          "2024-05-15T00:00:00",
          "2024-05-16T00:00:00",
          "2024-05-17T00:00:00",
          "2024-05-20T00:00:00",
          "2024-05-21T00:00:00",
          "2024-05-23T00:00:00",
          "2024-05-24T00:00:00",
          "2024-05-27T00:00:00",
          "2024-05-28T00:00:00",
          "2024-05-29T00:00:00",
          "2024-05-30T00:00:00",
          "2024-05-31T00:00:00",
          "2024-06-04T00:00:00",
          "2024-06-05T00:00:00",
          "2024-06-06T00:00:00",
          "2024-06-07T00:00:00",
          "2024-06-10T00:00:00",
          "2024-06-11T00:00:00",
          "2024-06-12T00:00:00",
          "2024-06-13T00:00:00",
          "2024-06-14T00:00:00",
          "2024-06-17T00:00:00",
          "2024-06-18T00:00:00",
          "2024-06-19T00:00:00",
          "2024-06-20T00:00:00",
          "2024-06-21T00:00:00",
          "2024-06-24T00:00:00",
          "2024-06-25T00:00:00",
          "2024-06-26T00:00:00",
          "2024-06-27T00:00:00",
          "2024-06-28T00:00:00",
          "2024-07-01T00:00:00",
          "2024-07-02T00:00:00",
          "2024-07-03T00:00:00",
          "2024-07-04T00:00:00",
          "2024-07-05T00:00:00",
          "2024-07-08T00:00:00",
          "2024-07-09T00:00:00",
          "2024-07-10T00:00:00",
          "2024-07-11T00:00:00",
          "2024-07-12T00:00:00",
          "2024-07-15T00:00:00",
          "2024-07-16T00:00:00",
          "2024-07-17T00:00:00",
          "2024-07-18T00:00:00",
          "2024-07-19T00:00:00",
          "2024-07-23T00:00:00",
          "2024-07-24T00:00:00",
          "2024-07-25T00:00:00",
          "2024-07-26T00:00:00",
          "2024-07-30T00:00:00",
          "2024-07-31T00:00:00",
          "2024-08-01T00:00:00",
          "2024-08-02T00:00:00",
          "2024-08-05T00:00:00",
          "2024-08-06T00:00:00",
          "2024-08-07T00:00:00",
          "2024-08-08T00:00:00",
          "2024-08-09T00:00:00",
          "2024-08-13T00:00:00",
          "2024-08-14T00:00:00",
          "2024-08-15T00:00:00",
          "2024-08-16T00:00:00",
          "2024-08-19T00:00:00",
          "2024-08-20T00:00:00",
          "2024-08-21T00:00:00",
          "2024-08-22T00:00:00",
          "2024-08-23T00:00:00",
          "2024-08-26T00:00:00",
          "2024-08-27T00:00:00",
          "2024-08-28T00:00:00",
          "2024-08-29T00:00:00",
          "2024-08-30T00:00:00",
          "2024-09-02T00:00:00",
          "2024-09-03T00:00:00",
          "2024-09-04T00:00:00",
          "2024-09-05T00:00:00",
          "2024-09-06T00:00:00",
          "2024-09-09T00:00:00",
          "2024-09-10T00:00:00",
          "2024-09-11T00:00:00",
          "2024-09-12T00:00:00",
          "2024-09-13T00:00:00",
          "2024-09-16T00:00:00",
          "2024-09-17T00:00:00",
          "2024-09-18T00:00:00",
          "2024-09-19T00:00:00",
          "2024-09-20T00:00:00",
          "2024-09-23T00:00:00",
          "2024-09-24T00:00:00",
          "2024-09-25T00:00:00",
          "2024-09-26T00:00:00",
          "2024-09-27T00:00:00",
          "2024-09-30T00:00:00",
          "2024-10-01T00:00:00",
          "2024-10-02T00:00:00",
          "2024-10-03T00:00:00",
          "2024-10-04T00:00:00",
          "2024-10-07T00:00:00",
          "2024-10-08T00:00:00",
          "2024-10-09T00:00:00",
          "2024-10-10T00:00:00",
          "2024-10-11T00:00:00",
          "2024-10-15T00:00:00",
          "2024-10-16T00:00:00",
          "2024-10-17T00:00:00",
          "2024-10-18T00:00:00",
          "2024-10-21T00:00:00",
          "2024-10-22T00:00:00",
          "2024-10-24T00:00:00",
          "2024-10-25T00:00:00",
          "2024-10-28T00:00:00",
          "2024-10-29T00:00:00",
          "2024-10-30T00:00:00",
          "2024-10-31T00:00:00",
          "2024-11-01T00:00:00",
          "2024-11-04T00:00:00",
          "2024-11-05T00:00:00",
          "2024-11-06T00:00:00",
          "2024-11-07T00:00:00",
          "2024-11-08T00:00:00",
          "2024-11-11T00:00:00",
          "2024-11-12T00:00:00",
          "2024-11-13T00:00:00",
          "2024-11-14T00:00:00",
          "2024-11-15T00:00:00",
          "2024-11-18T00:00:00",
          "2024-11-19T00:00:00",
          "2024-11-20T00:00:00",
          "2024-11-21T00:00:00",
          "2024-11-22T00:00:00",
          "2024-11-25T00:00:00",
          "2024-11-26T00:00:00",
          "2024-11-27T00:00:00",
          "2024-11-28T00:00:00",
          "2024-11-29T00:00:00",
          "2024-12-02T00:00:00",
          "2024-12-03T00:00:00",
          "2024-12-04T00:00:00",
          "2024-12-06T00:00:00",
          "2024-12-09T00:00:00",
          "2024-12-11T00:00:00",
          "2024-12-12T00:00:00",
          "2024-12-13T00:00:00",
          "2024-12-16T00:00:00",
          "2024-12-17T00:00:00",
          "2024-12-18T00:00:00",
          "2024-12-19T00:00:00",
          "2024-12-20T00:00:00",
          "2024-12-23T00:00:00",
          "2024-12-24T00:00:00",
          "2024-12-25T00:00:00",
          "2024-12-26T00:00:00",
          "2024-12-27T00:00:00",
          "2024-12-30T00:00:00",
          "2025-01-02T00:00:00",
          "2025-01-03T00:00:00",
          "2025-01-06T00:00:00",
          "2025-01-07T00:00:00",
          "2025-01-08T00:00:00",
          "2025-01-09T00:00:00",
          "2025-01-10T00:00:00",
          "2025-01-13T00:00:00",
          "2025-01-14T00:00:00",
          "2025-01-15T00:00:00",
          "2025-01-16T00:00:00",
          "2025-01-17T00:00:00",
          "2025-01-20T00:00:00",
          "2025-01-21T00:00:00",
          "2025-01-22T00:00:00",
          "2025-01-23T00:00:00",
          "2025-01-24T00:00:00",
          "2025-01-27T00:00:00",
          "2025-01-28T00:00:00",
          "2025-01-29T00:00:00",
          "2025-01-30T00:00:00",
          "2025-01-31T00:00:00",
          "2025-02-03T00:00:00",
          "2025-02-04T00:00:00",
          "2025-02-05T00:00:00",
          "2025-02-06T00:00:00",
          "2025-02-07T00:00:00",
          "2025-02-10T00:00:00",
          "2025-02-11T00:00:00",
          "2025-02-13T00:00:00",
          "2025-02-14T00:00:00",
          "2025-02-17T00:00:00",
          "2025-02-18T00:00:00",
          "2025-02-19T00:00:00",
          "2025-02-20T00:00:00",
          "2025-02-21T00:00:00",
          "2025-02-24T00:00:00",
          "2025-02-25T00:00:00",
          "2025-02-26T00:00:00",
          "2025-02-27T00:00:00",
          "2025-02-28T00:00:00",
          "2025-03-03T00:00:00",
          "2025-03-04T00:00:00",
          "2025-03-05T00:00:00",
          "2025-03-06T00:00:00",
          "2025-03-07T00:00:00",
          "2025-03-10T00:00:00",
          "2025-03-11T00:00:00",
          "2025-03-12T00:00:00",
          "2025-03-13T00:00:00",
          "2025-03-14T00:00:00",
          "2025-03-17T00:00:00",
          "2025-03-18T00:00:00",
          "2025-03-19T00:00:00",
          "2025-03-20T00:00:00",
          "2025-03-21T00:00:00",
          "2025-03-24T00:00:00",
          "2025-03-25T00:00:00",
          "2025-03-26T00:00:00",
          "2025-03-27T00:00:00",
          "2025-03-28T00:00:00",
          "2025-03-31T00:00:00",
          "2025-04-01T00:00:00",
          "2025-04-02T00:00:00",
          "2025-04-03T00:00:00",
          "2025-04-04T00:00:00",
          "2025-04-08T00:00:00",
          "2025-04-09T00:00:00",
          "2025-04-10T00:00:00",
          "2025-04-11T00:00:00",
          "2025-04-16T00:00:00",
          "2025-04-17T00:00:00",
          "2025-04-18T00:00:00",
          "2025-04-21T00:00:00",
          "2025-04-22T00:00:00",
          "2025-04-23T00:00:00",
          "2025-04-24T00:00:00",
          "2025-04-25T00:00:00",
          "2025-04-28T00:00:00",
          "2025-04-29T00:00:00",
          "2025-04-30T00:00:00",
          "2025-05-02T00:00:00",
          "2025-05-06T00:00:00",
          "2025-05-07T00:00:00",
          "2025-05-08T00:00:00",
          "2025-05-09T00:00:00",
          "2025-05-13T00:00:00",
          "2025-05-14T00:00:00",
          "2025-05-15T00:00:00",
          "2025-05-16T00:00:00",
          "2025-05-19T00:00:00",
          "2025-05-20T00:00:00",
          "2025-05-21T00:00:00",
          "2025-05-22T00:00:00",
          "2025-05-23T00:00:00",
          "2025-05-26T00:00:00",
          "2025-05-27T00:00:00",
          "2025-05-28T00:00:00",
          "2025-06-23T00:00:00"
         ]
        },
        {
         "marker": {
          "color": "rgba(128,128,128,0.3)"
         },
         "name": "Volume",
         "type": "bar",
         "x": [
          "2022-05-17T00:00:00",
          "2022-05-18T00:00:00",
          "2022-05-19T00:00:00",
          "2022-05-20T00:00:00",
          "2022-05-23T00:00:00",
          "2022-05-24T00:00:00",
          "2022-05-25T00:00:00",
          "2022-05-26T00:00:00",
          "2022-05-27T00:00:00",
          "2022-05-30T00:00:00",
          "2022-05-31T00:00:00",
          "2022-06-01T00:00:00",
          "2022-06-02T00:00:00",
          "2022-06-06T00:00:00",
          "2022-06-07T00:00:00",
          "2022-06-08T00:00:00",
          "2022-06-09T00:00:00",
          "2022-06-10T00:00:00",
          "2022-06-13T00:00:00",
          "2022-06-14T00:00:00",
          "2022-06-15T00:00:00",
          "2022-06-16T00:00:00",
          "2022-06-17T00:00:00",
          "2022-06-20T00:00:00",
          "2022-06-21T00:00:00",
          "2022-06-22T00:00:00",
          "2022-06-23T00:00:00",
          "2022-06-24T00:00:00",
          "2022-06-27T00:00:00",
          "2022-06-28T00:00:00",
          "2022-06-29T00:00:00",
          "2022-06-30T00:00:00",
          "2022-07-01T00:00:00",
          "2022-07-04T00:00:00",
          "2022-07-05T00:00:00",
          "2022-07-06T00:00:00",
          "2022-07-07T00:00:00",
          "2022-07-08T00:00:00",
          "2022-07-11T00:00:00",
          "2022-07-12T00:00:00",
          "2022-07-14T00:00:00",
          "2022-07-15T00:00:00",
          "2022-07-18T00:00:00",
          "2022-07-19T00:00:00",
          "2022-07-20T00:00:00",
          "2022-07-21T00:00:00",
          "2022-07-22T00:00:00",
          "2022-07-25T00:00:00",
          "2022-07-26T00:00:00",
          "2022-07-27T00:00:00",
          "2022-08-01T00:00:00",
          "2022-08-02T00:00:00",
          "2022-08-03T00:00:00",
          "2022-08-04T00:00:00",
          "2022-08-05T00:00:00",
          "2022-08-08T00:00:00",
          "2022-08-09T00:00:00",
          "2022-08-10T00:00:00",
          "2022-08-11T00:00:00",
          "2022-08-15T00:00:00",
          "2022-08-16T00:00:00",
          "2022-08-17T00:00:00",
          "2022-08-18T00:00:00",
          "2022-08-19T00:00:00",
          "2022-08-22T00:00:00",
          "2022-08-23T00:00:00",
          "2022-08-24T00:00:00",
          "2022-08-25T00:00:00",
          "2022-08-26T00:00:00",
          "2022-08-29T00:00:00",
          "2022-08-30T00:00:00",
          "2022-08-31T00:00:00",
          "2022-09-01T00:00:00",
          "2022-09-02T00:00:00",
          "2022-09-05T00:00:00",
          "2022-09-06T00:00:00",
          "2022-09-07T00:00:00",
          "2022-09-08T00:00:00",
          "2022-09-09T00:00:00",
          "2022-09-12T00:00:00",
          "2022-09-13T00:00:00",
          "2022-09-14T00:00:00",
          "2022-09-15T00:00:00",
          "2022-09-16T00:00:00",
          "2022-09-19T00:00:00",
          "2022-09-20T00:00:00",
          "2022-09-21T00:00:00",
          "2022-09-22T00:00:00",
          "2022-09-23T00:00:00",
          "2022-09-26T00:00:00",
          "2022-09-27T00:00:00",
          "2022-09-28T00:00:00",
          "2022-09-29T00:00:00",
          "2022-09-30T00:00:00",
          "2022-10-03T00:00:00",
          "2022-10-04T00:00:00",
          "2022-10-05T00:00:00",
          "2022-10-06T00:00:00",
          "2022-10-07T00:00:00",
          "2022-10-10T00:00:00",
          "2022-10-11T00:00:00",
          "2022-10-12T00:00:00",
          "2022-10-17T00:00:00",
          "2022-10-18T00:00:00",
          "2022-10-19T00:00:00",
          "2022-10-20T00:00:00",
          "2022-10-21T00:00:00",
          "2022-10-25T00:00:00",
          "2022-10-26T00:00:00",
          "2022-10-27T00:00:00",
          "2022-10-28T00:00:00",
          "2022-10-31T00:00:00",
          "2022-11-01T00:00:00",
          "2022-11-02T00:00:00",
          "2022-11-03T00:00:00",
          "2022-11-04T00:00:00",
          "2022-11-07T00:00:00",
          "2022-11-08T00:00:00",
          "2022-11-09T00:00:00",
          "2022-11-10T00:00:00",
          "2022-11-11T00:00:00",
          "2022-11-14T00:00:00",
          "2022-11-15T00:00:00",
          "2022-11-16T00:00:00",
          "2022-11-17T00:00:00",
          "2022-11-18T00:00:00",
          "2022-11-21T00:00:00",
          "2022-11-22T00:00:00",
          "2022-11-23T00:00:00",
          "2022-11-24T00:00:00",
          "2022-11-25T00:00:00",
          "2022-11-28T00:00:00",
          "2022-11-29T00:00:00",
          "2022-11-30T00:00:00",
          "2022-12-01T00:00:00",
          "2022-12-02T00:00:00",
          "2022-12-06T00:00:00",
          "2022-12-07T00:00:00",
          "2022-12-08T00:00:00",
          "2022-12-09T00:00:00",
          "2022-12-13T00:00:00",
          "2022-12-14T00:00:00",
          "2022-12-15T00:00:00",
          "2022-12-16T00:00:00",
          "2022-12-19T00:00:00",
          "2022-12-20T00:00:00",
          "2022-12-21T00:00:00",
          "2022-12-22T00:00:00",
          "2022-12-23T00:00:00",
          "2022-12-26T00:00:00",
          "2022-12-27T00:00:00",
          "2022-12-28T00:00:00",
          "2022-12-29T00:00:00",
          "2022-12-30T00:00:00",
          "2023-01-03T00:00:00",
          "2023-01-04T00:00:00",
          "2023-01-05T00:00:00",
          "2023-01-06T00:00:00",
          "2023-01-09T00:00:00",
          "2023-01-10T00:00:00",
          "2023-01-11T00:00:00",
          "2023-01-12T00:00:00",
          "2023-01-13T00:00:00",
          "2023-01-16T00:00:00",
          "2023-01-17T00:00:00",
          "2023-01-18T00:00:00",
          "2023-01-19T00:00:00",
          "2023-01-20T00:00:00",
          "2023-01-23T00:00:00",
          "2023-01-24T00:00:00",
          "2023-01-25T00:00:00",
          "2023-01-26T00:00:00",
          "2023-01-27T00:00:00",
          "2023-01-30T00:00:00",
          "2023-01-31T00:00:00",
          "2023-02-01T00:00:00",
          "2023-02-02T00:00:00",
          "2023-02-03T00:00:00",
          "2023-02-06T00:00:00",
          "2023-02-07T00:00:00",
          "2023-02-08T00:00:00",
          "2023-02-09T00:00:00",
          "2023-02-10T00:00:00",
          "2023-02-13T00:00:00",
          "2023-02-14T00:00:00",
          "2023-02-15T00:00:00",
          "2023-02-16T00:00:00",
          "2023-02-17T00:00:00",
          "2023-02-20T00:00:00",
          "2023-02-21T00:00:00",
          "2023-02-22T00:00:00",
          "2023-02-23T00:00:00",
          "2023-02-24T00:00:00",
          "2023-02-27T00:00:00",
          "2023-02-28T00:00:00",
          "2023-03-01T00:00:00",
          "2023-03-02T00:00:00",
          "2023-03-03T00:00:00",
          "2023-03-07T00:00:00",
          "2023-03-08T00:00:00",
          "2023-03-09T00:00:00",
          "2023-03-10T00:00:00",
          "2023-03-13T00:00:00",
          "2023-03-14T00:00:00",
          "2023-03-15T00:00:00",
          "2023-03-16T00:00:00",
          "2023-03-17T00:00:00",
          "2023-03-20T00:00:00",
          "2023-03-21T00:00:00",
          "2023-03-22T00:00:00",
          "2023-03-23T00:00:00",
          "2023-03-24T00:00:00",
          "2023-03-27T00:00:00",
          "2023-03-28T00:00:00",
          "2023-03-29T00:00:00",
          "2023-03-30T00:00:00",
          "2023-03-31T00:00:00",
          "2023-04-03T00:00:00",
          "2023-04-04T00:00:00",
          "2023-04-05T00:00:00",
          "2023-04-07T00:00:00",
          "2023-04-10T00:00:00",
          "2023-04-11T00:00:00",
          "2023-04-12T00:00:00",
          "2023-04-17T00:00:00",
          "2023-04-18T00:00:00",
          "2023-04-19T00:00:00",
          "2023-04-20T00:00:00",
          "2023-04-21T00:00:00",
          "2023-04-24T00:00:00",
          "2023-04-25T00:00:00",
          "2023-04-26T00:00:00",
          "2023-04-27T00:00:00",
          "2023-04-28T00:00:00",
          "2023-05-02T00:00:00",
          "2023-05-03T00:00:00",
          "2023-05-08T00:00:00",
          "2023-05-09T00:00:00",
          "2023-05-10T00:00:00",
          "2023-05-11T00:00:00",
          "2023-05-12T00:00:00",
          "2023-05-15T00:00:00",
          "2023-05-16T00:00:00",
          "2023-05-17T00:00:00",
          "2023-05-18T00:00:00",
          "2023-05-19T00:00:00",
          "2023-05-22T00:00:00",
          "2023-05-23T00:00:00",
          "2023-05-24T00:00:00",
          "2023-05-25T00:00:00",
          "2023-05-26T00:00:00",
          "2023-05-29T00:00:00",
          "2023-05-30T00:00:00",
          "2023-05-31T00:00:00",
          "2023-06-01T00:00:00",
          "2023-06-02T00:00:00",
          "2023-06-06T00:00:00",
          "2023-06-07T00:00:00",
          "2023-06-08T00:00:00",
          "2023-06-09T00:00:00",
          "2023-06-12T00:00:00",
          "2023-06-13T00:00:00",
          "2023-06-14T00:00:00",
          "2023-06-15T00:00:00",
          "2023-06-16T00:00:00",
          "2023-06-19T00:00:00",
          "2023-06-20T00:00:00",
          "2023-06-21T00:00:00",
          "2023-06-22T00:00:00",
          "2023-06-23T00:00:00",
          "2023-06-26T00:00:00",
          "2023-06-27T00:00:00",
          "2023-06-28T00:00:00",
          "2023-06-29T00:00:00",
          "2023-06-30T00:00:00",
          "2023-07-03T00:00:00",
          "2023-07-04T00:00:00",
          "2023-07-05T00:00:00",
          "2023-07-06T00:00:00",
          "2023-07-07T00:00:00",
          "2023-07-10T00:00:00",
          "2023-07-11T00:00:00",
          "2023-07-12T00:00:00",
          "2023-07-13T00:00:00",
          "2023-07-14T00:00:00",
          "2023-07-17T00:00:00",
          "2023-07-18T00:00:00",
          "2023-07-19T00:00:00",
          "2023-07-20T00:00:00",
          "2023-07-21T00:00:00",
          "2023-07-24T00:00:00",
          "2023-07-25T00:00:00",
          "2023-07-26T00:00:00",
          "2023-07-27T00:00:00",
          "2023-07-31T00:00:00",
          "2023-08-02T00:00:00",
          "2023-08-03T00:00:00",
          "2023-08-04T00:00:00",
          "2023-08-07T00:00:00",
          "2023-08-08T00:00:00",
          "2023-08-09T00:00:00",
          "2023-08-10T00:00:00",
          "2023-08-11T00:00:00",
          "2023-08-15T00:00:00",
          "2023-08-16T00:00:00",
          "2023-08-17T00:00:00",
          "2023-08-18T00:00:00",
          "2023-08-21T00:00:00",
          "2023-08-22T00:00:00",
          "2023-08-23T00:00:00",
          "2023-08-24T00:00:00",
          "2023-08-25T00:00:00",
          "2023-08-28T00:00:00",
          "2023-08-29T00:00:00",
          "2023-08-30T00:00:00",
          "2023-08-31T00:00:00",
          "2023-09-01T00:00:00",
          "2023-09-04T00:00:00",
          "2023-09-05T00:00:00",
          "2023-09-06T00:00:00",
          "2023-09-07T00:00:00",
          "2023-09-08T00:00:00",
          "2023-09-11T00:00:00",
          "2023-09-12T00:00:00",
          "2023-09-13T00:00:00",
          "2023-09-14T00:00:00",
          "2023-09-15T00:00:00",
          "2023-09-18T00:00:00",
          "2023-09-19T00:00:00",
          "2023-09-20T00:00:00",
          "2023-09-21T00:00:00",
          "2023-09-22T00:00:00",
          "2023-09-25T00:00:00",
          "2023-09-26T00:00:00",
          "2023-09-27T00:00:00",
          "2023-09-28T00:00:00",
          "2023-09-29T00:00:00",
          "2023-10-02T00:00:00",
          "2023-10-03T00:00:00",
          "2023-10-04T00:00:00",
          "2023-10-05T00:00:00",
          "2023-10-06T00:00:00",
          "2023-10-09T00:00:00",
          "2023-10-10T00:00:00",
          "2023-10-11T00:00:00",
          "2023-10-12T00:00:00",
          "2023-10-16T00:00:00",
          "2023-10-17T00:00:00",
          "2023-10-18T00:00:00",
          "2023-10-19T00:00:00",
          "2023-10-20T00:00:00",
          "2023-10-24T00:00:00",
          "2023-10-25T00:00:00",
          "2023-10-26T00:00:00",
          "2023-10-27T00:00:00",
          "2023-10-30T00:00:00",
          "2023-10-31T00:00:00",
          "2023-11-01T00:00:00",
          "2023-11-02T00:00:00",
          "2023-11-03T00:00:00",
          "2023-11-06T00:00:00",
          "2023-11-07T00:00:00",
          "2023-11-08T00:00:00",
          "2023-11-09T00:00:00",
          "2023-11-10T00:00:00",
          "2023-11-13T00:00:00",
          "2023-11-14T00:00:00",
          "2023-11-15T00:00:00",
          "2023-11-16T00:00:00",
          "2023-11-17T00:00:00",
          "2023-11-20T00:00:00",
          "2023-11-21T00:00:00",
          "2023-11-22T00:00:00",
          "2023-11-23T00:00:00",
          "2023-11-24T00:00:00",
          "2023-11-27T00:00:00",
          "2023-11-28T00:00:00",
          "2023-11-29T00:00:00",
          "2023-11-30T00:00:00",
          "2023-12-01T00:00:00",
          "2023-12-04T00:00:00",
          "2023-12-06T00:00:00",
          "2023-12-07T00:00:00",
          "2023-12-08T00:00:00",
          "2023-12-12T00:00:00",
          "2023-12-13T00:00:00",
          "2023-12-14T00:00:00",
          "2023-12-15T00:00:00",
          "2023-12-18T00:00:00",
          "2023-12-19T00:00:00",
          "2023-12-20T00:00:00",
          "2023-12-21T00:00:00",
          "2023-12-22T00:00:00",
          "2023-12-25T00:00:00",
          "2023-12-26T00:00:00",
          "2023-12-27T00:00:00",
          "2023-12-28T00:00:00",
          "2024-01-02T00:00:00",
          "2024-01-03T00:00:00",
          "2024-01-04T00:00:00",
          "2024-01-05T00:00:00",
          "2024-01-08T00:00:00",
          "2024-01-09T00:00:00",
          "2024-01-10T00:00:00",
          "2024-01-11T00:00:00",
          "2024-01-12T00:00:00",
          "2024-01-15T00:00:00",
          "2024-01-16T00:00:00",
          "2024-01-17T00:00:00",
          "2024-01-18T00:00:00",
          "2024-01-19T00:00:00",
          "2024-01-22T00:00:00",
          "2024-01-23T00:00:00",
          "2024-01-24T00:00:00",
          "2024-01-25T00:00:00",
          "2024-01-26T00:00:00",
          "2024-01-29T00:00:00",
          "2024-01-30T00:00:00",
          "2024-01-31T00:00:00",
          "2024-02-01T00:00:00",
          "2024-02-02T00:00:00",
          "2024-02-05T00:00:00",
          "2024-02-06T00:00:00",
          "2024-02-07T00:00:00",
          "2024-02-08T00:00:00",
          "2024-02-09T00:00:00",
          "2024-02-12T00:00:00",
          "2024-02-13T00:00:00",
          "2024-02-14T00:00:00",
          "2024-02-15T00:00:00",
          "2024-02-16T00:00:00",
          "2024-02-19T00:00:00",
          "2024-02-20T00:00:00",
          "2024-02-21T00:00:00",
          "2024-02-22T00:00:00",
          "2024-02-23T00:00:00",
          "2024-02-27T00:00:00",
          "2024-02-28T00:00:00",
          "2024-02-29T00:00:00",
          "2024-03-01T00:00:00",
          "2024-03-04T00:00:00",
          "2024-03-05T00:00:00",
          "2024-03-06T00:00:00",
          "2024-03-07T00:00:00",
          "2024-03-08T00:00:00",
          "2024-03-11T00:00:00",
          "2024-03-12T00:00:00",
          "2024-03-13T00:00:00",
          "2024-03-14T00:00:00",
          "2024-03-15T00:00:00",
          "2024-03-18T00:00:00",
          "2024-03-19T00:00:00",
          "2024-03-20T00:00:00",
          "2024-03-21T00:00:00",
          "2024-03-22T00:00:00",
          "2024-03-25T00:00:00",
          "2024-03-26T00:00:00",
          "2024-03-27T00:00:00",
          "2024-03-28T00:00:00",
          "2024-03-29T00:00:00",
          "2024-04-01T00:00:00",
          "2024-04-02T00:00:00",
          "2024-04-03T00:00:00",
          "2024-04-04T00:00:00",
          "2024-04-05T00:00:00",
          "2024-04-09T00:00:00",
          "2024-04-10T00:00:00",
          "2024-04-11T00:00:00",
          "2024-04-17T00:00:00",
          "2024-04-18T00:00:00",
          "2024-04-19T00:00:00",
          "2024-04-22T00:00:00",
          "2024-04-23T00:00:00",
          "2024-04-24T00:00:00",
          "2024-04-25T00:00:00",
          "2024-04-26T00:00:00",
          "2024-04-29T00:00:00",
          "2024-04-30T00:00:00",
          "2024-05-02T00:00:00",
          "2024-05-03T00:00:00",
          "2024-05-07T00:00:00",
          "2024-05-08T00:00:00",
          "2024-05-09T00:00:00",
          "2024-05-10T00:00:00",
          "2024-05-13T00:00:00",
          "2024-05-14T00:00:00",
          "2024-05-15T00:00:00",
          "2024-05-16T00:00:00",
          "2024-05-17T00:00:00",
          "2024-05-20T00:00:00",
          "2024-05-21T00:00:00",
          "2024-05-23T00:00:00",
          "2024-05-24T00:00:00",
          "2024-05-27T00:00:00",
          "2024-05-28T00:00:00",
          "2024-05-29T00:00:00",
          "2024-05-30T00:00:00",
          "2024-05-31T00:00:00",
          "2024-06-04T00:00:00",
          "2024-06-05T00:00:00",
          "2024-06-06T00:00:00",
          "2024-06-07T00:00:00",
          "2024-06-10T00:00:00",
          "2024-06-11T00:00:00",
          "2024-06-12T00:00:00",
          "2024-06-13T00:00:00",
          "2024-06-14T00:00:00",
          "2024-06-17T00:00:00",
          "2024-06-18T00:00:00",
          "2024-06-19T00:00:00",
          "2024-06-20T00:00:00",
          "2024-06-21T00:00:00",
          "2024-06-24T00:00:00",
          "2024-06-25T00:00:00",
          "2024-06-26T00:00:00",
          "2024-06-27T00:00:00",
          "2024-06-28T00:00:00",
          "2024-07-01T00:00:00",
          "2024-07-02T00:00:00",
          "2024-07-03T00:00:00",
          "2024-07-04T00:00:00",
          "2024-07-05T00:00:00",
          "2024-07-08T00:00:00",
          "2024-07-09T00:00:00",
          "2024-07-10T00:00:00",
          "2024-07-11T00:00:00",
          "2024-07-12T00:00:00",
          "2024-07-15T00:00:00",
          "2024-07-16T00:00:00",
          "2024-07-17T00:00:00",
          "2024-07-18T00:00:00",
          "2024-07-19T00:00:00",
          "2024-07-23T00:00:00",
          "2024-07-24T00:00:00",
          "2024-07-25T00:00:00",
          "2024-07-26T00:00:00",
          "2024-07-30T00:00:00",
          "2024-07-31T00:00:00",
          "2024-08-01T00:00:00",
          "2024-08-02T00:00:00",
          "2024-08-05T00:00:00",
          "2024-08-06T00:00:00",
          "2024-08-07T00:00:00",
          "2024-08-08T00:00:00",
          "2024-08-09T00:00:00",
          "2024-08-13T00:00:00",
          "2024-08-14T00:00:00",
          "2024-08-15T00:00:00",
          "2024-08-16T00:00:00",
          "2024-08-19T00:00:00",
          "2024-08-20T00:00:00",
          "2024-08-21T00:00:00",
          "2024-08-22T00:00:00",
          "2024-08-23T00:00:00",
          "2024-08-26T00:00:00",
          "2024-08-27T00:00:00",
          "2024-08-28T00:00:00",
          "2024-08-29T00:00:00",
          "2024-08-30T00:00:00",
          "2024-09-02T00:00:00",
          "2024-09-03T00:00:00",
          "2024-09-04T00:00:00",
          "2024-09-05T00:00:00",
          "2024-09-06T00:00:00",
          "2024-09-09T00:00:00",
          "2024-09-10T00:00:00",
          "2024-09-11T00:00:00",
          "2024-09-12T00:00:00",
          "2024-09-13T00:00:00",
          "2024-09-16T00:00:00",
          "2024-09-17T00:00:00",
          "2024-09-18T00:00:00",
          "2024-09-19T00:00:00",
          "2024-09-20T00:00:00",
          "2024-09-23T00:00:00",
          "2024-09-24T00:00:00",
          "2024-09-25T00:00:00",
          "2024-09-26T00:00:00",
          "2024-09-27T00:00:00",
          "2024-09-30T00:00:00",
          "2024-10-01T00:00:00",
          "2024-10-02T00:00:00",
          "2024-10-03T00:00:00",
          "2024-10-04T00:00:00",
          "2024-10-07T00:00:00",
          "2024-10-08T00:00:00",
          "2024-10-09T00:00:00",
          "2024-10-10T00:00:00",
          "2024-10-11T00:00:00",
          "2024-10-15T00:00:00",
          "2024-10-16T00:00:00",
          "2024-10-17T00:00:00",
          "2024-10-18T00:00:00",
          "2024-10-21T00:00:00",
          "2024-10-22T00:00:00",
          "2024-10-24T00:00:00",
          "2024-10-25T00:00:00",
          "2024-10-28T00:00:00",
          "2024-10-29T00:00:00",
          "2024-10-30T00:00:00",
          "2024-10-31T00:00:00",
          "2024-11-01T00:00:00",
          "2024-11-04T00:00:00",
          "2024-11-05T00:00:00",
          "2024-11-06T00:00:00",
          "2024-11-07T00:00:00",
          "2024-11-08T00:00:00",
          "2024-11-11T00:00:00",
          "2024-11-12T00:00:00",
          "2024-11-13T00:00:00",
          "2024-11-14T00:00:00",
          "2024-11-15T00:00:00",
          "2024-11-18T00:00:00",
          "2024-11-19T00:00:00",
          "2024-11-20T00:00:00",
          "2024-11-21T00:00:00",
          "2024-11-22T00:00:00",
          "2024-11-25T00:00:00",
          "2024-11-26T00:00:00",
          "2024-11-27T00:00:00",
          "2024-11-28T00:00:00",
          "2024-11-29T00:00:00",
          "2024-12-02T00:00:00",
          "2024-12-03T00:00:00",
          "2024-12-04T00:00:00",
          "2024-12-06T00:00:00",
          "2024-12-09T00:00:00",
          "2024-12-11T00:00:00",
          "2024-12-12T00:00:00",
          "2024-12-13T00:00:00",
          "2024-12-16T00:00:00",
          "2024-12-17T00:00:00",
          "2024-12-18T00:00:00",
          "2024-12-19T00:00:00",
          "2024-12-20T00:00:00",
          "2024-12-23T00:00:00",
          "2024-12-24T00:00:00",
          "2024-12-25T00:00:00",
          "2024-12-26T00:00:00",
          "2024-12-27T00:00:00",
          "2024-12-30T00:00:00",
          "2025-01-02T00:00:00",
          "2025-01-03T00:00:00",
          "2025-01-06T00:00:00",
          "2025-01-07T00:00:00",
          "2025-01-08T00:00:00",
          "2025-01-09T00:00:00",
          "2025-01-10T00:00:00",
          "2025-01-13T00:00:00",
          "2025-01-14T00:00:00",
          "2025-01-15T00:00:00",
          "2025-01-16T00:00:00",
          "2025-01-17T00:00:00",
          "2025-01-20T00:00:00",
          "2025-01-21T00:00:00",
          "2025-01-22T00:00:00",
          "2025-01-23T00:00:00",
          "2025-01-24T00:00:00",
          "2025-01-27T00:00:00",
          "2025-01-28T00:00:00",
          "2025-01-29T00:00:00",
          "2025-01-30T00:00:00",
          "2025-01-31T00:00:00",
          "2025-02-03T00:00:00",
          "2025-02-04T00:00:00",
          "2025-02-05T00:00:00",
          "2025-02-06T00:00:00",
          "2025-02-07T00:00:00",
          "2025-02-10T00:00:00",
          "2025-02-11T00:00:00",
          "2025-02-13T00:00:00",
          "2025-02-14T00:00:00",
          "2025-02-17T00:00:00",
          "2025-02-18T00:00:00",
          "2025-02-19T00:00:00",
          "2025-02-20T00:00:00",
          "2025-02-21T00:00:00",
          "2025-02-24T00:00:00",
          "2025-02-25T00:00:00",
          "2025-02-26T00:00:00",
          "2025-02-27T00:00:00",
          "2025-02-28T00:00:00",
          "2025-03-03T00:00:00",
          "2025-03-04T00:00:00",
          "2025-03-05T00:00:00",
          "2025-03-06T00:00:00",
          "2025-03-07T00:00:00",
          "2025-03-10T00:00:00",
          "2025-03-11T00:00:00",
          "2025-03-12T00:00:00",
          "2025-03-13T00:00:00",
          "2025-03-14T00:00:00",
          "2025-03-17T00:00:00",
          "2025-03-18T00:00:00",
          "2025-03-19T00:00:00",
          "2025-03-20T00:00:00",
          "2025-03-21T00:00:00",
          "2025-03-24T00:00:00",
          "2025-03-25T00:00:00",
          "2025-03-26T00:00:00",
          "2025-03-27T00:00:00",
          "2025-03-28T00:00:00",
          "2025-03-31T00:00:00",
          "2025-04-01T00:00:00",
          "2025-04-02T00:00:00",
          "2025-04-03T00:00:00",
          "2025-04-04T00:00:00",
          "2025-04-08T00:00:00",
          "2025-04-09T00:00:00",
          "2025-04-10T00:00:00",
          "2025-04-11T00:00:00",
          "2025-04-16T00:00:00",
          "2025-04-17T00:00:00",
          "2025-04-18T00:00:00",
          "2025-04-21T00:00:00",
          "2025-04-22T00:00:00",
          "2025-04-23T00:00:00",
          "2025-04-24T00:00:00",
          "2025-04-25T00:00:00",
          "2025-04-28T00:00:00",
          "2025-04-29T00:00:00",
          "2025-04-30T00:00:00",
          "2025-05-02T00:00:00",
          "2025-05-06T00:00:00",
          "2025-05-07T00:00:00",
          "2025-05-08T00:00:00",
          "2025-05-09T00:00:00",
          "2025-05-13T00:00:00",
          "2025-05-14T00:00:00",
          "2025-05-15T00:00:00",
          "2025-05-16T00:00:00",
          "2025-05-19T00:00:00",
          "2025-05-20T00:00:00",
          "2025-05-21T00:00:00",
          "2025-05-22T00:00:00",
          "2025-05-23T00:00:00",
          "2025-05-26T00:00:00",
          "2025-05-27T00:00:00",
          "2025-05-28T00:00:00",
          "2025-06-23T00:00:00"
         ],
         "y": {
          "bdata": "AAAAwOXo3kEAAABgCkTiQQAAAEDCBddBAAAAQHwo4UEAAAAgHKzeQQAAACDDAuBBAAAAYHLT5EEAAACALz7WQQAAAADgxeJBAAAAQF6X70EAAABAwkTpQQAAAKCLQdpBAAAAwF5ZyUEAAAAACJTOQQAAAKBTzN9BAAAA4PnOzEEAAACguNzRQQAAAADw+spBAAAAAAAAAAAAAAAAAAAAAAAAAAAAAAAAAAAAAAAAAAAAAAAAAAAAAAAAAAAAAAAAAAAAAAAAAAAAAAAAAAAAAAAAAAAAAAAAAAAAAAAAAAAAAAAAAAAAAAAAAAAAAAAAAAAAAAAAAAAAAAAAAAAAAAAAAAAAAAAAAAAAAAAAAAAAAAAAAAAAAAAAAAAAAAAAAAAAAAAAAAAAAAAAAAAAAAAAAAAAAAAAAAAAAAAAAAAAAAAAAAAAAAAAAAAAAAAAAAAAAAAAAAAAAAAAAAAAAAAAAAAAAAAAAAAAAAAAAAAAAAAAAAAAAAAAAAAAAAAAAAAAAAAAAAAAAAAAAAAAAAAAAAAAAAAAAAAAAAAAAAAAAAAAAAAAAAAAAAAAAAAAAAAAAAAAAAAAAAAAAAAAAAAAAAAAAAAAAAAAAAAAAAAAAAAAAAAAAAAAAAAAAAAAAAAAAAAAAAAAAAAAAAAAAAAAAAAAAAAAAAAAAAAAAAAAAAAAAAAAAAAAAAAAAAAAAAAAAAAAAAAAAAAAAAAAAAAAAAAAAAAAAAAAAAAAAAAAAAAAAAAAAAAAAAAAAAAAAAAAAAAAAAAAAAAAAAAAAAAAAAAAAAAAAAAAAAAAAAAAAAAAAAAAAAAAAAAAAAAAAAAAAAAAAAAAAAAAAAAAAAAAAAAAAAAAAAAAAAAAAAAAAAAAAAAAAAAAAAAAAAAAAAAAAAAAAAAAAAAAAAAAAAAAAAAAAAAAAAAAAAAAAAAAAAAAAAAAAAAAAAAAAAAAAAAAAAAAAAAAAAAAAAAAAAAAAAAAAAAAAAAAAAAAAAAAAAAAAAAAAAAAAAAAAAAAAAAAAAAAAAAAAAAAAAAAAAAAAAAAAAAAAAAAAAAAAAAAAAAAAAAAAAAAAAAAAAAAAAAAAAAAAAAAAAAAAAAAAAAAAAAAAAAAAAAAAAAAAAAAAAAAAAAAAAAAAAAAAAAAAAAAAAAAAAAAAAAAAAAAAAAAAAAAAAAAAAAAAAAAAAAAAAAAAAAAAAAAAAAAAAAAAAAAAAAAAAAAAAAAAAAAAAAAAAAAAAAAAAAAAAAAAAAAAAAAAAAAAAAAAAAAAAAAAAAAAAAAAAAAAAAAAAAAAAAAAAAAAAAAAAAAAAAAAAAAAAAAAAAAAAAAAAAAAAAAAAAAAAAAAAAAAAAAAAAAAAAAAAAAAAAAAAAAAAAAAAAAAAAAAAAAAAAAAAAAAAAAAAAAAAAAAAAAAAAAAAAAAAAAAAAAAAAAAAAAAAAAAAAAAAAAAAAAAAAAAAAAAAAAAAAAAAAAAAAAAAAAAAAAAAAAAAAAAAAAAAAAAAAAAAAAAAAAAAAAAAAAAAAAAAAAAAAAAAAAAAAAAAAAAAAAAAAAAAAAAAAAAAAAAAAAAAAAAAAAAAAAAAAAAAAAAAAAAAAAAAAAAAAAAAAAAAAAAAAAAAAAAAAAAAAAAAAAAAAAAAAAAAAAAAAAAAAAAAAAAAAAAAAAAAAAAAAAAAAAAAAAAAAAAAAAAAAAAAAAAAAAAAAAAAAAAAAAAAAAAAAAAAAAAAAAAAAAAAAAAAAAAAAAAAAAAAAAAAAAAAAAAAAAAAAAAAAAAAAAAAAAAAAAAAAAAAAAAAAAAAAAAAAAAAAAAAAAAAAAAAAAAAAAAAAAAAAAAAAAAAAAAAAAAAAAAAAAAAAAAAAAAAAAAAAAAAAAAAAAAAAAAAAAAAAAAAAAAAAAAAAAAAAAAAAAAAAAAAAAAAAAAAAAAAAAAAAAAAAAAAAAAAAAAAAAAAAAAAAAAAAAAAAAAAAAAAAAAAAAAAAAAAAAAAAAAAAAAAAAAAAAAAAAAAAAAAAAAAAAAAAAAAAAAAAAAAAAAAAAAAAAAAAAAAAAAAAAAAAAAAAAAAAAAAAAAAAAAAAAAAAAAAAAAAAAAAAAAAAAAAAAAAAAAAAAAAAAAAAAAAAAAAAAAAAAAAAAAAAAAAAAAAAAAAAAAAAAAAAAAAAAAAAAAAAAAAAAAAAAAAAAAAAAAAAAAAAAAAAAAAAAAAAAAAAAAAAAAAAAAAAAAAAAAAAAAAAAAAAAAAAAAAAAAAAAAAAAAAAAAAAAAAAAAAAAAAAAAAAAAAAAAAAAAAAAAAAAAAAAAAAAAAAAAAAAAAAAAAAAAAAAAAAAAAAAAAAAAAAAAAAAAAAAAAAAAAAAAAAAAAAAAAAAAAAAAAAAAAAAAAAAAAAAAAAAAAAAAAAAAAAAAAAAAAAAAAAAAAAAAAAAAAAAAAAAAAAAAAAAAAAAAAAAAAAAAAAAAAAAAAAAAAAAAAAAAAAAAAAAAAAAAAAAAAAAAAAAAAAAAAAAAAAAAAAAAAAAAAAAAAAAAAAAAAAAAAAAAAAAAAAAAAAAAAAAAAAAAAAAAAAAAAAAAAAAAAAAAAAAAAAAAAAAAAAAAAAAAAAAAAAAAAAAAAAAAAAAAAAAAAAAAAAAAAAAAAAAAAAAAAAAAAAAAAAAAAAAAAAAAAAAAAAAAAAAAAAAAAAAAAAAAAAAAAAAAAAAAAAAAAAAAAAAAAAAAAAAAAAAAAAAAAAAAAAAAAAAAAAAAAAAAAAAAAAAAAAAAAAAAAAAAAAAAAAAAAAAAAAAAAAAAAAAAAAAAAAAAAAAAAAAAAAAAAAAAAAAAAAAAAAAAAAAAAAAAAAAAAAAAAAAAAAAAAAAAAAAAAAAAAAAAAAAAAAAAAAAAAAAAAAAAAAAAAAAAAAAAAAAAAAAAAAAAAAAAAAAAAAAAAAAAAAAAAAAAAAAAAAAAAAAAAAAAAAAAAAAAAAAAAAAAAAAAAAAAAAAAAAAAAAAAAAAAAAAAAAAAAAAAAAAAAAAAAAAAAAAAAAAAAAAAAAAAAAAAAAAAAAAAAAAAAAAAAAAAAAAAAAAAAAAAAAAAAAAAAAAAAAAAAAAAAAAAAAAAAAAAAAAAAAAAAAAAAAAAAAAAAAAAAAAAAAAAAAAAAAAAAAAAAAAAAAAAAAAAAAAAAAAAAAAAAAAAAAAAAAAAAAAAAAAAAAAAAAAAAAAAAAAAAAAAAAAAAAAAAAAAAAAAAAAAAAAAAAAAAAAAAAAAAAAAAAAAAAAAAAAAAAAAAAAAAAAAAAAAAAAAAAAAAAAAAAAAAAAAAAAAAAAAAAAAAAAAAAAAAAAAAAAAAAAAAAAAAAAAAAAAAAAAAAAAAAAAAAAAAAAAAAAAAAAAAAAAAAAAAAAAAAAAAAAAAAAAAAAAAAAAAAAAAAAAAAAAAAAAAAAAAAAAAAAAAAAAAAAAAAAAAAAAAAAAAAAAAAAAAAAAAAAAAAAAAAAAAAAAAAAAAAAAAAAAAAAAAAAAAAAAAAAAAAAAAAAAAAAAAAAAAAAAAAAAAAAAAAAAAAAAAAAAAAAAAAAAAAAAAAAAAAAAAAAAAAAAAAAAAAAAAAAAAAAAAAAAAAAAAAAAAAAAAAAAAAAAAAAAAAAAAAAAAAAAAAAAAAAAAAAAAAAAAAAAAAAAAAAAAAAAAAAAAAAAAAAAAAAAAAAAAAAAAAAAAAAAAAAAAAAAAAAAAAAAAAAAAAAAAAAAAAAAAAAAAAAAAAAAAAAAAAAAAAAAAAAAAAAAAAAAAAAAAAAAAAAAAAAAAAAAAAAAAAAAAAAAAAAAAAAAAAAAAAAAAAAAAAAAAAAAAAAAAAAAAAAAAAAAAAAAAAAAAAAAAAAAAAAAAAAAAAAAAAAAAAAAAAAAAAAAAAAAAAAAAAAAAAAAAAAAAAAAAAAAAAAAAAAAAAAAAAAAAAAAAAAAAAAAAAAAAAAAAAAAAAAAAAAAAAAAAAAAAAAAAAAAAAAAAAAAAAAAAAAAAAAAAAAAAAAAAAAAAAAAAAAAAAAAAAAAAAAAAAAAAAAAAAAAAAAAAAAAAAAAAAAAAAAAAAAAAAAAAAAAAAAAAAAAAAAAAAAAAAAAAAAAAAAAAAAAAAAAAAAAAAAAAAAAAAAAAAAAAAAAAAAAAAAAAAAAAAAAAAAAAAAAAAAAAAAAAAAAAAAAAAAAAAAAAAAAAAAAAAAAAAAAAAAAAAAAAAAAAAAAAAAAAAAAAAAAAAAAAAAAAAAAAAAAAAAAAAAAAAAAAAAAAAAAAAAAAAAAAAAAAAAAAAAAAAAAAAAAAAAAAAAAAAAAAAAAAAAAAAAAAAAAAAAAAAAAAAAAAAAAAAAAAAAAAAAAAAAAAAAAAAAAAAAAAAAAAAAAAAAAAAAAAAAAAAAAAAAAAAAAAAAAAAAAAAAAAAAAAAAAAAAAAAAAAAAAAAAAAAAAAAAAAAAAAAAAAAAAAAAAAAAAAAAAAAAAAAAAAAAAAAAAAAAAAAAAAAAAAAAAAAAAAAAAAAAAAAAAAAAAAAAAAAAAAAAAAAAAAAAAAAAAAAAAAAAAAAAAAAAAAAAAAAAAAAAAAAAAAAAAAAAAAAAAAAAAAAAAAAAAAAAAAAAAAAAAAAAAAAAAAAAAAAAAAAAAAAAAAAAAAAAAAAAAAAAAAAAAAAAAAAAAAAAAAAAAAAAAAAAAAAAAAAAAAAAAAAAAAAAAAAAAAAAAAAAAAAAAAAAAAAAAAAAAAAAAAAAAAAAAAAAAAAAAAAAAAAAAAAAAAAAAAAAAAAAAAAAAAAAAAAAAAAAAAAAAAAAAAAAAAAAAAAAAAAAAAAAAAAAAAAAAAAAAAAAAAAAAAAAAAAAAAAAAAAAAAAAAAAAAAAAAAAAAAAAAAAAAAAAAAAAAAAAAAAAAAAAAAAAAAAAAAAAAAAAAAAAAAAAAAAAAAAAAAAAAAAAAAAAAAAAAAAAAAAAAAAAAAAAAAAAAAAAAAAAAAAAAAAAAAAAAAAAAAAAAAAAAAAAAAAAAAAAAAAAAAAAAAAAAAAAAAAAAAAAAAAAAAAAAAAAAAAAAAAAAAAAAAAAAAAAAAAAAAAAAAAAAAAAAAAAAAAAAAAAAAAAAAAAAAAAAAAAAAAAAAAAAAAAAAAAAAAAAAAAAAAAAAAAAAAAAAAAAAAAAAAAAAAAAAAAAAAAAAAAAAAAAAAAAAAAAAAAAAAAAAAAAAAAAAAAAAAAAAAAAAAAAAAAAAAAAAAAAAAAAAAAAAAAAAAAAAAAAAAAAAAAAAAAAAAAAAAAAAAAAAAAAAAAAAAAAAAAAAAAAAAAAAAAAAAAAAAAAAAAAAAAAAAAAAAAAAAAAAAAAAAAAAAAAAAAAAAAAAAAAAAAAAAAAAAAAAAAAAAAAAAAAAAAAAAAAAAAAAAAAAAAAAAAAAAAAAAAAAAAAAAAAAAAAAAAAAAAAAAAAAAAAAAAAAAAAAAAAAAAAAAAAAAAAAAAAAAAAAAAAAAAAAAAAAAAAAAAAAAAAAAAAAAAAAAAAAAAAAAAAAAAAAAAAAAAAAAAAAAAAAAAAAAAAAAAAAAAAAAAAAAAAAAAAAAAAAAAAAAAAAAAAAAAAAAAAAAAAAAAAAAAAAAAAAAAAAAAAAAAAAAAAAAAAAAAAAAAAAAAAAAAAAAAAAAAAAAAAAAAAAAAAAAAAAAAAAAAAAAAAAAAAAAAAAAAAAAAAAAAAAAAAAAAAAAAAAAAAAAAAAAAAAAAAAAAAAAAAAAAAAAAAAAAAAAAAAAAAAAAAAAAAAAAAAAAAAAAAAAAAAAAAAAAAAAAAAAAAAAAAAAAAAAAAAAAAAAAAAAAAAAAAAAAAAAAAAAAAAAAAAAAAAAAAAAAAAAAAAAAAAAAAAAAAAAAAAAAAAAAAAAAAAAAAAAAAAAAAAAAAAAAAAAAAAAAAAAAAAAAAAAAAAAAAAAAAAAAAAAAAAAAAAAAAAAAAAAAAAAAAAAAAAAAAAAAAAAAAAAAAAAAAAAAAAAAAAAAAAAAAAAAAAAAAAAAAAAAAAAAAAAAAAAAAAAAAAAAAAAAAAAAAAAAAAAAAAAAAAAAAAAAAAAAAAAAAAAAAAAAAAAAAAAAAAAAAAAAAAAAAAAAAAAAAAAAAAAAAAAAAAAAAAAAAAAAAAAAAAAAAAAAAAAAAAAAAAAAAAAAAAAAAAAAAAAAAAAAAAAAAAAAAAAAAAAAAAAAAAAAAAAAAAAAAAAAAAAAAAAAAAAAAAAAAAAAAAAAAAAAAAAAAAAAAAAAAAAAAAAAAAAAAAAAAAAAAAAAAAAAAAAAAAAAAAAAAAAAAAAAAAAAAAAAAAAAAAAAAAAAAAAAAAAAAAAAAAAAAAAAAAAAAAAAAAAAAAAAAAAAAAAAAAAAAAAAAAAAAAAAAAAAAAAAAAAAAAAAAAAAAAAAAAAAAAAAAAAAAAAAAAAAAAAAAAAAAAAAAAAAAAAAAAAAAAAAAAAAAAAAAAAAAAAAAAAAAAAAAAAAAAAAAAAAAAAAAAAAAAAAAAAAAAAAAAAAAAAAAAAAAAAAAAAAAAAAAAAAAAAAAAAAAAAAAAAAAAAAAAAAAAAAAAAAAAAAAAAAAAAAAAAAAAAAAAAAAAAAAAAAAAAAAAAAAAAAAAAAAAAAAAAAAAAAAAAAAAAAAAAAAAAAAAAAAAAAAAAAAAAAAAAAAAAAAAAAAAAAAAAAAAAAAAAAAAAAAAAAAAAAAAAAAAAAAAAAAAAAAAAAAAAAAAAAAAAAAAAAAAAAAAAAAAAAAAAAAAAAAAAAAAAAAAAAAAAAAAAAAAAAAAAAAAAAAAAAAAAAAAAAAAAAAAAAAAAAAAAAAAAAAAAAAAAAAAAAAAAAAAAAAAAAAAAAAAAAAAAAAAAAAAAAAAAAAAAAAAAAAAAAAAAAAAAAAAAAAAAAAAAAAAAAAAAAAAAAAAAAAAAAAAAAAAAAAAAAAAAAAAAAAAAAAAAAAAAAAAAAAAAAAAAAAAAAAAAAAAAAAAAAAAAAAAAAAAAAAAAAAAAAAAAAAAAAAAAAAAAAAAAAAAAAAAAAAAAAAAAAAAAAAAAAAAAAAAAAAAAAAAAAAAAAAAAAAAAAAAAAAAAAAAAAAAAAAAAAAAAAAAAAAAAAAAAAAAAAAAAAAAAAAAAAAAAAAAAAAAAAAAAAAAAAAAAAAAAAAAAAAAAAAAAAAAAAAAAAAAAAAAAAAAAAAAAAAAAAAAAAAAAAAAAAAAAAAAAAAAAAAAAAAAAAAAAAAAAAAAAAAAAAAAAAAAAAAAAAAAAAAAAAAAAAAAAAAAAAAAAAAAAAAAAAAAAAAAAAAAAAAAAAAAAAAAAAAAAAAAAAAAAAAAAAAAAAAAAAAAAAAAAAAAAAAAAAAAAAAAAAAAAAAAAAAAAAAAAAAAAAAAAAAAAAAAAAAAAAAAAAAAAAAAAAAAAAAAAAAAAAAAAAAAAAAAAAAAAAAAAAAAAAAAAAAAAAAAAAAAAAAAAAAAAAAAAAAAAAAAAAAAAAAAAAAAAAAAAAAAAAAAAAAAAAAAAAAAAAAAAAAAAAAAAAAAAAAAAAAAAAAAAAAAAAAAAAAAAAAAAAAAAAAAAAAAAAAAAAAAAAAAAAAAAAAAAAAAAAAAAAAAAAAAAAAAAAAAAAAAAAAAAAAAAAAAAAAAAAAAAAAAAAAAAAAAAAAAAAAAAAAAAAAAAAAAAAAAAAAAAAAAAAAAAAAAAAAAAAAAAAAAAAAAAAAAAAAAAAAAAAAAAAAAAAAAAAAAAAAAAAAAAAAAAAAAAAAAAAAAAAAAAAAAAAAAAAAAAAAAAAAAAAAAAAAAAAAAAAAAAAAAAAAAAAAAAAAAAAAAAAAAAAAAAAAAAAAAAAAAAAAAAAAAAAAAAAAAAAAAAAAAAAAAAAAAAAAAAAAAAAAAAAAAAAAAAAAAAAAAAAAAAAAAAAAADAWOafQQ==",
          "dtype": "f8"
         },
         "yaxis": "y2"
        }
       ],
       "layout": {
        "height": 600,
        "template": {
         "data": {
          "bar": [
           {
            "error_x": {
             "color": "#2a3f5f"
            },
            "error_y": {
             "color": "#2a3f5f"
            },
            "marker": {
             "line": {
              "color": "white",
              "width": 0.5
             },
             "pattern": {
              "fillmode": "overlay",
              "size": 10,
              "solidity": 0.2
             }
            },
            "type": "bar"
           }
          ],
          "barpolar": [
           {
            "marker": {
             "line": {
              "color": "white",
              "width": 0.5
             },
             "pattern": {
              "fillmode": "overlay",
              "size": 10,
              "solidity": 0.2
             }
            },
            "type": "barpolar"
           }
          ],
          "carpet": [
           {
            "aaxis": {
             "endlinecolor": "#2a3f5f",
             "gridcolor": "#C8D4E3",
             "linecolor": "#C8D4E3",
             "minorgridcolor": "#C8D4E3",
             "startlinecolor": "#2a3f5f"
            },
            "baxis": {
             "endlinecolor": "#2a3f5f",
             "gridcolor": "#C8D4E3",
             "linecolor": "#C8D4E3",
             "minorgridcolor": "#C8D4E3",
             "startlinecolor": "#2a3f5f"
            },
            "type": "carpet"
           }
          ],
          "choropleth": [
           {
            "colorbar": {
             "outlinewidth": 0,
             "ticks": ""
            },
            "type": "choropleth"
           }
          ],
          "contour": [
           {
            "colorbar": {
             "outlinewidth": 0,
             "ticks": ""
            },
            "colorscale": [
             [
              0,
              "#0d0887"
             ],
             [
              0.1111111111111111,
              "#46039f"
             ],
             [
              0.2222222222222222,
              "#7201a8"
             ],
             [
              0.3333333333333333,
              "#9c179e"
             ],
             [
              0.4444444444444444,
              "#bd3786"
             ],
             [
              0.5555555555555556,
              "#d8576b"
             ],
             [
              0.6666666666666666,
              "#ed7953"
             ],
             [
              0.7777777777777778,
              "#fb9f3a"
             ],
             [
              0.8888888888888888,
              "#fdca26"
             ],
             [
              1,
              "#f0f921"
             ]
            ],
            "type": "contour"
           }
          ],
          "contourcarpet": [
           {
            "colorbar": {
             "outlinewidth": 0,
             "ticks": ""
            },
            "type": "contourcarpet"
           }
          ],
          "heatmap": [
           {
            "colorbar": {
             "outlinewidth": 0,
             "ticks": ""
            },
            "colorscale": [
             [
              0,
              "#0d0887"
             ],
             [
              0.1111111111111111,
              "#46039f"
             ],
             [
              0.2222222222222222,
              "#7201a8"
             ],
             [
              0.3333333333333333,
              "#9c179e"
             ],
             [
              0.4444444444444444,
              "#bd3786"
             ],
             [
              0.5555555555555556,
              "#d8576b"
             ],
             [
              0.6666666666666666,
              "#ed7953"
             ],
             [
              0.7777777777777778,
              "#fb9f3a"
             ],
             [
              0.8888888888888888,
              "#fdca26"
             ],
             [
              1,
              "#f0f921"
             ]
            ],
            "type": "heatmap"
           }
          ],
          "histogram": [
           {
            "marker": {
             "pattern": {
              "fillmode": "overlay",
              "size": 10,
              "solidity": 0.2
             }
            },
            "type": "histogram"
           }
          ],
          "histogram2d": [
           {
            "colorbar": {
             "outlinewidth": 0,
             "ticks": ""
            },
            "colorscale": [
             [
              0,
              "#0d0887"
             ],
             [
              0.1111111111111111,
              "#46039f"
             ],
             [
              0.2222222222222222,
              "#7201a8"
             ],
             [
              0.3333333333333333,
              "#9c179e"
             ],
             [
              0.4444444444444444,
              "#bd3786"
             ],
             [
              0.5555555555555556,
              "#d8576b"
             ],
             [
              0.6666666666666666,
              "#ed7953"
             ],
             [
              0.7777777777777778,
              "#fb9f3a"
             ],
             [
              0.8888888888888888,
              "#fdca26"
             ],
             [
              1,
              "#f0f921"
             ]
            ],
            "type": "histogram2d"
           }
          ],
          "histogram2dcontour": [
           {
            "colorbar": {
             "outlinewidth": 0,
             "ticks": ""
            },
            "colorscale": [
             [
              0,
              "#0d0887"
             ],
             [
              0.1111111111111111,
              "#46039f"
             ],
             [
              0.2222222222222222,
              "#7201a8"
             ],
             [
              0.3333333333333333,
              "#9c179e"
             ],
             [
              0.4444444444444444,
              "#bd3786"
             ],
             [
              0.5555555555555556,
              "#d8576b"
             ],
             [
              0.6666666666666666,
              "#ed7953"
             ],
             [
              0.7777777777777778,
              "#fb9f3a"
             ],
             [
              0.8888888888888888,
              "#fdca26"
             ],
             [
              1,
              "#f0f921"
             ]
            ],
            "type": "histogram2dcontour"
           }
          ],
          "mesh3d": [
           {
            "colorbar": {
             "outlinewidth": 0,
             "ticks": ""
            },
            "type": "mesh3d"
           }
          ],
          "parcoords": [
           {
            "line": {
             "colorbar": {
              "outlinewidth": 0,
              "ticks": ""
             }
            },
            "type": "parcoords"
           }
          ],
          "pie": [
           {
            "automargin": true,
            "type": "pie"
           }
          ],
          "scatter": [
           {
            "fillpattern": {
             "fillmode": "overlay",
             "size": 10,
             "solidity": 0.2
            },
            "type": "scatter"
           }
          ],
          "scatter3d": [
           {
            "line": {
             "colorbar": {
              "outlinewidth": 0,
              "ticks": ""
             }
            },
            "marker": {
             "colorbar": {
              "outlinewidth": 0,
              "ticks": ""
             }
            },
            "type": "scatter3d"
           }
          ],
          "scattercarpet": [
           {
            "marker": {
             "colorbar": {
              "outlinewidth": 0,
              "ticks": ""
             }
            },
            "type": "scattercarpet"
           }
          ],
          "scattergeo": [
           {
            "marker": {
             "colorbar": {
              "outlinewidth": 0,
              "ticks": ""
             }
            },
            "type": "scattergeo"
           }
          ],
          "scattergl": [
           {
            "marker": {
             "colorbar": {
              "outlinewidth": 0,
              "ticks": ""
             }
            },
            "type": "scattergl"
           }
          ],
          "scattermap": [
           {
            "marker": {
             "colorbar": {
              "outlinewidth": 0,
              "ticks": ""
             }
            },
            "type": "scattermap"
           }
          ],
          "scattermapbox": [
           {
            "marker": {
             "colorbar": {
              "outlinewidth": 0,
              "ticks": ""
             }
            },
            "type": "scattermapbox"
           }
          ],
          "scatterpolar": [
           {
            "marker": {
             "colorbar": {
              "outlinewidth": 0,
              "ticks": ""
             }
            },
            "type": "scatterpolar"
           }
          ],
          "scatterpolargl": [
           {
            "marker": {
             "colorbar": {
              "outlinewidth": 0,
              "ticks": ""
             }
            },
            "type": "scatterpolargl"
           }
          ],
          "scatterternary": [
           {
            "marker": {
             "colorbar": {
              "outlinewidth": 0,
              "ticks": ""
             }
            },
            "type": "scatterternary"
           }
          ],
          "surface": [
           {
            "colorbar": {
             "outlinewidth": 0,
             "ticks": ""
            },
            "colorscale": [
             [
              0,
              "#0d0887"
             ],
             [
              0.1111111111111111,
              "#46039f"
             ],
             [
              0.2222222222222222,
              "#7201a8"
             ],
             [
              0.3333333333333333,
              "#9c179e"
             ],
             [
              0.4444444444444444,
              "#bd3786"
             ],
             [
              0.5555555555555556,
              "#d8576b"
             ],
             [
              0.6666666666666666,
              "#ed7953"
             ],
             [
              0.7777777777777778,
              "#fb9f3a"
             ],
             [
              0.8888888888888888,
              "#fdca26"
             ],
             [
              1,
              "#f0f921"
             ]
            ],
            "type": "surface"
           }
          ],
          "table": [
           {
            "cells": {
             "fill": {
              "color": "#EBF0F8"
             },
             "line": {
              "color": "white"
             }
            },
            "header": {
             "fill": {
              "color": "#C8D4E3"
             },
             "line": {
              "color": "white"
             }
            },
            "type": "table"
           }
          ]
         },
         "layout": {
          "annotationdefaults": {
           "arrowcolor": "#2a3f5f",
           "arrowhead": 0,
           "arrowwidth": 1
          },
          "autotypenumbers": "strict",
          "coloraxis": {
           "colorbar": {
            "outlinewidth": 0,
            "ticks": ""
           }
          },
          "colorscale": {
           "diverging": [
            [
             0,
             "#8e0152"
            ],
            [
             0.1,
             "#c51b7d"
            ],
            [
             0.2,
             "#de77ae"
            ],
            [
             0.3,
             "#f1b6da"
            ],
            [
             0.4,
             "#fde0ef"
            ],
            [
             0.5,
             "#f7f7f7"
            ],
            [
             0.6,
             "#e6f5d0"
            ],
            [
             0.7,
             "#b8e186"
            ],
            [
             0.8,
             "#7fbc41"
            ],
            [
             0.9,
             "#4d9221"
            ],
            [
             1,
             "#276419"
            ]
           ],
           "sequential": [
            [
             0,
             "#0d0887"
            ],
            [
             0.1111111111111111,
             "#46039f"
            ],
            [
             0.2222222222222222,
             "#7201a8"
            ],
            [
             0.3333333333333333,
             "#9c179e"
            ],
            [
             0.4444444444444444,
             "#bd3786"
            ],
            [
             0.5555555555555556,
             "#d8576b"
            ],
            [
             0.6666666666666666,
             "#ed7953"
            ],
            [
             0.7777777777777778,
             "#fb9f3a"
            ],
            [
             0.8888888888888888,
             "#fdca26"
            ],
            [
             1,
             "#f0f921"
            ]
           ],
           "sequentialminus": [
            [
             0,
             "#0d0887"
            ],
            [
             0.1111111111111111,
             "#46039f"
            ],
            [
             0.2222222222222222,
             "#7201a8"
            ],
            [
             0.3333333333333333,
             "#9c179e"
            ],
            [
             0.4444444444444444,
             "#bd3786"
            ],
            [
             0.5555555555555556,
             "#d8576b"
            ],
            [
             0.6666666666666666,
             "#ed7953"
            ],
            [
             0.7777777777777778,
             "#fb9f3a"
            ],
            [
             0.8888888888888888,
             "#fdca26"
            ],
            [
             1,
             "#f0f921"
            ]
           ]
          },
          "colorway": [
           "#636efa",
           "#EF553B",
           "#00cc96",
           "#ab63fa",
           "#FFA15A",
           "#19d3f3",
           "#FF6692",
           "#B6E880",
           "#FF97FF",
           "#FECB52"
          ],
          "font": {
           "color": "#2a3f5f"
          },
          "geo": {
           "bgcolor": "white",
           "lakecolor": "white",
           "landcolor": "white",
           "showlakes": true,
           "showland": true,
           "subunitcolor": "#C8D4E3"
          },
          "hoverlabel": {
           "align": "left"
          },
          "hovermode": "closest",
          "mapbox": {
           "style": "light"
          },
          "paper_bgcolor": "white",
          "plot_bgcolor": "white",
          "polar": {
           "angularaxis": {
            "gridcolor": "#EBF0F8",
            "linecolor": "#EBF0F8",
            "ticks": ""
           },
           "bgcolor": "white",
           "radialaxis": {
            "gridcolor": "#EBF0F8",
            "linecolor": "#EBF0F8",
            "ticks": ""
           }
          },
          "scene": {
           "xaxis": {
            "backgroundcolor": "white",
            "gridcolor": "#DFE8F3",
            "gridwidth": 2,
            "linecolor": "#EBF0F8",
            "showbackground": true,
            "ticks": "",
            "zerolinecolor": "#EBF0F8"
           },
           "yaxis": {
            "backgroundcolor": "white",
            "gridcolor": "#DFE8F3",
            "gridwidth": 2,
            "linecolor": "#EBF0F8",
            "showbackground": true,
            "ticks": "",
            "zerolinecolor": "#EBF0F8"
           },
           "zaxis": {
            "backgroundcolor": "white",
            "gridcolor": "#DFE8F3",
            "gridwidth": 2,
            "linecolor": "#EBF0F8",
            "showbackground": true,
            "ticks": "",
            "zerolinecolor": "#EBF0F8"
           }
          },
          "shapedefaults": {
           "line": {
            "color": "#2a3f5f"
           }
          },
          "ternary": {
           "aaxis": {
            "gridcolor": "#DFE8F3",
            "linecolor": "#A2B1C6",
            "ticks": ""
           },
           "baxis": {
            "gridcolor": "#DFE8F3",
            "linecolor": "#A2B1C6",
            "ticks": ""
           },
           "bgcolor": "white",
           "caxis": {
            "gridcolor": "#DFE8F3",
            "linecolor": "#A2B1C6",
            "ticks": ""
           }
          },
          "title": {
           "x": 0.05
          },
          "xaxis": {
           "automargin": true,
           "gridcolor": "#EBF0F8",
           "linecolor": "#EBF0F8",
           "ticks": "",
           "title": {
            "standoff": 15
           },
           "zerolinecolor": "#EBF0F8",
           "zerolinewidth": 2
          },
          "yaxis": {
           "automargin": true,
           "gridcolor": "#EBF0F8",
           "linecolor": "#EBF0F8",
           "ticks": "",
           "title": {
            "standoff": 15
           },
           "zerolinecolor": "#EBF0F8",
           "zerolinewidth": 2
          }
         }
        },
        "title": {
         "text": "📈 AOT - Candlestick Chart with Volume"
        },
        "xaxis": {
         "rangeslider": {
          "visible": false
         }
        },
        "yaxis": {
         "title": {
          "text": "Price"
         }
        },
        "yaxis2": {
         "overlaying": "y",
         "showgrid": false,
         "side": "right",
         "title": {
          "text": "Volume"
         }
        }
       }
      }
     },
     "metadata": {},
     "output_type": "display_data"
    }
   ],
   "source": [
    "import plotly.graph_objects as go\n",
    "\n",
    "# ✅ สร้างกราฟ Candlestick\n",
    "fig = go.Figure()\n",
    "\n",
    "# 🔹 แท่งเทียนราคา\n",
    "fig.add_trace(go.Candlestick(\n",
    "    x=df['time'],\n",
    "    open=df['open_price'],\n",
    "    high=df['high_price'],\n",
    "    low=df['low_price'],\n",
    "    close=df['close_price'],\n",
    "    name=stock\n",
    "))\n",
    "\n",
    "# 🔹 Volume bar (แถบปริมาณการซื้อขาย)\n",
    "fig.add_trace(go.Bar(\n",
    "    x=df['time'],\n",
    "    y=df['volume'],\n",
    "    marker_color='rgba(128,128,128,0.3)',\n",
    "    yaxis='y2',\n",
    "    name='Volume'\n",
    "))\n",
    "\n",
    "# ✅ ปรับ layout ให้เหมือน TradingView\n",
    "fig.update_layout(\n",
    "    title=f'📈 {stock} - Candlestick Chart with Volume',\n",
    "    xaxis_rangeslider_visible=False,\n",
    "    yaxis=dict(title='Price'),\n",
    "    yaxis2=dict(\n",
    "        title='Volume',\n",
    "        overlaying='y',\n",
    "        side='right',\n",
    "        showgrid=False\n",
    "    ),\n",
    "    height=600,\n",
    "    template='plotly_white'\n",
    ")\n",
    "\n",
    "fig.show()"
   ]
  }
 ],
 "metadata": {
  "kernelspec": {
   "display_name": "Python 3",
   "language": "python",
   "name": "python3"
  },
  "language_info": {
   "codemirror_mode": {
    "name": "ipython",
    "version": 3
   },
   "file_extension": ".py",
   "mimetype": "text/x-python",
   "name": "python",
   "nbconvert_exporter": "python",
   "pygments_lexer": "ipython3",
   "version": "3.11.5"
  }
 },
 "nbformat": 4,
 "nbformat_minor": 5
}
