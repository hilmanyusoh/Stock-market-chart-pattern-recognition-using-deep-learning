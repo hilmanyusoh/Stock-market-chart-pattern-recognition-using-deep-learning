{
 "cells": [
  {
   "cell_type": "markdown",
   "id": "0dc1d9e2",
   "metadata": {},
   "source": [
    "# Wyckoff using Machine Learning"
   ]
  },
  {
   "cell_type": "markdown",
   "id": "353cba79",
   "metadata": {},
   "source": []
  },
  {
   "cell_type": "code",
   "execution_count": 1,
   "id": "b39442d7",
   "metadata": {},
   "outputs": [],
   "source": [
    "from cassandra.cluster import Cluster\n",
    "import pandas as pd\n",
    "import numpy as np\n",
    "import matplotlib.pyplot as plt\n",
    "from sklearn.ensemble import RandomForestClassifier\n",
    "from sklearn.model_selection import train_test_split\n",
    "from sklearn.metrics import classification_report, accuracy_score"
   ]
  },
  {
   "cell_type": "markdown",
   "id": "5e43c03c",
   "metadata": {},
   "source": [
    "# 1️⃣ ดึงข้อมูลจาก Cassandra"
   ]
  },
  {
   "cell_type": "code",
   "execution_count": 2,
   "id": "a36d4584",
   "metadata": {},
   "outputs": [],
   "source": [
    "def get_candlestick_data(symbol: str, limit: int = 100):\n",
    "    try:\n",
    "        cluster = Cluster(['127.0.0.1'], port=9042)\n",
    "        session = cluster.connect('stock_data')\n",
    "\n",
    "        query = \"\"\"\n",
    "            SELECT time, open_price, high_price, low_price, close_price, volume\n",
    "            FROM candlestick_data\n",
    "            WHERE symbol = %s\n",
    "            ORDER BY time DESC\n",
    "            LIMIT %s\n",
    "        \"\"\"\n",
    "        rows = session.execute(query, (symbol, limit))\n",
    "        df = pd.DataFrame(list(rows))\n",
    "\n",
    "        if df.empty:\n",
    "            print(f\"⚠️ ไม่พบข้อมูลสำหรับ symbol '{symbol}'\")\n",
    "            return pd.DataFrame()\n",
    "\n",
    "        df.rename(columns={\n",
    "            'open_price': 'open',\n",
    "            'high_price': 'high',\n",
    "            'low_price': 'low',\n",
    "            'close_price': 'close'\n",
    "        }, inplace=True)\n",
    "\n",
    "        df.sort_values('time', inplace=True)\n",
    "        df.reset_index(drop=True, inplace=True)\n",
    "\n",
    "        return df\n",
    "\n",
    "    except Exception as e:\n",
    "        raise ConnectionRefusedError(f\"❌ ไม่สามารถเชื่อมต่อ Cassandra ได้: {e}\")\n",
    "\n",
    "    finally:\n",
    "        try:\n",
    "            cluster.shutdown()\n",
    "        except:\n",
    "            pass\n"
   ]
  },
  {
   "cell_type": "markdown",
   "id": "5001e980",
   "metadata": {},
   "source": [
    "# 2️⃣ สร้าง Wyckoff Feature Engineering"
   ]
  },
  {
   "cell_type": "code",
   "execution_count": 3,
   "id": "d7f53106",
   "metadata": {},
   "outputs": [],
   "source": [
    "def wyckoff_feature_engineering(df: pd.DataFrame) -> pd.DataFrame:\n",
    "    \"\"\"\n",
    "    สร้างฟีเจอร์ตามหลัก Wyckoff เพื่อใช้ใน Machine Learning\n",
    "    \"\"\"\n",
    "    df = df.copy()\n",
    "\n",
    "    df['price_change'] = df['close'].pct_change()\n",
    "    df['volume_change'] = df['volume'].pct_change()\n",
    "    df['high_low_spread'] = (df['high'] - df['low']) / df['close']\n",
    "    df['close_position'] = (df['close'] - df['low']) / (df['high'] - df['low'] + 1e-6)\n",
    "\n",
    "    df['ma_20'] = df['close'].rolling(20).mean()\n",
    "    df['ma_50'] = df['close'].rolling(50).mean()\n",
    "    df['volume_ma_20'] = df['volume'].rolling(20).mean()\n",
    "\n",
    "    df['effort_vs_result'] = df['volume'] * df['price_change']\n",
    "    df['supply_demand_ratio'] = df['volume_change'] / (df['price_change'] + 1e-6)\n",
    "    df['above_ma'] = (df['close'] > df['ma_20']).astype(int)\n",
    "\n",
    "    window = 20\n",
    "    df['local_min'] = df['low'][(df['low'] == df['low'].rolling(window, center=True).min())]\n",
    "    df['local_max'] = df['high'][(df['high'] == df['high'].rolling(window, center=True).max())]\n",
    "\n",
    "    # จุด Wyckoff สำคัญแบบ heuristic\n",
    "    df['SC'] = ((df['local_min'].notnull()) & (df['volume'] > df['volume_ma_20'] * 1.5)).astype(int)\n",
    "    df['AR'] = ((df['local_max'].notnull()) & (df['volume'] > df['volume_ma_20'] * 1.2)).astype(int)\n",
    "    df['Spring'] = ((df['SC'].shift(5) == 1) & (df['close'] > df['ma_20'])).astype(int)\n",
    "\n",
    "    df.fillna(0, inplace=True)\n",
    "    return df"
   ]
  },
  {
   "cell_type": "markdown",
   "id": "69536108",
   "metadata": {},
   "source": [
    "# 3️⃣ สร้างโมเดล Machine Learning จำแนกเฟส Wyckoff"
   ]
  },
  {
   "cell_type": "code",
   "execution_count": 4,
   "id": "52ed6ddc",
   "metadata": {},
   "outputs": [],
   "source": [
    "def train_wyckoff_model(df: pd.DataFrame):\n",
    "    df = df.copy()\n",
    "\n",
    "    # Label แบบง่าย: 0 = Accumulation, 1 = Distribution\n",
    "    df['label'] = np.where(\n",
    "        (df['volume'] > df['volume_ma_20']) & (df['price_change'] < 0.001), 0,\n",
    "        np.where((df['volume'] > df['volume_ma_20']) & (df['price_change'] >= 0.001), 1, 0)\n",
    "    )\n",
    "\n",
    "    features = ['price_change', 'volume_change', 'high_low_spread',\n",
    "                'close_position', 'effort_vs_result', 'supply_demand_ratio', 'above_ma']\n",
    "\n",
    "    X = df[features]\n",
    "    y = df['label']\n",
    "\n",
    "    X_train, X_test, y_train, y_test = train_test_split(X, y, test_size=0.2, random_state=42)\n",
    "    model = RandomForestClassifier(n_estimators=100, random_state=42)\n",
    "    model.fit(X_train, y_train)\n",
    "\n",
    "    y_pred = model.predict(X_test)\n",
    "    acc = accuracy_score(y_test, y_pred)\n",
    "    print(f\"\\n✅ Accuracy: {acc:.2f}\")\n",
    "    print(classification_report(y_test, y_pred))\n",
    "\n",
    "    df['predicted_label'] = model.predict(X)\n",
    "\n",
    "    return model, df"
   ]
  },
  {
   "cell_type": "markdown",
   "id": "4f780ade",
   "metadata": {},
   "source": [
    "# 4️⃣ Visualization Wyckoff Zones"
   ]
  },
  {
   "cell_type": "code",
   "execution_count": 5,
   "id": "36e98da4",
   "metadata": {},
   "outputs": [],
   "source": [
    "def plot_wyckoff_zones(df: pd.DataFrame, symbol: str):\n",
    "    plt.figure(figsize=(15, 7))\n",
    "    plt.plot(df['time'], df['close'], label='Close Price', linewidth=1.5)\n",
    "\n",
    "    # โซน Accumulation/Distribution จากโมเดล\n",
    "    plt.fill_between(df['time'], df['close'].min(), df['close'].max(),\n",
    "                     where=(df['predicted_label'] == 0),\n",
    "                     color='green', alpha=0.1, label='Accumulation Zone')\n",
    "    plt.fill_between(df['time'], df['close'].min(), df['close'].max(),\n",
    "                     where=(df['predicted_label'] == 1),\n",
    "                     color='red', alpha=0.1, label='Distribution Zone')\n",
    "\n",
    "    # จุดสำคัญ Wyckoff\n",
    "    plt.scatter(df.loc[df['SC'] == 1, 'time'], df.loc[df['SC'] == 1, 'close'],\n",
    "                color='blue', label='Selling Climax (SC)', marker='v', s=60)\n",
    "    plt.scatter(df.loc[df['AR'] == 1, 'time'], df.loc[df['AR'] == 1, 'close'],\n",
    "                color='orange', label='Automatic Rally (AR)', marker='^', s=60)\n",
    "    plt.scatter(df.loc[df['Spring'] == 1, 'time'], df.loc[df['Spring'] == 1, 'close'],\n",
    "                color='purple', label='Spring', marker='*', s=100)\n",
    "\n",
    "\n",
    "    plt.title(f\"Wyckoff Zones Prediction - {symbol}\", fontsize=14)\n",
    "    plt.xlabel(\"Time\")\n",
    "    plt.ylabel(\"Price\")\n",
    "    plt.legend()\n",
    "    plt.grid(True)\n",
    "    plt.show()"
   ]
  },
  {
   "cell_type": "markdown",
   "id": "188d5505",
   "metadata": {},
   "source": [
    "#  MAIN PIPELINE"
   ]
  },
  {
   "cell_type": "code",
   "execution_count": 6,
   "id": "47bbdc94",
   "metadata": {},
   "outputs": [
    {
     "ename": "ConnectionRefusedError",
     "evalue": "❌ ไม่สามารถเชื่อมต่อ Cassandra ได้: ('Unable to connect to any servers', {'127.0.0.1:9042': ConnectionRefusedError(61, \"Tried connecting to [('127.0.0.1', 9042)]. Last error: Connection refused\")})",
     "output_type": "error",
     "traceback": [
      "\u001b[31m---------------------------------------------------------------------------\u001b[39m",
      "\u001b[31mNoHostAvailable\u001b[39m                           Traceback (most recent call last)",
      "\u001b[36mCell\u001b[39m\u001b[36m \u001b[39m\u001b[32mIn[2]\u001b[39m\u001b[32m, line 4\u001b[39m, in \u001b[36mget_candlestick_data\u001b[39m\u001b[34m(symbol, limit)\u001b[39m\n\u001b[32m      3\u001b[39m cluster = Cluster([\u001b[33m'\u001b[39m\u001b[33m127.0.0.1\u001b[39m\u001b[33m'\u001b[39m], port=\u001b[32m9042\u001b[39m)\n\u001b[32m----> \u001b[39m\u001b[32m4\u001b[39m session = \u001b[43mcluster\u001b[49m\u001b[43m.\u001b[49m\u001b[43mconnect\u001b[49m\u001b[43m(\u001b[49m\u001b[33;43m'\u001b[39;49m\u001b[33;43mstock_data\u001b[39;49m\u001b[33;43m'\u001b[39;49m\u001b[43m)\u001b[49m\n\u001b[32m      6\u001b[39m query = \u001b[33m\"\"\"\u001b[39m\n\u001b[32m      7\u001b[39m \u001b[33m    SELECT time, open_price, high_price, low_price, close_price, volume\u001b[39m\n\u001b[32m      8\u001b[39m \u001b[33m    FROM candlestick_data\u001b[39m\n\u001b[32m   (...)\u001b[39m\u001b[32m     11\u001b[39m \u001b[33m    LIMIT \u001b[39m\u001b[38;5;132;01m%s\u001b[39;00m\n\u001b[32m     12\u001b[39m \u001b[33m\u001b[39m\u001b[33m\"\"\"\u001b[39m\n",
      "\u001b[36mFile \u001b[39m\u001b[32m/Library/Frameworks/Python.framework/Versions/3.11/lib/python3.11/site-packages/cassandra/cluster.py:1740\u001b[39m, in \u001b[36mCluster.connect\u001b[39m\u001b[34m(self, keyspace, wait_for_all_pools)\u001b[39m\n\u001b[32m   1739\u001b[39m \u001b[38;5;28;01mtry\u001b[39;00m:\n\u001b[32m-> \u001b[39m\u001b[32m1740\u001b[39m     \u001b[38;5;28;43mself\u001b[39;49m\u001b[43m.\u001b[49m\u001b[43mcontrol_connection\u001b[49m\u001b[43m.\u001b[49m\u001b[43mconnect\u001b[49m\u001b[43m(\u001b[49m\u001b[43m)\u001b[49m\n\u001b[32m   1742\u001b[39m     \u001b[38;5;66;03m# we set all contact points up for connecting, but we won't infer state after this\u001b[39;00m\n",
      "\u001b[36mFile \u001b[39m\u001b[32m/Library/Frameworks/Python.framework/Versions/3.11/lib/python3.11/site-packages/cassandra/cluster.py:3543\u001b[39m, in \u001b[36mControlConnection.connect\u001b[39m\u001b[34m(self)\u001b[39m\n\u001b[32m   3542\u001b[39m \u001b[38;5;28mself\u001b[39m._protocol_version = \u001b[38;5;28mself\u001b[39m._cluster.protocol_version\n\u001b[32m-> \u001b[39m\u001b[32m3543\u001b[39m \u001b[38;5;28mself\u001b[39m._set_new_connection(\u001b[38;5;28;43mself\u001b[39;49m\u001b[43m.\u001b[49m\u001b[43m_reconnect_internal\u001b[49m\u001b[43m(\u001b[49m\u001b[43m)\u001b[49m)\n\u001b[32m   3545\u001b[39m \u001b[38;5;28mself\u001b[39m._cluster.metadata.dbaas = \u001b[38;5;28mself\u001b[39m._connection._product_type == dscloud.DATASTAX_CLOUD_PRODUCT_TYPE\n",
      "\u001b[36mFile \u001b[39m\u001b[32m/Library/Frameworks/Python.framework/Versions/3.11/lib/python3.11/site-packages/cassandra/cluster.py:3588\u001b[39m, in \u001b[36mControlConnection._reconnect_internal\u001b[39m\u001b[34m(self)\u001b[39m\n\u001b[32m   3586\u001b[39m         \u001b[38;5;28;01mraise\u001b[39;00m DriverException(\u001b[33m\"\u001b[39m\u001b[33m[control connection] Reconnection in progress during shutdown\u001b[39m\u001b[33m\"\u001b[39m)\n\u001b[32m-> \u001b[39m\u001b[32m3588\u001b[39m \u001b[38;5;28;01mraise\u001b[39;00m NoHostAvailable(\u001b[33m\"\u001b[39m\u001b[33mUnable to connect to any servers\u001b[39m\u001b[33m\"\u001b[39m, errors)\n",
      "\u001b[31mNoHostAvailable\u001b[39m: ('Unable to connect to any servers', {'127.0.0.1:9042': ConnectionRefusedError(61, \"Tried connecting to [('127.0.0.1', 9042)]. Last error: Connection refused\")})",
      "\nDuring handling of the above exception, another exception occurred:\n",
      "\u001b[31mConnectionRefusedError\u001b[39m                    Traceback (most recent call last)",
      "\u001b[36mCell\u001b[39m\u001b[36m \u001b[39m\u001b[32mIn[6]\u001b[39m\u001b[32m, line 3\u001b[39m\n\u001b[32m      1\u001b[39m \u001b[38;5;28;01mif\u001b[39;00m \u001b[34m__name__\u001b[39m == \u001b[33m\"\u001b[39m\u001b[33m__main__\u001b[39m\u001b[33m\"\u001b[39m:\n\u001b[32m      2\u001b[39m     symbol = \u001b[33m\"\u001b[39m\u001b[33mBTC\u001b[39m\u001b[33m\"\u001b[39m\n\u001b[32m----> \u001b[39m\u001b[32m3\u001b[39m     df = \u001b[43mget_candlestick_data\u001b[49m\u001b[43m(\u001b[49m\u001b[43msymbol\u001b[49m\u001b[43m,\u001b[49m\u001b[43m \u001b[49m\u001b[43mlimit\u001b[49m\u001b[43m=\u001b[49m\u001b[32;43m500\u001b[39;49m\u001b[43m)\u001b[49m\n\u001b[32m      4\u001b[39m     \u001b[38;5;28;01mif\u001b[39;00m df.empty:\n\u001b[32m      5\u001b[39m         \u001b[38;5;28mprint\u001b[39m(\u001b[33m\"\u001b[39m\u001b[33mไม่มีข้อมูลจาก Cassandra\u001b[39m\u001b[33m\"\u001b[39m)\n",
      "\u001b[36mCell\u001b[39m\u001b[36m \u001b[39m\u001b[32mIn[2]\u001b[39m\u001b[32m, line 33\u001b[39m, in \u001b[36mget_candlestick_data\u001b[39m\u001b[34m(symbol, limit)\u001b[39m\n\u001b[32m     30\u001b[39m     \u001b[38;5;28;01mreturn\u001b[39;00m df\n\u001b[32m     32\u001b[39m \u001b[38;5;28;01mexcept\u001b[39;00m \u001b[38;5;167;01mException\u001b[39;00m \u001b[38;5;28;01mas\u001b[39;00m e:\n\u001b[32m---> \u001b[39m\u001b[32m33\u001b[39m     \u001b[38;5;28;01mraise\u001b[39;00m \u001b[38;5;167;01mConnectionRefusedError\u001b[39;00m(\u001b[33mf\u001b[39m\u001b[33m\"\u001b[39m\u001b[33m❌ ไม่สามารถเชื่อมต่อ Cassandra ได้: \u001b[39m\u001b[38;5;132;01m{\u001b[39;00me\u001b[38;5;132;01m}\u001b[39;00m\u001b[33m\"\u001b[39m)\n\u001b[32m     35\u001b[39m \u001b[38;5;28;01mfinally\u001b[39;00m:\n\u001b[32m     36\u001b[39m     \u001b[38;5;28;01mtry\u001b[39;00m:\n",
      "\u001b[31mConnectionRefusedError\u001b[39m: ❌ ไม่สามารถเชื่อมต่อ Cassandra ได้: ('Unable to connect to any servers', {'127.0.0.1:9042': ConnectionRefusedError(61, \"Tried connecting to [('127.0.0.1', 9042)]. Last error: Connection refused\")})"
     ]
    }
   ],
   "source": [
    "if __name__ == \"__main__\":\n",
    "    symbol = \"BTC\"\n",
    "    df = get_candlestick_data(symbol, limit=500)\n",
    "    if df.empty:\n",
    "        print(\"ไม่มีข้อมูลจาก Cassandra\")\n",
    "    else:\n",
    "        df = wyckoff_feature_engineering(df)\n",
    "        model, df = train_wyckoff_model(df)\n",
    "        plot_wyckoff_zones(df, symbol)\n"
   ]
  },
  {
   "cell_type": "code",
   "execution_count": null,
   "id": "3447a53a",
   "metadata": {},
   "outputs": [],
   "source": []
  }
 ],
 "metadata": {
  "kernelspec": {
   "display_name": "Python 3",
   "language": "python",
   "name": "python3"
  },
  "language_info": {
   "codemirror_mode": {
    "name": "ipython",
    "version": 3
   },
   "file_extension": ".py",
   "mimetype": "text/x-python",
   "name": "python",
   "nbconvert_exporter": "python",
   "pygments_lexer": "ipython3",
   "version": "3.11.5"
  }
 },
 "nbformat": 4,
 "nbformat_minor": 5
}
