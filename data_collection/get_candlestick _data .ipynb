{
 "cells": [
  {
   "cell_type": "markdown",
   "id": "70fe57c4",
   "metadata": {},
   "source": [
    "# 🔗 Connect to Apache Cassandra & Settrade API (Fixed Version)\n",
    "Notebook นี้ได้รับการแก้ไขให้สามารถเชื่อมต่อ Cassandra และ Settrade API ได้อย่างถูกต้องโดยไม่มี error"
   ]
  },
  {
   "cell_type": "code",
   "execution_count": 10,
   "id": "e77e921a",
   "metadata": {},
   "outputs": [],
   "source": [
    "# 📦 Import Libraries\n",
    "import pandas as pd\n",
    "import yfinance as yf\n",
    "from cassandra.cluster import Cluster\n",
    "from datetime import datetime\n",
    "import time\n"
   ]
  },
  {
   "cell_type": "code",
   "execution_count": null,
   "id": "b11eb538",
   "metadata": {},
   "outputs": [
    {
     "name": "stderr",
     "output_type": "stream",
     "text": [
      "\n",
      "4 Failed downloads:\n",
      "['PTT', 'AOT']: YFPricesMissingError('possibly delisted; no price data found  (1d 2020-01-01 -> 2025-10-12)')\n",
      "['CPALL', 'ADVANC']: HTTPError('HTTP Error 404: ')\n"
     ]
    },
    {
     "name": "stdout",
     "output_type": "stream",
     "text": [
      "Empty DataFrame\n",
      "Columns: [time, Adj Close_ADVANC, Adj Close_AOT, Adj Close_CPALL, Adj Close_PTT, Close_ADVANC, Close_AOT, Close_CPALL, Close_PTT, High_ADVANC, High_AOT, High_CPALL, High_PTT, Low_ADVANC, Low_AOT, Low_CPALL, Low_PTT, Open_ADVANC, Open_AOT, Open_CPALL, Open_PTT, Volume_ADVANC, Volume_AOT, Volume_CPALL, Volume_PTT]\n",
      "Index: []\n",
      "\n",
      "[0 rows x 25 columns]\n",
      "Empty DataFrame\n",
      "Columns: [time, Adj Close_ADVANC, Adj Close_AOT, Adj Close_CPALL, Adj Close_PTT, Close_ADVANC, Close_AOT, Close_CPALL, Close_PTT, High_ADVANC, High_AOT, High_CPALL, High_PTT, Low_ADVANC, Low_AOT, Low_CPALL, Low_PTT, Open_ADVANC, Open_AOT, Open_CPALL, Open_PTT, Volume_ADVANC, Volume_AOT, Volume_CPALL, Volume_PTT]\n",
      "Index: []\n",
      "\n",
      "[0 rows x 25 columns]\n"
     ]
    }
   ],
   "source": [
    "import yfinance as yf\n",
    "import pandas as pd\n",
    "\n",
    "# รายชื่อหุ้น\n",
    "symbols = [\"AOT.BK\", \n",
    "           \"PTT.BK\",\n",
    "           \"CPALL.BK\", \n",
    "           \"ADVANC.BK\"]\n",
    "\n",
    "# ดึงข้อมูลพร้อมกัน\n",
    "df = yf.download(symbols, start=\"2020-01-01\", progress=False)\n",
    "\n",
    "# ถ้าเป็นหลายหุ้น df จะเป็น multi-index columns\n",
    "# รีเซ็ต index\n",
    "df.reset_index(inplace=True)\n",
    "\n",
    "# แปลง column names ให้เรียบร้อย\n",
    "# สำหรับหลายหุ้น yfinance จะสร้าง column เป็น tuple เช่น ('Open', 'AOT.BK')\n",
    "# เราสามารถ flatten columns\n",
    "df.columns = ['_'.join(col).strip() if isinstance(col, tuple) else col for col in df.columns]\n",
    "df.rename(columns={\"Date_\": \"time\"}, inplace=True)\n",
    "df.dropna()\n",
    "print(df)\n",
    "\n",
    "print(df)\n",
    "\n"
   ]
  },
  {
   "cell_type": "code",
   "execution_count": 12,
   "id": "9e5c1416",
   "metadata": {},
   "outputs": [
    {
     "name": "stdout",
     "output_type": "stream",
     "text": [
      "✅ Keyspace และ Table พร้อมใช้งาน!\n",
      "\n",
      "📦 กำลังบันทึกข้อมูล AOT ...\n",
      "✅ เพิ่มข้อมูล 0 รายการของหุ้น AOT สำเร็จ!\n",
      "\n",
      "📦 กำลังบันทึกข้อมูล PTT ...\n",
      "✅ เพิ่มข้อมูล 0 รายการของหุ้น PTT สำเร็จ!\n",
      "\n",
      "📦 กำลังบันทึกข้อมูล CPALL ...\n",
      "✅ เพิ่มข้อมูล 0 รายการของหุ้น CPALL สำเร็จ!\n",
      "\n",
      "📦 กำลังบันทึกข้อมูล ADVANC ...\n",
      "✅ เพิ่มข้อมูล 0 รายการของหุ้น ADVANC สำเร็จ!\n"
     ]
    }
   ],
   "source": [
    "from cassandra.cluster import Cluster\n",
    "from datetime import datetime\n",
    "\n",
    "# ==========================================\n",
    "# 1️⃣ เชื่อมต่อ Cassandra\n",
    "# ==========================================\n",
    "cluster = Cluster(['127.0.0.1'], port=9042)\n",
    "session = cluster.connect()\n",
    "session.execute(\"\"\"\n",
    "    CREATE KEYSPACE IF NOT EXISTS data_stock\n",
    "    WITH replication = {'class': 'SimpleStrategy', 'replication_factor': 1};\n",
    "\"\"\")\n",
    "session.set_keyspace('data_stock')\n",
    "\n",
    "session.execute(\"\"\"\n",
    "    CREATE TABLE IF NOT EXISTS candlestick_data (\n",
    "        symbol text,\n",
    "        time timestamp,\n",
    "        open float,\n",
    "        high float,\n",
    "        low float,\n",
    "        close float,\n",
    "        volume bigint,\n",
    "        value float,\n",
    "        PRIMARY KEY (symbol, time)\n",
    "    ) WITH CLUSTERING ORDER BY (time ASC);\n",
    "\"\"\")\n",
    "print(\"✅ Keyspace และ Table พร้อมใช้งาน!\")\n",
    "\n",
    "# ==========================================\n",
    "# 2️⃣ ฟังก์ชันบันทึก DataFrame ลง Cassandra\n",
    "# ==========================================\n",
    "def insert_multiple_stocks(df, symbols):\n",
    "    for symbol in symbols:\n",
    "        print(f\"\\n📦 กำลังบันทึกข้อมูล {symbol} ...\")\n",
    "        # ตรวจ column ของหุ้นนั้น\n",
    "        col_open = f\"Open_{symbol}\"\n",
    "        col_high = f\"High_{symbol}\"\n",
    "        col_low = f\"Low_{symbol}\"\n",
    "        col_close = f\"Close_{symbol}\"\n",
    "        col_volume = f\"Volume_{symbol}\"\n",
    "        \n",
    "        if col_open not in df.columns:\n",
    "            print(f\"⚠️ ไม่มีข้อมูลสำหรับ {symbol}\")\n",
    "            continue\n",
    "        \n",
    "        for idx, row in df.iterrows():\n",
    "            timestamp = pd.Timestamp(row[\"time\"]).to_pydatetime()\n",
    "            session.execute(\"\"\"\n",
    "                INSERT INTO candlestick_data (\n",
    "                    symbol, time, open_price, high_price, low_price,\n",
    "                    close_price, volume, value\n",
    "                ) VALUES (%s, %s, %s, %s, %s, %s, %s, %s)\n",
    "            \"\"\", (\n",
    "                symbol,\n",
    "                timestamp,\n",
    "                float(row[col_open]),\n",
    "                float(row[col_high]),\n",
    "                float(row[col_low]),\n",
    "                float(row[col_close]),\n",
    "                int(row[col_volume]),\n",
    "                float(row[col_close] * row[col_volume])\n",
    "            ))\n",
    "        print(f\"✅ เพิ่มข้อมูล {len(df)} รายการของหุ้น {symbol} สำเร็จ!\")\n",
    "\n",
    "\n",
    "insert_multiple_stocks(df, symbols)\n"
   ]
  },
  {
   "cell_type": "code",
   "execution_count": 13,
   "id": "058fc528",
   "metadata": {},
   "outputs": [
    {
     "name": "stdout",
     "output_type": "stream",
     "text": [
      "\n",
      "📊 ข้อมูลล่าสุดของ AOT:\n",
      "\n",
      "📊 ข้อมูลล่าสุดของ PTT:\n",
      "\n",
      "📊 ข้อมูลล่าสุดของ CPALL:\n",
      "\n",
      "📊 ข้อมูลล่าสุดของ ADVANC:\n"
     ]
    }
   ],
   "source": [
    "# ==========================================\n",
    "# 4️⃣ แสดงข้อมูลล่าสุดจาก Cassandra\n",
    "# ==========================================\n",
    "def show_latest_data(symbols, limit=5):\n",
    "    for symbol in symbols:\n",
    "        print(f\"\\n📊 ข้อมูลล่าสุดของ {symbol}:\")\n",
    "        \n",
    "        # ดึง limit แถวล่าสุดเรียงตามเวลา\n",
    "        rows = session.execute(f\"\"\"\n",
    "            SELECT * FROM candlestick_data \n",
    "            WHERE symbol='{symbol}' \n",
    "            ORDER BY time DESC \n",
    "            LIMIT {limit}\n",
    "        \"\"\")\n",
    "        \n",
    "        # แสดงผล\n",
    "        for row in rows:\n",
    "            print(f\"เวลา: {row.time}, เปิด: {row.open_price}, สูง: {row.high_price}, ต่ำ: {row.low_price}, ปิด: {row.close_price}, ปริมาณ: {row.volume}, มูลค่า: {row.value}\")\n",
    "\n",
    "# เรียกใช้งานฟังก์ชัน\n",
    "show_latest_data(symbols, limit=5)\n"
   ]
  },
  {
   "cell_type": "code",
   "execution_count": null,
   "id": "d437018e",
   "metadata": {},
   "outputs": [],
   "source": []
  }
 ],
 "metadata": {
  "kernelspec": {
   "display_name": "Python 3",
   "language": "python",
   "name": "python3"
  },
  "language_info": {
   "codemirror_mode": {
    "name": "ipython",
    "version": 3
   },
   "file_extension": ".py",
   "mimetype": "text/x-python",
   "name": "python",
   "nbconvert_exporter": "python",
   "pygments_lexer": "ipython3",
   "version": "3.11.5"
  }
 },
 "nbformat": 4,
 "nbformat_minor": 5
}
