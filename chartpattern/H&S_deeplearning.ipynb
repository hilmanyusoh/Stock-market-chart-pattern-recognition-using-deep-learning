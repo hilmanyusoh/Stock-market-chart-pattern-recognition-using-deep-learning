{
 "cells": [
  {
   "cell_type": "markdown",
   "id": "18371955",
   "metadata": {},
   "source": [
    "# Stock Pattern Recognition DL"
   ]
  },
  {
   "cell_type": "code",
   "execution_count": 191,
   "id": "9a6d7012",
   "metadata": {},
   "outputs": [],
   "source": [
    "### import library\n",
    "import numpy as np\n",
    "import pandas as pd\n",
    "from cassandra.cluster import Cluster\n",
    "from scipy.signal import find_peaks\n",
    "from sklearn.preprocessing import MinMaxScaler\n",
    "from sklearn.model_selection import train_test_split\n",
    "from sklearn.utils import class_weight, resample\n",
    "from sklearn.metrics import classification_report, confusion_matrix\n",
    "import matplotlib.pyplot as plt\n",
    "import tensorflow as tf\n",
    "from tensorflow.keras.models import Sequential\n",
    "from tensorflow.keras.layers import LSTM, Dense, Dropout\n",
    "from tensorflow.keras.utils import to_categorical"
   ]
  },
  {
   "cell_type": "markdown",
   "id": "19086a94",
   "metadata": {},
   "source": [
    "### 1️⃣ ดึงข้อมูลจาก Cassandra"
   ]
  },
  {
   "cell_type": "code",
   "execution_count": 192,
   "id": "420dafaf",
   "metadata": {},
   "outputs": [],
   "source": [
    "# --------------------------\n",
    "# 1) Get data from Cassandra\n",
    "# --------------------------\n",
    "def get_candlestick_data(symbol: str, limit: int = 3000,\n",
    "                         contact_points=['127.0.0.1'], port=9042,\n",
    "                         keyspace='data_stock'):\n",
    "    cluster = Cluster(contact_points, port=port)\n",
    "    session = cluster.connect(keyspace)\n",
    "    query = f\"\"\"\n",
    "        SELECT time, open_price, high_price, low_price, close_price, volume\n",
    "        FROM candlestick_data\n",
    "        WHERE symbol = '{symbol}'\n",
    "        ORDER BY time DESC\n",
    "        LIMIT {limit}\n",
    "    \"\"\"\n",
    "    rows = session.execute(query)\n",
    "    df = pd.DataFrame(rows)\n",
    "    if df.empty:\n",
    "        raise ValueError(\"No rows returned from Cassandra - check query/keyspace/table/symbol.\")\n",
    "    df.columns = df.columns.str.strip().str.lower()\n",
    "    df.rename(columns={\n",
    "        'open_price': 'open',\n",
    "        'high_price': 'high',\n",
    "        'low_price': 'low',\n",
    "        'close_price': 'close'\n",
    "    }, inplace=True)\n",
    "    df = df.sort_values('time')  # oldest -> newest\n",
    "    df.set_index('time', inplace=True)\n",
    "    return df\n"
   ]
  },
  {
   "cell_type": "markdown",
   "id": "fa5d81c3",
   "metadata": {},
   "source": [
    "### 2️⃣ Preprocessing & Feature Engineering"
   ]
  },
  {
   "cell_type": "code",
   "execution_count": 193,
   "id": "c855eda3",
   "metadata": {},
   "outputs": [],
   "source": [
    "# -------------------------------------\n",
    "# 2) detect_head_shoulders (simple rule)\n",
    "# -------------------------------------\n",
    "def detect_head_shoulders(df, distance=5, tolerance=0.05, debug=False):\n",
    "    prices = df['close'].values\n",
    "    peaks, _ = find_peaks(prices, distance=distance)\n",
    "    troughs, _ = find_peaks(-prices, distance=distance)\n",
    "\n",
    "    patterns = []\n",
    "\n",
    "    # H&S\n",
    "    for i in range(2, len(peaks)):\n",
    "        l, h, r = peaks[i-2], peaks[i-1], peaks[i]\n",
    "        left, head, right = prices[l], prices[h], prices[r]\n",
    "        if head > left and head > right and abs(left - right) / max(head,1e-9) < tolerance:\n",
    "            neck_left = np.min(prices[l:h]) if h - l > 0 else prices[l]\n",
    "            neck_right = np.min(prices[h:r]) if r - h > 0 else prices[r]\n",
    "            neck_slope = (neck_right - neck_left) / max((r - l), 1)\n",
    "            post_pattern = prices[r:]\n",
    "            neckline_series = neck_right + neck_slope * np.arange(1, len(post_pattern) + 1)\n",
    "            below = np.where(post_pattern < neckline_series)[0]\n",
    "            if below.size > 0:\n",
    "                break_idx = r + int(below[0])\n",
    "                patterns.append({\n",
    "                    'type': 'H&S',\n",
    "                    'left_idx': int(l),\n",
    "                    'head_idx': int(h),\n",
    "                    'right_idx': int(r),\n",
    "                    'neck_slope': float(neck_slope),\n",
    "                    'break_idx': int(break_idx)\n",
    "                })\n",
    "                if debug:\n",
    "                    print(\"H&S:\", l, h, r, \"break:\", break_idx)\n",
    "\n",
    "    # IH&S\n",
    "    for i in range(2, len(troughs)):\n",
    "        l, h, r = troughs[i-2], troughs[i-1], troughs[i]\n",
    "        left, head, right = prices[l], prices[h], prices[r]\n",
    "        if head < left and head < right and abs(left - right) / max(abs(head),1e-9) < tolerance:\n",
    "            neck_left = np.max(prices[l:h]) if h - l > 0 else prices[l]\n",
    "            neck_right = np.max(prices[h:r]) if r - h > 0 else prices[r]\n",
    "            neck_slope = (neck_right - neck_left) / max((r - l), 1)\n",
    "            post_pattern = prices[r:]\n",
    "            neckline_series = neck_right + neck_slope * np.arange(1, len(post_pattern) + 1)\n",
    "            above = np.where(post_pattern > neckline_series)[0]\n",
    "            if above.size > 0:\n",
    "                break_idx = r + int(above[0])\n",
    "                patterns.append({\n",
    "                    'type': 'IH&S',\n",
    "                    'left_idx': int(l),\n",
    "                    'head_idx': int(h),\n",
    "                    'right_idx': int(r),\n",
    "                    'neck_slope': float(neck_slope),\n",
    "                    'break_idx': int(break_idx)\n",
    "                })\n",
    "                if debug:\n",
    "                    print(\"IH&S:\", l, h, r, \"break:\", break_idx)\n",
    "\n",
    "    return patterns\n",
    "\n",
    "\n"
   ]
  },
  {
   "cell_type": "markdown",
   "id": "55090144",
   "metadata": {},
   "source": [
    "### 3️⃣ สร้าง Label (H&S / IH&S / None)"
   ]
  },
  {
   "cell_type": "code",
   "execution_count": 194,
   "id": "801862bc",
   "metadata": {},
   "outputs": [],
   "source": [
    "# -------------------------------------------------\n",
    "# 3) Create labels array (0 = none, 1 = H&S, 2 = IH&S)\n",
    "# -------------------------------------------------\n",
    "import numpy as np\n",
    "\n",
    "def create_labels_from_patterns(length, patterns):\n",
    "    labels = np.zeros(length, dtype=np.int32)\n",
    "    for p in patterns:\n",
    "        idx = int(p['head_idx'])\n",
    "        if 0 <= idx < length:\n",
    "            if p['type'] == 'H&S':\n",
    "                labels[idx] = 1\n",
    "            elif p['type'] == 'IH&S':\n",
    "                labels[idx] = 2\n",
    "    return labels\n",
    "\n"
   ]
  },
  {
   "cell_type": "markdown",
   "id": "53b5a490",
   "metadata": {},
   "source": [
    "### 4️⃣ สร้าง labels สำหรับ Deep Learning"
   ]
  },
  {
   "cell_type": "code",
   "execution_count": 195,
   "id": "2d6ee4e5",
   "metadata": {},
   "outputs": [],
   "source": [
    "# ----------------------------------------------------\n",
    "# 4) Preprocess features and create sequences for LSTM\n",
    "# ----------------------------------------------------\n",
    "from sklearn.preprocessing import MinMaxScaler\n",
    "\n",
    "def compute_rsi(series, period=14):\n",
    "    # Wilder's RSI using EMA\n",
    "    delta = series.diff()\n",
    "    up = delta.clip(lower=0)\n",
    "    down = -1 * delta.clip(upper=0)\n",
    "    ma_up = up.ewm(alpha=1/period, adjust=False).mean()\n",
    "    ma_down = down.ewm(alpha=1/period, adjust=False).mean()\n",
    "    rs = ma_up / (ma_down + 1e-9)\n",
    "    rsi = 100 - (100 / (1 + rs))\n",
    "    return rsi\n",
    "\n",
    "def compute_macd(series, fast=12, slow=26, signal=9):\n",
    "    ema_fast = series.ewm(span=fast, adjust=False).mean()\n",
    "    ema_slow = series.ewm(span=slow, adjust=False).mean()\n",
    "    macd_line = ema_fast - ema_slow\n",
    "    signal_line = macd_line.ewm(span=signal, adjust=False).mean()\n",
    "    macd_hist = macd_line - signal_line\n",
    "    return macd_line, signal_line, macd_hist\n",
    "\n",
    "def preprocess_and_create_sequences_with_indicators(\n",
    "    df,\n",
    "    labels,\n",
    "    seq_len=30,\n",
    "    features_cols=None,\n",
    "    include_indicators=True,\n",
    "    rsi_period=14,\n",
    "    macd_fast=12,\n",
    "    macd_slow=26,\n",
    "    macd_signal=9\n",
    "):\n",
    "    \"\"\"\n",
    "    df: DataFrame with columns ['open','high','low','close','volume']\n",
    "    labels: array length == len(df)\n",
    "    returns: X, y, scaler\n",
    "    \"\"\"\n",
    "    df2 = df.copy()\n",
    "\n",
    "    # --- compute indicators (added columns) ---\n",
    "    if include_indicators:\n",
    "        # RSI on close\n",
    "        df2['rsi'] = compute_rsi(df2['close'], period=rsi_period)\n",
    "\n",
    "        # MACD\n",
    "        macd_line, signal_line, macd_hist = compute_macd(df2['close'], fast=macd_fast, slow=macd_slow, signal=macd_signal)\n",
    "        df2['macd'] = macd_line\n",
    "        df2['macd_signal'] = signal_line\n",
    "        df2['macd_hist'] = macd_hist\n",
    "\n",
    "        # log return\n",
    "        df2['log_return'] = np.log(df2['close']).diff().fillna(0)\n",
    "\n",
    "    # default features if not provided\n",
    "    if features_cols is None:\n",
    "        # include technical indicators as features\n",
    "        features_cols = ['open', 'high', 'low', 'close', 'volume', 'rsi', 'macd', 'macd_hist', 'log_return']\n",
    "\n",
    "    # fill NaNs produced by indicators (at start)\n",
    "    df_features = df2[features_cols].copy()\n",
    "    df_features = df_features.fillna(method='ffill').fillna(method='bfill').fillna(0)\n",
    "\n",
    "    # convert to numpy float32\n",
    "    data = df_features.values.astype(np.float32)\n",
    "\n",
    "    # scale\n",
    "    scaler = MinMaxScaler()\n",
    "    data_scaled = scaler.fit_transform(data)\n",
    "\n",
    "    # create sequences\n",
    "    Xs, ys = [], []\n",
    "    for i in range(len(data_scaled) - seq_len):\n",
    "        Xs.append(data_scaled[i:i+seq_len])\n",
    "        ys.append(labels[i+seq_len-1])\n",
    "    X = np.array(Xs)\n",
    "    y = np.array(ys, dtype=np.int32)\n",
    "\n",
    "    return X, y, scaler\n",
    "\n",
    "\n"
   ]
  },
  {
   "cell_type": "markdown",
   "id": "056133e9",
   "metadata": {},
   "source": [
    "### 5️⃣ สร้าง LSTM Model ด้วย Keras"
   ]
  },
  {
   "cell_type": "code",
   "execution_count": 196,
   "id": "1314c6d9",
   "metadata": {},
   "outputs": [],
   "source": [
    "# ----------------------------------------------------\n",
    "# 5) Preprocess data and create time sequences\n",
    "# ----------------------------------------------------\n",
    "from sklearn.preprocessing import MinMaxScaler\n",
    "import numpy as np\n",
    "\n",
    "def preprocess_and_create_sequences(df, labels, seq_len=30):\n",
    "    \"\"\"\n",
    "    แปลงข้อมูลแท่งเทียนให้เป็นลำดับ (sequence) สำหรับ LSTM\n",
    "    - df ต้องมีคอลัมน์ OHLCV: open, high, low, close, volume\n",
    "    - labels คือ label สำหรับแต่ละ time step (0,1,2)\n",
    "    \"\"\"\n",
    "    feature_cols = ['open', 'high', 'low', 'close', 'volume']\n",
    "    data = df[feature_cols].values\n",
    "\n",
    "    # Normalization\n",
    "    scaler = MinMaxScaler()\n",
    "    data_scaled = scaler.fit_transform(data)\n",
    "\n",
    "    X, y = [], []\n",
    "    for i in range(seq_len, len(data_scaled)):\n",
    "        X.append(data_scaled[i-seq_len:i])\n",
    "        y.append(labels[i])\n",
    "\n",
    "    X = np.array(X)\n",
    "    y = np.array(y)\n",
    "    return X, y, scaler\n"
   ]
  },
  {
   "cell_type": "markdown",
   "id": "985ea07c",
   "metadata": {},
   "source": [
    "### 6️⃣ Train / Validate"
   ]
  },
  {
   "cell_type": "code",
   "execution_count": 197,
   "id": "ab322987",
   "metadata": {},
   "outputs": [],
   "source": [
    "# ----------------------------------------------------\n",
    "# 6) Train pipeline including class weighting / balance\n",
    "# ----------------------------------------------------\n",
    "\n",
    "# assume functions imported from previous blocks:\n",
    "# get_candlestick_data, detect_head_shoulders, create_labels_from_patterns,\n",
    "# preprocess_and_create_sequences, build_lstm_model\n",
    "\n",
    "def train_pipeline(symbol='PTT.B', cass_limit=3000, seq_len=30,\n",
    "                   test_size=0.2, detect_distance=5, detect_tolerance=0.05,\n",
    "                   use_class_weight=True, oversample=False, epochs=50, batch_size=32):\n",
    "    # fetch\n",
    "    df = get_candlestick_data(symbol, limit=cass_limit)\n",
    "    print(\"Data length:\", len(df))\n",
    "\n",
    "    # detect\n",
    "    patterns = detect_head_shoulders(df, distance=detect_distance, tolerance=detect_tolerance, debug=False)\n",
    "    labels = create_labels_from_patterns(len(df), patterns)\n",
    "    unique, counts = np.unique(labels, return_counts=True)\n",
    "    print(\"Label distribution (0/1/2):\", dict(zip(unique, counts)))\n",
    "\n",
    "    # preprocess\n",
    "    X, y, scaler = preprocess_and_create_sequences(df, labels, seq_len=seq_len)\n",
    "    print(\"X,y shapes:\", X.shape, y.shape)\n",
    "    if X.shape[0] == 0:\n",
    "        raise ValueError(\"Not enough data to build sequences. Increase cass_limit or reduce seq_len.\")\n",
    "\n",
    "    # split\n",
    "    X_train, X_val, y_train, y_val = train_test_split(X, y, test_size=test_size, shuffle=False)\n",
    "    print(\"Train/Val shapes:\", X_train.shape, X_val.shape)\n",
    "\n",
    "    # class weight\n",
    "    cw = None\n",
    "    if use_class_weight:\n",
    "        classes = np.unique(y_train)\n",
    "        weights = class_weight.compute_class_weight(class_weight='balanced', classes=classes, y=y_train)\n",
    "        cw = {int(c): float(w) for c,w in zip(classes, weights)}\n",
    "        print(\"Class weights:\", cw)\n",
    "\n",
    "    # optional oversample\n",
    "    if oversample:\n",
    "        train_data = list(zip(X_train, y_train))\n",
    "        df_train = pd.DataFrame(train_data, columns=['X','y'])\n",
    "        majority = df_train[df_train['y']==0]\n",
    "        target_n = max(1, int(len(majority)//2))\n",
    "        frames = [majority]\n",
    "        for cls in [1,2]:\n",
    "            subset = df_train[df_train['y']==cls]\n",
    "            if len(subset) == 0:\n",
    "                continue\n",
    "            up = resample(subset, replace=True, n_samples=target_n, random_state=42)\n",
    "            frames.append(up)\n",
    "        df_bal = pd.concat(frames).sample(frac=1, random_state=42)\n",
    "        X_train = np.stack(df_bal['X'].values)\n",
    "        y_train = np.array(df_bal['y'].values)\n",
    "        print(\"After oversample Train shapes:\", X_train.shape, y_train.shape)\n",
    "\n",
    "    # one-hot\n",
    "    y_train_cat = to_categorical(y_train, num_classes=3)\n",
    "    y_val_cat = to_categorical(y_val, num_classes=3)\n",
    "\n",
    "    # build model\n",
    "    model = build_lstm_model(seq_len, X.shape[2], n_classes=3)\n",
    "    model.summary()\n",
    "\n",
    "    # fit with early stopping\n",
    "    callbacks = [tf.keras.callbacks.EarlyStopping(monitor='val_loss', patience=8, restore_best_weights=True)]\n",
    "    history = model.fit(X_train, y_train_cat,\n",
    "                        validation_data=(X_val, y_val_cat),\n",
    "                        epochs=epochs, batch_size=batch_size,\n",
    "                        class_weight=cw,\n",
    "                        callbacks=callbacks,\n",
    "                        verbose=2)\n",
    "    return model, history, (X_train, X_val, y_train, y_val, y_train_cat, y_val_cat), scaler, patterns\n",
    "\n"
   ]
  },
  {
   "cell_type": "code",
   "execution_count": 198,
   "id": "c81984eb",
   "metadata": {},
   "outputs": [
    {
     "name": "stdout",
     "output_type": "stream",
     "text": [
      "Data length: 1400\n",
      "Label distribution (0/1/2): {np.int32(0): np.int64(1347), np.int32(1): np.int64(28), np.int32(2): np.int64(25)}\n",
      "X,y shapes: (1370, 30, 5) (1370,)\n",
      "Train/Val shapes: (1096, 30, 5) (274, 30, 5)\n",
      "Class weights: {0: 0.3456322926521602, 1: 16.606060606060606, 2: 21.49019607843137}\n"
     ]
    },
    {
     "name": "stderr",
     "output_type": "stream",
     "text": [
      "/Library/Frameworks/Python.framework/Versions/3.11/lib/python3.11/site-packages/keras/src/layers/rnn/rnn.py:200: UserWarning: Do not pass an `input_shape`/`input_dim` argument to a layer. When using Sequential models, prefer using an `Input(shape)` object as the first layer in the model instead.\n",
      "  super().__init__(**kwargs)\n"
     ]
    },
    {
     "data": {
      "text/html": [
       "<pre style=\"white-space:pre;overflow-x:auto;line-height:normal;font-family:Menlo,'DejaVu Sans Mono',consolas,'Courier New',monospace\"><span style=\"font-weight: bold\">Model: \"sequential_13\"</span>\n",
       "</pre>\n"
      ],
      "text/plain": [
       "\u001b[1mModel: \"sequential_13\"\u001b[0m\n"
      ]
     },
     "metadata": {},
     "output_type": "display_data"
    },
    {
     "data": {
      "text/html": [
       "<pre style=\"white-space:pre;overflow-x:auto;line-height:normal;font-family:Menlo,'DejaVu Sans Mono',consolas,'Courier New',monospace\">┏━━━━━━━━━━━━━━━━━━━━━━━━━━━━━━━━━┳━━━━━━━━━━━━━━━━━━━━━━━━┳━━━━━━━━━━━━━━━┓\n",
       "┃<span style=\"font-weight: bold\"> Layer (type)                    </span>┃<span style=\"font-weight: bold\"> Output Shape           </span>┃<span style=\"font-weight: bold\">       Param # </span>┃\n",
       "┡━━━━━━━━━━━━━━━━━━━━━━━━━━━━━━━━━╇━━━━━━━━━━━━━━━━━━━━━━━━╇━━━━━━━━━━━━━━━┩\n",
       "│ lstm_13 (<span style=\"color: #0087ff; text-decoration-color: #0087ff\">LSTM</span>)                  │ (<span style=\"color: #00d7ff; text-decoration-color: #00d7ff\">None</span>, <span style=\"color: #00af00; text-decoration-color: #00af00\">64</span>)             │        <span style=\"color: #00af00; text-decoration-color: #00af00\">17,920</span> │\n",
       "├─────────────────────────────────┼────────────────────────┼───────────────┤\n",
       "│ dropout_26 (<span style=\"color: #0087ff; text-decoration-color: #0087ff\">Dropout</span>)            │ (<span style=\"color: #00d7ff; text-decoration-color: #00d7ff\">None</span>, <span style=\"color: #00af00; text-decoration-color: #00af00\">64</span>)             │             <span style=\"color: #00af00; text-decoration-color: #00af00\">0</span> │\n",
       "├─────────────────────────────────┼────────────────────────┼───────────────┤\n",
       "│ dense_26 (<span style=\"color: #0087ff; text-decoration-color: #0087ff\">Dense</span>)                │ (<span style=\"color: #00d7ff; text-decoration-color: #00d7ff\">None</span>, <span style=\"color: #00af00; text-decoration-color: #00af00\">32</span>)             │         <span style=\"color: #00af00; text-decoration-color: #00af00\">2,080</span> │\n",
       "├─────────────────────────────────┼────────────────────────┼───────────────┤\n",
       "│ dropout_27 (<span style=\"color: #0087ff; text-decoration-color: #0087ff\">Dropout</span>)            │ (<span style=\"color: #00d7ff; text-decoration-color: #00d7ff\">None</span>, <span style=\"color: #00af00; text-decoration-color: #00af00\">32</span>)             │             <span style=\"color: #00af00; text-decoration-color: #00af00\">0</span> │\n",
       "├─────────────────────────────────┼────────────────────────┼───────────────┤\n",
       "│ dense_27 (<span style=\"color: #0087ff; text-decoration-color: #0087ff\">Dense</span>)                │ (<span style=\"color: #00d7ff; text-decoration-color: #00d7ff\">None</span>, <span style=\"color: #00af00; text-decoration-color: #00af00\">3</span>)              │            <span style=\"color: #00af00; text-decoration-color: #00af00\">99</span> │\n",
       "└─────────────────────────────────┴────────────────────────┴───────────────┘\n",
       "</pre>\n"
      ],
      "text/plain": [
       "┏━━━━━━━━━━━━━━━━━━━━━━━━━━━━━━━━━┳━━━━━━━━━━━━━━━━━━━━━━━━┳━━━━━━━━━━━━━━━┓\n",
       "┃\u001b[1m \u001b[0m\u001b[1mLayer (type)                   \u001b[0m\u001b[1m \u001b[0m┃\u001b[1m \u001b[0m\u001b[1mOutput Shape          \u001b[0m\u001b[1m \u001b[0m┃\u001b[1m \u001b[0m\u001b[1m      Param #\u001b[0m\u001b[1m \u001b[0m┃\n",
       "┡━━━━━━━━━━━━━━━━━━━━━━━━━━━━━━━━━╇━━━━━━━━━━━━━━━━━━━━━━━━╇━━━━━━━━━━━━━━━┩\n",
       "│ lstm_13 (\u001b[38;5;33mLSTM\u001b[0m)                  │ (\u001b[38;5;45mNone\u001b[0m, \u001b[38;5;34m64\u001b[0m)             │        \u001b[38;5;34m17,920\u001b[0m │\n",
       "├─────────────────────────────────┼────────────────────────┼───────────────┤\n",
       "│ dropout_26 (\u001b[38;5;33mDropout\u001b[0m)            │ (\u001b[38;5;45mNone\u001b[0m, \u001b[38;5;34m64\u001b[0m)             │             \u001b[38;5;34m0\u001b[0m │\n",
       "├─────────────────────────────────┼────────────────────────┼───────────────┤\n",
       "│ dense_26 (\u001b[38;5;33mDense\u001b[0m)                │ (\u001b[38;5;45mNone\u001b[0m, \u001b[38;5;34m32\u001b[0m)             │         \u001b[38;5;34m2,080\u001b[0m │\n",
       "├─────────────────────────────────┼────────────────────────┼───────────────┤\n",
       "│ dropout_27 (\u001b[38;5;33mDropout\u001b[0m)            │ (\u001b[38;5;45mNone\u001b[0m, \u001b[38;5;34m32\u001b[0m)             │             \u001b[38;5;34m0\u001b[0m │\n",
       "├─────────────────────────────────┼────────────────────────┼───────────────┤\n",
       "│ dense_27 (\u001b[38;5;33mDense\u001b[0m)                │ (\u001b[38;5;45mNone\u001b[0m, \u001b[38;5;34m3\u001b[0m)              │            \u001b[38;5;34m99\u001b[0m │\n",
       "└─────────────────────────────────┴────────────────────────┴───────────────┘\n"
      ]
     },
     "metadata": {},
     "output_type": "display_data"
    },
    {
     "data": {
      "text/html": [
       "<pre style=\"white-space:pre;overflow-x:auto;line-height:normal;font-family:Menlo,'DejaVu Sans Mono',consolas,'Courier New',monospace\"><span style=\"font-weight: bold\"> Total params: </span><span style=\"color: #00af00; text-decoration-color: #00af00\">20,099</span> (78.51 KB)\n",
       "</pre>\n"
      ],
      "text/plain": [
       "\u001b[1m Total params: \u001b[0m\u001b[38;5;34m20,099\u001b[0m (78.51 KB)\n"
      ]
     },
     "metadata": {},
     "output_type": "display_data"
    },
    {
     "data": {
      "text/html": [
       "<pre style=\"white-space:pre;overflow-x:auto;line-height:normal;font-family:Menlo,'DejaVu Sans Mono',consolas,'Courier New',monospace\"><span style=\"font-weight: bold\"> Trainable params: </span><span style=\"color: #00af00; text-decoration-color: #00af00\">20,099</span> (78.51 KB)\n",
       "</pre>\n"
      ],
      "text/plain": [
       "\u001b[1m Trainable params: \u001b[0m\u001b[38;5;34m20,099\u001b[0m (78.51 KB)\n"
      ]
     },
     "metadata": {},
     "output_type": "display_data"
    },
    {
     "data": {
      "text/html": [
       "<pre style=\"white-space:pre;overflow-x:auto;line-height:normal;font-family:Menlo,'DejaVu Sans Mono',consolas,'Courier New',monospace\"><span style=\"font-weight: bold\"> Non-trainable params: </span><span style=\"color: #00af00; text-decoration-color: #00af00\">0</span> (0.00 B)\n",
       "</pre>\n"
      ],
      "text/plain": [
       "\u001b[1m Non-trainable params: \u001b[0m\u001b[38;5;34m0\u001b[0m (0.00 B)\n"
      ]
     },
     "metadata": {},
     "output_type": "display_data"
    },
    {
     "name": "stdout",
     "output_type": "stream",
     "text": [
      "Epoch 1/5\n",
      "35/35 - 2s - 57ms/step - accuracy: 0.8741 - loss: 1.1102 - val_accuracy: 0.9526 - val_loss: 0.9986\n",
      "Epoch 2/5\n",
      "35/35 - 0s - 9ms/step - accuracy: 0.7089 - loss: 1.0857 - val_accuracy: 0.9526 - val_loss: 1.0176\n",
      "Epoch 3/5\n",
      "35/35 - 0s - 10ms/step - accuracy: 0.5219 - loss: 1.1293 - val_accuracy: 0.0219 - val_loss: 1.1418\n",
      "Epoch 4/5\n",
      "35/35 - 0s - 10ms/step - accuracy: 0.3038 - loss: 1.1006 - val_accuracy: 0.9380 - val_loss: 1.0891\n",
      "Epoch 5/5\n",
      "35/35 - 0s - 10ms/step - accuracy: 0.1405 - loss: 1.0978 - val_accuracy: 0.0255 - val_loss: 1.1428\n",
      "✅ Model created: True\n",
      "✅ Validation data: (274, 30, 5) (274,)\n"
     ]
    }
   ],
   "source": [
    "# 🔁 เรียก train_pipeline เพื่อสร้าง model และข้อมูลทดสอบ\n",
    "model, history, (X_train, X_val, y_train, y_val, y_train_cat, y_val_cat), scaler, patterns = train_pipeline(\n",
    "    symbol='PTT.BK',\n",
    "    cass_limit=2000,   # ถ้าข้อมูลน้อย ลองลดได้ เช่น 1000\n",
    "    seq_len=30,\n",
    "    epochs=5,          # ลด epoch เพื่อเทสต์เร็ว\n",
    "    batch_size=32\n",
    ")\n",
    "\n",
    "print(\"✅ Model created:\", model is not None)\n",
    "print(\"✅ Validation data:\", X_val.shape, y_val.shape)\n"
   ]
  },
  {
   "cell_type": "markdown",
   "id": "05289309",
   "metadata": {},
   "source": [
    "### 7️⃣ ใช้โมเดลทำนาย"
   ]
  },
  {
   "cell_type": "code",
   "execution_count": 199,
   "id": "e507eb8f",
   "metadata": {},
   "outputs": [
    {
     "name": "stdout",
     "output_type": "stream",
     "text": [
      "Confusion Matrix:\n",
      "[[261   0   0]\n",
      " [  6   0   0]\n",
      " [  7   0   0]]\n",
      "\n",
      "Classification Report:\n",
      "              precision    recall  f1-score   support\n",
      "\n",
      "           0     0.9526    1.0000    0.9757       261\n",
      "           1     0.0000    0.0000    0.0000         6\n",
      "           2     0.0000    0.0000    0.0000         7\n",
      "\n",
      "    accuracy                         0.9526       274\n",
      "   macro avg     0.3175    0.3333    0.3252       274\n",
      "weighted avg     0.9074    0.9526    0.9294       274\n",
      "\n"
     ]
    },
    {
     "name": "stderr",
     "output_type": "stream",
     "text": [
      "/Library/Frameworks/Python.framework/Versions/3.11/lib/python3.11/site-packages/sklearn/metrics/_classification.py:1565: UndefinedMetricWarning: Precision is ill-defined and being set to 0.0 in labels with no predicted samples. Use `zero_division` parameter to control this behavior.\n",
      "  _warn_prf(average, modifier, f\"{metric.capitalize()} is\", len(result))\n",
      "/Library/Frameworks/Python.framework/Versions/3.11/lib/python3.11/site-packages/sklearn/metrics/_classification.py:1565: UndefinedMetricWarning: Precision is ill-defined and being set to 0.0 in labels with no predicted samples. Use `zero_division` parameter to control this behavior.\n",
      "  _warn_prf(average, modifier, f\"{metric.capitalize()} is\", len(result))\n",
      "/Library/Frameworks/Python.framework/Versions/3.11/lib/python3.11/site-packages/sklearn/metrics/_classification.py:1565: UndefinedMetricWarning: Precision is ill-defined and being set to 0.0 in labels with no predicted samples. Use `zero_division` parameter to control this behavior.\n",
      "  _warn_prf(average, modifier, f\"{metric.capitalize()} is\", len(result))\n"
     ]
    },
    {
     "data": {
      "image/png": "[encoded data removed]",
      "text/plain": [
       "<Figure size 1500x500 with 1 Axes>"
      ]
     },
     "metadata": {},
     "output_type": "display_data"
    }
   ],
   "source": [
    "def evaluate_and_plot(model, X_val, y_val, y_val_cat=None, symbol='SYMBOL'):\n",
    "    # 🔹 Predict\n",
    "    y_pred = model.predict(X_val, verbose=0)\n",
    "    y_pred_cls = np.argmax(y_pred, axis=1)\n",
    "    y_true_cls = y_val\n",
    "\n",
    "    # 🔹 Metrics\n",
    "    print(\"Confusion Matrix:\")\n",
    "    print(confusion_matrix(y_true_cls, y_pred_cls))\n",
    "    print(\"\\nClassification Report:\")\n",
    "    print(classification_report(y_true_cls, y_pred_cls, digits=4))\n",
    "\n",
    "    # --- Dark theme plot ---\n",
    "    plt.style.use('dark_background')\n",
    "    fig, ax = plt.subplots(figsize=(15, 5), facecolor='black')\n",
    "\n",
    "    x = np.arange(len(y_true_cls))\n",
    "\n",
    "    # 🔹 ใช้ stem plot เพื่อให้เห็น discrete points ชัดเจน\n",
    "    markerline1, stemlines1, baseline1 = ax.stem(x, y_true_cls, linefmt='cyan', markerfmt='co', basefmt=\" \", label='True Label')\n",
    "    markerline2, stemlines2, baseline2 = ax.stem(x, y_pred_cls, linefmt='orange', markerfmt='x', basefmt=\" \", label='Predicted Label')\n",
    "\n",
    "    # ปรับความหนาและความโปร่ง\n",
    "    plt.setp(stemlines1, linewidth=1.2)\n",
    "    plt.setp(stemlines2, linewidth=1.2, alpha=0.8)\n",
    "    plt.setp(markerline1, markersize=5)\n",
    "    plt.setp(markerline2, markersize=5)\n",
    "\n",
    "    ax.set_title(f\"{symbol} - LSTM Head & Shoulders Detection\", color='white', fontsize=15, pad=14)\n",
    "    ax.set_xlabel(\"Sample Index\", color='white', fontsize=12)\n",
    "    ax.set_ylabel(\"Class (0=None, 1=H&S, 2=IH&S)\", color='white', fontsize=12)\n",
    "    ax.grid(True, color='gray', linestyle='--', alpha=0.4)\n",
    "\n",
    "    legend = ax.legend(facecolor='black', edgecolor='white')\n",
    "    for text in legend.get_texts():\n",
    "        text.set_color('white')\n",
    "\n",
    "    ax.tick_params(axis='x', colors='white')\n",
    "    ax.tick_params(axis='y', colors='white')\n",
    "\n",
    "    plt.tight_layout()\n",
    "    plt.show()\n",
    "    \n",
    "evaluate_and_plot(model, X_val, y_val, y_val_cat, symbol='PTT.BK')\n"
   ]
  },
  {
   "cell_type": "markdown",
   "id": "dd60b9f5",
   "metadata": {},
   "source": []
  }
 ],
 "metadata": {
  "kernelspec": {
   "display_name": "Python 3",
   "language": "python",
   "name": "python3"
  },
  "language_info": {
   "codemirror_mode": {
    "name": "ipython",
    "version": 3
   },
   "file_extension": ".py",
   "mimetype": "text/x-python",
   "name": "python",
   "nbconvert_exporter": "python",
   "pygments_lexer": "ipython3",
   "version": "3.11.5"
  }
 },
 "nbformat": 4,
 "nbformat_minor": 5
}
