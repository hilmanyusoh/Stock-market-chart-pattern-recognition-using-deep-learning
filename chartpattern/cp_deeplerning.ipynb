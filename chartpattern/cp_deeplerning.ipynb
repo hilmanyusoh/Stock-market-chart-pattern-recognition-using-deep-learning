{
 "cells": [
  {
   "cell_type": "code",
   "execution_count": 2,
   "id": "4c17ab31",
   "metadata": {},
   "outputs": [
    {
     "name": "stdout",
     "output_type": "stream",
     "text": [
      "\n",
      "\u001b[1m[\u001b[0m\u001b[34;49mnotice\u001b[0m\u001b[1;39;49m]\u001b[0m\u001b[39;49m A new release of pip is available: \u001b[0m\u001b[31;49m25.1.1\u001b[0m\u001b[39;49m -> \u001b[0m\u001b[32;49m25.2\u001b[0m\n",
      "\u001b[1m[\u001b[0m\u001b[34;49mnotice\u001b[0m\u001b[1;39;49m]\u001b[0m\u001b[39;49m To update, run: \u001b[0m\u001b[32;49mpip install --upgrade pip\u001b[0m\n",
      "Note: you may need to restart the kernel to use updated packages.\n"
     ]
    }
   ],
   "source": [
    "# ================================================\n",
    "# 📌 1. Import Libraries\n",
    "# ================================================\n",
    "%pip install cassandra-driver tensorflow scikit-learn plotly --quiet\n",
    "\n",
    "import pandas as pd\n",
    "import numpy as np\n",
    "from cassandra.cluster import Cluster\n",
    "from datetime import datetime, timedelta\n",
    "from scipy.signal import find_peaks\n",
    "\n",
    "# Deep Learning\n",
    "from tensorflow.keras.models import Sequential\n",
    "from tensorflow.keras.layers import Conv1D, MaxPooling1D, Flatten, Dense\n",
    "from sklearn.model_selection import train_test_split\n",
    "\n",
    "# Visualization\n",
    "import plotly.graph_objects as go"
   ]
  },
  {
   "cell_type": "code",
   "execution_count": 3,
   "id": "ebab22e8",
   "metadata": {},
   "outputs": [
    {
     "name": "stderr",
     "output_type": "stream",
     "text": [
      "WARNING\tcassandra.cluster:cluster.py:__init__()- Cluster.__init__ called with contact_points specified, but no load_balancing_policy. In the next major version, this will raise an error; please specify a load-balancing policy. (contact_points = ['127.0.0.1'], lbp = None)\n",
      "WARNING\tcassandra.cluster:cluster.py:_reconnect_internal()- [control connection] Error connecting to 127.0.0.1:9042:\n",
      " Traceback (most recent call last):\n",
      "   File \"/Library/Frameworks/Python.framework/Versions/3.11/lib/python3.11/site-packages/cassandra/cluster.py\", line 3577, in _reconnect_internal\n",
      "    return self._try_connect(host)\n",
      "           ^^^^^^^^^^^^^^^^^^^^^^^\n",
      "   File \"/Library/Frameworks/Python.framework/Versions/3.11/lib/python3.11/site-packages/cassandra/cluster.py\", line 3599, in _try_connect\n",
      "    connection = self._cluster.connection_factory(host.endpoint, is_control_connection=True)\n",
      "                 ^^^^^^^^^^^^^^^^^^^^^^^^^^^^^^^^^^^^^^^^^^^^^^^^^^^^^^^^^^^^^^^^^^^^^^^^^^^\n",
      "   File \"/Library/Frameworks/Python.framework/Versions/3.11/lib/python3.11/site-packages/cassandra/cluster.py\", line 1670, in connection_factory\n",
      "    return self.connection_class.factory(endpoint, self.connect_timeout, *args, **kwargs)\n",
      "           ^^^^^^^^^^^^^^^^^^^^^^^^^^^^^^^^^^^^^^^^^^^^^^^^^^^^^^^^^^^^^^^^^^^^^^^^^^^^^^\n",
      "   File \"/Library/Frameworks/Python.framework/Versions/3.11/lib/python3.11/site-packages/cassandra/connection.py\", line 846, in factory\n",
      "    conn = cls(endpoint, *args, **kwargs)\n",
      "           ^^^^^^^^^^^^^^^^^^^^^^^^^^^^^^\n",
      "   File \"/Library/Frameworks/Python.framework/Versions/3.11/lib/python3.11/site-packages/cassandra/io/libevreactor.py\", line 267, in __init__\n",
      "    self._connect_socket()\n",
      "   File \"/Library/Frameworks/Python.framework/Versions/3.11/lib/python3.11/site-packages/cassandra/connection.py\", line 951, in _connect_socket\n",
      "    raise socket.error(sockerr.errno, \"Tried connecting to %s. Last error: %s\" %\n",
      " ConnectionRefusedError: [Errno 61] Tried connecting to [('127.0.0.1', 9042)]. Last error: Connection refused\n",
      "\n",
      "ERROR\tcassandra.cluster:cluster.py:connect()- Control connection failed to connect, shutting down Cluster:\n",
      " Traceback (most recent call last):\n",
      "   File \"/Library/Frameworks/Python.framework/Versions/3.11/lib/python3.11/site-packages/cassandra/cluster.py\", line 1740, in connect\n",
      "    self.control_connection.connect()\n",
      "   File \"/Library/Frameworks/Python.framework/Versions/3.11/lib/python3.11/site-packages/cassandra/cluster.py\", line 3543, in connect\n",
      "    self._set_new_connection(self._reconnect_internal())\n",
      "                             ^^^^^^^^^^^^^^^^^^^^^^^^^^\n",
      "   File \"/Library/Frameworks/Python.framework/Versions/3.11/lib/python3.11/site-packages/cassandra/cluster.py\", line 3588, in _reconnect_internal\n",
      "    raise NoHostAvailable(\"Unable to connect to any servers\", errors)\n",
      " cassandra.cluster.NoHostAvailable: ('Unable to connect to any servers', {'127.0.0.1:9042': ConnectionRefusedError(61, \"Tried connecting to [('127.0.0.1', 9042)]. Last error: Connection refused\")})\n",
      "\n"
     ]
    },
    {
     "name": "stdout",
     "output_type": "stream",
     "text": [
      "❌ Cassandra connection or query failed: ('Unable to connect to any servers', {'127.0.0.1:9042': ConnectionRefusedError(61, \"Tried connecting to [('127.0.0.1', 9042)]. Last error: Connection refused\")})\n"
     ]
    }
   ],
   "source": [
    "# ================================================\n",
    "try:\n",
    "    cluster = Cluster(['127.0.0.1'], port=9042)  # แก้ตาม Cassandra ของคุณ\n",
    "    session = cluster.connect('stock_data')\n",
    "\n",
    "    stock = \"AOT\"\n",
    "    start_date = datetime.now() - timedelta(days=150)\n",
    "\n",
    "    rows = session.execute(f\"\"\"\n",
    "        SELECT * FROM candlestick_data \n",
    "        WHERE symbol = '{stock}'\n",
    "    \"\"\")\n",
    "    data = pd.DataFrame(rows)\n",
    "\n",
    "    if data.empty:\n",
    "        raise ValueError(\"❌ No data found\")\n",
    "except Exception as e:\n",
    "    print(f\"❌ Cassandra connection or query failed: {e}\")\n",
    "    # Create dummy data for demonstration if Cassandra is not available\n",
    "    dates = pd.date_range(datetime.now() - timedelta(days=150), periods=200)\n",
    "    np.random.seed(42)\n",
    "    prices = np.cumsum(np.random.randn(200)) + 70\n",
    "    data = pd.DataFrame({\n",
    "        'time': dates,\n",
    "        'open_price': prices + np.random.uniform(-1, 1, size=200),\n",
    "        'high_price': prices + np.random.uniform(0, 2, size=200),\n",
    "        'low_price': prices - np.random.uniform(0, 2, size=200),\n",
    "        'close_price': prices + np.random.uniform(-1, 1, size=200),\n",
    "    })\n",
    "    stock = \"AOT\"\n",
    "    start_date = data['time'].min()\n",
    "if data.empty:\n",
    "    raise ValueError(\"❌ No data found\")\n",
    "\n",
    "# จัดรูปแบบ DataFrame\n",
    "data['time'] = pd.to_datetime(data['time'])\n",
    "data = data[data['time'] >= start_date]\n",
    "data = data.sort_values('time').reset_index(drop=True)\n",
    "\n"
   ]
  },
  {
   "cell_type": "code",
   "execution_count": 4,
   "id": "a3f777f3",
   "metadata": {},
   "outputs": [],
   "source": [
    "# ================================================\n",
    "# 📌 3. Head & Shoulders Detection (Rule-based)\n",
    "# ================================================\n",
    "def detect_head_and_shoulders(prices, distance=3, tolerance=0.05):\n",
    "    \"\"\"Return True if pattern exists in window\"\"\"\n",
    "    peaks, _ = find_peaks(prices, distance=distance)\n",
    "    if len(peaks) < 3:\n",
    "        return False\n",
    "    for i in range(len(peaks) - 2):\n",
    "        ls, head, rs = peaks[i], peaks[i+1], peaks[i+2]\n",
    "        if head > rs or ls > head: \n",
    "            continue\n",
    "        ls_val, head_val, rs_val = prices[ls], prices[head], prices[rs]\n",
    "        if head_val > ls_val and head_val > rs_val:\n",
    "            if abs(ls_val - rs_val) / max(ls_val, rs_val) < tolerance:\n",
    "                return True\n",
    "    return False\n",
    "\n"
   ]
  },
  {
   "cell_type": "code",
   "execution_count": 5,
   "id": "9f2b3513",
   "metadata": {},
   "outputs": [],
   "source": [
    "# ================================================\n",
    "# 📌 4. Generate Dataset for CNN\n",
    "# ================================================\n",
    "window_size = 40\n",
    "X, y = [], []\n",
    "close_prices = data['close_price'].values\n",
    "\n",
    "for i in range(len(close_prices) - window_size):\n",
    "    window = close_prices[i:i+window_size]\n",
    "    label = 1 if detect_head_and_shoulders(window) else 0\n",
    "    X.append(window)\n",
    "    y.append(label)\n",
    "\n",
    "X = np.array(X)\n",
    "y = np.array(y)\n",
    "\n",
    "# Reshape for Conv1D input (samples, timesteps, features)\n",
    "X = X.reshape(-1, window_size, 1)"
   ]
  },
  {
   "cell_type": "code",
   "execution_count": 6,
   "id": "a413d2a5",
   "metadata": {},
   "outputs": [],
   "source": [
    "\n",
    "# ================================================\n",
    "# 📌 5. Train/Test Split\n",
    "# ================================================\n",
    "X_train, X_test, y_train, y_test = train_test_split(\n",
    "    X, y, test_size=0.2, random_state=42\n",
    ")\n"
   ]
  },
  {
   "cell_type": "code",
   "execution_count": 7,
   "id": "52892cc8",
   "metadata": {},
   "outputs": [
    {
     "name": "stderr",
     "output_type": "stream",
     "text": [
      "/Library/Frameworks/Python.framework/Versions/3.11/lib/python3.11/site-packages/keras/src/layers/convolutional/base_conv.py:107: UserWarning:\n",
      "\n",
      "Do not pass an `input_shape`/`input_dim` argument to a layer. When using Sequential models, prefer using an `Input(shape)` object as the first layer in the model instead.\n",
      "\n"
     ]
    },
    {
     "data": {
      "text/html": [
       "<pre style=\"white-space:pre;overflow-x:auto;line-height:normal;font-family:Menlo,'DejaVu Sans Mono',consolas,'Courier New',monospace\"><span style=\"font-weight: bold\">Model: \"sequential_1\"</span>\n",
       "</pre>\n"
      ],
      "text/plain": [
       "\u001b[1mModel: \"sequential_1\"\u001b[0m\n"
      ]
     },
     "metadata": {},
     "output_type": "display_data"
    },
    {
     "data": {
      "text/html": [
       "<pre style=\"white-space:pre;overflow-x:auto;line-height:normal;font-family:Menlo,'DejaVu Sans Mono',consolas,'Courier New',monospace\">┏━━━━━━━━━━━━━━━━━━━━━━━━━━━━━━━━━┳━━━━━━━━━━━━━━━━━━━━━━━━┳━━━━━━━━━━━━━━━┓\n",
       "┃<span style=\"font-weight: bold\"> Layer (type)                    </span>┃<span style=\"font-weight: bold\"> Output Shape           </span>┃<span style=\"font-weight: bold\">       Param # </span>┃\n",
       "┡━━━━━━━━━━━━━━━━━━━━━━━━━━━━━━━━━╇━━━━━━━━━━━━━━━━━━━━━━━━╇━━━━━━━━━━━━━━━┩\n",
       "│ conv1d_1 (<span style=\"color: #0087ff; text-decoration-color: #0087ff\">Conv1D</span>)               │ (<span style=\"color: #00d7ff; text-decoration-color: #00d7ff\">None</span>, <span style=\"color: #00af00; text-decoration-color: #00af00\">38</span>, <span style=\"color: #00af00; text-decoration-color: #00af00\">32</span>)         │           <span style=\"color: #00af00; text-decoration-color: #00af00\">128</span> │\n",
       "├─────────────────────────────────┼────────────────────────┼───────────────┤\n",
       "│ max_pooling1d_1 (<span style=\"color: #0087ff; text-decoration-color: #0087ff\">MaxPooling1D</span>)  │ (<span style=\"color: #00d7ff; text-decoration-color: #00d7ff\">None</span>, <span style=\"color: #00af00; text-decoration-color: #00af00\">19</span>, <span style=\"color: #00af00; text-decoration-color: #00af00\">32</span>)         │             <span style=\"color: #00af00; text-decoration-color: #00af00\">0</span> │\n",
       "├─────────────────────────────────┼────────────────────────┼───────────────┤\n",
       "│ flatten_1 (<span style=\"color: #0087ff; text-decoration-color: #0087ff\">Flatten</span>)             │ (<span style=\"color: #00d7ff; text-decoration-color: #00d7ff\">None</span>, <span style=\"color: #00af00; text-decoration-color: #00af00\">608</span>)            │             <span style=\"color: #00af00; text-decoration-color: #00af00\">0</span> │\n",
       "├─────────────────────────────────┼────────────────────────┼───────────────┤\n",
       "│ dense_2 (<span style=\"color: #0087ff; text-decoration-color: #0087ff\">Dense</span>)                 │ (<span style=\"color: #00d7ff; text-decoration-color: #00d7ff\">None</span>, <span style=\"color: #00af00; text-decoration-color: #00af00\">64</span>)             │        <span style=\"color: #00af00; text-decoration-color: #00af00\">38,976</span> │\n",
       "├─────────────────────────────────┼────────────────────────┼───────────────┤\n",
       "│ dense_3 (<span style=\"color: #0087ff; text-decoration-color: #0087ff\">Dense</span>)                 │ (<span style=\"color: #00d7ff; text-decoration-color: #00d7ff\">None</span>, <span style=\"color: #00af00; text-decoration-color: #00af00\">1</span>)              │            <span style=\"color: #00af00; text-decoration-color: #00af00\">65</span> │\n",
       "└─────────────────────────────────┴────────────────────────┴───────────────┘\n",
       "</pre>\n"
      ],
      "text/plain": [
       "┏━━━━━━━━━━━━━━━━━━━━━━━━━━━━━━━━━┳━━━━━━━━━━━━━━━━━━━━━━━━┳━━━━━━━━━━━━━━━┓\n",
       "┃\u001b[1m \u001b[0m\u001b[1mLayer (type)                   \u001b[0m\u001b[1m \u001b[0m┃\u001b[1m \u001b[0m\u001b[1mOutput Shape          \u001b[0m\u001b[1m \u001b[0m┃\u001b[1m \u001b[0m\u001b[1m      Param #\u001b[0m\u001b[1m \u001b[0m┃\n",
       "┡━━━━━━━━━━━━━━━━━━━━━━━━━━━━━━━━━╇━━━━━━━━━━━━━━━━━━━━━━━━╇━━━━━━━━━━━━━━━┩\n",
       "│ conv1d_1 (\u001b[38;5;33mConv1D\u001b[0m)               │ (\u001b[38;5;45mNone\u001b[0m, \u001b[38;5;34m38\u001b[0m, \u001b[38;5;34m32\u001b[0m)         │           \u001b[38;5;34m128\u001b[0m │\n",
       "├─────────────────────────────────┼────────────────────────┼───────────────┤\n",
       "│ max_pooling1d_1 (\u001b[38;5;33mMaxPooling1D\u001b[0m)  │ (\u001b[38;5;45mNone\u001b[0m, \u001b[38;5;34m19\u001b[0m, \u001b[38;5;34m32\u001b[0m)         │             \u001b[38;5;34m0\u001b[0m │\n",
       "├─────────────────────────────────┼────────────────────────┼───────────────┤\n",
       "│ flatten_1 (\u001b[38;5;33mFlatten\u001b[0m)             │ (\u001b[38;5;45mNone\u001b[0m, \u001b[38;5;34m608\u001b[0m)            │             \u001b[38;5;34m0\u001b[0m │\n",
       "├─────────────────────────────────┼────────────────────────┼───────────────┤\n",
       "│ dense_2 (\u001b[38;5;33mDense\u001b[0m)                 │ (\u001b[38;5;45mNone\u001b[0m, \u001b[38;5;34m64\u001b[0m)             │        \u001b[38;5;34m38,976\u001b[0m │\n",
       "├─────────────────────────────────┼────────────────────────┼───────────────┤\n",
       "│ dense_3 (\u001b[38;5;33mDense\u001b[0m)                 │ (\u001b[38;5;45mNone\u001b[0m, \u001b[38;5;34m1\u001b[0m)              │            \u001b[38;5;34m65\u001b[0m │\n",
       "└─────────────────────────────────┴────────────────────────┴───────────────┘\n"
      ]
     },
     "metadata": {},
     "output_type": "display_data"
    },
    {
     "data": {
      "text/html": [
       "<pre style=\"white-space:pre;overflow-x:auto;line-height:normal;font-family:Menlo,'DejaVu Sans Mono',consolas,'Courier New',monospace\"><span style=\"font-weight: bold\"> Total params: </span><span style=\"color: #00af00; text-decoration-color: #00af00\">39,169</span> (153.00 KB)\n",
       "</pre>\n"
      ],
      "text/plain": [
       "\u001b[1m Total params: \u001b[0m\u001b[38;5;34m39,169\u001b[0m (153.00 KB)\n"
      ]
     },
     "metadata": {},
     "output_type": "display_data"
    },
    {
     "data": {
      "text/html": [
       "<pre style=\"white-space:pre;overflow-x:auto;line-height:normal;font-family:Menlo,'DejaVu Sans Mono',consolas,'Courier New',monospace\"><span style=\"font-weight: bold\"> Trainable params: </span><span style=\"color: #00af00; text-decoration-color: #00af00\">39,169</span> (153.00 KB)\n",
       "</pre>\n"
      ],
      "text/plain": [
       "\u001b[1m Trainable params: \u001b[0m\u001b[38;5;34m39,169\u001b[0m (153.00 KB)\n"
      ]
     },
     "metadata": {},
     "output_type": "display_data"
    },
    {
     "data": {
      "text/html": [
       "<pre style=\"white-space:pre;overflow-x:auto;line-height:normal;font-family:Menlo,'DejaVu Sans Mono',consolas,'Courier New',monospace\"><span style=\"font-weight: bold\"> Non-trainable params: </span><span style=\"color: #00af00; text-decoration-color: #00af00\">0</span> (0.00 B)\n",
       "</pre>\n"
      ],
      "text/plain": [
       "\u001b[1m Non-trainable params: \u001b[0m\u001b[38;5;34m0\u001b[0m (0.00 B)\n"
      ]
     },
     "metadata": {},
     "output_type": "display_data"
    }
   ],
   "source": [
    "# ================================================\n",
    "# 📌 6. Build CNN Model\n",
    "# ================================================\n",
    "model = Sequential([\n",
    "    Conv1D(32, 3, activation='relu', input_shape=(window_size, 1)),\n",
    "    MaxPooling1D(2),\n",
    "    Flatten(),\n",
    "    Dense(64, activation='relu'),\n",
    "    Dense(1, activation='sigmoid')\n",
    "])\n",
    "\n",
    "model.compile(optimizer='adam', loss='binary_crossentropy', metrics=['accuracy'])\n",
    "model.summary()"
   ]
  },
  {
   "cell_type": "code",
   "execution_count": 8,
   "id": "6f65f050",
   "metadata": {},
   "outputs": [
    {
     "name": "stdout",
     "output_type": "stream",
     "text": [
      "Epoch 1/20\n",
      "\u001b[1m4/4\u001b[0m \u001b[32m━━━━━━━━━━━━━━━━━━━━\u001b[0m\u001b[37m\u001b[0m \u001b[1m1s\u001b[0m 35ms/step - accuracy: 0.3296 - loss: 5.5122 - val_accuracy: 0.8077 - val_loss: 2.5486\n",
      "Epoch 2/20\n",
      "\u001b[1m4/4\u001b[0m \u001b[32m━━━━━━━━━━━━━━━━━━━━\u001b[0m\u001b[37m\u001b[0m \u001b[1m0s\u001b[0m 11ms/step - accuracy: 0.8412 - loss: 2.3067 - val_accuracy: 0.8077 - val_loss: 3.3125\n",
      "Epoch 3/20\n",
      "\u001b[1m4/4\u001b[0m \u001b[32m━━━━━━━━━━━━━━━━━━━━\u001b[0m\u001b[37m\u001b[0m \u001b[1m0s\u001b[0m 11ms/step - accuracy: 0.8589 - loss: 2.5195 - val_accuracy: 0.8077 - val_loss: 3.1018\n",
      "Epoch 4/20\n",
      "\u001b[1m4/4\u001b[0m \u001b[32m━━━━━━━━━━━━━━━━━━━━\u001b[0m\u001b[37m\u001b[0m \u001b[1m0s\u001b[0m 10ms/step - accuracy: 0.8401 - loss: 2.5348 - val_accuracy: 0.8077 - val_loss: 2.2645\n",
      "Epoch 5/20\n",
      "\u001b[1m4/4\u001b[0m \u001b[32m━━━━━━━━━━━━━━━━━━━━\u001b[0m\u001b[37m\u001b[0m \u001b[1m0s\u001b[0m 10ms/step - accuracy: 0.8474 - loss: 1.6726 - val_accuracy: 0.8077 - val_loss: 1.2602\n",
      "Epoch 6/20\n",
      "\u001b[1m4/4\u001b[0m \u001b[32m━━━━━━━━━━━━━━━━━━━━\u001b[0m\u001b[37m\u001b[0m \u001b[1m0s\u001b[0m 10ms/step - accuracy: 0.8651 - loss: 0.7171 - val_accuracy: 0.8077 - val_loss: 0.4989\n",
      "Epoch 7/20\n",
      "\u001b[1m4/4\u001b[0m \u001b[32m━━━━━━━━━━━━━━━━━━━━\u001b[0m\u001b[37m\u001b[0m \u001b[1m0s\u001b[0m 10ms/step - accuracy: 0.7043 - loss: 0.5652 - val_accuracy: 0.8077 - val_loss: 0.6125\n",
      "Epoch 8/20\n",
      "\u001b[1m4/4\u001b[0m \u001b[32m━━━━━━━━━━━━━━━━━━━━\u001b[0m\u001b[37m\u001b[0m \u001b[1m0s\u001b[0m 10ms/step - accuracy: 0.8938 - loss: 0.5102 - val_accuracy: 0.8077 - val_loss: 0.7198\n",
      "Epoch 9/20\n",
      "\u001b[1m4/4\u001b[0m \u001b[32m━━━━━━━━━━━━━━━━━━━━\u001b[0m\u001b[37m\u001b[0m \u001b[1m0s\u001b[0m 10ms/step - accuracy: 0.8370 - loss: 0.6299 - val_accuracy: 0.8077 - val_loss: 0.8676\n",
      "Epoch 10/20\n",
      "\u001b[1m4/4\u001b[0m \u001b[32m━━━━━━━━━━━━━━━━━━━━\u001b[0m\u001b[37m\u001b[0m \u001b[1m0s\u001b[0m 10ms/step - accuracy: 0.8485 - loss: 0.6557 - val_accuracy: 0.8077 - val_loss: 0.5999\n",
      "Epoch 11/20\n",
      "\u001b[1m4/4\u001b[0m \u001b[32m━━━━━━━━━━━━━━━━━━━━\u001b[0m\u001b[37m\u001b[0m \u001b[1m0s\u001b[0m 12ms/step - accuracy: 0.8464 - loss: 0.4523 - val_accuracy: 0.8077 - val_loss: 0.5600\n",
      "Epoch 12/20\n",
      "\u001b[1m4/4\u001b[0m \u001b[32m━━━━━━━━━━━━━━━━━━━━\u001b[0m\u001b[37m\u001b[0m \u001b[1m0s\u001b[0m 11ms/step - accuracy: 0.8776 - loss: 0.5099 - val_accuracy: 0.8077 - val_loss: 0.4847\n",
      "Epoch 13/20\n",
      "\u001b[1m4/4\u001b[0m \u001b[32m━━━━━━━━━━━━━━━━━━━━\u001b[0m\u001b[37m\u001b[0m \u001b[1m0s\u001b[0m 12ms/step - accuracy: 0.8318 - loss: 0.4216 - val_accuracy: 0.8077 - val_loss: 0.5787\n",
      "Epoch 14/20\n",
      "\u001b[1m4/4\u001b[0m \u001b[32m━━━━━━━━━━━━━━━━━━━━\u001b[0m\u001b[37m\u001b[0m \u001b[1m0s\u001b[0m 11ms/step - accuracy: 0.8714 - loss: 0.4138 - val_accuracy: 0.8077 - val_loss: 0.5886\n",
      "Epoch 15/20\n",
      "\u001b[1m4/4\u001b[0m \u001b[32m━━━━━━━━━━━━━━━━━━━━\u001b[0m\u001b[37m\u001b[0m \u001b[1m0s\u001b[0m 10ms/step - accuracy: 0.8735 - loss: 0.3734 - val_accuracy: 0.8077 - val_loss: 0.4815\n",
      "Epoch 16/20\n",
      "\u001b[1m4/4\u001b[0m \u001b[32m━━━━━━━━━━━━━━━━━━━━\u001b[0m\u001b[37m\u001b[0m \u001b[1m0s\u001b[0m 10ms/step - accuracy: 0.8381 - loss: 0.4630 - val_accuracy: 0.8077 - val_loss: 0.4914\n",
      "Epoch 17/20\n",
      "\u001b[1m4/4\u001b[0m \u001b[32m━━━━━━━━━━━━━━━━━━━━\u001b[0m\u001b[37m\u001b[0m \u001b[1m0s\u001b[0m 11ms/step - accuracy: 0.8745 - loss: 0.4033 - val_accuracy: 0.8077 - val_loss: 0.5431\n",
      "Epoch 18/20\n",
      "\u001b[1m4/4\u001b[0m \u001b[32m━━━━━━━━━━━━━━━━━━━━\u001b[0m\u001b[37m\u001b[0m \u001b[1m0s\u001b[0m 11ms/step - accuracy: 0.8370 - loss: 0.4494 - val_accuracy: 0.8077 - val_loss: 0.4810\n",
      "Epoch 19/20\n",
      "\u001b[1m4/4\u001b[0m \u001b[32m━━━━━━━━━━━━━━━━━━━━\u001b[0m\u001b[37m\u001b[0m \u001b[1m0s\u001b[0m 11ms/step - accuracy: 0.8641 - loss: 0.4026 - val_accuracy: 0.8077 - val_loss: 0.4769\n",
      "Epoch 20/20\n",
      "\u001b[1m4/4\u001b[0m \u001b[32m━━━━━━━━━━━━━━━━━━━━\u001b[0m\u001b[37m\u001b[0m \u001b[1m0s\u001b[0m 11ms/step - accuracy: 0.8599 - loss: 0.3927 - val_accuracy: 0.8077 - val_loss: 0.4941\n"
     ]
    },
    {
     "data": {
      "text/plain": [
       "<keras.src.callbacks.history.History at 0x17de75c90>"
      ]
     },
     "execution_count": 8,
     "metadata": {},
     "output_type": "execute_result"
    }
   ],
   "source": [
    "# ================================================\n",
    "# 📌 7. Train Model\n",
    "# ================================================\n",
    "model.fit(X_train, y_train, epochs=20, batch_size=32, validation_split=0.2)"
   ]
  },
  {
   "cell_type": "code",
   "execution_count": 9,
   "id": "3a6cf405",
   "metadata": {},
   "outputs": [
    {
     "name": "stdout",
     "output_type": "stream",
     "text": [
      "\u001b[1m1/1\u001b[0m \u001b[32m━━━━━━━━━━━━━━━━━━━━\u001b[0m\u001b[37m\u001b[0m \u001b[1m0s\u001b[0m 17ms/step - accuracy: 0.7812 - loss: 0.5003\n",
      "\n",
      "✅ Test Accuracy: 0.78\n"
     ]
    }
   ],
   "source": [
    "\n",
    "# ================================================\n",
    "# 📌 8. Evaluate Model\n",
    "# ================================================\n",
    "loss, acc = model.evaluate(X_test, y_test)\n",
    "print(f\"\\n✅ Test Accuracy: {acc:.2f}\")\n"
   ]
  },
  {
   "cell_type": "code",
   "execution_count": 10,
   "id": "3b6e9805",
   "metadata": {},
   "outputs": [],
   "source": [
    "\n",
    "# ================================================\n",
    "# 📌 9. Find HNS Patterns for Visualization\n",
    "# ================================================\n",
    "def find_hns_patterns(prices, distance=3, tolerance=0.05):\n",
    "    \"\"\"Return list of (left, head, right) indices if found\"\"\"\n",
    "    peaks, _ = find_peaks(prices, distance=distance)\n",
    "    patterns = []\n",
    "    if len(peaks) < 3:\n",
    "        return patterns\n",
    "    for i in range(len(peaks) - 2):\n",
    "        ls, head, rs = peaks[i], peaks[i+1], peaks[i+2]\n",
    "        if head > rs or ls > head: \n",
    "            continue\n",
    "        ls_val, head_val, rs_val = prices[ls], prices[head], prices[rs]\n",
    "        if head_val > ls_val and head_val > rs_val:\n",
    "            if abs(ls_val - rs_val) / max(ls_val, rs_val) < tolerance:\n",
    "                patterns.append((ls, head, rs))\n",
    "    return patterns\n",
    "\n",
    "\n"
   ]
  },
  {
   "cell_type": "code",
   "execution_count": 11,
   "id": "82af1921",
   "metadata": {},
   "outputs": [],
   "source": [
    "# ================================================\n",
    "# 📌 10. Plot Candlestick with Detected Patterns\n",
    "# ================================================\n",
    "def plot_chart_with_pattern(df, pattern_points, ticker):\n",
    "    fig = go.Figure()\n",
    "\n",
    "    # Candlestick chart\n",
    "    fig.add_trace(go.Candlestick(\n",
    "        x=df['time'],\n",
    "        open=df['open_price'],\n",
    "        high=df['high_price'],\n",
    "        low=df['low_price'],\n",
    "        close=df['close_price'],\n",
    "        name='Candlestick'\n",
    "    ))\n",
    "\n",
    "    # วาดจุด Head & Shoulders\n",
    "    for (l, h, r) in pattern_points:\n",
    "        fig.add_trace(go.Scatter(\n",
    "            x=[df['time'].iloc[l]], y=[df['close_price'].iloc[l]],\n",
    "            mode='markers+text', name='Left Shoulder',\n",
    "            marker=dict(color='yellow', size=10),\n",
    "            text=[\"Left\"], textposition=\"top center\"\n",
    "        ))\n",
    "        fig.add_trace(go.Scatter(\n",
    "            x=[df['time'].iloc[h]], y=[df['close_price'].iloc[h]],\n",
    "            mode='markers+text', name='Head',\n",
    "            marker=dict(color='red', size=12),\n",
    "            text=[\"Head\"], textposition=\"top center\"\n",
    "        ))\n",
    "        fig.add_trace(go.Scatter(\n",
    "            x=[df['time'].iloc[r]], y=[df['close_price'].iloc[r]],\n",
    "            mode='markers+text', name='Right Shoulder',\n",
    "            marker=dict(color='green', size=10),\n",
    "            text=[\"Right\"], textposition=\"top center\"\n",
    "        ))\n",
    "\n",
    "        # neckline\n",
    "        fig.add_shape(\n",
    "            type='line',\n",
    "            x0=df['time'].iloc[l], y0=df['close_price'].iloc[l],\n",
    "            x1=df['time'].iloc[r], y1=df['close_price'].iloc[r],\n",
    "            line=dict(color='green', dash='dash')\n",
    "        )\n",
    "\n",
    "    fig.update_layout(\n",
    "        title=f'{ticker} - Head and Shoulders Pattern',\n",
    "        xaxis_title='Date',\n",
    "        yaxis_title='Price (Baht)',\n",
    "        template='plotly_white',\n",
    "        xaxis_rangeslider_visible=False,\n",
    "        height=600\n",
    "    )\n",
    "    fig.show()\n",
    "\n"
   ]
  },
  {
   "cell_type": "code",
   "execution_count": 12,
   "id": "e55027bf",
   "metadata": {},
   "outputs": [
    {
     "data": {
      "application/vnd.plotly.v1+json": {
       "config": {
        "plotlyServerURL": "https://plot.ly"
       },
       "data": [
        {
         "close": {
          "bdata": "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",
          "dtype": "f8"
         },
         "high": {
          "bdata": "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",
          "dtype": "f8"
         },
         "low": {
          "bdata": "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",
          "dtype": "f8"
         },
         "name": "Candlestick",
         "open": {
          "bdata": "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",
          "dtype": "f8"
         },
         "type": "candlestick",
         "x": [
          "2025-04-14T02:00:02.012161000",
          "2025-04-15T02:00:02.012161000",
          "2025-04-16T02:00:02.012161000",
          "2025-04-17T02:00:02.012161000",
          "2025-04-18T02:00:02.012161000",
          "2025-04-19T02:00:02.012161000",
          "2025-04-20T02:00:02.012161000",
          "2025-04-21T02:00:02.012161000",
          "2025-04-22T02:00:02.012161000",
          "2025-04-23T02:00:02.012161000",
          "2025-04-24T02:00:02.012161000",
          "2025-04-25T02:00:02.012161000",
          "2025-04-26T02:00:02.012161000",
          "2025-04-27T02:00:02.012161000",
          "2025-04-28T02:00:02.012161000",
          "2025-04-29T02:00:02.012161000",
          "2025-04-30T02:00:02.012161000",
          "2025-05-01T02:00:02.012161000",
          "2025-05-02T02:00:02.012161000",
          "2025-05-03T02:00:02.012161000",
          "2025-05-04T02:00:02.012161000",
          "2025-05-05T02:00:02.012161000",
          "2025-05-06T02:00:02.012161000",
          "2025-05-07T02:00:02.012161000",
          "2025-05-08T02:00:02.012161000",
          "2025-05-09T02:00:02.012161000",
          "2025-05-10T02:00:02.012161000",
          "2025-05-11T02:00:02.012161000",
          "2025-05-12T02:00:02.012161000",
          "2025-05-13T02:00:02.012161000",
          "2025-05-14T02:00:02.012161000",
          "2025-05-15T02:00:02.012161000",
          "2025-05-16T02:00:02.012161000",
          "2025-05-17T02:00:02.012161000",
          "2025-05-18T02:00:02.012161000",
          "2025-05-19T02:00:02.012161000",
          "2025-05-20T02:00:02.012161000",
          "2025-05-21T02:00:02.012161000",
          "2025-05-22T02:00:02.012161000",
          "2025-05-23T02:00:02.012161000",
          "2025-05-24T02:00:02.012161000",
          "2025-05-25T02:00:02.012161000",
          "2025-05-26T02:00:02.012161000",
          "2025-05-27T02:00:02.012161000",
          "2025-05-28T02:00:02.012161000",
          "2025-05-29T02:00:02.012161000",
          "2025-05-30T02:00:02.012161000",
          "2025-05-31T02:00:02.012161000",
          "2025-06-01T02:00:02.012161000",
          "2025-06-02T02:00:02.012161000",
          "2025-06-03T02:00:02.012161000",
          "2025-06-04T02:00:02.012161000",
          "2025-06-05T02:00:02.012161000",
          "2025-06-06T02:00:02.012161000",
          "2025-06-07T02:00:02.012161000",
          "2025-06-08T02:00:02.012161000",
          "2025-06-09T02:00:02.012161000",
          "2025-06-10T02:00:02.012161000",
          "2025-06-11T02:00:02.012161000",
          "2025-06-12T02:00:02.012161000",
          "2025-06-13T02:00:02.012161000",
          "2025-06-14T02:00:02.012161000",
          "2025-06-15T02:00:02.012161000",
          "2025-06-16T02:00:02.012161000",
          "2025-06-17T02:00:02.012161000",
          "2025-06-18T02:00:02.012161000",
          "2025-06-19T02:00:02.012161000",
          "2025-06-20T02:00:02.012161000",
          "2025-06-21T02:00:02.012161000",
          "2025-06-22T02:00:02.012161000",
          "2025-06-23T02:00:02.012161000",
          "2025-06-24T02:00:02.012161000",
          "2025-06-25T02:00:02.012161000",
          "2025-06-26T02:00:02.012161000",
          "2025-06-27T02:00:02.012161000",
          "2025-06-28T02:00:02.012161000",
          "2025-06-29T02:00:02.012161000",
          "2025-06-30T02:00:02.012161000",
          "2025-07-01T02:00:02.012161000",
          "2025-07-02T02:00:02.012161000",
          "2025-07-03T02:00:02.012161000",
          "2025-07-04T02:00:02.012161000",
          "2025-07-05T02:00:02.012161000",
          "2025-07-06T02:00:02.012161000",
          "2025-07-07T02:00:02.012161000",
          "2025-07-08T02:00:02.012161000",
          "2025-07-09T02:00:02.012161000",
          "2025-07-10T02:00:02.012161000",
          "2025-07-11T02:00:02.012161000",
          "2025-07-12T02:00:02.012161000",
          "2025-07-13T02:00:02.012161000",
          "2025-07-14T02:00:02.012161000",
          "2025-07-15T02:00:02.012161000",
          "2025-07-16T02:00:02.012161000",
          "2025-07-17T02:00:02.012161000",
          "2025-07-18T02:00:02.012161000",
          "2025-07-19T02:00:02.012161000",
          "2025-07-20T02:00:02.012161000",
          "2025-07-21T02:00:02.012161000",
          "2025-07-22T02:00:02.012161000",
          "2025-07-23T02:00:02.012161000",
          "2025-07-24T02:00:02.012161000",
          "2025-07-25T02:00:02.012161000",
          "2025-07-26T02:00:02.012161000",
          "2025-07-27T02:00:02.012161000",
          "2025-07-28T02:00:02.012161000",
          "2025-07-29T02:00:02.012161000",
          "2025-07-30T02:00:02.012161000",
          "2025-07-31T02:00:02.012161000",
          "2025-08-01T02:00:02.012161000",
          "2025-08-02T02:00:02.012161000",
          "2025-08-03T02:00:02.012161000",
          "2025-08-04T02:00:02.012161000",
          "2025-08-05T02:00:02.012161000",
          "2025-08-06T02:00:02.012161000",
          "2025-08-07T02:00:02.012161000",
          "2025-08-08T02:00:02.012161000",
          "2025-08-09T02:00:02.012161000",
          "2025-08-10T02:00:02.012161000",
          "2025-08-11T02:00:02.012161000",
          "2025-08-12T02:00:02.012161000",
          "2025-08-13T02:00:02.012161000",
          "2025-08-14T02:00:02.012161000",
          "2025-08-15T02:00:02.012161000",
          "2025-08-16T02:00:02.012161000",
          "2025-08-17T02:00:02.012161000",
          "2025-08-18T02:00:02.012161000",
          "2025-08-19T02:00:02.012161000",
          "2025-08-20T02:00:02.012161000",
          "2025-08-21T02:00:02.012161000",
          "2025-08-22T02:00:02.012161000",
          "2025-08-23T02:00:02.012161000",
          "2025-08-24T02:00:02.012161000",
          "2025-08-25T02:00:02.012161000",
          "2025-08-26T02:00:02.012161000",
          "2025-08-27T02:00:02.012161000",
          "2025-08-28T02:00:02.012161000",
          "2025-08-29T02:00:02.012161000",
          "2025-08-30T02:00:02.012161000",
          "2025-08-31T02:00:02.012161000",
          "2025-09-01T02:00:02.012161000",
          "2025-09-02T02:00:02.012161000",
          "2025-09-03T02:00:02.012161000",
          "2025-09-04T02:00:02.012161000",
          "2025-09-05T02:00:02.012161000",
          "2025-09-06T02:00:02.012161000",
          "2025-09-07T02:00:02.012161000",
          "2025-09-08T02:00:02.012161000",
          "2025-09-09T02:00:02.012161000",
          "2025-09-10T02:00:02.012161000",
          "2025-09-11T02:00:02.012161000",
          "2025-09-12T02:00:02.012161000",
          "2025-09-13T02:00:02.012161000",
          "2025-09-14T02:00:02.012161000",
          "2025-09-15T02:00:02.012161000",
          "2025-09-16T02:00:02.012161000",
          "2025-09-17T02:00:02.012161000",
          "2025-09-18T02:00:02.012161000",
          "2025-09-19T02:00:02.012161000",
          "2025-09-20T02:00:02.012161000",
          "2025-09-21T02:00:02.012161000",
          "2025-09-22T02:00:02.012161000",
          "2025-09-23T02:00:02.012161000",
          "2025-09-24T02:00:02.012161000",
          "2025-09-25T02:00:02.012161000",
          "2025-09-26T02:00:02.012161000",
          "2025-09-27T02:00:02.012161000",
          "2025-09-28T02:00:02.012161000",
          "2025-09-29T02:00:02.012161000",
          "2025-09-30T02:00:02.012161000",
          "2025-10-01T02:00:02.012161000",
          "2025-10-02T02:00:02.012161000",
          "2025-10-03T02:00:02.012161000",
          "2025-10-04T02:00:02.012161000",
          "2025-10-05T02:00:02.012161000",
          "2025-10-06T02:00:02.012161000",
          "2025-10-07T02:00:02.012161000",
          "2025-10-08T02:00:02.012161000",
          "2025-10-09T02:00:02.012161000",
          "2025-10-10T02:00:02.012161000",
          "2025-10-11T02:00:02.012161000",
          "2025-10-12T02:00:02.012161000",
          "2025-10-13T02:00:02.012161000",
          "2025-10-14T02:00:02.012161000",
          "2025-10-15T02:00:02.012161000",
          "2025-10-16T02:00:02.012161000",
          "2025-10-17T02:00:02.012161000",
          "2025-10-18T02:00:02.012161000",
          "2025-10-19T02:00:02.012161000",
          "2025-10-20T02:00:02.012161000",
          "2025-10-21T02:00:02.012161000",
          "2025-10-22T02:00:02.012161000",
          "2025-10-23T02:00:02.012161000",
          "2025-10-24T02:00:02.012161000",
          "2025-10-25T02:00:02.012161000",
          "2025-10-26T02:00:02.012161000",
          "2025-10-27T02:00:02.012161000",
          "2025-10-28T02:00:02.012161000",
          "2025-10-29T02:00:02.012161000",
          "2025-10-30T02:00:02.012161000"
         ]
        },
        {
         "marker": {
          "color": "yellow",
          "size": 10
         },
         "mode": "markers+text",
         "name": "Left Shoulder",
         "text": [
          "Left"
         ],
         "textposition": "top center",
         "type": "scatter",
         "x": [
          "2025-04-18T02:00:02.012161"
         ],
         "y": [
          73.01858611365246
         ]
        },
        {
         "marker": {
          "color": "red",
          "size": 12
         },
         "mode": "markers+text",
         "name": "Head",
         "text": [
          "Head"
         ],
         "textposition": "top center",
         "type": "scatter",
         "x": [
          "2025-04-23T02:00:02.012161"
         ],
         "y": [
          74.29807945918375
         ]
        },
        {
         "marker": {
          "color": "green",
          "size": 10
         },
         "mode": "markers+text",
         "name": "Right Shoulder",
         "text": [
          "Right"
         ],
         "textposition": "top center",
         "type": "scatter",
         "x": [
          "2025-04-26T02:00:02.012161"
         ],
         "y": [
          74.22537039986567
         ]
        },
        {
         "marker": {
          "color": "yellow",
          "size": 10
         },
         "mode": "markers+text",
         "name": "Left Shoulder",
         "text": [
          "Left"
         ],
         "textposition": "top center",
         "type": "scatter",
         "x": [
          "2025-06-09T02:00:02.012161"
         ],
         "y": [
          60.46005878489172
         ]
        },
        {
         "marker": {
          "color": "red",
          "size": 12
         },
         "mode": "markers+text",
         "name": "Head",
         "text": [
          "Head"
         ],
         "textposition": "top center",
         "type": "scatter",
         "x": [
          "2025-06-12T02:00:02.012161"
         ],
         "y": [
          61.32042952766523
         ]
        },
        {
         "marker": {
          "color": "green",
          "size": 10
         },
         "mode": "markers+text",
         "name": "Right Shoulder",
         "text": [
          "Right"
         ],
         "textposition": "top center",
         "type": "scatter",
         "x": [
          "2025-06-18T02:00:02.012161"
         ],
         "y": [
          59.43788542500623
         ]
        },
        {
         "marker": {
          "color": "yellow",
          "size": 10
         },
         "mode": "markers+text",
         "name": "Left Shoulder",
         "text": [
          "Left"
         ],
         "textposition": "top center",
         "type": "scatter",
         "x": [
          "2025-06-21T02:00:02.012161"
         ],
         "y": [
          62.18407321690625
         ]
        },
        {
         "marker": {
          "color": "red",
          "size": 12
         },
         "mode": "markers+text",
         "name": "Head",
         "text": [
          "Head"
         ],
         "textposition": "top center",
         "type": "scatter",
         "x": [
          "2025-06-26T02:00:02.012161"
         ],
         "y": [
          64.82699650269346
         ]
        },
        {
         "marker": {
          "color": "green",
          "size": 10
         },
         "mode": "markers+text",
         "name": "Right Shoulder",
         "text": [
          "Right"
         ],
         "textposition": "top center",
         "type": "scatter",
         "x": [
          "2025-07-01T02:00:02.012161"
         ],
         "y": [
          62.38319756086947
         ]
        },
        {
         "marker": {
          "color": "yellow",
          "size": 10
         },
         "mode": "markers+text",
         "name": "Left Shoulder",
         "text": [
          "Left"
         ],
         "textposition": "top center",
         "type": "scatter",
         "x": [
          "2025-07-10T02:00:02.012161"
         ],
         "y": [
          61.453828309683495
         ]
        },
        {
         "marker": {
          "color": "red",
          "size": 12
         },
         "mode": "markers+text",
         "name": "Head",
         "text": [
          "Head"
         ],
         "textposition": "top center",
         "type": "scatter",
         "x": [
          "2025-07-14T02:00:02.012161"
         ],
         "y": [
          61.939261786317225
         ]
        },
        {
         "marker": {
          "color": "green",
          "size": 10
         },
         "mode": "markers+text",
         "name": "Right Shoulder",
         "text": [
          "Right"
         ],
         "textposition": "top center",
         "type": "scatter",
         "x": [
          "2025-07-20T02:00:02.012161"
         ],
         "y": [
          60.05112615625608
         ]
        },
        {
         "marker": {
          "color": "yellow",
          "size": 10
         },
         "mode": "markers+text",
         "name": "Left Shoulder",
         "text": [
          "Left"
         ],
         "textposition": "top center",
         "type": "scatter",
         "x": [
          "2025-08-14T02:00:02.012161"
         ],
         "y": [
          62.160956989321384
         ]
        },
        {
         "marker": {
          "color": "red",
          "size": 12
         },
         "mode": "markers+text",
         "name": "Head",
         "text": [
          "Head"
         ],
         "textposition": "top center",
         "type": "scatter",
         "x": [
          "2025-08-17T02:00:02.012161"
         ],
         "y": [
          63.79781848863229
         ]
        },
        {
         "marker": {
          "color": "green",
          "size": 10
         },
         "mode": "markers+text",
         "name": "Right Shoulder",
         "text": [
          "Right"
         ],
         "textposition": "top center",
         "type": "scatter",
         "x": [
          "2025-08-21T02:00:02.012161"
         ],
         "y": [
          61.37941684326004
         ]
        },
        {
         "marker": {
          "color": "yellow",
          "size": 10
         },
         "mode": "markers+text",
         "name": "Left Shoulder",
         "text": [
          "Left"
         ],
         "textposition": "top center",
         "type": "scatter",
         "x": [
          "2025-08-27T02:00:02.012161"
         ],
         "y": [
          59.65066548687049
         ]
        },
        {
         "marker": {
          "color": "red",
          "size": 12
         },
         "mode": "markers+text",
         "name": "Head",
         "text": [
          "Head"
         ],
         "textposition": "top center",
         "type": "scatter",
         "x": [
          "2025-08-30T02:00:02.012161"
         ],
         "y": [
          60.21274802153515
         ]
        },
        {
         "marker": {
          "color": "green",
          "size": 10
         },
         "mode": "markers+text",
         "name": "Right Shoulder",
         "text": [
          "Right"
         ],
         "textposition": "top center",
         "type": "scatter",
         "x": [
          "2025-09-02T02:00:02.012161"
         ],
         "y": [
          60.08816145565637
         ]
        },
        {
         "marker": {
          "color": "yellow",
          "size": 10
         },
         "mode": "markers+text",
         "name": "Left Shoulder",
         "text": [
          "Left"
         ],
         "textposition": "top center",
         "type": "scatter",
         "x": [
          "2025-09-23T02:00:02.012161"
         ],
         "y": [
          60.878802375806025
         ]
        },
        {
         "marker": {
          "color": "red",
          "size": 12
         },
         "mode": "markers+text",
         "name": "Head",
         "text": [
          "Head"
         ],
         "textposition": "top center",
         "type": "scatter",
         "x": [
          "2025-09-28T02:00:02.012161"
         ],
         "y": [
          63.62158471126906
         ]
        },
        {
         "marker": {
          "color": "green",
          "size": 10
         },
         "mode": "markers+text",
         "name": "Right Shoulder",
         "text": [
          "Right"
         ],
         "textposition": "top center",
         "type": "scatter",
         "x": [
          "2025-10-04T02:00:02.012161"
         ],
         "y": [
          61.438179767813686
         ]
        },
        {
         "marker": {
          "color": "yellow",
          "size": 10
         },
         "mode": "markers+text",
         "name": "Left Shoulder",
         "text": [
          "Left"
         ],
         "textposition": "top center",
         "type": "scatter",
         "x": [
          "2025-10-08T02:00:02.012161"
         ],
         "y": [
          64.14050257183536
         ]
        },
        {
         "marker": {
          "color": "red",
          "size": 12
         },
         "mode": "markers+text",
         "name": "Head",
         "text": [
          "Head"
         ],
         "textposition": "top center",
         "type": "scatter",
         "x": [
          "2025-10-11T02:00:02.012161"
         ],
         "y": [
          67.41219141974648
         ]
        },
        {
         "marker": {
          "color": "green",
          "size": 10
         },
         "mode": "markers+text",
         "name": "Right Shoulder",
         "text": [
          "Right"
         ],
         "textposition": "top center",
         "type": "scatter",
         "x": [
          "2025-10-17T02:00:02.012161"
         ],
         "y": [
          66.90783696274806
         ]
        }
       ],
       "layout": {
        "height": 600,
        "shapes": [
         {
          "line": {
           "color": "green",
           "dash": "dash"
          },
          "type": "line",
          "x0": "2025-04-18T02:00:02.012161",
          "x1": "2025-04-26T02:00:02.012161",
          "y0": 73.01858611365246,
          "y1": 74.22537039986567
         },
         {
          "line": {
           "color": "green",
           "dash": "dash"
          },
          "type": "line",
          "x0": "2025-06-09T02:00:02.012161",
          "x1": "2025-06-18T02:00:02.012161",
          "y0": 60.46005878489172,
          "y1": 59.43788542500623
         },
         {
          "line": {
           "color": "green",
           "dash": "dash"
          },
          "type": "line",
          "x0": "2025-06-21T02:00:02.012161",
          "x1": "2025-07-01T02:00:02.012161",
          "y0": 62.18407321690625,
          "y1": 62.38319756086947
         },
         {
          "line": {
           "color": "green",
           "dash": "dash"
          },
          "type": "line",
          "x0": "2025-07-10T02:00:02.012161",
          "x1": "2025-07-20T02:00:02.012161",
          "y0": 61.453828309683495,
          "y1": 60.05112615625608
         },
         {
          "line": {
           "color": "green",
           "dash": "dash"
          },
          "type": "line",
          "x0": "2025-08-14T02:00:02.012161",
          "x1": "2025-08-21T02:00:02.012161",
          "y0": 62.160956989321384,
          "y1": 61.37941684326004
         },
         {
          "line": {
           "color": "green",
           "dash": "dash"
          },
          "type": "line",
          "x0": "2025-08-27T02:00:02.012161",
          "x1": "2025-09-02T02:00:02.012161",
          "y0": 59.65066548687049,
          "y1": 60.08816145565637
         },
         {
          "line": {
           "color": "green",
           "dash": "dash"
          },
          "type": "line",
          "x0": "2025-09-23T02:00:02.012161",
          "x1": "2025-10-04T02:00:02.012161",
          "y0": 60.878802375806025,
          "y1": 61.438179767813686
         },
         {
          "line": {
           "color": "green",
           "dash": "dash"
          },
          "type": "line",
          "x0": "2025-10-08T02:00:02.012161",
          "x1": "2025-10-17T02:00:02.012161",
          "y0": 64.14050257183536,
          "y1": 66.90783696274806
         }
        ],
        "template": {
         "data": {
          "bar": [
           {
            "error_x": {
             "color": "#2a3f5f"
            },
            "error_y": {
             "color": "#2a3f5f"
            },
            "marker": {
             "line": {
              "color": "white",
              "width": 0.5
             },
             "pattern": {
              "fillmode": "overlay",
              "size": 10,
              "solidity": 0.2
             }
            },
            "type": "bar"
           }
          ],
          "barpolar": [
           {
            "marker": {
             "line": {
              "color": "white",
              "width": 0.5
             },
             "pattern": {
              "fillmode": "overlay",
              "size": 10,
              "solidity": 0.2
             }
            },
            "type": "barpolar"
           }
          ],
          "carpet": [
           {
            "aaxis": {
             "endlinecolor": "#2a3f5f",
             "gridcolor": "#C8D4E3",
             "linecolor": "#C8D4E3",
             "minorgridcolor": "#C8D4E3",
             "startlinecolor": "#2a3f5f"
            },
            "baxis": {
             "endlinecolor": "#2a3f5f",
             "gridcolor": "#C8D4E3",
             "linecolor": "#C8D4E3",
             "minorgridcolor": "#C8D4E3",
             "startlinecolor": "#2a3f5f"
            },
            "type": "carpet"
           }
          ],
          "choropleth": [
           {
            "colorbar": {
             "outlinewidth": 0,
             "ticks": ""
            },
            "type": "choropleth"
           }
          ],
          "contour": [
           {
            "colorbar": {
             "outlinewidth": 0,
             "ticks": ""
            },
            "colorscale": [
             [
              0,
              "#0d0887"
             ],
             [
              0.1111111111111111,
              "#46039f"
             ],
             [
              0.2222222222222222,
              "#7201a8"
             ],
             [
              0.3333333333333333,
              "#9c179e"
             ],
             [
              0.4444444444444444,
              "#bd3786"
             ],
             [
              0.5555555555555556,
              "#d8576b"
             ],
             [
              0.6666666666666666,
              "#ed7953"
             ],
             [
              0.7777777777777778,
              "#fb9f3a"
             ],
             [
              0.8888888888888888,
              "#fdca26"
             ],
             [
              1,
              "#f0f921"
             ]
            ],
            "type": "contour"
           }
          ],
          "contourcarpet": [
           {
            "colorbar": {
             "outlinewidth": 0,
             "ticks": ""
            },
            "type": "contourcarpet"
           }
          ],
          "heatmap": [
           {
            "colorbar": {
             "outlinewidth": 0,
             "ticks": ""
            },
            "colorscale": [
             [
              0,
              "#0d0887"
             ],
             [
              0.1111111111111111,
              "#46039f"
             ],
             [
              0.2222222222222222,
              "#7201a8"
             ],
             [
              0.3333333333333333,
              "#9c179e"
             ],
             [
              0.4444444444444444,
              "#bd3786"
             ],
             [
              0.5555555555555556,
              "#d8576b"
             ],
             [
              0.6666666666666666,
              "#ed7953"
             ],
             [
              0.7777777777777778,
              "#fb9f3a"
             ],
             [
              0.8888888888888888,
              "#fdca26"
             ],
             [
              1,
              "#f0f921"
             ]
            ],
            "type": "heatmap"
           }
          ],
          "histogram": [
           {
            "marker": {
             "pattern": {
              "fillmode": "overlay",
              "size": 10,
              "solidity": 0.2
             }
            },
            "type": "histogram"
           }
          ],
          "histogram2d": [
           {
            "colorbar": {
             "outlinewidth": 0,
             "ticks": ""
            },
            "colorscale": [
             [
              0,
              "#0d0887"
             ],
             [
              0.1111111111111111,
              "#46039f"
             ],
             [
              0.2222222222222222,
              "#7201a8"
             ],
             [
              0.3333333333333333,
              "#9c179e"
             ],
             [
              0.4444444444444444,
              "#bd3786"
             ],
             [
              0.5555555555555556,
              "#d8576b"
             ],
             [
              0.6666666666666666,
              "#ed7953"
             ],
             [
              0.7777777777777778,
              "#fb9f3a"
             ],
             [
              0.8888888888888888,
              "#fdca26"
             ],
             [
              1,
              "#f0f921"
             ]
            ],
            "type": "histogram2d"
           }
          ],
          "histogram2dcontour": [
           {
            "colorbar": {
             "outlinewidth": 0,
             "ticks": ""
            },
            "colorscale": [
             [
              0,
              "#0d0887"
             ],
             [
              0.1111111111111111,
              "#46039f"
             ],
             [
              0.2222222222222222,
              "#7201a8"
             ],
             [
              0.3333333333333333,
              "#9c179e"
             ],
             [
              0.4444444444444444,
              "#bd3786"
             ],
             [
              0.5555555555555556,
              "#d8576b"
             ],
             [
              0.6666666666666666,
              "#ed7953"
             ],
             [
              0.7777777777777778,
              "#fb9f3a"
             ],
             [
              0.8888888888888888,
              "#fdca26"
             ],
             [
              1,
              "#f0f921"
             ]
            ],
            "type": "histogram2dcontour"
           }
          ],
          "mesh3d": [
           {
            "colorbar": {
             "outlinewidth": 0,
             "ticks": ""
            },
            "type": "mesh3d"
           }
          ],
          "parcoords": [
           {
            "line": {
             "colorbar": {
              "outlinewidth": 0,
              "ticks": ""
             }
            },
            "type": "parcoords"
           }
          ],
          "pie": [
           {
            "automargin": true,
            "type": "pie"
           }
          ],
          "scatter": [
           {
            "fillpattern": {
             "fillmode": "overlay",
             "size": 10,
             "solidity": 0.2
            },
            "type": "scatter"
           }
          ],
          "scatter3d": [
           {
            "line": {
             "colorbar": {
              "outlinewidth": 0,
              "ticks": ""
             }
            },
            "marker": {
             "colorbar": {
              "outlinewidth": 0,
              "ticks": ""
             }
            },
            "type": "scatter3d"
           }
          ],
          "scattercarpet": [
           {
            "marker": {
             "colorbar": {
              "outlinewidth": 0,
              "ticks": ""
             }
            },
            "type": "scattercarpet"
           }
          ],
          "scattergeo": [
           {
            "marker": {
             "colorbar": {
              "outlinewidth": 0,
              "ticks": ""
             }
            },
            "type": "scattergeo"
           }
          ],
          "scattergl": [
           {
            "marker": {
             "colorbar": {
              "outlinewidth": 0,
              "ticks": ""
             }
            },
            "type": "scattergl"
           }
          ],
          "scattermap": [
           {
            "marker": {
             "colorbar": {
              "outlinewidth": 0,
              "ticks": ""
             }
            },
            "type": "scattermap"
           }
          ],
          "scattermapbox": [
           {
            "marker": {
             "colorbar": {
              "outlinewidth": 0,
              "ticks": ""
             }
            },
            "type": "scattermapbox"
           }
          ],
          "scatterpolar": [
           {
            "marker": {
             "colorbar": {
              "outlinewidth": 0,
              "ticks": ""
             }
            },
            "type": "scatterpolar"
           }
          ],
          "scatterpolargl": [
           {
            "marker": {
             "colorbar": {
              "outlinewidth": 0,
              "ticks": ""
             }
            },
            "type": "scatterpolargl"
           }
          ],
          "scatterternary": [
           {
            "marker": {
             "colorbar": {
              "outlinewidth": 0,
              "ticks": ""
             }
            },
            "type": "scatterternary"
           }
          ],
          "surface": [
           {
            "colorbar": {
             "outlinewidth": 0,
             "ticks": ""
            },
            "colorscale": [
             [
              0,
              "#0d0887"
             ],
             [
              0.1111111111111111,
              "#46039f"
             ],
             [
              0.2222222222222222,
              "#7201a8"
             ],
             [
              0.3333333333333333,
              "#9c179e"
             ],
             [
              0.4444444444444444,
              "#bd3786"
             ],
             [
              0.5555555555555556,
              "#d8576b"
             ],
             [
              0.6666666666666666,
              "#ed7953"
             ],
             [
              0.7777777777777778,
              "#fb9f3a"
             ],
             [
              0.8888888888888888,
              "#fdca26"
             ],
             [
              1,
              "#f0f921"
             ]
            ],
            "type": "surface"
           }
          ],
          "table": [
           {
            "cells": {
             "fill": {
              "color": "#EBF0F8"
             },
             "line": {
              "color": "white"
             }
            },
            "header": {
             "fill": {
              "color": "#C8D4E3"
             },
             "line": {
              "color": "white"
             }
            },
            "type": "table"
           }
          ]
         },
         "layout": {
          "annotationdefaults": {
           "arrowcolor": "#2a3f5f",
           "arrowhead": 0,
           "arrowwidth": 1
          },
          "autotypenumbers": "strict",
          "coloraxis": {
           "colorbar": {
            "outlinewidth": 0,
            "ticks": ""
           }
          },
          "colorscale": {
           "diverging": [
            [
             0,
             "#8e0152"
            ],
            [
             0.1,
             "#c51b7d"
            ],
            [
             0.2,
             "#de77ae"
            ],
            [
             0.3,
             "#f1b6da"
            ],
            [
             0.4,
             "#fde0ef"
            ],
            [
             0.5,
             "#f7f7f7"
            ],
            [
             0.6,
             "#e6f5d0"
            ],
            [
             0.7,
             "#b8e186"
            ],
            [
             0.8,
             "#7fbc41"
            ],
            [
             0.9,
             "#4d9221"
            ],
            [
             1,
             "#276419"
            ]
           ],
           "sequential": [
            [
             0,
             "#0d0887"
            ],
            [
             0.1111111111111111,
             "#46039f"
            ],
            [
             0.2222222222222222,
             "#7201a8"
            ],
            [
             0.3333333333333333,
             "#9c179e"
            ],
            [
             0.4444444444444444,
             "#bd3786"
            ],
            [
             0.5555555555555556,
             "#d8576b"
            ],
            [
             0.6666666666666666,
             "#ed7953"
            ],
            [
             0.7777777777777778,
             "#fb9f3a"
            ],
            [
             0.8888888888888888,
             "#fdca26"
            ],
            [
             1,
             "#f0f921"
            ]
           ],
           "sequentialminus": [
            [
             0,
             "#0d0887"
            ],
            [
             0.1111111111111111,
             "#46039f"
            ],
            [
             0.2222222222222222,
             "#7201a8"
            ],
            [
             0.3333333333333333,
             "#9c179e"
            ],
            [
             0.4444444444444444,
             "#bd3786"
            ],
            [
             0.5555555555555556,
             "#d8576b"
            ],
            [
             0.6666666666666666,
             "#ed7953"
            ],
            [
             0.7777777777777778,
             "#fb9f3a"
            ],
            [
             0.8888888888888888,
             "#fdca26"
            ],
            [
             1,
             "#f0f921"
            ]
           ]
          },
          "colorway": [
           "#636efa",
           "#EF553B",
           "#00cc96",
           "#ab63fa",
           "#FFA15A",
           "#19d3f3",
           "#FF6692",
           "#B6E880",
           "#FF97FF",
           "#FECB52"
          ],
          "font": {
           "color": "#2a3f5f"
          },
          "geo": {
           "bgcolor": "white",
           "lakecolor": "white",
           "landcolor": "white",
           "showlakes": true,
           "showland": true,
           "subunitcolor": "#C8D4E3"
          },
          "hoverlabel": {
           "align": "left"
          },
          "hovermode": "closest",
          "mapbox": {
           "style": "light"
          },
          "paper_bgcolor": "white",
          "plot_bgcolor": "white",
          "polar": {
           "angularaxis": {
            "gridcolor": "#EBF0F8",
            "linecolor": "#EBF0F8",
            "ticks": ""
           },
           "bgcolor": "white",
           "radialaxis": {
            "gridcolor": "#EBF0F8",
            "linecolor": "#EBF0F8",
            "ticks": ""
           }
          },
          "scene": {
           "xaxis": {
            "backgroundcolor": "white",
            "gridcolor": "#DFE8F3",
            "gridwidth": 2,
            "linecolor": "#EBF0F8",
            "showbackground": true,
            "ticks": "",
            "zerolinecolor": "#EBF0F8"
           },
           "yaxis": {
            "backgroundcolor": "white",
            "gridcolor": "#DFE8F3",
            "gridwidth": 2,
            "linecolor": "#EBF0F8",
            "showbackground": true,
            "ticks": "",
            "zerolinecolor": "#EBF0F8"
           },
           "zaxis": {
            "backgroundcolor": "white",
            "gridcolor": "#DFE8F3",
            "gridwidth": 2,
            "linecolor": "#EBF0F8",
            "showbackground": true,
            "ticks": "",
            "zerolinecolor": "#EBF0F8"
           }
          },
          "shapedefaults": {
           "line": {
            "color": "#2a3f5f"
           }
          },
          "ternary": {
           "aaxis": {
            "gridcolor": "#DFE8F3",
            "linecolor": "#A2B1C6",
            "ticks": ""
           },
           "baxis": {
            "gridcolor": "#DFE8F3",
            "linecolor": "#A2B1C6",
            "ticks": ""
           },
           "bgcolor": "white",
           "caxis": {
            "gridcolor": "#DFE8F3",
            "linecolor": "#A2B1C6",
            "ticks": ""
           }
          },
          "title": {
           "x": 0.05
          },
          "xaxis": {
           "automargin": true,
           "gridcolor": "#EBF0F8",
           "linecolor": "#EBF0F8",
           "ticks": "",
           "title": {
            "standoff": 15
           },
           "zerolinecolor": "#EBF0F8",
           "zerolinewidth": 2
          },
          "yaxis": {
           "automargin": true,
           "gridcolor": "#EBF0F8",
           "linecolor": "#EBF0F8",
           "ticks": "",
           "title": {
            "standoff": 15
           },
           "zerolinecolor": "#EBF0F8",
           "zerolinewidth": 2
          }
         }
        },
        "title": {
         "text": "AOT - Head and Shoulders Pattern"
        },
        "xaxis": {
         "rangeslider": {
          "visible": false
         },
         "title": {
          "text": "Date"
         }
        },
        "yaxis": {
         "title": {
          "text": "Price (Baht)"
         }
        }
       }
      }
     },
     "metadata": {},
     "output_type": "display_data"
    }
   ],
   "source": [
    "# ================================================\n",
    "# 📌 11. Run Detection + Plot\n",
    "# ================================================\n",
    "patterns = find_hns_patterns(data['close_price'].values)\n",
    "plot_chart_with_pattern(data, patterns, stock)"
   ]
  },
  {
   "cell_type": "code",
   "execution_count": null,
   "id": "56ef3547",
   "metadata": {},
   "outputs": [],
   "source": []
  }
 ],
 "metadata": {
  "kernelspec": {
   "display_name": "Python 3",
   "language": "python",
   "name": "python3"
  },
  "language_info": {
   "codemirror_mode": {
    "name": "ipython",
    "version": 3
   },
   "file_extension": ".py",
   "mimetype": "text/x-python",
   "name": "python",
   "nbconvert_exporter": "python",
   "pygments_lexer": "ipython3",
   "version": "3.11.5"
  }
 },
 "nbformat": 4,
 "nbformat_minor": 5
}
