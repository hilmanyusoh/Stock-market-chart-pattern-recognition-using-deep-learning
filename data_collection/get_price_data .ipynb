{
 "cells": [
  {
   "cell_type": "code",
   "execution_count": 1,
   "id": "fd192a5a",
   "metadata": {},
   "outputs": [
    {
     "name": "stdout",
     "output_type": "stream",
     "text": [
      "✅ Keyspace และ Table พร้อมใช้งาน!\n"
     ]
    },
    {
     "ename": "NameError",
     "evalue": "name 'df' is not defined",
     "output_type": "error",
     "traceback": [
      "\u001b[31m---------------------------------------------------------------------------\u001b[39m",
      "\u001b[31mNameError\u001b[39m                                 Traceback (most recent call last)",
      "\u001b[36mCell\u001b[39m\u001b[36m \u001b[39m\u001b[32mIn[1]\u001b[39m\u001b[32m, line 70\u001b[39m\n\u001b[32m     65\u001b[39m         \u001b[38;5;28mprint\u001b[39m(\u001b[33mf\u001b[39m\u001b[33m\"\u001b[39m\u001b[33m✅ เพิ่มข้อมูล \u001b[39m\u001b[38;5;132;01m{\u001b[39;00m\u001b[38;5;28mlen\u001b[39m(df)\u001b[38;5;132;01m}\u001b[39;00m\u001b[33m รายการของหุ้น \u001b[39m\u001b[38;5;132;01m{\u001b[39;00msymbol\u001b[38;5;132;01m}\u001b[39;00m\u001b[33m สำเร็จ!\u001b[39m\u001b[33m\"\u001b[39m)\n\u001b[32m     67\u001b[39m \u001b[38;5;66;03m# ==========================================\u001b[39;00m\n\u001b[32m     68\u001b[39m \u001b[38;5;66;03m# 3️⃣ เรียกใช้งานฟังก์ชัน\u001b[39;00m\n\u001b[32m     69\u001b[39m \u001b[38;5;66;03m# ==========================================\u001b[39;00m\n\u001b[32m---> \u001b[39m\u001b[32m70\u001b[39m insert_multiple_stocks(\u001b[43mdf\u001b[49m, symbols)\n",
      "\u001b[31mNameError\u001b[39m: name 'df' is not defined"
     ]
    }
   ],
   "source": [
    "from cassandra.cluster import Cluster\n",
    "from datetime import datetime\n",
    "\n",
    "# ==========================================\n",
    "# 1️⃣ เชื่อมต่อ Cassandra\n",
    "# ==========================================\n",
    "cluster = Cluster(['127.0.0.1'], port=9042)\n",
    "session = cluster.connect()\n",
    "session.execute(\"\"\"\n",
    "    CREATE KEYSPACE IF NOT EXISTS data_stock\n",
    "    WITH replication = {'class': 'SimpleStrategy', 'replication_factor': 1};\n",
    "\"\"\")\n",
    "session.set_keyspace('data_stock')\n",
    "\n",
    "session.execute(\"\"\"\n",
    "        CREATE TABLE IF NOT EXISTS stock_price (\n",
    "            symbol TEXT,\n",
    "            time TIMESTAMP,\n",
    "            open_price DOUBLE,\n",
    "            high_price DOUBLE,\n",
    "            low_price DOUBLE,\n",
    "            close_price DOUBLE,\n",
    "            volume BIGINT,\n",
    "            value DOUBLE,\n",
    "            PRIMARY KEY (symbol, time)\n",
    "        ) WITH CLUSTERING ORDER BY (time DESC)\n",
    "    \"\"\")\n",
    "    \n",
    "print(\"✅ Keyspace และ Table พร้อมใช้งาน!\")\n",
    "\n",
    "# ==========================================\n",
    "# 2️⃣ ฟังก์ชันบันทึก DataFrame ลง Cassandra\n",
    "# ==========================================\n",
    "def insert_multiple_stocks(df, symbols):\n",
    "    for symbol in symbols:\n",
    "        print(f\"\\n📦 กำลังบันทึกข้อมูล {symbol} ...\")\n",
    "        # ตรวจ column ของหุ้นนั้น\n",
    "        col_open = f\"Open_{symbol}\"\n",
    "        col_high = f\"High_{symbol}\"\n",
    "        col_low = f\"Low_{symbol}\"\n",
    "        col_close = f\"Close_{symbol}\"\n",
    "        col_volume = f\"Volume_{symbol}\"\n",
    "        \n",
    "        if col_open not in df.columns:\n",
    "            print(f\"⚠️ ไม่มีข้อมูลสำหรับ {symbol}\")\n",
    "            continue\n",
    "        \n",
    "        for idx, row in df.iterrows():\n",
    "            timestamp = pd.Timestamp(row[\"time\"]).to_pydatetime()\n",
    "            session.execute(\"\"\"\n",
    "                INSERT INTO stock_price (\n",
    "                    symbol, time, open_price, high_price, low_price,\n",
    "                    close_price, volume, value\n",
    "                ) VALUES (%s, %s, %s, %s, %s, %s, %s, %s)\n",
    "            \"\"\", (\n",
    "                symbol,\n",
    "                timestamp,\n",
    "                float(row[col_open]),\n",
    "                float(row[col_high]),\n",
    "                float(row[col_low]),\n",
    "                float(row[col_close]),\n",
    "                int(row[col_volume]),\n",
    "                float(row[col_close] * row[col_volume])\n",
    "            ))\n",
    "        print(f\"✅ เพิ่มข้อมูล {len(df)} รายการของหุ้น {symbol} สำเร็จ!\")\n",
    "\n",
    "# ==========================================\n",
    "# 3️⃣ เรียกใช้งานฟังก์ชัน\n",
    "# ==========================================\n",
    "insert_multiple_stocks(df, symbols)\n"
   ]
  },
  {
   "cell_type": "code",
   "execution_count": null,
   "id": "4f417c57",
   "metadata": {},
   "outputs": [
    {
     "name": "stdout",
     "output_type": "stream",
     "text": [
      "\n",
      "📊 ข้อมูลล่าสุดของ AOT.BK:\n",
      "เวลา: 2025-08-05 00:00:00, เปิด: 71.5, สูง: 72.0, ต่ำ: 71.0, ปิด: 71.8, ปริมาณ: 980000, มูลค่า: 70364000.0\n",
      "เวลา: 2025-08-04 00:00:00, เปิด: 72.0, สูง: 72.5, ต่ำ: 71.5, ปิด: 72.2, ปริมาณ: 1200000, มูลค่า: 86640000.0\n",
      "เวลา: 2025-08-03 00:00:00, เปิด: 70.8, สูง: 71.0, ต่ำ: 70.5, ปิด: 70.9, ปริมาณ: 950000, มูลค่า: 67355000.0\n",
      "เวลา: 2025-08-02 00:00:00, เปิด: 71.0, สูง: 71.5, ต่ำ: 70.8, ปิด: 71.2, ปริมาณ: 1100000, มูลค่า: 78320000.0\n",
      "เวลา: 2025-08-01 00:00:00, เปิด: 70.5, สูง: 71.2, ต่ำ: 70.3, ปิด: 71.0, ปริมาณ: 1000000, มูลค่า: 71000000.0\n"
     ]
    }
   ],
   "source": [
    "# ==========================================\n",
    "# 4️⃣ แสดงข้อมูลล่าสุดจาก Cassandra\n",
    "# ==========================================\n",
    "def show_latest_data(symbols, limit=5):\n",
    "    for symbol in symbols:\n",
    "        print(f\"\\n📊 ข้อมูลล่าสุดของ {symbol}:\")\n",
    "        \n",
    "        # ดึง limit แถวล่าสุดเรียงตามเวลา\n",
    "        rows = session.execute(f\"\"\"\n",
    "            SELECT * FROM stock_price \n",
    "            WHERE symbol='{symbol}' \n",
    "            ORDER BY time DESC \n",
    "            LIMIT {limit}\n",
    "        \"\"\")\n",
    "        \n",
    "        # แสดงผล\n",
    "        for row in rows:\n",
    "            print(f\"เวลา: {row.time}, เปิด: {row.open_price}, สูง: {row.high_price}, ต่ำ: {row.low_price}, ปิด: {row.close_price}, ปริมาณ: {row.volume}, มูลค่า: {row.value}\")\n",
    "\n",
    "# เรียกใช้งานฟังก์ชัน\n",
    "show_latest_data(symbols, limit=5)\n"
   ]
  },
  {
   "cell_type": "code",
   "execution_count": null,
   "id": "86044ca8",
   "metadata": {},
   "outputs": [],
   "source": []
  }
 ],
 "metadata": {
  "kernelspec": {
   "display_name": "Python 3",
   "language": "python",
   "name": "python3"
  },
  "language_info": {
   "codemirror_mode": {
    "name": "ipython",
    "version": 3
   },
   "file_extension": ".py",
   "mimetype": "text/x-python",
   "name": "python",
   "nbconvert_exporter": "python",
   "pygments_lexer": "ipython3",
   "version": "3.11.5"
  }
 },
 "nbformat": 4,
 "nbformat_minor": 5
}
