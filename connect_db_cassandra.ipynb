{
 "cells": [
  {
   "cell_type": "code",
   "execution_count": 1,
   "id": "44977b3a",
   "metadata": {},
   "outputs": [],
   "source": [
    "import pandas as pd\n",
    "import numpy as np\n",
    "import os\n",
    "from cassandra.cluster import Cluster\n",
    "from datetime import datetime\n",
    "import plotly.graph_objects as go"
   ]
  },
  {
   "cell_type": "code",
   "execution_count": 2,
   "id": "ac3d95a2",
   "metadata": {},
   "outputs": [],
   "source": [
    "cluster = Cluster(['127.0.0.1']) \n",
    "session = cluster.connect()"
   ]
  },
  {
   "cell_type": "code",
   "execution_count": 3,
   "id": "8af3112b",
   "metadata": {},
   "outputs": [
    {
     "name": "stdout",
     "output_type": "stream",
     "text": [
      "Available Keyspaces:\n",
      "- system_auth\n",
      "- system_schema\n",
      "- system_distributed\n",
      "- system\n",
      "- system_traces\n",
      "- stock_data\n"
     ]
    }
   ],
   "source": [
    "# ดึง keyspace ทั้งหมด\n",
    "rows = session.execute(\"SELECT keyspace_name FROM system_schema.keyspaces;\")\n",
    "\n",
    "# แสดงผลลัพธ์\n",
    "print(\"Available Keyspaces:\")\n",
    "for row in rows:\n",
    "    print(\"-\", row.keyspace_name)"
   ]
  },
  {
   "cell_type": "code",
   "execution_count": 4,
   "id": "51e7b20f",
   "metadata": {},
   "outputs": [
    {
     "data": {
      "text/plain": [
       "{'creditLine': 2000000000.0,\n",
       " 'excessEquity': 2000000000.0,\n",
       " 'cashBalance': 2000000000.0,\n",
       " 'equity': 2000000000.0,\n",
       " 'totalMR': 0.0,\n",
       " 'totalMM': 0.0,\n",
       " 'totalFM': 0.0,\n",
       " 'callForceFlag': 'No',\n",
       " 'callForceMargin': 0.0,\n",
       " 'liquidationValue': 2000000000.0,\n",
       " 'depositWithdrawal': 0.0,\n",
       " 'callForceMarginMM': 0.0,\n",
       " 'initialMargin': 0.0,\n",
       " 'closingMethod': 'Auto Net'}"
      ]
     },
     "execution_count": 4,
     "metadata": {},
     "output_type": "execute_result"
    }
   ],
   "source": [
    "import settrade_v2\n",
    "from settrade_v2 import Investor\n",
    "\n",
    "investor = Investor(\n",
    "                app_id=\"ZGCsmM0t5c9VMLRJ\",                                 \n",
    "                app_secret=\"T5eQ70WLmOWDpVvV7jicJtspuBR2A361nzVGmR8xTF4=\", \n",
    "                broker_id=\"SANDBOX\",\n",
    "                app_code=\"SANDBOX\",\n",
    "                is_auto_queue = False)\n",
    "\n",
    "deri = investor.Derivatives(account_no=\"Hilman-D\")            \n",
    "\n",
    "account_info = deri.get_account_info()\n",
    "\n",
    "account_info    "
   ]
  },
  {
   "cell_type": "code",
   "execution_count": 5,
   "id": "87d062a3",
   "metadata": {},
   "outputs": [
    {
     "name": "stdout",
     "output_type": "stream",
     "text": [
      "{'instrumentType': 'STOCK', 'symbol': 'TRUBB', 'high': None, 'low': None, 'last': None, 'average': None, 'change': None, 'percentChange': None, 'totalVolume': 0, 'totalBuyVolume': 0, 'totalSellVolume': 0, 'totalNoSideVolume': 0, 'status': '', 'marketStatus': 'Close', 'securityType': 'CS', 'eps': -0.26896, 'pe': 0.0, 'pbv': 0.17, 'percentYield': 0.0, 'maturityDate': None, 'exercisePrice': None, 'underlying': None, 'underlyingPrice': None, 'intrinsicValue': None, 'theoretical': None, 'moneyness': None, 'lastTradingDate': None, 'toLastTrade': None, 'exerciseRatio': None, 'impliedVolatility': None, 'exchange': None, 'aumSize': None, 'inav': None}\n"
     ]
    }
   ],
   "source": [
    "#Get Symbol\n",
    "mkt_data = investor.MarketData()\n",
    "res = mkt_data.get_quote_symbol(\"TRUBB\")\n",
    "print(res)"
   ]
  },
  {
   "cell_type": "code",
   "execution_count": 6,
   "id": "dc3eb614",
   "metadata": {},
   "outputs": [],
   "source": [
    "#Get Candlestick\n",
    "market = investor.MarketData()\n",
    "res = market.get_candlestick(\n",
    "symbol=\"TRUBB\",\n",
    "interval=\"1d\",\n",
    "limit=1,\n",
    "normalized=True,)"
   ]
  },
  {
   "cell_type": "code",
   "execution_count": 7,
   "id": "730b5b2d",
   "metadata": {},
   "outputs": [
    {
     "data": {
      "text/html": [
       "<div>\n",
       "<style scoped>\n",
       "    .dataframe tbody tr th:only-of-type {\n",
       "        vertical-align: middle;\n",
       "    }\n",
       "\n",
       "    .dataframe tbody tr th {\n",
       "        vertical-align: top;\n",
       "    }\n",
       "\n",
       "    .dataframe thead th {\n",
       "        text-align: right;\n",
       "    }\n",
       "</style>\n",
       "<table border=\"1\" class=\"dataframe\">\n",
       "  <thead>\n",
       "    <tr style=\"text-align: right;\">\n",
       "      <th></th>\n",
       "      <th>lastSequence</th>\n",
       "      <th>time</th>\n",
       "      <th>open</th>\n",
       "      <th>high</th>\n",
       "      <th>low</th>\n",
       "      <th>close</th>\n",
       "      <th>volume</th>\n",
       "      <th>value</th>\n",
       "    </tr>\n",
       "  </thead>\n",
       "  <tbody>\n",
       "    <tr>\n",
       "      <th>0</th>\n",
       "      <td>0</td>\n",
       "      <td>1746637200</td>\n",
       "      <td>0.61</td>\n",
       "      <td>0.62</td>\n",
       "      <td>0.6</td>\n",
       "      <td>0.62</td>\n",
       "      <td>203921</td>\n",
       "      <td>124374.8</td>\n",
       "    </tr>\n",
       "  </tbody>\n",
       "</table>\n",
       "</div>"
      ],
      "text/plain": [
       "   lastSequence        time  open  high  low  close  volume     value\n",
       "0             0  1746637200  0.61  0.62  0.6   0.62  203921  124374.8"
      ]
     },
     "execution_count": 7,
     "metadata": {},
     "output_type": "execute_result"
    }
   ],
   "source": [
    "# 👀 ตรวจสอบก่อนว่า res เป็น dict และมี key 'data' หรือไม่\n",
    "if isinstance(res, dict) and \"data\" in res:\n",
    "    raw_data = res[\"data\"]\n",
    "else:\n",
    "    raw_data = res  # กรณี res เป็น list เลย\n",
    "df = pd.DataFrame(raw_data)\n",
    "df"
   ]
  },
  {
   "cell_type": "code",
   "execution_count": 8,
   "id": "8dda5809",
   "metadata": {},
   "outputs": [
    {
     "data": {
      "text/plain": [
       "Index(['lastSequence', 'time', 'open', 'high', 'low', 'close', 'volume',\n",
       "       'value'],\n",
       "      dtype='object')"
      ]
     },
     "execution_count": 8,
     "metadata": {},
     "output_type": "execute_result"
    }
   ],
   "source": [
    "df.columns"
   ]
  },
  {
   "cell_type": "code",
   "execution_count": 9,
   "id": "63d2cbde",
   "metadata": {},
   "outputs": [
    {
     "data": {
      "application/vnd.plotly.v1+json": {
       "config": {
        "plotlyServerURL": "https://plot.ly"
       },
       "data": [
        {
         "close": {
          "bdata": "16NwPQrX4z8=",
          "dtype": "f8"
         },
         "high": {
          "bdata": "16NwPQrX4z8=",
          "dtype": "f8"
         },
         "low": {
          "bdata": "MzMzMzMz4z8=",
          "dtype": "f8"
         },
         "name": "Candlestick",
         "open": {
          "bdata": "hetRuB6F4z8=",
          "dtype": "f8"
         },
         "type": "candlestick",
         "x": [
          "1970-01-01T00:00:01.746637200"
         ]
        },
        {
         "marker": {
          "color": "rgba(150,150,150,0.3)"
         },
         "name": "Volume",
         "type": "bar",
         "x": [
          "1970-01-01T00:00:01.746637200"
         ],
         "y": {
          "bdata": "kRwDAA==",
          "dtype": "i4"
         },
         "yaxis": "y2"
        }
       ],
       "layout": {
        "height": 600,
        "template": {
         "data": {
          "bar": [
           {
            "error_x": {
             "color": "#2a3f5f"
            },
            "error_y": {
             "color": "#2a3f5f"
            },
            "marker": {
             "line": {
              "color": "#E5ECF6",
              "width": 0.5
             },
             "pattern": {
              "fillmode": "overlay",
              "size": 10,
              "solidity": 0.2
             }
            },
            "type": "bar"
           }
          ],
          "barpolar": [
           {
            "marker": {
             "line": {
              "color": "#E5ECF6",
              "width": 0.5
             },
             "pattern": {
              "fillmode": "overlay",
              "size": 10,
              "solidity": 0.2
             }
            },
            "type": "barpolar"
           }
          ],
          "carpet": [
           {
            "aaxis": {
             "endlinecolor": "#2a3f5f",
             "gridcolor": "white",
             "linecolor": "white",
             "minorgridcolor": "white",
             "startlinecolor": "#2a3f5f"
            },
            "baxis": {
             "endlinecolor": "#2a3f5f",
             "gridcolor": "white",
             "linecolor": "white",
             "minorgridcolor": "white",
             "startlinecolor": "#2a3f5f"
            },
            "type": "carpet"
           }
          ],
          "choropleth": [
           {
            "colorbar": {
             "outlinewidth": 0,
             "ticks": ""
            },
            "type": "choropleth"
           }
          ],
          "contour": [
           {
            "colorbar": {
             "outlinewidth": 0,
             "ticks": ""
            },
            "colorscale": [
             [
              0,
              "#0d0887"
             ],
             [
              0.1111111111111111,
              "#46039f"
             ],
             [
              0.2222222222222222,
              "#7201a8"
             ],
             [
              0.3333333333333333,
              "#9c179e"
             ],
             [
              0.4444444444444444,
              "#bd3786"
             ],
             [
              0.5555555555555556,
              "#d8576b"
             ],
             [
              0.6666666666666666,
              "#ed7953"
             ],
             [
              0.7777777777777778,
              "#fb9f3a"
             ],
             [
              0.8888888888888888,
              "#fdca26"
             ],
             [
              1,
              "#f0f921"
             ]
            ],
            "type": "contour"
           }
          ],
          "contourcarpet": [
           {
            "colorbar": {
             "outlinewidth": 0,
             "ticks": ""
            },
            "type": "contourcarpet"
           }
          ],
          "heatmap": [
           {
            "colorbar": {
             "outlinewidth": 0,
             "ticks": ""
            },
            "colorscale": [
             [
              0,
              "#0d0887"
             ],
             [
              0.1111111111111111,
              "#46039f"
             ],
             [
              0.2222222222222222,
              "#7201a8"
             ],
             [
              0.3333333333333333,
              "#9c179e"
             ],
             [
              0.4444444444444444,
              "#bd3786"
             ],
             [
              0.5555555555555556,
              "#d8576b"
             ],
             [
              0.6666666666666666,
              "#ed7953"
             ],
             [
              0.7777777777777778,
              "#fb9f3a"
             ],
             [
              0.8888888888888888,
              "#fdca26"
             ],
             [
              1,
              "#f0f921"
             ]
            ],
            "type": "heatmap"
           }
          ],
          "histogram": [
           {
            "marker": {
             "pattern": {
              "fillmode": "overlay",
              "size": 10,
              "solidity": 0.2
             }
            },
            "type": "histogram"
           }
          ],
          "histogram2d": [
           {
            "colorbar": {
             "outlinewidth": 0,
             "ticks": ""
            },
            "colorscale": [
             [
              0,
              "#0d0887"
             ],
             [
              0.1111111111111111,
              "#46039f"
             ],
             [
              0.2222222222222222,
              "#7201a8"
             ],
             [
              0.3333333333333333,
              "#9c179e"
             ],
             [
              0.4444444444444444,
              "#bd3786"
             ],
             [
              0.5555555555555556,
              "#d8576b"
             ],
             [
              0.6666666666666666,
              "#ed7953"
             ],
             [
              0.7777777777777778,
              "#fb9f3a"
             ],
             [
              0.8888888888888888,
              "#fdca26"
             ],
             [
              1,
              "#f0f921"
             ]
            ],
            "type": "histogram2d"
           }
          ],
          "histogram2dcontour": [
           {
            "colorbar": {
             "outlinewidth": 0,
             "ticks": ""
            },
            "colorscale": [
             [
              0,
              "#0d0887"
             ],
             [
              0.1111111111111111,
              "#46039f"
             ],
             [
              0.2222222222222222,
              "#7201a8"
             ],
             [
              0.3333333333333333,
              "#9c179e"
             ],
             [
              0.4444444444444444,
              "#bd3786"
             ],
             [
              0.5555555555555556,
              "#d8576b"
             ],
             [
              0.6666666666666666,
              "#ed7953"
             ],
             [
              0.7777777777777778,
              "#fb9f3a"
             ],
             [
              0.8888888888888888,
              "#fdca26"
             ],
             [
              1,
              "#f0f921"
             ]
            ],
            "type": "histogram2dcontour"
           }
          ],
          "mesh3d": [
           {
            "colorbar": {
             "outlinewidth": 0,
             "ticks": ""
            },
            "type": "mesh3d"
           }
          ],
          "parcoords": [
           {
            "line": {
             "colorbar": {
              "outlinewidth": 0,
              "ticks": ""
             }
            },
            "type": "parcoords"
           }
          ],
          "pie": [
           {
            "automargin": true,
            "type": "pie"
           }
          ],
          "scatter": [
           {
            "fillpattern": {
             "fillmode": "overlay",
             "size": 10,
             "solidity": 0.2
            },
            "type": "scatter"
           }
          ],
          "scatter3d": [
           {
            "line": {
             "colorbar": {
              "outlinewidth": 0,
              "ticks": ""
             }
            },
            "marker": {
             "colorbar": {
              "outlinewidth": 0,
              "ticks": ""
             }
            },
            "type": "scatter3d"
           }
          ],
          "scattercarpet": [
           {
            "marker": {
             "colorbar": {
              "outlinewidth": 0,
              "ticks": ""
             }
            },
            "type": "scattercarpet"
           }
          ],
          "scattergeo": [
           {
            "marker": {
             "colorbar": {
              "outlinewidth": 0,
              "ticks": ""
             }
            },
            "type": "scattergeo"
           }
          ],
          "scattergl": [
           {
            "marker": {
             "colorbar": {
              "outlinewidth": 0,
              "ticks": ""
             }
            },
            "type": "scattergl"
           }
          ],
          "scattermap": [
           {
            "marker": {
             "colorbar": {
              "outlinewidth": 0,
              "ticks": ""
             }
            },
            "type": "scattermap"
           }
          ],
          "scattermapbox": [
           {
            "marker": {
             "colorbar": {
              "outlinewidth": 0,
              "ticks": ""
             }
            },
            "type": "scattermapbox"
           }
          ],
          "scatterpolar": [
           {
            "marker": {
             "colorbar": {
              "outlinewidth": 0,
              "ticks": ""
             }
            },
            "type": "scatterpolar"
           }
          ],
          "scatterpolargl": [
           {
            "marker": {
             "colorbar": {
              "outlinewidth": 0,
              "ticks": ""
             }
            },
            "type": "scatterpolargl"
           }
          ],
          "scatterternary": [
           {
            "marker": {
             "colorbar": {
              "outlinewidth": 0,
              "ticks": ""
             }
            },
            "type": "scatterternary"
           }
          ],
          "surface": [
           {
            "colorbar": {
             "outlinewidth": 0,
             "ticks": ""
            },
            "colorscale": [
             [
              0,
              "#0d0887"
             ],
             [
              0.1111111111111111,
              "#46039f"
             ],
             [
              0.2222222222222222,
              "#7201a8"
             ],
             [
              0.3333333333333333,
              "#9c179e"
             ],
             [
              0.4444444444444444,
              "#bd3786"
             ],
             [
              0.5555555555555556,
              "#d8576b"
             ],
             [
              0.6666666666666666,
              "#ed7953"
             ],
             [
              0.7777777777777778,
              "#fb9f3a"
             ],
             [
              0.8888888888888888,
              "#fdca26"
             ],
             [
              1,
              "#f0f921"
             ]
            ],
            "type": "surface"
           }
          ],
          "table": [
           {
            "cells": {
             "fill": {
              "color": "#EBF0F8"
             },
             "line": {
              "color": "white"
             }
            },
            "header": {
             "fill": {
              "color": "#C8D4E3"
             },
             "line": {
              "color": "white"
             }
            },
            "type": "table"
           }
          ]
         },
         "layout": {
          "annotationdefaults": {
           "arrowcolor": "#2a3f5f",
           "arrowhead": 0,
           "arrowwidth": 1
          },
          "autotypenumbers": "strict",
          "coloraxis": {
           "colorbar": {
            "outlinewidth": 0,
            "ticks": ""
           }
          },
          "colorscale": {
           "diverging": [
            [
             0,
             "#8e0152"
            ],
            [
             0.1,
             "#c51b7d"
            ],
            [
             0.2,
             "#de77ae"
            ],
            [
             0.3,
             "#f1b6da"
            ],
            [
             0.4,
             "#fde0ef"
            ],
            [
             0.5,
             "#f7f7f7"
            ],
            [
             0.6,
             "#e6f5d0"
            ],
            [
             0.7,
             "#b8e186"
            ],
            [
             0.8,
             "#7fbc41"
            ],
            [
             0.9,
             "#4d9221"
            ],
            [
             1,
             "#276419"
            ]
           ],
           "sequential": [
            [
             0,
             "#0d0887"
            ],
            [
             0.1111111111111111,
             "#46039f"
            ],
            [
             0.2222222222222222,
             "#7201a8"
            ],
            [
             0.3333333333333333,
             "#9c179e"
            ],
            [
             0.4444444444444444,
             "#bd3786"
            ],
            [
             0.5555555555555556,
             "#d8576b"
            ],
            [
             0.6666666666666666,
             "#ed7953"
            ],
            [
             0.7777777777777778,
             "#fb9f3a"
            ],
            [
             0.8888888888888888,
             "#fdca26"
            ],
            [
             1,
             "#f0f921"
            ]
           ],
           "sequentialminus": [
            [
             0,
             "#0d0887"
            ],
            [
             0.1111111111111111,
             "#46039f"
            ],
            [
             0.2222222222222222,
             "#7201a8"
            ],
            [
             0.3333333333333333,
             "#9c179e"
            ],
            [
             0.4444444444444444,
             "#bd3786"
            ],
            [
             0.5555555555555556,
             "#d8576b"
            ],
            [
             0.6666666666666666,
             "#ed7953"
            ],
            [
             0.7777777777777778,
             "#fb9f3a"
            ],
            [
             0.8888888888888888,
             "#fdca26"
            ],
            [
             1,
             "#f0f921"
            ]
           ]
          },
          "colorway": [
           "#636efa",
           "#EF553B",
           "#00cc96",
           "#ab63fa",
           "#FFA15A",
           "#19d3f3",
           "#FF6692",
           "#B6E880",
           "#FF97FF",
           "#FECB52"
          ],
          "font": {
           "color": "#2a3f5f"
          },
          "geo": {
           "bgcolor": "white",
           "lakecolor": "white",
           "landcolor": "#E5ECF6",
           "showlakes": true,
           "showland": true,
           "subunitcolor": "white"
          },
          "hoverlabel": {
           "align": "left"
          },
          "hovermode": "closest",
          "mapbox": {
           "style": "light"
          },
          "paper_bgcolor": "white",
          "plot_bgcolor": "#E5ECF6",
          "polar": {
           "angularaxis": {
            "gridcolor": "white",
            "linecolor": "white",
            "ticks": ""
           },
           "bgcolor": "#E5ECF6",
           "radialaxis": {
            "gridcolor": "white",
            "linecolor": "white",
            "ticks": ""
           }
          },
          "scene": {
           "xaxis": {
            "backgroundcolor": "#E5ECF6",
            "gridcolor": "white",
            "gridwidth": 2,
            "linecolor": "white",
            "showbackground": true,
            "ticks": "",
            "zerolinecolor": "white"
           },
           "yaxis": {
            "backgroundcolor": "#E5ECF6",
            "gridcolor": "white",
            "gridwidth": 2,
            "linecolor": "white",
            "showbackground": true,
            "ticks": "",
            "zerolinecolor": "white"
           },
           "zaxis": {
            "backgroundcolor": "#E5ECF6",
            "gridcolor": "white",
            "gridwidth": 2,
            "linecolor": "white",
            "showbackground": true,
            "ticks": "",
            "zerolinecolor": "white"
           }
          },
          "shapedefaults": {
           "line": {
            "color": "#2a3f5f"
           }
          },
          "ternary": {
           "aaxis": {
            "gridcolor": "white",
            "linecolor": "white",
            "ticks": ""
           },
           "baxis": {
            "gridcolor": "white",
            "linecolor": "white",
            "ticks": ""
           },
           "bgcolor": "#E5ECF6",
           "caxis": {
            "gridcolor": "white",
            "linecolor": "white",
            "ticks": ""
           }
          },
          "title": {
           "x": 0.05
          },
          "xaxis": {
           "automargin": true,
           "gridcolor": "white",
           "linecolor": "white",
           "ticks": "",
           "title": {
            "standoff": 15
           },
           "zerolinecolor": "white",
           "zerolinewidth": 2
          },
          "yaxis": {
           "automargin": true,
           "gridcolor": "white",
           "linecolor": "white",
           "ticks": "",
           "title": {
            "standoff": 15
           },
           "zerolinecolor": "white",
           "zerolinewidth": 2
          }
         }
        },
        "title": {
         "text": "กราฟแท่งเทียนหุ้น (จาก Settrade API)"
        },
        "xaxis": {
         "rangeslider": {
          "visible": false
         }
        },
        "yaxis": {
         "title": {
          "text": "ราคา"
         }
        },
        "yaxis2": {
         "overlaying": "y",
         "showgrid": false,
         "side": "right",
         "title": {
          "text": "Volume"
         }
        }
       }
      }
     },
     "metadata": {},
     "output_type": "display_data"
    }
   ],
   "source": [
    "# แปลงวันที่ให้เป็น datetime object\n",
    "df[\"time\"] = pd.to_datetime(df[\"time\"])\n",
    "df.set_index(\"time\", inplace=True)\n",
    "\n",
    "# วาดกราฟ\n",
    "fig = go.Figure()\n",
    "\n",
    "fig.add_trace(go.Candlestick(\n",
    "    x=df.index,\n",
    "    open=df[\"open\"],\n",
    "    high=df[\"high\"],\n",
    "    low=df[\"low\"],\n",
    "    close=df[\"close\"],\n",
    "    name=\"Candlestick\"\n",
    "))\n",
    "\n",
    "fig.add_trace(go.Bar(\n",
    "    x=df.index,\n",
    "    y=df[\"volume\"],\n",
    "    name=\"Volume\",\n",
    "    yaxis='y2',\n",
    "    marker_color='rgba(150,150,150,0.3)'\n",
    "))\n",
    "\n",
    "fig.update_layout(\n",
    "    title=\"กราฟแท่งเทียนหุ้น (จาก Settrade API)\",\n",
    "    xaxis_rangeslider_visible=False,\n",
    "    yaxis=dict(title=\"ราคา\"),\n",
    "    yaxis2=dict(title=\"Volume\", overlaying=\"y\", side=\"right\", showgrid=False),\n",
    "    height=600,\n",
    ")\n",
    "\n",
    "fig.show()"
   ]
  },
  {
   "cell_type": "code",
   "execution_count": 15,
   "id": "9d01be2b",
   "metadata": {},
   "outputs": [],
   "source": [
    "keyspace_name = 'stock_data'\n",
    "\n",
    "session.execute(f\"CREATE KEYSPACE IF NOT EXISTS {keyspace_name} WITH REPLICATION = {{ 'class': 'SimpleStrategy', 'replication_factor': 1 }};\")\n",
    "session.set_keyspace(keyspace_name)\n",
    "\n"
   ]
  },
  {
   "cell_type": "code",
   "execution_count": null,
   "id": "564ae8d1",
   "metadata": {},
   "outputs": [],
   "source": []
  },
  {
   "cell_type": "code",
   "execution_count": 16,
   "id": "bef5a44c",
   "metadata": {},
   "outputs": [
    {
     "name": "stdout",
     "output_type": "stream",
     "text": [
      "Available Keyspaces:\n",
      "- system_auth\n",
      "- system_schema\n",
      "- system_distributed\n",
      "- system\n",
      "- system_traces\n",
      "- stock_data\n"
     ]
    }
   ],
   "source": [
    "# ดึง keyspace ทั้งหมด\n",
    "rows = session.execute(\"SELECT keyspace_name FROM system_schema.keyspaces;\")\n",
    "\n",
    "# แสดงผลลัพธ์\n",
    "print(\"Available Keyspaces:\")\n",
    "for row in rows:\n",
    "    print(\"-\", row.keyspace_name)"
   ]
  },
  {
   "cell_type": "code",
   "execution_count": 17,
   "id": "644d0dcd",
   "metadata": {},
   "outputs": [],
   "source": [
    "insert_query = \"\"\"\n",
    "INSERT INTO stock_data.candlestick_data (\n",
    "    symbol, aumSize, average, change, eps, exchange,\n",
    "    exercisePrice, exerciseRatio, high, impliedVolatility,\n",
    "    inav, instrumentType, intrinsicValue, last, lastTradingDate,\n",
    "    low, marketStatus, maturityDate, moneyness, pbv,\n",
    "    pe, percentChange, percentYield, securityType, theoretical,\n",
    "    toLastTrade, totalVolume, underlying, underlyingPrice\n",
    ") VALUES (?, ?, ?, ?, ?, ?, ?, ?, ?, ?, ?, ?, ?, ?, ?, ?, ?, ?, ?, ?, ?, ?, ?, ?, ?, ?, ?, ?, ?);\n",
    "\"\"\""
   ]
  },
  {
   "cell_type": "code",
   "execution_count": 18,
   "id": "efc1a3f2",
   "metadata": {},
   "outputs": [
    {
     "name": "stdout",
     "output_type": "stream",
     "text": [
      "{'instrumentType': 'STOCK', 'symbol': 'TRUBB', 'high': None, 'low': None, 'last': None, 'average': None, 'change': None, 'percentChange': None, 'totalVolume': 0, 'totalBuyVolume': 0, 'totalSellVolume': 0, 'totalNoSideVolume': 0, 'status': '', 'marketStatus': 'Close', 'securityType': 'CS', 'eps': -0.26896, 'pe': 0.0, 'pbv': 0.17, 'percentYield': 0.0, 'maturityDate': None, 'exercisePrice': None, 'underlying': None, 'underlyingPrice': None, 'intrinsicValue': None, 'theoretical': None, 'moneyness': None, 'lastTradingDate': None, 'toLastTrade': None, 'exerciseRatio': None, 'impliedVolatility': None, 'exchange': None, 'aumSize': None, 'inav': None}\n"
     ]
    }
   ],
   "source": [
    "#Get Symbol\n",
    "mkt_data = investor.MarketData()\n",
    "res = mkt_data.get_quote_symbol(\"TRUBB\")\n",
    "print(res)"
   ]
  },
  {
   "cell_type": "code",
   "execution_count": 19,
   "id": "525fb9b3",
   "metadata": {},
   "outputs": [
    {
     "name": "stdout",
     "output_type": "stream",
     "text": [
      "❌ Insert failed: not all arguments converted during string formatting\n"
     ]
    }
   ],
   "source": [
    "from datetime import datetime\n",
    "\n",
    "# ฟังก์ชันแปลงค่าเป็นวันที่\n",
    "def to_date(val):\n",
    "    try:\n",
    "        return datetime.strptime(val, \"%Y-%m-%d\").date() if val else None\n",
    "    except Exception as e:\n",
    "        print(f\"Error parsing date: {e}\")\n",
    "        return None\n",
    "try:\n",
    "    session.execute(insert_query, (\n",
    "        res.get(\"symbol\"),\n",
    "        res.get(\"aumSize\"),\n",
    "        res.get(\"average\"),\n",
    "        res.get(\"change\"),\n",
    "        res.get(\"eps\"),\n",
    "        res.get(\"exchange\"),\n",
    "        res.get(\"exercisePrice\"),\n",
    "        res.get(\"exerciseRatio\"),\n",
    "        res.get(\"high\"),\n",
    "        res.get(\"impliedVolatility\"),\n",
    "        res.get(\"inav\"),\n",
    "        res.get(\"instrumentType\"),\n",
    "        res.get(\"intrinsicValue\"),\n",
    "        res.get(\"last\"),\n",
    "        to_date(res.get(\"lastTradingDate\")),  # แปลงวันที่\n",
    "        res.get(\"low\"),\n",
    "        res.get(\"marketStatus\"),\n",
    "        to_date(res.get(\"maturityDate\")),  # แปลงวันที่\n",
    "        res.get(\"moneyness\"),\n",
    "        res.get(\"pbv\"),\n",
    "        res.get(\"pe\"),\n",
    "        res.get(\"percentChange\"),\n",
    "        res.get(\"percentYield\"),\n",
    "        res.get(\"securityType\"),\n",
    "        res.get(\"theoretical\"),\n",
    "        res.get(\"toLastTrade\"),\n",
    "        res.get(\"totalVolume\"),\n",
    "        res.get(\"underlying\"),\n",
    "        res.get(\"underlyingPrice\")\n",
    "    ))\n",
    "    print(\"✅ Inserted TRUBB data successfully.\")\n",
    "except Exception as e:\n",
    "    print(\"❌ Insert failed:\", e)"
   ]
  }
 ],
 "metadata": {
  "kernelspec": {
   "display_name": "Python 3",
   "language": "python",
   "name": "python3"
  },
  "language_info": {
   "codemirror_mode": {
    "name": "ipython",
    "version": 3
   },
   "file_extension": ".py",
   "mimetype": "text/x-python",
   "name": "python",
   "nbconvert_exporter": "python",
   "pygments_lexer": "ipython3",
   "version": "3.11.5"
  }
 },
 "nbformat": 4,
 "nbformat_minor": 5
}
