{
 "cells": [
  {
   "cell_type": "markdown",
   "id": "91729a4a",
   "metadata": {},
   "source": []
  },
  {
   "cell_type": "code",
   "execution_count": 1,
   "id": "241e32d6",
   "metadata": {},
   "outputs": [],
   "source": [
    "import pandas as pd\n",
    "import numpy as np\n",
    "import plotly.graph_objects as go\n",
    "from cassandra.cluster import Cluster\n",
    "from datetime import datetime\n",
    "import time\n",
    "\n",
    "# 🚨 เพิ่ม importlib สำหรับการ reload\n",
    "import importlib\n",
    "\n",
    "# ==========================================================\n",
    "# 1️⃣ Import Libraries และ Logic Files\n",
    "# ==========================================================\n",
    "import detect_wyckoff\n",
    "import detect_flags\n",
    "\n",
    "# 🚨 บังคับให้โหลดไฟล์ Logic ใหม่ (ป้องกันการใช้โค้ดเก่า)\n",
    "importlib.reload(detect_wyckoff)\n",
    "importlib.reload(detect_flags)\n",
    "\n",
    "# ดึงฟังก์ชันมาจากไฟล์ที่เพิ่งถูก reload\n",
    "from detect_wyckoff import detect_wyckoff_events\n",
    "from detect_flags import detect_flag_patterns\n",
    "\n",
    "# ==========================================================\n",
    "# ฟังก์ชันดึงข้อมูลจาก Cassandra\n",
    "# ==========================================================\n",
    "def get_candlestick_data(symbol: str, days: int = 30) -> pd.DataFrame:\n",
    "    \"\"\"ดึงข้อมูลราคาและ Volume จาก Cassandra และเปลี่ยนชื่อคอลัมน์ให้เป็นชื่อสั้น\"\"\"\n",
    "    \n",
    "    # ⚠️ ตรวจสอบว่า Cassandra Server ได้รันอยู่ (127.0.0.1:9042)\n",
    "    # (โค้ดเชื่อมต่อ Cassandra เหมือนเดิม...)\n",
    "    cluster = Cluster(['127.0.0.1'], port=9042)\n",
    "    session = cluster.connect('data_stock')\n",
    "    \n",
    "    end_time = datetime.now()\n",
    "    start_time = end_time - pd.Timedelta(days=days)\n",
    "    \n",
    "    # ใช้ ALIAS ใน CQL query เพื่อแปลงชื่อคอลัมน์\n",
    "    query = f\"\"\"\n",
    "    SELECT time, open_price AS open, high_price AS high, low_price AS low, close_price AS close, volume \n",
    "    FROM candlestick_data \n",
    "    WHERE symbol = '{symbol}' AND time >= %s ALLOW FILTERING;\n",
    "    \"\"\"\n",
    "    \n",
    "    rows = session.execute(query, [start_time])\n",
    "    \n",
    "    df = pd.DataFrame(list(rows))\n",
    "    if df.empty:\n",
    "        raise ValueError(f\"ไม่พบข้อมูลสำหรับสัญลักษณ์ '{symbol}' ในช่วง {days} วัน\")\n",
    "        \n",
    "    df.set_index('time', inplace=True)\n",
    "    df.index = pd.to_datetime(df.index)\n",
    "    \n",
    "    return df.sort_index()"
   ]
  },
  {
   "cell_type": "code",
   "execution_count": 2,
   "id": "f4e7b9a8",
   "metadata": {},
   "outputs": [],
   "source": [
    "# ==========================================================\n",
    "# ฟังก์ชันวาดกราฟ Plotly Candlestick (พื้นฐาน)\n",
    "# ==========================================================\n",
    "def create_candlestick_fig(df: pd.DataFrame, symbol: str, title_suffix: str = \"\") -> go.Figure:\n",
    "    \"\"\"สร้าง Figure พื้นฐานสำหรับ Candlestick และ Volume\"\"\"\n",
    "    fig = go.Figure()\n",
    "    \n",
    "    # 🔹 แท่งเทียนราคา\n",
    "    fig.add_trace(go.Candlestick(\n",
    "        x=df.index,\n",
    "        open=df['open'],\n",
    "        high=df['high'],\n",
    "        low=df['low'],\n",
    "        close=df['close'],\n",
    "        name='Price'\n",
    "    ))\n",
    "    \n",
    "    # 🔹 Volume bar\n",
    "    fig.add_trace(go.Bar(\n",
    "        x=df.index,\n",
    "        y=df['volume'],\n",
    "        marker_color='rgba(128,128,128,0.3)',\n",
    "        yaxis='y2', \n",
    "        name='Volume'\n",
    "    ))\n",
    "    \n",
    "    # 🔹 ปรับ Layout\n",
    "    fig.update_layout(\n",
    "        title=f'📈 {symbol} - Candlestick Chart {title_suffix}',\n",
    "        xaxis_rangeslider_visible=False,\n",
    "        xaxis=dict(type='date'),\n",
    "        yaxis=dict(title='Price'),\n",
    "        yaxis2=dict(\n",
    "            title='Volume',\n",
    "            overlaying='y',\n",
    "            side='right',\n",
    "            showgrid=False,\n",
    "            domain=[0, 0.2] \n",
    "        ),\n",
    "        yaxis1=dict(domain=[0.2, 1]),\n",
    "        height=700,\n",
    "        template='plotly_white'\n",
    "    )\n",
    "    return fig\n",
    "\n",
    "# ==========================================================\n",
    "# ฟังก์ชันวาด Wyckoff Cycle บน Plotly (ใช้ go.Figure)\n",
    "# ==========================================================\n",
    "def plot_wyckoff_cycle(df: pd.DataFrame, events: dict, symbol: str):\n",
    "    fig = create_candlestick_fig(df, symbol, title_suffix=\"with Wyckoff Cycle\")\n",
    "\n",
    "    # ------------------------------------------------------------------\n",
    "    # 1. วาด Wyckoff Cycle 4 ระยะ (Accumulation, Markup, Distribution, Markdown)\n",
    "    # ------------------------------------------------------------------\n",
    "    for pattern in events['WYCKOFF_CYCLE']:\n",
    "        start_time = df.index[pattern['start_idx']]\n",
    "        end_time = df.index[pattern['end_idx']]\n",
    "        \n",
    "        if pattern['phase'] == \"ACCUMULATION\" or pattern['phase'] == \"MARKUP\":\n",
    "            color = 'green'\n",
    "        else: # DISTRIBUTION, MARKDOWN\n",
    "            color = 'red'\n",
    "\n",
    "        # วาดแถบพื้นหลัง (Vertical Span)\n",
    "        fig.add_vrect(\n",
    "            x0=start_time, x1=end_time,\n",
    "            fillcolor=color, \n",
    "            opacity=0.1 if 'TR' in pattern['phase'] else 0.25, # TR Zone จะทึบน้อยกว่า\n",
    "            layer=\"below\", line_width=0\n",
    "        )\n",
    "        \n",
    "        # กำกับข้อความ\n",
    "        y_pos = df['high'].max() if pattern['phase'] in [\"ACCUMULATION\", \"MARKUP\"] else df['low'].min()\n",
    "        y_shift = 10 if pattern['phase'] in [\"ACCUMULATION\", \"MARKUP\"] else -10\n",
    "        \n",
    "        fig.add_annotation(\n",
    "            x=start_time, y=y_pos, text=pattern['phase'],\n",
    "            showarrow=False,\n",
    "            font=dict(color='dark' + color, size=10, weight='bold'),\n",
    "            yshift=y_shift\n",
    "        )\n",
    "\n",
    "    # ------------------------------------------------------------------\n",
    "    # 2. วาดจุดเหตุการณ์สำคัญ (SC, BC, Spring, UTAD)\n",
    "    # ------------------------------------------------------------------\n",
    "    \n",
    "    def add_event_markers(indices, name, color, is_low_point):\n",
    "        if not indices: return\n",
    "        event_df = df.iloc[indices]\n",
    "        y_data = event_df['low'] if is_low_point else event_df['high']\n",
    "        \n",
    "        fig.add_trace(go.Scatter(\n",
    "            x=event_df.index, y=y_data,\n",
    "            mode='markers+text',\n",
    "            marker=dict(symbol='circle', size=10, color=color, line=dict(width=2, color=color)),\n",
    "            text=[name] * len(indices),\n",
    "            textposition='top center' if not is_low_point else 'bottom center',\n",
    "            textfont=dict(color=color, size=12),\n",
    "            name=name\n",
    "        ))\n",
    "\n",
    "    add_event_markers(events['SC'], 'SC', 'green', True)\n",
    "    add_event_markers(events['BC'], 'BC', 'red', False)\n",
    "    add_event_markers(events['Spring'], 'Spring', 'purple', True)\n",
    "    add_event_markers(events['UTAD'], 'UTAD', 'orange', False)\n",
    "\n",
    "    fig.show()\n",
    "\n",
    "# ==========================================================\n",
    "# ฟังก์ชันวาด Flag Patterns บน Plotly\n",
    "# ==========================================================\n",
    "def plot_flag_patterns(df: pd.DataFrame, patterns: list, symbol: str):\n",
    "    fig = create_candlestick_fig(df, symbol, title_suffix=\"with Flag Patterns\")\n",
    "\n",
    "    for pattern in patterns:\n",
    "        pole_start = df.index[pattern['pole_start_idx']]\n",
    "        pole_end = df.index[pattern['pole_end_idx']]\n",
    "        flag_start = df.index[pattern['flag_start_idx']]\n",
    "        flag_end = df.index[pattern['flag_end_idx']]\n",
    "        breakout = df.index[pattern['breakout_idx']]\n",
    "        \n",
    "        ptype = pattern['type']\n",
    "        color = 'green' if ptype == \"Bullish Flag\" else 'red'\n",
    "        \n",
    "        # 1. วาด Pole (เสาธง)\n",
    "        fig.add_shape(\n",
    "            type='line',\n",
    "            x0=pole_start, y0=df['close'].loc[pole_start],\n",
    "            x1=pole_end, y1=df['close'].loc[pole_end],\n",
    "            line=dict(color=color, width=3, dash='solid')\n",
    "        )\n",
    "        \n",
    "        # 2. วาด Flag (กรอบพักตัว)\n",
    "        fig.add_vrect(\n",
    "            x0=flag_start, x1=flag_end,\n",
    "            fillcolor=color, opacity=0.15, layer=\"below\", line_width=0\n",
    "        )\n",
    "        \n",
    "        # 3. วาด Breakout Marker\n",
    "        marker_symbol = 'triangle-up' if ptype == \"Bullish Flag\" else 'triangle-down'\n",
    "        \n",
    "        fig.add_trace(go.Scatter(\n",
    "            x=[breakout], y=[df['close'].loc[breakout]],\n",
    "            mode='markers',\n",
    "            marker=dict(symbol=marker_symbol, size=12, color=color),\n",
    "            name=f'{ptype} Breakout',\n",
    "            showlegend=True\n",
    "        ))\n",
    "        \n",
    "        # 4. กำกับข้อความ\n",
    "        fig.add_annotation(\n",
    "            x=flag_end, \n",
    "            y=df['high'].loc[flag_end] if ptype == \"Bullish Flag\" else df['low'].loc[flag_end],\n",
    "            text=ptype,\n",
    "            showarrow=False,\n",
    "            font=dict(color=color, size=10, weight='bold'),\n",
    "            yshift=10 if ptype == \"Bullish Flag\" else -10\n",
    "        )\n",
    "    \n",
    "    fig.show()"
   ]
  },
  {
   "cell_type": "code",
   "execution_count": 3,
   "id": "d43c27ea",
   "metadata": {},
   "outputs": [
    {
     "name": "stdout",
     "output_type": "stream",
     "text": [
      "✅ ดึงข้อมูล AOT ได้ 80 แถวสำหรับ 120 วัน\n",
      "\n",
      "--- 🔎 ตรวจจับ Wyckoff Cycle ---\n",
      "✅ พบ Wyckoff Cycle Phases: 2 ช่วง\n"
     ]
    },
    {
     "name": "stderr",
     "output_type": "stream",
     "text": [
      "/Library/Frameworks/Python.framework/Versions/3.11/lib/python3.11/site-packages/kaleido/__init__.py:14: UserWarning:\n",
      "\n",
      "\n",
      "\n",
      "Warning: You have Plotly version 6.0.1, which is not compatible with this version of Kaleido (1.0.0).\n",
      "\n",
      "This means that static image generation (e.g. `fig.write_image()`) will not work.\n",
      "\n",
      "Please upgrade Plotly to version 6.1.1 or greater, or downgrade Kaleido to version 0.2.1.\n",
      "\n",
      "\n"
     ]
    },
    {
     "data": {
      "application/vnd.plotly.v1+json": {
       "config": {
        "plotlyServerURL": "https://plot.ly"
       },
       "data": [
        {
         "close": {
          "bdata": "AAAAAAAAPUAAAAAAAIA+QAAAAAAAAEBAAAAAAABAP0AAAAAAAIA+QAAAAAAAQD5AAAAAAADAPkAAAAAAAEA+QAAAAAAAQD9AAAAAAABAPkAAAAAAAIA+QAAAAAAAQD5AAAAAAACAPkAAAAAAAMA/QAAAAAAAwEBAAAAAAADgQUAAAAAAACBCQAAAAAAAIERAAAAAAACAQ0AAAAAAAEBDQAAAAAAAwEJAAAAAAABgQ0AAAAAAAIBDQAAAAAAAAEVAAAAAAAAARUAAAAAAACBFQAAAAAAAgERAAAAAAADAQ0AAAAAAAOBDQAAAAAAAwENAAAAAAAAAREAAAAAAAEBEQAAAAAAA4ENAAAAAAAAAREAAAAAAAEBDQAAAAAAAgENAAAAAAADgQkAAAAAAAABDQAAAAAAAAENAAAAAAADgQkAAAAAAAMBCQAAAAAAAAENAAAAAAACAQkAAAAAAAGBCQAAAAAAAYEJAAAAAAAAAQkAAAAAAACBCQAAAAAAAIEJAAAAAAABgQkAAAAAAAKBCQAAAAAAAQENAAAAAAADgQkAAAAAAAEBDQAAAAAAAAENAAAAAAADgQkAAAAAAAEBDQAAAAAAAQENAAAAAAAAAREAAAAAAAMBDQAAAAAAA4ENAAAAAAACAQ0AAAAAAAGBDQAAAAAAAgENAAAAAAADgQ0AAAAAAAABEQAAAAAAAoENAAAAAAADgQ0AAAAAAAEBEQAAAAAAA4ERAAAAAAADgREAAAAAAAMBFQAAAAAAAwERAAAAAAABARUAAAAAAACBFQAAAAAAAgEVAAAAAAACAREAAAAAAAOBDQAAAAAAAYERAAAAAAAAgREAAAAAAAOBEQA==",
          "dtype": "f8"
         },
         "high": {
          "bdata": "AAAAAABAPUAAAAAAAMA+QAAAAAAAYEBAAAAAAAAAQEAAAAAAAEA/QAAAAAAAgD5AAAAAAADAPkAAAAAAAIA+QAAAAAAAQD9AAAAAAABAP0AAAAAAAMA+QAAAAAAAgD5AAAAAAADAPkAAAAAAACBAQAAAAAAAwEBAAAAAAAAAQkAAAAAAAKBCQAAAAAAAQERAAAAAAAAgREAAAAAAAOBDQAAAAAAAoENAAAAAAACgQ0AAAAAAAKBDQAAAAAAAIEVAAAAAAAAgRUAAAAAAAGBFQAAAAAAAIEVAAAAAAADAREAAAAAAAABEQAAAAAAAIERAAAAAAACgREAAAAAAAIBEQAAAAAAAQERAAAAAAABgREAAAAAAAABEQAAAAAAAwENAAAAAAACAQ0AAAAAAAGBDQAAAAAAAIENAAAAAAAAgQ0AAAAAAAABDQAAAAAAAYENAAAAAAAAAQ0AAAAAAAMBCQAAAAAAAoEJAAAAAAABgQkAAAAAAAEBCQAAAAAAAQEJAAAAAAACAQkAAAAAAAGBDQAAAAAAAYENAAAAAAACAQ0AAAAAAAGBDQAAAAAAAQENAAAAAAAAAQ0AAAAAAAIBDQAAAAAAAYENAAAAAAAAAREAAAAAAACBEQAAAAAAAAERAAAAAAAAAREAAAAAAAMBDQAAAAAAA4ENAAAAAAAAAREAAAAAAAABEQAAAAAAA4ENAAAAAAAAAREAAAAAAAGBEQAAAAAAA4ERAAAAAAAAARUAAAAAAAABGQAAAAAAAwEVAAAAAAABgRUAAAAAAAGBFQAAAAAAAgEVAAAAAAACgRUAAAAAAAIBEQAAAAAAAgERAAAAAAADAREAAAAAAAABFQA==",
          "dtype": "f8"
         },
         "low": {
          "bdata": "AAAAAADAO0AAAAAAAAA9QAAAAAAAAD5AAAAAAAAAP0AAAAAAAAA+QAAAAAAAgD1AAAAAAADAPUAAAAAAAMA9QAAAAAAAQD5AAAAAAABAPkAAAAAAAAA+QAAAAAAAwD1AAAAAAAAAPkAAAAAAAMA+QAAAAAAAgD9AAAAAAADgQEAAAAAAAOBBQAAAAAAAIEJAAAAAAAAgQ0AAAAAAAEBDQAAAAAAAoEJAAAAAAADgQkAAAAAAACBDQAAAAAAAYENAAAAAAACAREAAAAAAAMBEQAAAAAAAQERAAAAAAACgQ0AAAAAAAIBDQAAAAAAAoENAAAAAAAAAREAAAAAAAOBDQAAAAAAAwENAAAAAAADAQ0AAAAAAACBDQAAAAAAAQENAAAAAAADAQkAAAAAAAOBCQAAAAAAAgEJAAAAAAACgQkAAAAAAAMBCQAAAAAAAwEJAAAAAAACAQkAAAAAAAEBCQAAAAAAAQEJAAAAAAADgQUAAAAAAAIBBQAAAAAAAAEJAAAAAAADgQUAAAAAAAIBCQAAAAAAAgEJAAAAAAADgQkAAAAAAAOBCQAAAAAAAwEJAAAAAAACAQkAAAAAAAABDQAAAAAAA4EJAAAAAAABAQ0AAAAAAAKBDQAAAAAAAgENAAAAAAABgQ0AAAAAAAEBDQAAAAAAAYENAAAAAAACAQ0AAAAAAAKBDQAAAAAAAgENAAAAAAACgQ0AAAAAAAOBDQAAAAAAAIERAAAAAAACgREAAAAAAAOBEQAAAAAAAgERAAAAAAACgREAAAAAAAABFQAAAAAAA4ERAAAAAAABgREAAAAAAAKBDQAAAAAAA4ENAAAAAAAAAREAAAAAAAKBEQA==",
          "dtype": "f8"
         },
         "name": "Price",
         "open": {
          "bdata": "AAAAAAAAPEAAAAAAAMA9QAAAAAAAQD5AAAAAAADAP0AAAAAAAEA/QAAAAAAAgD5AAAAAAABAPkAAAAAAAEA+QAAAAAAAQD5AAAAAAABAP0AAAAAAAEA+QAAAAAAAQD5AAAAAAABAPkAAAAAAAMA+QAAAAAAAgD9AAAAAAAAgQUAAAAAAAABCQAAAAAAAYEJAAAAAAAAAREAAAAAAAKBDQAAAAAAAgENAAAAAAAAAQ0AAAAAAAEBDQAAAAAAAgENAAAAAAAAARUAAAAAAAABFQAAAAAAAAEVAAAAAAACgREAAAAAAAMBDQAAAAAAA4ENAAAAAAACgREAAAAAAAABEQAAAAAAAIERAAAAAAAAAREAAAAAAAOBDQAAAAAAAQENAAAAAAABgQ0AAAAAAAOBCQAAAAAAA4EJAAAAAAAAgQ0AAAAAAAOBCQAAAAAAAAENAAAAAAADAQkAAAAAAAIBCQAAAAAAAYEJAAAAAAABAQkAAAAAAAMBBQAAAAAAAIEJAAAAAAAAAQkAAAAAAAIBCQAAAAAAAwEJAAAAAAABgQ0AAAAAAAABDQAAAAAAAQENAAAAAAAAAQ0AAAAAAACBDQAAAAAAAQENAAAAAAABgQ0AAAAAAAOBDQAAAAAAA4ENAAAAAAAAAREAAAAAAAIBDQAAAAAAAgENAAAAAAACAQ0AAAAAAAOBDQAAAAAAA4ENAAAAAAADgQ0AAAAAAAABEQAAAAAAAQERAAAAAAADgREAAAAAAAABFQAAAAAAAwEVAAAAAAADgREAAAAAAAEBFQAAAAAAAAEVAAAAAAACgRUAAAAAAAIBEQAAAAAAAYERAAAAAAACAREAAAAAAAOBEQA==",
          "dtype": "f8"
         },
         "type": "candlestick",
         "x": [
          "2025-06-23T00:00:00.000000000",
          "2025-06-24T00:00:00.000000000",
          "2025-06-25T00:00:00.000000000",
          "2025-06-26T00:00:00.000000000",
          "2025-06-27T00:00:00.000000000",
          "2025-06-30T00:00:00.000000000",
          "2025-07-01T00:00:00.000000000",
          "2025-07-02T00:00:00.000000000",
          "2025-07-03T00:00:00.000000000",
          "2025-07-04T00:00:00.000000000",
          "2025-07-07T00:00:00.000000000",
          "2025-07-08T00:00:00.000000000",
          "2025-07-09T00:00:00.000000000",
          "2025-07-11T00:00:00.000000000",
          "2025-07-14T00:00:00.000000000",
          "2025-07-15T00:00:00.000000000",
          "2025-07-16T00:00:00.000000000",
          "2025-07-17T00:00:00.000000000",
          "2025-07-18T00:00:00.000000000",
          "2025-07-21T00:00:00.000000000",
          "2025-07-22T00:00:00.000000000",
          "2025-07-23T00:00:00.000000000",
          "2025-07-24T00:00:00.000000000",
          "2025-07-25T00:00:00.000000000",
          "2025-07-29T00:00:00.000000000",
          "2025-07-30T00:00:00.000000000",
          "2025-07-31T00:00:00.000000000",
          "2025-08-01T00:00:00.000000000",
          "2025-08-04T00:00:00.000000000",
          "2025-08-05T00:00:00.000000000",
          "2025-08-06T00:00:00.000000000",
          "2025-08-07T00:00:00.000000000",
          "2025-08-08T00:00:00.000000000",
          "2025-08-13T00:00:00.000000000",
          "2025-08-14T00:00:00.000000000",
          "2025-08-15T00:00:00.000000000",
          "2025-08-18T00:00:00.000000000",
          "2025-08-19T00:00:00.000000000",
          "2025-08-20T00:00:00.000000000",
          "2025-08-21T00:00:00.000000000",
          "2025-08-22T00:00:00.000000000",
          "2025-08-25T00:00:00.000000000",
          "2025-08-26T00:00:00.000000000",
          "2025-08-27T00:00:00.000000000",
          "2025-08-28T00:00:00.000000000",
          "2025-08-29T00:00:00.000000000",
          "2025-09-01T00:00:00.000000000",
          "2025-09-02T00:00:00.000000000",
          "2025-09-03T00:00:00.000000000",
          "2025-09-04T00:00:00.000000000",
          "2025-09-05T00:00:00.000000000",
          "2025-09-08T00:00:00.000000000",
          "2025-09-09T00:00:00.000000000",
          "2025-09-10T00:00:00.000000000",
          "2025-09-11T00:00:00.000000000",
          "2025-09-12T00:00:00.000000000",
          "2025-09-15T00:00:00.000000000",
          "2025-09-16T00:00:00.000000000",
          "2025-09-17T00:00:00.000000000",
          "2025-09-18T00:00:00.000000000",
          "2025-09-19T00:00:00.000000000",
          "2025-09-22T00:00:00.000000000",
          "2025-09-23T00:00:00.000000000",
          "2025-09-24T00:00:00.000000000",
          "2025-09-25T00:00:00.000000000",
          "2025-09-26T00:00:00.000000000",
          "2025-09-29T00:00:00.000000000",
          "2025-09-30T00:00:00.000000000",
          "2025-10-01T00:00:00.000000000",
          "2025-10-02T00:00:00.000000000",
          "2025-10-03T00:00:00.000000000",
          "2025-10-06T00:00:00.000000000",
          "2025-10-07T00:00:00.000000000",
          "2025-10-08T00:00:00.000000000",
          "2025-10-09T00:00:00.000000000",
          "2025-10-10T00:00:00.000000000",
          "2025-10-14T00:00:00.000000000",
          "2025-10-15T00:00:00.000000000",
          "2025-10-16T00:00:00.000000000",
          "2025-10-17T00:00:00.000000000"
         ]
        },
        {
         "marker": {
          "color": "rgba(128,128,128,0.3)"
         },
         "name": "Volume",
         "type": "bar",
         "x": [
          "2025-06-23T00:00:00.000000000",
          "2025-06-24T00:00:00.000000000",
          "2025-06-25T00:00:00.000000000",
          "2025-06-26T00:00:00.000000000",
          "2025-06-27T00:00:00.000000000",
          "2025-06-30T00:00:00.000000000",
          "2025-07-01T00:00:00.000000000",
          "2025-07-02T00:00:00.000000000",
          "2025-07-03T00:00:00.000000000",
          "2025-07-04T00:00:00.000000000",
          "2025-07-07T00:00:00.000000000",
          "2025-07-08T00:00:00.000000000",
          "2025-07-09T00:00:00.000000000",
          "2025-07-11T00:00:00.000000000",
          "2025-07-14T00:00:00.000000000",
          "2025-07-15T00:00:00.000000000",
          "2025-07-16T00:00:00.000000000",
          "2025-07-17T00:00:00.000000000",
          "2025-07-18T00:00:00.000000000",
          "2025-07-21T00:00:00.000000000",
          "2025-07-22T00:00:00.000000000",
          "2025-07-23T00:00:00.000000000",
          "2025-07-24T00:00:00.000000000",
          "2025-07-25T00:00:00.000000000",
          "2025-07-29T00:00:00.000000000",
          "2025-07-30T00:00:00.000000000",
          "2025-07-31T00:00:00.000000000",
          "2025-08-01T00:00:00.000000000",
          "2025-08-04T00:00:00.000000000",
          "2025-08-05T00:00:00.000000000",
          "2025-08-06T00:00:00.000000000",
          "2025-08-07T00:00:00.000000000",
          "2025-08-08T00:00:00.000000000",
          "2025-08-13T00:00:00.000000000",
          "2025-08-14T00:00:00.000000000",
          "2025-08-15T00:00:00.000000000",
          "2025-08-18T00:00:00.000000000",
          "2025-08-19T00:00:00.000000000",
          "2025-08-20T00:00:00.000000000",
          "2025-08-21T00:00:00.000000000",
          "2025-08-22T00:00:00.000000000",
          "2025-08-25T00:00:00.000000000",
          "2025-08-26T00:00:00.000000000",
          "2025-08-27T00:00:00.000000000",
          "2025-08-28T00:00:00.000000000",
          "2025-08-29T00:00:00.000000000",
          "2025-09-01T00:00:00.000000000",
          "2025-09-02T00:00:00.000000000",
          "2025-09-03T00:00:00.000000000",
          "2025-09-04T00:00:00.000000000",
          "2025-09-05T00:00:00.000000000",
          "2025-09-08T00:00:00.000000000",
          "2025-09-09T00:00:00.000000000",
          "2025-09-10T00:00:00.000000000",
          "2025-09-11T00:00:00.000000000",
          "2025-09-12T00:00:00.000000000",
          "2025-09-15T00:00:00.000000000",
          "2025-09-16T00:00:00.000000000",
          "2025-09-17T00:00:00.000000000",
          "2025-09-18T00:00:00.000000000",
          "2025-09-19T00:00:00.000000000",
          "2025-09-22T00:00:00.000000000",
          "2025-09-23T00:00:00.000000000",
          "2025-09-24T00:00:00.000000000",
          "2025-09-25T00:00:00.000000000",
          "2025-09-26T00:00:00.000000000",
          "2025-09-29T00:00:00.000000000",
          "2025-09-30T00:00:00.000000000",
          "2025-10-01T00:00:00.000000000",
          "2025-10-02T00:00:00.000000000",
          "2025-10-03T00:00:00.000000000",
          "2025-10-06T00:00:00.000000000",
          "2025-10-07T00:00:00.000000000",
          "2025-10-08T00:00:00.000000000",
          "2025-10-09T00:00:00.000000000",
          "2025-10-10T00:00:00.000000000",
          "2025-10-14T00:00:00.000000000",
          "2025-10-15T00:00:00.000000000",
          "2025-10-16T00:00:00.000000000",
          "2025-10-17T00:00:00.000000000"
         ],
         "y": {
          "bdata": "/Q3lAl4tvQTNCKAEukeCAhpZ8QJFzSACVNdyAX4J/wAlexoBus3VAONtlADnpacAe+SkAB1FNwKGnIAD7tzbBs1wJwV6ufAJmO7EA0nBtwExlFQCbRcFAhIe7wEunqMGJYHrAg9nrQFxLVgCGHJDAiwxtwGlz/oBU5DIATquuAGSM90AoSF/Ae/eGgMseQIBWCWzAagt1gBMw0MBSJQ1Afb3ewDcowMBhHkIAzAuUwEfWScBy3qPART3dAEMaW0A+2ccAViXDQLRAMsBdVTaAR50HwGtxTMBePd7AVV1TwH7htwAo6yDAu+s5gEJVlsBqla7AfkT9gDAiEYBT2oIAQ50GAEpedcAScPfAEjhOAKYL7sCsYawAFIN0gNpdH4DdABGAQH7yAB7LGoBdfDyAYVq+wGi9ykBqUtZAURevAA=",
          "dtype": "i4"
         },
         "yaxis": "y2"
        },
        {
         "marker": {
          "color": "red",
          "line": {
           "color": "red",
           "width": 2
          },
          "size": 10,
          "symbol": "circle"
         },
         "mode": "markers+text",
         "name": "BC",
         "text": [
          "BC",
          "BC",
          "BC"
         ],
         "textfont": {
          "color": "red",
          "size": 12
         },
         "textposition": "top center",
         "type": "scatter",
         "x": [
          "2025-06-25T00:00:00.000000000",
          "2025-07-17T00:00:00.000000000",
          "2025-10-03T00:00:00.000000000"
         ],
         "y": {
          "bdata": "AAAAAABgQEAAAAAAAEBEQAAAAAAAAEZA",
          "dtype": "f8"
         }
        },
        {
         "marker": {
          "color": "orange",
          "line": {
           "color": "orange",
           "width": 2
          },
          "size": 10,
          "symbol": "circle"
         },
         "mode": "markers+text",
         "name": "UTAD",
         "text": [
          "UTAD"
         ],
         "textfont": {
          "color": "orange",
          "size": 12
         },
         "textposition": "top center",
         "type": "scatter",
         "x": [
          "2025-08-01T00:00:00.000000000"
         ],
         "y": {
          "bdata": "AAAAAADAREA=",
          "dtype": "f8"
         }
        }
       ],
       "layout": {
        "annotations": [
         {
          "font": {
           "color": "darkred",
           "size": 10,
           "weight": "bold"
          },
          "showarrow": false,
          "text": "DISTRIBUTION",
          "x": "2025-07-17T00:00:00",
          "y": 27.75,
          "yshift": -10
         },
         {
          "font": {
           "color": "darkred",
           "size": 10,
           "weight": "bold"
          },
          "showarrow": false,
          "text": "MARKDOWN",
          "x": "2025-08-01T00:00:00",
          "y": 27.75,
          "yshift": -10
         }
        ],
        "height": 700,
        "shapes": [
         {
          "fillcolor": "red",
          "layer": "below",
          "line": {
           "width": 0
          },
          "opacity": 0.1,
          "type": "rect",
          "x0": "2025-07-17T00:00:00",
          "x1": "2025-08-01T00:00:00",
          "xref": "x",
          "y0": 0,
          "y1": 1,
          "yref": "y domain"
         },
         {
          "fillcolor": "red",
          "layer": "below",
          "line": {
           "width": 0
          },
          "opacity": 0.25,
          "type": "rect",
          "x0": "2025-08-01T00:00:00",
          "x1": "2025-10-17T00:00:00",
          "xref": "x",
          "y0": 0,
          "y1": 1,
          "yref": "y domain"
         }
        ],
        "template": {
         "data": {
          "bar": [
           {
            "error_x": {
             "color": "#2a3f5f"
            },
            "error_y": {
             "color": "#2a3f5f"
            },
            "marker": {
             "line": {
              "color": "white",
              "width": 0.5
             },
             "pattern": {
              "fillmode": "overlay",
              "size": 10,
              "solidity": 0.2
             }
            },
            "type": "bar"
           }
          ],
          "barpolar": [
           {
            "marker": {
             "line": {
              "color": "white",
              "width": 0.5
             },
             "pattern": {
              "fillmode": "overlay",
              "size": 10,
              "solidity": 0.2
             }
            },
            "type": "barpolar"
           }
          ],
          "carpet": [
           {
            "aaxis": {
             "endlinecolor": "#2a3f5f",
             "gridcolor": "#C8D4E3",
             "linecolor": "#C8D4E3",
             "minorgridcolor": "#C8D4E3",
             "startlinecolor": "#2a3f5f"
            },
            "baxis": {
             "endlinecolor": "#2a3f5f",
             "gridcolor": "#C8D4E3",
             "linecolor": "#C8D4E3",
             "minorgridcolor": "#C8D4E3",
             "startlinecolor": "#2a3f5f"
            },
            "type": "carpet"
           }
          ],
          "choropleth": [
           {
            "colorbar": {
             "outlinewidth": 0,
             "ticks": ""
            },
            "type": "choropleth"
           }
          ],
          "contour": [
           {
            "colorbar": {
             "outlinewidth": 0,
             "ticks": ""
            },
            "colorscale": [
             [
              0,
              "#0d0887"
             ],
             [
              0.1111111111111111,
              "#46039f"
             ],
             [
              0.2222222222222222,
              "#7201a8"
             ],
             [
              0.3333333333333333,
              "#9c179e"
             ],
             [
              0.4444444444444444,
              "#bd3786"
             ],
             [
              0.5555555555555556,
              "#d8576b"
             ],
             [
              0.6666666666666666,
              "#ed7953"
             ],
             [
              0.7777777777777778,
              "#fb9f3a"
             ],
             [
              0.8888888888888888,
              "#fdca26"
             ],
             [
              1,
              "#f0f921"
             ]
            ],
            "type": "contour"
           }
          ],
          "contourcarpet": [
           {
            "colorbar": {
             "outlinewidth": 0,
             "ticks": ""
            },
            "type": "contourcarpet"
           }
          ],
          "heatmap": [
           {
            "colorbar": {
             "outlinewidth": 0,
             "ticks": ""
            },
            "colorscale": [
             [
              0,
              "#0d0887"
             ],
             [
              0.1111111111111111,
              "#46039f"
             ],
             [
              0.2222222222222222,
              "#7201a8"
             ],
             [
              0.3333333333333333,
              "#9c179e"
             ],
             [
              0.4444444444444444,
              "#bd3786"
             ],
             [
              0.5555555555555556,
              "#d8576b"
             ],
             [
              0.6666666666666666,
              "#ed7953"
             ],
             [
              0.7777777777777778,
              "#fb9f3a"
             ],
             [
              0.8888888888888888,
              "#fdca26"
             ],
             [
              1,
              "#f0f921"
             ]
            ],
            "type": "heatmap"
           }
          ],
          "histogram": [
           {
            "marker": {
             "pattern": {
              "fillmode": "overlay",
              "size": 10,
              "solidity": 0.2
             }
            },
            "type": "histogram"
           }
          ],
          "histogram2d": [
           {
            "colorbar": {
             "outlinewidth": 0,
             "ticks": ""
            },
            "colorscale": [
             [
              0,
              "#0d0887"
             ],
             [
              0.1111111111111111,
              "#46039f"
             ],
             [
              0.2222222222222222,
              "#7201a8"
             ],
             [
              0.3333333333333333,
              "#9c179e"
             ],
             [
              0.4444444444444444,
              "#bd3786"
             ],
             [
              0.5555555555555556,
              "#d8576b"
             ],
             [
              0.6666666666666666,
              "#ed7953"
             ],
             [
              0.7777777777777778,
              "#fb9f3a"
             ],
             [
              0.8888888888888888,
              "#fdca26"
             ],
             [
              1,
              "#f0f921"
             ]
            ],
            "type": "histogram2d"
           }
          ],
          "histogram2dcontour": [
           {
            "colorbar": {
             "outlinewidth": 0,
             "ticks": ""
            },
            "colorscale": [
             [
              0,
              "#0d0887"
             ],
             [
              0.1111111111111111,
              "#46039f"
             ],
             [
              0.2222222222222222,
              "#7201a8"
             ],
             [
              0.3333333333333333,
              "#9c179e"
             ],
             [
              0.4444444444444444,
              "#bd3786"
             ],
             [
              0.5555555555555556,
              "#d8576b"
             ],
             [
              0.6666666666666666,
              "#ed7953"
             ],
             [
              0.7777777777777778,
              "#fb9f3a"
             ],
             [
              0.8888888888888888,
              "#fdca26"
             ],
             [
              1,
              "#f0f921"
             ]
            ],
            "type": "histogram2dcontour"
           }
          ],
          "mesh3d": [
           {
            "colorbar": {
             "outlinewidth": 0,
             "ticks": ""
            },
            "type": "mesh3d"
           }
          ],
          "parcoords": [
           {
            "line": {
             "colorbar": {
              "outlinewidth": 0,
              "ticks": ""
             }
            },
            "type": "parcoords"
           }
          ],
          "pie": [
           {
            "automargin": true,
            "type": "pie"
           }
          ],
          "scatter": [
           {
            "fillpattern": {
             "fillmode": "overlay",
             "size": 10,
             "solidity": 0.2
            },
            "type": "scatter"
           }
          ],
          "scatter3d": [
           {
            "line": {
             "colorbar": {
              "outlinewidth": 0,
              "ticks": ""
             }
            },
            "marker": {
             "colorbar": {
              "outlinewidth": 0,
              "ticks": ""
             }
            },
            "type": "scatter3d"
           }
          ],
          "scattercarpet": [
           {
            "marker": {
             "colorbar": {
              "outlinewidth": 0,
              "ticks": ""
             }
            },
            "type": "scattercarpet"
           }
          ],
          "scattergeo": [
           {
            "marker": {
             "colorbar": {
              "outlinewidth": 0,
              "ticks": ""
             }
            },
            "type": "scattergeo"
           }
          ],
          "scattergl": [
           {
            "marker": {
             "colorbar": {
              "outlinewidth": 0,
              "ticks": ""
             }
            },
            "type": "scattergl"
           }
          ],
          "scattermap": [
           {
            "marker": {
             "colorbar": {
              "outlinewidth": 0,
              "ticks": ""
             }
            },
            "type": "scattermap"
           }
          ],
          "scattermapbox": [
           {
            "marker": {
             "colorbar": {
              "outlinewidth": 0,
              "ticks": ""
             }
            },
            "type": "scattermapbox"
           }
          ],
          "scatterpolar": [
           {
            "marker": {
             "colorbar": {
              "outlinewidth": 0,
              "ticks": ""
             }
            },
            "type": "scatterpolar"
           }
          ],
          "scatterpolargl": [
           {
            "marker": {
             "colorbar": {
              "outlinewidth": 0,
              "ticks": ""
             }
            },
            "type": "scatterpolargl"
           }
          ],
          "scatterternary": [
           {
            "marker": {
             "colorbar": {
              "outlinewidth": 0,
              "ticks": ""
             }
            },
            "type": "scatterternary"
           }
          ],
          "surface": [
           {
            "colorbar": {
             "outlinewidth": 0,
             "ticks": ""
            },
            "colorscale": [
             [
              0,
              "#0d0887"
             ],
             [
              0.1111111111111111,
              "#46039f"
             ],
             [
              0.2222222222222222,
              "#7201a8"
             ],
             [
              0.3333333333333333,
              "#9c179e"
             ],
             [
              0.4444444444444444,
              "#bd3786"
             ],
             [
              0.5555555555555556,
              "#d8576b"
             ],
             [
              0.6666666666666666,
              "#ed7953"
             ],
             [
              0.7777777777777778,
              "#fb9f3a"
             ],
             [
              0.8888888888888888,
              "#fdca26"
             ],
             [
              1,
              "#f0f921"
             ]
            ],
            "type": "surface"
           }
          ],
          "table": [
           {
            "cells": {
             "fill": {
              "color": "#EBF0F8"
             },
             "line": {
              "color": "white"
             }
            },
            "header": {
             "fill": {
              "color": "#C8D4E3"
             },
             "line": {
              "color": "white"
             }
            },
            "type": "table"
           }
          ]
         },
         "layout": {
          "annotationdefaults": {
           "arrowcolor": "#2a3f5f",
           "arrowhead": 0,
           "arrowwidth": 1
          },
          "autotypenumbers": "strict",
          "coloraxis": {
           "colorbar": {
            "outlinewidth": 0,
            "ticks": ""
           }
          },
          "colorscale": {
           "diverging": [
            [
             0,
             "#8e0152"
            ],
            [
             0.1,
             "#c51b7d"
            ],
            [
             0.2,
             "#de77ae"
            ],
            [
             0.3,
             "#f1b6da"
            ],
            [
             0.4,
             "#fde0ef"
            ],
            [
             0.5,
             "#f7f7f7"
            ],
            [
             0.6,
             "#e6f5d0"
            ],
            [
             0.7,
             "#b8e186"
            ],
            [
             0.8,
             "#7fbc41"
            ],
            [
             0.9,
             "#4d9221"
            ],
            [
             1,
             "#276419"
            ]
           ],
           "sequential": [
            [
             0,
             "#0d0887"
            ],
            [
             0.1111111111111111,
             "#46039f"
            ],
            [
             0.2222222222222222,
             "#7201a8"
            ],
            [
             0.3333333333333333,
             "#9c179e"
            ],
            [
             0.4444444444444444,
             "#bd3786"
            ],
            [
             0.5555555555555556,
             "#d8576b"
            ],
            [
             0.6666666666666666,
             "#ed7953"
            ],
            [
             0.7777777777777778,
             "#fb9f3a"
            ],
            [
             0.8888888888888888,
             "#fdca26"
            ],
            [
             1,
             "#f0f921"
            ]
           ],
           "sequentialminus": [
            [
             0,
             "#0d0887"
            ],
            [
             0.1111111111111111,
             "#46039f"
            ],
            [
             0.2222222222222222,
             "#7201a8"
            ],
            [
             0.3333333333333333,
             "#9c179e"
            ],
            [
             0.4444444444444444,
             "#bd3786"
            ],
            [
             0.5555555555555556,
             "#d8576b"
            ],
            [
             0.6666666666666666,
             "#ed7953"
            ],
            [
             0.7777777777777778,
             "#fb9f3a"
            ],
            [
             0.8888888888888888,
             "#fdca26"
            ],
            [
             1,
             "#f0f921"
            ]
           ]
          },
          "colorway": [
           "#636efa",
           "#EF553B",
           "#00cc96",
           "#ab63fa",
           "#FFA15A",
           "#19d3f3",
           "#FF6692",
           "#B6E880",
           "#FF97FF",
           "#FECB52"
          ],
          "font": {
           "color": "#2a3f5f"
          },
          "geo": {
           "bgcolor": "white",
           "lakecolor": "white",
           "landcolor": "white",
           "showlakes": true,
           "showland": true,
           "subunitcolor": "#C8D4E3"
          },
          "hoverlabel": {
           "align": "left"
          },
          "hovermode": "closest",
          "mapbox": {
           "style": "light"
          },
          "paper_bgcolor": "white",
          "plot_bgcolor": "white",
          "polar": {
           "angularaxis": {
            "gridcolor": "#EBF0F8",
            "linecolor": "#EBF0F8",
            "ticks": ""
           },
           "bgcolor": "white",
           "radialaxis": {
            "gridcolor": "#EBF0F8",
            "linecolor": "#EBF0F8",
            "ticks": ""
           }
          },
          "scene": {
           "xaxis": {
            "backgroundcolor": "white",
            "gridcolor": "#DFE8F3",
            "gridwidth": 2,
            "linecolor": "#EBF0F8",
            "showbackground": true,
            "ticks": "",
            "zerolinecolor": "#EBF0F8"
           },
           "yaxis": {
            "backgroundcolor": "white",
            "gridcolor": "#DFE8F3",
            "gridwidth": 2,
            "linecolor": "#EBF0F8",
            "showbackground": true,
            "ticks": "",
            "zerolinecolor": "#EBF0F8"
           },
           "zaxis": {
            "backgroundcolor": "white",
            "gridcolor": "#DFE8F3",
            "gridwidth": 2,
            "linecolor": "#EBF0F8",
            "showbackground": true,
            "ticks": "",
            "zerolinecolor": "#EBF0F8"
           }
          },
          "shapedefaults": {
           "line": {
            "color": "#2a3f5f"
           }
          },
          "ternary": {
           "aaxis": {
            "gridcolor": "#DFE8F3",
            "linecolor": "#A2B1C6",
            "ticks": ""
           },
           "baxis": {
            "gridcolor": "#DFE8F3",
            "linecolor": "#A2B1C6",
            "ticks": ""
           },
           "bgcolor": "white",
           "caxis": {
            "gridcolor": "#DFE8F3",
            "linecolor": "#A2B1C6",
            "ticks": ""
           }
          },
          "title": {
           "x": 0.05
          },
          "xaxis": {
           "automargin": true,
           "gridcolor": "#EBF0F8",
           "linecolor": "#EBF0F8",
           "ticks": "",
           "title": {
            "standoff": 15
           },
           "zerolinecolor": "#EBF0F8",
           "zerolinewidth": 2
          },
          "yaxis": {
           "automargin": true,
           "gridcolor": "#EBF0F8",
           "linecolor": "#EBF0F8",
           "ticks": "",
           "title": {
            "standoff": 15
           },
           "zerolinecolor": "#EBF0F8",
           "zerolinewidth": 2
          }
         }
        },
        "title": {
         "text": "📈 AOT - Candlestick Chart with Wyckoff Cycle"
        },
        "xaxis": {
         "rangeslider": {
          "visible": false
         },
         "type": "date"
        },
        "yaxis": {
         "domain": [
          0.2,
          1
         ],
         "title": {
          "text": "Price"
         }
        },
        "yaxis2": {
         "domain": [
          0,
          0.2
         ],
         "overlaying": "y",
         "showgrid": false,
         "side": "right",
         "title": {
          "text": "Volume"
         }
        }
       }
      }
     },
     "metadata": {},
     "output_type": "display_data"
    },
    {
     "name": "stdout",
     "output_type": "stream",
     "text": [
      "\n",
      "--- 🔎 ตรวจจับ Flag Patterns ---\n",
      "✅ พบ Flag Patterns ทั้งหมด: 0 รูปแบบ\n"
     ]
    }
   ],
   "source": [
    "# ==========================================================\n",
    "# 5️⃣ Main Execution\n",
    "# ==========================================================\n",
    "if __name__ == '__main__':\n",
    "    \n",
    "    STOCK_SYMBOL = 'AOT'  # สัญลักษณ์หุ้นที่ต้องการ\n",
    "    DAYS_LOOKBACK = 120   # ช่วงวันย้อนหลังที่ต้องการวิเคราะห์\n",
    "\n",
    "    try:\n",
    "        # 1. ดึงข้อมูล\n",
    "        df_data = get_candlestick_data(STOCK_SYMBOL, DAYS_LOOKBACK)\n",
    "        print(f\"✅ ดึงข้อมูล {STOCK_SYMBOL} ได้ {len(df_data)} แถวสำหรับ {DAYS_LOOKBACK} วัน\")\n",
    "        \n",
    "        \n",
    "        # --- 🚩 1. ตรวจจับ Wyckoff Cycle ---\n",
    "        print(\"\\n--- 🔎 ตรวจจับ Wyckoff Cycle ---\")\n",
    "        wyckoff_events = detect_wyckoff_events(\n",
    "            df_data, \n",
    "            price_distance=5, \n",
    "            volume_percentile=0.90\n",
    "        )\n",
    "        print(f\"✅ พบ Wyckoff Cycle Phases: {len(wyckoff_events['WYCKOFF_CYCLE'])} ช่วง\")\n",
    "        \n",
    "        # 2. วาดกราฟ Wyckoff Cycle\n",
    "        plot_wyckoff_cycle(df_data, wyckoff_events, STOCK_SYMBOL)\n",
    "\n",
    "        \n",
    "        # --- 🚩 2. ตรวจจับ Flag Patterns ---\n",
    "        print(f\"\\n--- 🔎 ตรวจจับ Flag Patterns ---\")\n",
    "        flag_patterns = detect_flag_patterns(\n",
    "            df_data, \n",
    "            pole_length_ratio=0.08, # ลด ratio ลงเล็กน้อยเพื่อโอกาสพบ pattern มากขึ้น\n",
    "            flag_duration_max=30\n",
    "        )\n",
    "        \n",
    "        # 3. แสดงผลลัพธ์\n",
    "        print(f\"✅ พบ Flag Patterns ทั้งหมด: {len(flag_patterns)} รูปแบบ\")\n",
    "        if flag_patterns:\n",
    "            print(f\"  - Bullish Flags: {sum(1 for p in flag_patterns if p['type'] == 'Bullish Flag')} รูปแบบ\")\n",
    "            print(f\"  - Bearish Flags: {sum(1 for p in flag_patterns if p['type'] == 'Bearish Flag')} รูปแบบ\")\n",
    "            \n",
    "            # 4. วาดกราฟ Flag Patterns\n",
    "            plot_flag_patterns(df_data, flag_patterns, STOCK_SYMBOL)\n",
    "            \n",
    "        \n",
    "    except ValueError as e:\n",
    "        print(f\"\\n❌ ข้อผิดพลาดข้อมูล: {e}\")\n",
    "    except Exception as e:\n",
    "        print(f\"\\n❌ เกิดข้อผิดพลาดที่ไม่คาดคิด: {e}\")"
   ]
  },
  {
   "cell_type": "code",
   "execution_count": null,
   "id": "18354dca",
   "metadata": {},
   "outputs": [],
   "source": []
  },
  {
   "cell_type": "code",
   "execution_count": null,
   "id": "edf11e47",
   "metadata": {},
   "outputs": [],
   "source": []
  }
 ],
 "metadata": {
  "kernelspec": {
   "display_name": "Python 3",
   "language": "python",
   "name": "python3"
  },
  "language_info": {
   "codemirror_mode": {
    "name": "ipython",
    "version": 3
   },
   "file_extension": ".py",
   "mimetype": "text/x-python",
   "name": "python",
   "nbconvert_exporter": "python",
   "pygments_lexer": "ipython3",
   "version": "3.11.5"
  }
 },
 "nbformat": 4,
 "nbformat_minor": 5
}
