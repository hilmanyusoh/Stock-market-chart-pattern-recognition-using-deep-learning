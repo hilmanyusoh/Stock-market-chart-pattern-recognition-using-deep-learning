{
 "cells": [
  {
   "cell_type": "code",
   "execution_count": 44,
   "id": "9829c56e",
   "metadata": {},
   "outputs": [],
   "source": [
    "import pandas as pd\n",
    "import numpy as np\n",
    "import os\n",
    "from cassandra.cluster import Cluster\n",
    "from datetime import datetime\n",
    "import plotly.graph_objects as go"
   ]
  },
  {
   "cell_type": "code",
   "execution_count": 45,
   "id": "7453699d",
   "metadata": {},
   "outputs": [],
   "source": [
    "# เชื่อมต่อกับ Cassandra Docker\n",
    "cluster = Cluster(['127.0.0.1'], port=9042)\n",
    "session = cluster.connect()"
   ]
  },
  {
   "cell_type": "code",
   "execution_count": 46,
   "id": "06b06662",
   "metadata": {},
   "outputs": [
    {
     "data": {
      "text/plain": [
       "(186, 7)"
      ]
     },
     "execution_count": 46,
     "metadata": {},
     "output_type": "execute_result"
    }
   ],
   "source": [
    "keyspace_name = \"stock_data\"\n",
    "session.set_keyspace(keyspace_name)\n",
    "table_name = \"stock_price\"\n",
    "rows = session.execute(f\"SELECT * FROM {table_name}\")\n",
    "df = pd.DataFrame(rows)\n",
    "df.shape"
   ]
  },
  {
   "cell_type": "code",
   "execution_count": 47,
   "id": "2790cbaf",
   "metadata": {},
   "outputs": [
    {
     "data": {
      "text/html": [
       "<div>\n",
       "<style scoped>\n",
       "    .dataframe tbody tr th:only-of-type {\n",
       "        vertical-align: middle;\n",
       "    }\n",
       "\n",
       "    .dataframe tbody tr th {\n",
       "        vertical-align: top;\n",
       "    }\n",
       "\n",
       "    .dataframe thead th {\n",
       "        text-align: right;\n",
       "    }\n",
       "</style>\n",
       "<table border=\"1\" class=\"dataframe\">\n",
       "  <thead>\n",
       "    <tr style=\"text-align: right;\">\n",
       "      <th></th>\n",
       "      <th>symbol</th>\n",
       "      <th>date</th>\n",
       "      <th>close</th>\n",
       "      <th>high</th>\n",
       "      <th>low</th>\n",
       "      <th>open</th>\n",
       "      <th>volume</th>\n",
       "    </tr>\n",
       "  </thead>\n",
       "  <tbody>\n",
       "    <tr>\n",
       "      <th>0</th>\n",
       "      <td>VCOM</td>\n",
       "      <td>1970-01-01</td>\n",
       "      <td>2.40</td>\n",
       "      <td>2.44</td>\n",
       "      <td>2.38</td>\n",
       "      <td>2.44</td>\n",
       "      <td>152327</td>\n",
       "    </tr>\n",
       "    <tr>\n",
       "      <th>1</th>\n",
       "      <td>VGI</td>\n",
       "      <td>1970-01-01</td>\n",
       "      <td>2.22</td>\n",
       "      <td>2.28</td>\n",
       "      <td>2.20</td>\n",
       "      <td>2.26</td>\n",
       "      <td>62623507</td>\n",
       "    </tr>\n",
       "    <tr>\n",
       "      <th>2</th>\n",
       "      <td>ASP</td>\n",
       "      <td>1970-01-01</td>\n",
       "      <td>2.02</td>\n",
       "      <td>2.04</td>\n",
       "      <td>1.97</td>\n",
       "      <td>2.04</td>\n",
       "      <td>771843</td>\n",
       "    </tr>\n",
       "    <tr>\n",
       "      <th>3</th>\n",
       "      <td>ADVICE</td>\n",
       "      <td>1970-01-01</td>\n",
       "      <td>4.78</td>\n",
       "      <td>4.86</td>\n",
       "      <td>4.64</td>\n",
       "      <td>4.86</td>\n",
       "      <td>3628808</td>\n",
       "    </tr>\n",
       "    <tr>\n",
       "      <th>4</th>\n",
       "      <td>AYUD</td>\n",
       "      <td>1970-01-01</td>\n",
       "      <td>31.75</td>\n",
       "      <td>31.75</td>\n",
       "      <td>31.50</td>\n",
       "      <td>31.75</td>\n",
       "      <td>10733</td>\n",
       "    </tr>\n",
       "  </tbody>\n",
       "</table>\n",
       "</div>"
      ],
      "text/plain": [
       "   symbol        date  close   high    low   open    volume\n",
       "0    VCOM  1970-01-01   2.40   2.44   2.38   2.44    152327\n",
       "1     VGI  1970-01-01   2.22   2.28   2.20   2.26  62623507\n",
       "2     ASP  1970-01-01   2.02   2.04   1.97   2.04    771843\n",
       "3  ADVICE  1970-01-01   4.78   4.86   4.64   4.86   3628808\n",
       "4    AYUD  1970-01-01  31.75  31.75  31.50  31.75     10733"
      ]
     },
     "execution_count": 47,
     "metadata": {},
     "output_type": "execute_result"
    }
   ],
   "source": [
    "df.head()"
   ]
  },
  {
   "cell_type": "code",
   "execution_count": 48,
   "id": "2eac2300",
   "metadata": {},
   "outputs": [
    {
     "data": {
      "text/html": [
       "<div>\n",
       "<style scoped>\n",
       "    .dataframe tbody tr th:only-of-type {\n",
       "        vertical-align: middle;\n",
       "    }\n",
       "\n",
       "    .dataframe tbody tr th {\n",
       "        vertical-align: top;\n",
       "    }\n",
       "\n",
       "    .dataframe thead th {\n",
       "        text-align: right;\n",
       "    }\n",
       "</style>\n",
       "<table border=\"1\" class=\"dataframe\">\n",
       "  <thead>\n",
       "    <tr style=\"text-align: right;\">\n",
       "      <th></th>\n",
       "      <th>symbol</th>\n",
       "      <th>date</th>\n",
       "      <th>close</th>\n",
       "      <th>high</th>\n",
       "      <th>low</th>\n",
       "      <th>open</th>\n",
       "      <th>volume</th>\n",
       "    </tr>\n",
       "  </thead>\n",
       "  <tbody>\n",
       "    <tr>\n",
       "      <th>0</th>\n",
       "      <td>AOT</td>\n",
       "      <td>1970-01-01</td>\n",
       "      <td>39.0</td>\n",
       "      <td>39.25</td>\n",
       "      <td>38.25</td>\n",
       "      <td>39.0</td>\n",
       "      <td>27097430</td>\n",
       "    </tr>\n",
       "  </tbody>\n",
       "</table>\n",
       "</div>"
      ],
      "text/plain": [
       "  symbol        date  close   high    low  open    volume\n",
       "0    AOT  1970-01-01   39.0  39.25  38.25  39.0  27097430"
      ]
     },
     "execution_count": 48,
     "metadata": {},
     "output_type": "execute_result"
    }
   ],
   "source": [
    "rows_symbol = session.execute(f\"SELECT * FROM stock_data.stock_price WHERE symbol = 'AOT'\")\n",
    "df_symbol = pd.DataFrame(rows_symbol)\n",
    "df_symbol.head()"
   ]
  },
  {
   "cell_type": "code",
   "execution_count": 49,
   "id": "2e0e5319",
   "metadata": {},
   "outputs": [
    {
     "name": "stdout",
     "output_type": "stream",
     "text": [
      "symbol           AOT\n",
      "date      1970-01-01\n",
      "close           39.0\n",
      "high           39.25\n",
      "low            38.25\n",
      "open            39.0\n",
      "volume      27097430\n",
      "Name: 0, dtype: object\n"
     ]
    }
   ],
   "source": [
    "row = df_symbol.iloc[0]\n",
    "non_null = row[row.notnull()]\n",
    "print(non_null)"
   ]
  },
  {
   "cell_type": "code",
   "execution_count": 50,
   "id": "198cc7fe",
   "metadata": {},
   "outputs": [
    {
     "data": {
      "text/html": [
       "<div>\n",
       "<style scoped>\n",
       "    .dataframe tbody tr th:only-of-type {\n",
       "        vertical-align: middle;\n",
       "    }\n",
       "\n",
       "    .dataframe tbody tr th {\n",
       "        vertical-align: top;\n",
       "    }\n",
       "\n",
       "    .dataframe thead th {\n",
       "        text-align: right;\n",
       "    }\n",
       "</style>\n",
       "<table border=\"1\" class=\"dataframe\">\n",
       "  <thead>\n",
       "    <tr style=\"text-align: right;\">\n",
       "      <th></th>\n",
       "      <th>symbol</th>\n",
       "      <th>date</th>\n",
       "      <th>open</th>\n",
       "      <th>high</th>\n",
       "      <th>low</th>\n",
       "      <th>close</th>\n",
       "      <th>volume</th>\n",
       "    </tr>\n",
       "  </thead>\n",
       "  <tbody>\n",
       "    <tr>\n",
       "      <th>0</th>\n",
       "      <td>VCOM</td>\n",
       "      <td>1970-01-01</td>\n",
       "      <td>2.44</td>\n",
       "      <td>2.44</td>\n",
       "      <td>2.38</td>\n",
       "      <td>2.40</td>\n",
       "      <td>152327</td>\n",
       "    </tr>\n",
       "    <tr>\n",
       "      <th>1</th>\n",
       "      <td>VGI</td>\n",
       "      <td>1970-01-01</td>\n",
       "      <td>2.26</td>\n",
       "      <td>2.28</td>\n",
       "      <td>2.20</td>\n",
       "      <td>2.22</td>\n",
       "      <td>62623507</td>\n",
       "    </tr>\n",
       "    <tr>\n",
       "      <th>2</th>\n",
       "      <td>ASP</td>\n",
       "      <td>1970-01-01</td>\n",
       "      <td>2.04</td>\n",
       "      <td>2.04</td>\n",
       "      <td>1.97</td>\n",
       "      <td>2.02</td>\n",
       "      <td>771843</td>\n",
       "    </tr>\n",
       "    <tr>\n",
       "      <th>3</th>\n",
       "      <td>ADVICE</td>\n",
       "      <td>1970-01-01</td>\n",
       "      <td>4.86</td>\n",
       "      <td>4.86</td>\n",
       "      <td>4.64</td>\n",
       "      <td>4.78</td>\n",
       "      <td>3628808</td>\n",
       "    </tr>\n",
       "    <tr>\n",
       "      <th>4</th>\n",
       "      <td>AYUD</td>\n",
       "      <td>1970-01-01</td>\n",
       "      <td>31.75</td>\n",
       "      <td>31.75</td>\n",
       "      <td>31.50</td>\n",
       "      <td>31.75</td>\n",
       "      <td>10733</td>\n",
       "    </tr>\n",
       "  </tbody>\n",
       "</table>\n",
       "</div>"
      ],
      "text/plain": [
       "   symbol        date   open   high    low  close    volume\n",
       "0    VCOM  1970-01-01   2.44   2.44   2.38   2.40    152327\n",
       "1     VGI  1970-01-01   2.26   2.28   2.20   2.22  62623507\n",
       "2     ASP  1970-01-01   2.04   2.04   1.97   2.02    771843\n",
       "3  ADVICE  1970-01-01   4.86   4.86   4.64   4.78   3628808\n",
       "4    AYUD  1970-01-01  31.75  31.75  31.50  31.75     10733"
      ]
     },
     "execution_count": 50,
     "metadata": {},
     "output_type": "execute_result"
    }
   ],
   "source": [
    "# ดึงข้อมูลเฉพาะคอลัมน์ที่ต้องการจาก Cassandra\n",
    "rows_nonnull = session.execute(\n",
    "    \"\"\"\n",
    "    SELECT symbol, date, open, high, low, close, volume\n",
    "    FROM stock_data.stock_price\n",
    "    \"\"\"\n",
    ")\n",
    "\n",
    "# แปลงเป็น DataFrame\n",
    "df_nonnull = pd.DataFrame(rows_nonnull.all())  # ใช้ .all() เพื่อดึงผลลัพธ์ทั้งหมด\n",
    "\n",
    "# แสดงผลลัพธ์\n",
    "df_nonnull.head()\n"
   ]
  },
  {
   "cell_type": "code",
   "execution_count": 51,
   "id": "644133c9",
   "metadata": {},
   "outputs": [
    {
     "name": "stdout",
     "output_type": "stream",
     "text": [
      "<class 'pandas.core.frame.DataFrame'>\n",
      "RangeIndex: 186 entries, 0 to 185\n",
      "Data columns (total 7 columns):\n",
      " #   Column  Non-Null Count  Dtype  \n",
      "---  ------  --------------  -----  \n",
      " 0   symbol  186 non-null    object \n",
      " 1   date    186 non-null    object \n",
      " 2   open    186 non-null    float64\n",
      " 3   high    186 non-null    float64\n",
      " 4   low     186 non-null    float64\n",
      " 5   close   186 non-null    float64\n",
      " 6   volume  186 non-null    int64  \n",
      "dtypes: float64(4), int64(1), object(2)\n",
      "memory usage: 10.3+ KB\n"
     ]
    }
   ],
   "source": [
    "df_nonnull.info()"
   ]
  },
  {
   "cell_type": "code",
   "execution_count": 52,
   "id": "ae3f5c47",
   "metadata": {},
   "outputs": [
    {
     "name": "stdout",
     "output_type": "stream",
     "text": [
      "<class 'pandas.core.frame.DataFrame'>\n",
      "RangeIndex: 186 entries, 0 to 185\n",
      "Data columns (total 7 columns):\n",
      " #   Column  Non-Null Count  Dtype  \n",
      "---  ------  --------------  -----  \n",
      " 0   symbol  186 non-null    object \n",
      " 1   date    186 non-null    object \n",
      " 2   close   186 non-null    float64\n",
      " 3   high    186 non-null    float64\n",
      " 4   low     186 non-null    float64\n",
      " 5   open    186 non-null    float64\n",
      " 6   volume  186 non-null    int64  \n",
      "dtypes: float64(4), int64(1), object(2)\n",
      "memory usage: 10.3+ KB\n"
     ]
    }
   ],
   "source": [
    "df.info()"
   ]
  },
  {
   "cell_type": "code",
   "execution_count": 53,
   "id": "9b2db4a1",
   "metadata": {},
   "outputs": [
    {
     "data": {
      "text/plain": [
       "symbol    0\n",
       "date      0\n",
       "close     0\n",
       "high      0\n",
       "low       0\n",
       "open      0\n",
       "volume    0\n",
       "dtype: int64"
      ]
     },
     "execution_count": 53,
     "metadata": {},
     "output_type": "execute_result"
    }
   ],
   "source": [
    "df.isnull().sum()"
   ]
  },
  {
   "cell_type": "code",
   "execution_count": null,
   "id": "a9130d54",
   "metadata": {},
   "outputs": [],
   "source": []
  }
 ],
 "metadata": {
  "kernelspec": {
   "display_name": "Python 3",
   "language": "python",
   "name": "python3"
  },
  "language_info": {
   "codemirror_mode": {
    "name": "ipython",
    "version": 3
   },
   "file_extension": ".py",
   "mimetype": "text/x-python",
   "name": "python",
   "nbconvert_exporter": "python",
   "pygments_lexer": "ipython3",
   "version": "3.11.5"
  }
 },
 "nbformat": 4,
 "nbformat_minor": 5
}
