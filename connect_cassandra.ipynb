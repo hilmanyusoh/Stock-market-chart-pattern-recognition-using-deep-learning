{
 "cells": [
  {
   "cell_type": "code",
   "execution_count": null,
   "id": "e1b3b642",
   "metadata": {},
   "outputs": [],
   "source": [
    "import pandas as pd\n",
    "import numpy as np\n",
    "import os\n",
    "from cassandra.cluster import Cluster\n",
    "from datetime import datetime\n",
    "import time"
   ]
  },
  {
   "cell_type": "code",
   "execution_count": null,
   "id": "58e86356",
   "metadata": {},
   "outputs": [],
   "source": [
    "# ==========================================\n",
    "# 1️⃣ เชื่อมต่อ Cassandra\n",
    "# ==========================================\n",
    "cluster = Cluster(['127.0.0.1'], port=9042)\n",
    "session = cluster.connect()\n",
    "session.execute(\"\"\"\n",
    "    CREATE KEYSPACE IF NOT EXISTS data_stock\n",
    "    WITH replication = {'class': 'SimpleStrategy', 'replication_factor': 1};\n",
    "\"\"\")\n",
    "session.set_keyspace('data_stock')\n",
    "\n",
    "session.execute(\"\"\"\n",
    "    CREATE TABLE IF NOT EXISTS candlestick_data (\n",
    "        symbol text,\n",
    "        time timestamp,\n",
    "        open float,\n",
    "        high float,\n",
    "        low float,\n",
    "        close float,\n",
    "        volume bigint,\n",
    "        value float,\n",
    "        PRIMARY KEY (symbol, time)\n",
    "    ) WITH CLUSTERING ORDER BY (time ASC);\n",
    "\"\"\")\n",
    "print(\"✅ Keyspace และ Table พร้อมใช้งาน!\")"
   ]
  }
 ],
 "metadata": {
  "kernelspec": {
   "display_name": "Python 3",
   "language": "python",
   "name": "python3"
  },
  "language_info": {
   "codemirror_mode": {
    "name": "ipython",
    "version": 3
   },
   "file_extension": ".py",
   "mimetype": "text/x-python",
   "name": "python",
   "nbconvert_exporter": "python",
   "pygments_lexer": "ipython3",
   "version": "3.11.5"
  }
 },
 "nbformat": 4,
 "nbformat_minor": 5
}
