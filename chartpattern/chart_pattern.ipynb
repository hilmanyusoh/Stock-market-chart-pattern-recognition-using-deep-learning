{
 "cells": [
  {
   "cell_type": "markdown",
   "id": "8c0bcbc6",
   "metadata": {},
   "source": [
    "# 📈 Stock market chart pattern #"
   ]
  },
  {
   "cell_type": "code",
   "execution_count": 29,
   "id": "6155550a",
   "metadata": {},
   "outputs": [],
   "source": [
    "import pandas as pd\n",
    "import numpy as np\n",
    "from scipy.signal import find_peaks\n",
    "import plotly.graph_objects as go"
   ]
  },
  {
   "cell_type": "code",
   "execution_count": null,
   "id": "31d24e73",
   "metadata": {},
   "outputs": [],
   "source": []
  },
  {
   "cell_type": "code",
   "execution_count": null,
   "id": "7bfa7b9b",
   "metadata": {},
   "outputs": [],
   "source": []
  },
  {
   "cell_type": "code",
   "execution_count": 30,
   "id": "3c08a48c",
   "metadata": {},
   "outputs": [],
   "source": [
    "# สุ่มแบบกำหนด seed เพื่อความสามารถในการทำซ้ำ\n",
    "np.random.seed(42)\n",
    "\n",
    "# ===== Step 1: สร้างข้อมูลย้อนหลัง 5 เดือน (ประมาณ 100 วันทำการ) =====\n",
    "n_days = 100\n",
    "start_price = 72.0\n",
    "date_range = pd.bdate_range(start='2024-01-01', periods=n_days)  # วันทำการเท่านั้น\n",
    "\n",
    "# สร้างราคาปิด (Close) แบบ random walk\n",
    "daily_returns = np.random.normal(loc=0.0005, scale=0.01, size=n_days)\n",
    "close_prices = start_price * np.cumprod(1 + daily_returns)\n",
    "\n",
    "# สร้างราคาตลาดอื่น ๆ ให้ดูสมจริง\n",
    "open_prices = [close_prices[0]]\n",
    "for i in range(1, n_days):\n",
    "    open_prices.append(close_prices[i - 1] * (1 + np.random.normal(0, 0.002)))\n",
    "\n",
    "high_prices = [max(o, c) * (1 + np.random.uniform(0.001, 0.015)) for o, c in zip(open_prices, close_prices)]\n",
    "low_prices = [min(o, c) * (1 - np.random.uniform(0.001, 0.015)) for o, c in zip(open_prices, close_prices)]\n",
    "\n",
    "# Volume สมจริง\n",
    "volumes = np.random.randint(1_000_000, 10_000_000, size=n_days)\n",
    "\n",
    "# สร้าง DataFrame\n",
    "df = pd.DataFrame({\n",
    "    'Date': date_range,\n",
    "    'Open': open_prices,\n",
    "    'High': high_prices,\n",
    "    'Low': low_prices,\n",
    "    'Close': close_prices,\n",
    "    'Volume': volumes,\n",
    "    'Ticker': ['AOT'] * n_days\n",
    "})\n",
    "\n",
    "# ===== Step 2: ตรวจจับ Head and Shoulders บน Close =====\n",
    "def detect_head_and_shoulders(df, ticker):\n",
    "    df = df[df['Ticker'] == ticker].copy()\n",
    "    df.reset_index(drop=True, inplace=True)\n",
    "\n",
    "    peaks, _ = find_peaks(df['Close'], distance=5)\n",
    "    valleys, _ = find_peaks(-df['Close'], distance=5)\n",
    "\n",
    "    pattern_points = []\n",
    "\n",
    "    for i in range(len(peaks) - 2):\n",
    "        left = peaks[i]\n",
    "        head = peaks[i+1]\n",
    "        right = peaks[i+2]\n",
    "\n",
    "        if left < head < right:\n",
    "            if df['Close'][head] > df['Close'][left] and df['Close'][head] > df['Close'][right]:\n",
    "                if abs(df['Close'][left] - df['Close'][right]) < df['Close'][head]*0.05:\n",
    "                    pattern_points.append((left, head, right))\n",
    "\n",
    "    return df, pattern_points\n",
    "\n",
    "\n"
   ]
  },
  {
   "cell_type": "code",
   "execution_count": 36,
   "id": "95b4f382",
   "metadata": {},
   "outputs": [],
   "source": [
    "# ===== Step 3: วาด Candlestick Chart พร้อม Head and Shoulders =====\n",
    "def plot_chart_with_pattern(df, pattern_points, ticker):\n",
    "    fig = go.Figure()\n",
    "\n",
    "    # Candlestick chart\n",
    "    fig.add_trace(go.Candlestick(\n",
    "        x=df['Date'],\n",
    "        open=df['Open'],\n",
    "        high=df['High'],\n",
    "        low=df['Low'],\n",
    "        close=df['Close'],\n",
    "        name='Candlestick'\n",
    "    ))\n",
    "\n",
    "    # วาดจุด Head and Shoulders\n",
    "    for (l, h, r) in pattern_points:\n",
    "        fig.add_trace(go.Scatter(\n",
    "            x=[df['Date'][l]], y=[df['Close'][l]],\n",
    "            mode='markers+text', name='Left Shoulder',\n",
    "            marker=dict(color='yellow', size=10),\n",
    "            text=[\"Left\"], textposition=\"top center\"\n",
    "        ))\n",
    "        fig.add_trace(go.Scatter(\n",
    "            x=[df['Date'][h]], y=[df['Close'][h]],\n",
    "            mode='markers+text', name='Head',\n",
    "            marker=dict(color='red', size=12),\n",
    "            text=[\"Head\"], textposition=\"top center\"\n",
    "        ))\n",
    "        fig.add_trace(go.Scatter(\n",
    "            x=[df['Date'][r]], y=[df['Close'][r]],\n",
    "            mode='markers+text', name='Right Shoulder',\n",
    "            marker=dict(color='green', size=10),\n",
    "            text=[\"Right\"], textposition=\"top center\"\n",
    "        ))\n",
    "\n",
    "        # neckline\n",
    "        fig.add_shape(\n",
    "            type='line',\n",
    "            x0=df['Date'][l], y0=df['Close'][l],\n",
    "            x1=df['Date'][r], y1=df['Close'][r],\n",
    "            line=dict(color='green', dash='dash')\n",
    "        )\n",
    "\n",
    "    fig.update_layout(\n",
    "        title=f'{ticker} - Head and Shoulders Pattern',\n",
    "        xaxis_title='Date',\n",
    "        yaxis_title='Price (Baht)',\n",
    "        template='plotly_white',\n",
    "        xaxis_rangeslider_visible=False,\n",
    "        height=600\n",
    "    )\n",
    "\n",
    "    fig.show()\n"
   ]
  },
  {
   "cell_type": "code",
   "execution_count": 37,
   "id": "e4307845",
   "metadata": {},
   "outputs": [
    {
     "data": {
      "application/vnd.plotly.v1+json": {
       "config": {
        "plotlyServerURL": "https://plot.ly"
       },
       "data": [
        {
         "close": {
          "bdata": "AFd1TTEZUkBteu5mGhVSQNEr51xmNVJAVt31nbl+UkDWalqDAXZSQKrg4bdNbVJAipCQkyi6UkCX/oH9WOFSQBSus60SzVJAoNct45fpUkA3CmLKk9VSQGa93FaIwVJA65r/HY3PUkAkBj7z0nVSQFzGXpyrJlJA8f7ttN0OUkCAANILW+JRQGysbz0I81FAp417D5vLUUCASadli41RQPUNjZ+m0VFA9M4q8KHJUUDeKef/+85RQCh7RFBPkFFAjZvmsRR6UUD/p2/YR4FRQJBHJynxT1FAu8eCCM9iUUCFx2wETUpRQMokPE6aP1FAGy1x2D0nUUC5WXZ0xnpRQP+GFpxofFFAQ5Owo0xPUUD0sTDm9nVRQMc3xM6gQVFAYYpIVBBNUUC9Rx64e/hQQNAiFeTzwFBAjxqhW4rLUECjMtfecO1QQPR/wKQI91BAfc9JwS70UECx4W7GSOlQQDcAEYNwq1BAYKejs9qOUEA6ySurcn1QQNPFNzwvrFBAZ19GIPy8UEBd77/TlHNQQGZcpRFWg1BAklCh0Ct1UECuj84CwlpQQGWHdex1dlBApO8q2QSkUECklCdY0s1QQMhPF/Xeq1BAGYMt3s6gUEAH3q+oCbFQQDm+tBLc3FBAEBoYM1XKUEAu+s5xgMRQQGELC5Yol1BAKosZMnpmUEC5BBC2sIpQQGIc83w9xlBAgwl0hkvFUEASGVK7hvJQQNPboJ5iBFFAvDJbo3XqUECG9S1cRvxQQMHtzLhTQVFAzRuPAfRBUUAVnrSPSYlRQLx4SZLsFVFAgSBfeg88UUDnLlFoG0JRQK310gsbN1FAQacTa1o9UUCt5WVo1+dQQPJEA5F/4FBAl1/WbBbyUECJH351XjRRQLHhNKC+H1FAx86ChH7+UEDkUfwt1+pQQMgw34umFFFAF9/hRzYlUUAmqvCCJxBRQAtBTDzCKFFALA3KMDgvUUAD6yIsCFxRQESRIPINP1FAQp+PqMsyUUCxZTG0uyNRQHAqk0K25VBA8HR1Iq/0UEDQ1rugLwJRQDwUQfaVBFFAloOcSYv8UEA=",
          "dtype": "f8"
         },
         "high": {
          "bdata": "4Wtff7xWUkC6GZlTvUlSQACRRliMZ1JA5OyDVgayUkDHchFopZNSQGEOkfifjFJA6hTBiUb1UkBhVGqx/xxTQFrkbxOQIlNA6L/gIVYsU0DeZdE8XhBTQB/dkdGZ6VJAXxmYny8KU0B8BceVxQBTQKbtut6GwFJAbtSk0kZdUkAWrHhs6k9SQDibqt9eDVJAxSnoL/sEUkDXTfeJl+BRQJWL0K4k+1FAkT71TrzfUUA6wx6xQvFRQOF/1CMUA1JAPG7dhiyaUUCMmX5f1KpRQHDrFedVm1FAsy4TNZZpUUCVOkitaZVRQAvQvV3vZVFAWk9lFWpHUUCnN+CF959RQK3uGewjsVFApG2Fk9yEUUA4pJciaqFRQP78eqyJd1FAg1+VtfVWUUDEh0yccWtRQECENWnjGlFAUynWjDX2UEDHzpgx0x1RQIFhNwW2NlFARGLFazcmUUD+FlMdMAFRQIGaEodtH1FAvKl6xB3CUEB39Kui0bNQQFB6Iw0ktVBA6K1BZ8rCUEB2pFGEjv9QQPHsEgMKuVBAecIFzuSyUEDcR2/xcZRQQGMxJF/mhFBAUPAn4ZuxUEBU/K/JMeFQQDv4fWIA7VBAozx54+/qUED4UpYxztxQQMWFrzgY8lBAqvkgfqIgUUBdhDRfI/VQQODy0ars8FBA30Cz37bJUEDfjdcdzadQQADXDIht2VBA9dJJbIDjUEAv7L9a5SRRQKhHepWeCVFA0O2uXK0NUUCiBQBvbANRQFXfIF1DSFFAYcQwUUh7UUCj3IJlALpRQKH+tTiqrlFAgfn6/4NGUUAG9OIdMmZRQMcS40PtY1FAKLbxCg5TUUDDHHtoOFpRQENw4LADHFFAznQkCNQbUUBY/UUY719RQHSQpEMeMlFAZaEEMWA/UUBegK0lACdRQE7whuLSN1FA2rNOTjteUUDbo1xyblFRQB/mw/YrN1FAqSDHCPc3UUCHfIrrcYhRQEOFBmC/aVFAcJpcqpVpUUDKdgFLB2ZRQIvcID0BTVFATjEoHZ0QUUD3oj0SwS1RQI4w/WjkJFFAHHh/eLsqUUA=",
          "dtype": "f8"
         },
         "low": {
          "bdata": "kXlR133XUUAt2IDNe+5RQEZkivZXzlFAcfrQF4HyUUCN+CVYU2RSQIPA6WgBZFJAdrDPybtlUkCnY8U3NMZSQNF2vmLlwVJADi3JmrCcUkCXNfpJ88tSQD4tTP5Jp1JABMkomq+DUkDoT2b5jm9SQIQzOy0K7VFA6hRLYgD4UUCYA3wKNNZRQDfhtdrNsFFAQJyD5O+eUUDww4172VFRQK20I0R9YVFA0TAuOduRUUDtvTOi26pRQDn7KdykgFFAsQCxJJdGUUARB4JzQUhRQB+/B1INDlFAAw1QFTApUUC0KJg90i5RQOHXscUwC1FALuzMDOYNUUCxT8XEM9xQQP6kXxMhQVFA5rEQCkEwUUAG9UcwbyBRQCRwUmKLDlFAB75ehj1CUUCNR0M3Pr1QQPv532BTnlBABK0E7O2RUEDXQ5Yfc6lQQEDWFe64tFBAkrR6jTHYUEBonv0XP+FQQI3ZEa4UcVBAl28QuTKFUEDy8kLeWmZQQDb055DINlBAYCmmqABkUEAklLMDj01QQEmM2ZuXTFBA4F6dtoFWUEBGBj15YkVQQJwPm+2kPVBAutzQ0YBMUEBnq4T0WnVQQPRLq1lOeFBAaIsIZX5tUECFj0kCJJtQQPnOQT8WhVBAwXjpHpLCUEBTsLHUqJxQQO1X2WqoeFBATvzhyxkuUEC2H51SzUZQQBSMyyGnh1BA7ipXNGi4UEA2CvbmNJpQQKoyNfDv2FBAv8BVlP/fUEB0zHUhhNpQQPvgZziaxVBAGgXMjTcxUUA0oWKABwpRQJeWJ7FN5lBAXe3a6/sOUUAYNXkCcThRQAPTC8rS9VBA0RFaltAhUUBTcMJ0Ds1QQKq40JYDq1BAUqUI/TWoUEBEB84riqpQQB9HSM4f7VBAmY9TFjrjUEAGGJ5ocuFQQBwuHDqAvVBA3z5GNjLyUEDJj//e1/FQQIL/evAPzVBAfX8At0AQUUBQckIUlQhRQNg+bgnwOVFAloWdQYERUUDHwxMK4xtRQDPBRs0w2lBAoTvx9JfdUED01USnS8FQQGnExmit0VBA25zgJq7UUEA=",
          "dtype": "f8"
         },
         "name": "Candlestick",
         "open": {
          "bdata": "AFd1TTEZUkDKKIrEEwxSQCJuJW41EVJA/6CHbTQyUkBgk83AIHdSQJc6ZT97dFJA3ZAemx1xUkDxO/RsPsxSQFeHcAMJ41JAYZy1W43PUkDuJABY3+hSQLuaSAUTw1JAUblyKEfBUkBe1VaeIdBSQOTnkRAbjVJAQaM89+EkUkB9Xv9wpxFSQBPQfK0J4lFAD3z1vUroUUDoohmpBNZRQBdCkV1NlFFAT75FId7YUUDN09+8WcFRQMcP8GbG21FATa7pGLSDUUBFa5UGVX9RQMMtRanplFFA9ggheylHUUCKiseLxF1RQMHnkdouS1FAfHG3DSg7UUAI+ux2nxlRQN713Ilje1FA+gev5OVyUUB93Ewjf1NRQIJrUa++bVFAFHowfVJPUUAqGTApIEZRQCBSX1Wv9VBA1dA6VO7HUEAsltLG9MBQQL8dcIpp71BAXnTsP2MCUUDZoPulOuZQQBuWiQji6lBAmlhiVqitUEDLzpp8e5VQQGgXfiUBc1BAUAOooOmgUEDEeVY4dcFQQMlnWDkVdlBApncUPHSFUEAYaUwnF3hQQCT53UsQVVBABg/jFGt4UECdlM8ThKZQQLPtRfasx1BARp9T9Mu7UEDMMHmU16RQQPQTqlTbplBAuYZ+NYfiUEDjFiMs9MFQQCbRsERCy1BAXc4oAQChUEBwNU4Kll9QQCH9VHfZklBA4x+dDMnJUECB8/6MWsxQQJpoUyD8AlFAzL77ST8CUUBEeTV17uNQQIYt7ASK9FBAy3mGoB46UUA/jkaaRUFRQEODTrRZjFFAmhbXNFgYUUBSMHMQXENRQL+YldE4QlFAztoY2+pDUUBcDtNjBDtRQH9tYuhi/1BAiZAmmuflUEAZJ36XpupQQO3mjI7vKlFAmNYvhvkjUUBgacfDjPxQQK/avmUG8VBAWUOGB8oYUUDvdzSdkiRRQERDW6nBCFFAMqo8NHMbUUBnZct1SitRQIinScakY1FA9lMK6PFAUUD0cJ550ydRQLS4GMJAJVFAE762pQvpUECisLXSAu1QQAgaelWGA1FAckr4zBcFUUA=",
          "dtype": "f8"
         },
         "type": "candlestick",
         "x": [
          "2024-01-01T00:00:00.000000000",
          "2024-01-02T00:00:00.000000000",
          "2024-01-03T00:00:00.000000000",
          "2024-01-04T00:00:00.000000000",
          "2024-01-05T00:00:00.000000000",
          "2024-01-08T00:00:00.000000000",
          "2024-01-09T00:00:00.000000000",
          "2024-01-10T00:00:00.000000000",
          "2024-01-11T00:00:00.000000000",
          "2024-01-12T00:00:00.000000000",
          "2024-01-15T00:00:00.000000000",
          "2024-01-16T00:00:00.000000000",
          "2024-01-17T00:00:00.000000000",
          "2024-01-18T00:00:00.000000000",
          "2024-01-19T00:00:00.000000000",
          "2024-01-22T00:00:00.000000000",
          "2024-01-23T00:00:00.000000000",
          "2024-01-24T00:00:00.000000000",
          "2024-01-25T00:00:00.000000000",
          "2024-01-26T00:00:00.000000000",
          "2024-01-29T00:00:00.000000000",
          "2024-01-30T00:00:00.000000000",
          "2024-01-31T00:00:00.000000000",
          "2024-02-01T00:00:00.000000000",
          "2024-02-02T00:00:00.000000000",
          "2024-02-05T00:00:00.000000000",
          "2024-02-06T00:00:00.000000000",
          "2024-02-07T00:00:00.000000000",
          "2024-02-08T00:00:00.000000000",
          "2024-02-09T00:00:00.000000000",
          "2024-02-12T00:00:00.000000000",
          "2024-02-13T00:00:00.000000000",
          "2024-02-14T00:00:00.000000000",
          "2024-02-15T00:00:00.000000000",
          "2024-02-16T00:00:00.000000000",
          "2024-02-19T00:00:00.000000000",
          "2024-02-20T00:00:00.000000000",
          "2024-02-21T00:00:00.000000000",
          "2024-02-22T00:00:00.000000000",
          "2024-02-23T00:00:00.000000000",
          "2024-02-26T00:00:00.000000000",
          "2024-02-27T00:00:00.000000000",
          "2024-02-28T00:00:00.000000000",
          "2024-02-29T00:00:00.000000000",
          "2024-03-01T00:00:00.000000000",
          "2024-03-04T00:00:00.000000000",
          "2024-03-05T00:00:00.000000000",
          "2024-03-06T00:00:00.000000000",
          "2024-03-07T00:00:00.000000000",
          "2024-03-08T00:00:00.000000000",
          "2024-03-11T00:00:00.000000000",
          "2024-03-12T00:00:00.000000000",
          "2024-03-13T00:00:00.000000000",
          "2024-03-14T00:00:00.000000000",
          "2024-03-15T00:00:00.000000000",
          "2024-03-18T00:00:00.000000000",
          "2024-03-19T00:00:00.000000000",
          "2024-03-20T00:00:00.000000000",
          "2024-03-21T00:00:00.000000000",
          "2024-03-22T00:00:00.000000000",
          "2024-03-25T00:00:00.000000000",
          "2024-03-26T00:00:00.000000000",
          "2024-03-27T00:00:00.000000000",
          "2024-03-28T00:00:00.000000000",
          "2024-03-29T00:00:00.000000000",
          "2024-04-01T00:00:00.000000000",
          "2024-04-02T00:00:00.000000000",
          "2024-04-03T00:00:00.000000000",
          "2024-04-04T00:00:00.000000000",
          "2024-04-05T00:00:00.000000000",
          "2024-04-08T00:00:00.000000000",
          "2024-04-09T00:00:00.000000000",
          "2024-04-10T00:00:00.000000000",
          "2024-04-11T00:00:00.000000000",
          "2024-04-12T00:00:00.000000000",
          "2024-04-15T00:00:00.000000000",
          "2024-04-16T00:00:00.000000000",
          "2024-04-17T00:00:00.000000000",
          "2024-04-18T00:00:00.000000000",
          "2024-04-19T00:00:00.000000000",
          "2024-04-22T00:00:00.000000000",
          "2024-04-23T00:00:00.000000000",
          "2024-04-24T00:00:00.000000000",
          "2024-04-25T00:00:00.000000000",
          "2024-04-26T00:00:00.000000000",
          "2024-04-29T00:00:00.000000000",
          "2024-04-30T00:00:00.000000000",
          "2024-05-01T00:00:00.000000000",
          "2024-05-02T00:00:00.000000000",
          "2024-05-03T00:00:00.000000000",
          "2024-05-06T00:00:00.000000000",
          "2024-05-07T00:00:00.000000000",
          "2024-05-08T00:00:00.000000000",
          "2024-05-09T00:00:00.000000000",
          "2024-05-10T00:00:00.000000000",
          "2024-05-13T00:00:00.000000000",
          "2024-05-14T00:00:00.000000000",
          "2024-05-15T00:00:00.000000000",
          "2024-05-16T00:00:00.000000000",
          "2024-05-17T00:00:00.000000000"
         ]
        },
        {
         "marker": {
          "color": "yellow",
          "size": 10
         },
         "mode": "markers+text",
         "name": "Left Shoulder",
         "text": [
          "Left"
         ],
         "textposition": "top center",
         "type": "scatter",
         "x": [
          "2024-01-04T00:00:00"
         ],
         "y": [
          73.98007916460242
         ]
        },
        {
         "marker": {
          "color": "red",
          "size": 12
         },
         "mode": "markers+text",
         "name": "Head",
         "text": [
          "Head"
         ],
         "textposition": "top center",
         "type": "scatter",
         "x": [
          "2024-01-12T00:00:00"
         ],
         "y": [
          75.64989547230516
         ]
        },
        {
         "marker": {
          "color": "green",
          "size": 10
         },
         "mode": "markers+text",
         "name": "Right Shoulder",
         "text": [
          "Right"
         ],
         "textposition": "top center",
         "type": "scatter",
         "x": [
          "2024-01-24T00:00:00"
         ],
         "y": [
          71.7973779287874
         ]
        },
        {
         "marker": {
          "color": "yellow",
          "size": 10
         },
         "mode": "markers+text",
         "name": "Left Shoulder",
         "text": [
          "Left"
         ],
         "textposition": "top center",
         "type": "scatter",
         "x": [
          "2024-02-07T00:00:00"
         ],
         "y": [
          69.54388630649093
         ]
        },
        {
         "marker": {
          "color": "red",
          "size": 12
         },
         "mode": "markers+text",
         "name": "Head",
         "text": [
          "Head"
         ],
         "textposition": "top center",
         "type": "scatter",
         "x": [
          "2024-02-14T00:00:00"
         ],
         "y": [
          69.94388487052855
         ]
        },
        {
         "marker": {
          "color": "green",
          "size": 10
         },
         "mode": "markers+text",
         "name": "Right Shoulder",
         "text": [
          "Right"
         ],
         "textposition": "top center",
         "type": "scatter",
         "x": [
          "2024-02-27T00:00:00"
         ],
         "y": [
          67.8599025611764
         ]
        },
        {
         "marker": {
          "color": "yellow",
          "size": 10
         },
         "mode": "markers+text",
         "name": "Left Shoulder",
         "text": [
          "Left"
         ],
         "textposition": "top center",
         "type": "scatter",
         "x": [
          "2024-04-04T00:00:00"
         ],
         "y": [
          68.06851926525933
         ]
        },
        {
         "marker": {
          "color": "red",
          "size": 12
         },
         "mode": "markers+text",
         "name": "Head",
         "text": [
          "Head"
         ],
         "textposition": "top center",
         "type": "scatter",
         "x": [
          "2024-04-11T00:00:00"
         ],
         "y": [
          70.14511482847622
         ]
        },
        {
         "marker": {
          "color": "green",
          "size": 10
         },
         "mode": "markers+text",
         "name": "Right Shoulder",
         "text": [
          "Right"
         ],
         "textposition": "top center",
         "type": "scatter",
         "x": [
          "2024-04-18T00:00:00"
         ],
         "y": [
          68.95864369315406
         ]
        },
        {
         "marker": {
          "color": "yellow",
          "size": 10
         },
         "mode": "markers+text",
         "name": "Left Shoulder",
         "text": [
          "Left"
         ],
         "textposition": "top center",
         "type": "scatter",
         "x": [
          "2024-04-18T00:00:00"
         ],
         "y": [
          68.95864369315406
         ]
        },
        {
         "marker": {
          "color": "red",
          "size": 12
         },
         "mode": "markers+text",
         "name": "Head",
         "text": [
          "Head"
         ],
         "textposition": "top center",
         "type": "scatter",
         "x": [
          "2024-05-07T00:00:00"
         ],
         "y": [
          69.43799880418742
         ]
        },
        {
         "marker": {
          "color": "green",
          "size": 10
         },
         "mode": "markers+text",
         "name": "Right Shoulder",
         "text": [
          "Right"
         ],
         "textposition": "top center",
         "type": "scatter",
         "x": [
          "2024-05-16T00:00:00"
         ],
         "y": [
          68.07165294986129
         ]
        }
       ],
       "layout": {
        "height": 600,
        "shapes": [
         {
          "line": {
           "color": "green",
           "dash": "dash"
          },
          "type": "line",
          "x0": "2024-01-04T00:00:00",
          "x1": "2024-01-24T00:00:00",
          "y0": 73.98007916460242,
          "y1": 71.7973779287874
         },
         {
          "line": {
           "color": "green",
           "dash": "dash"
          },
          "type": "line",
          "x0": "2024-02-07T00:00:00",
          "x1": "2024-02-27T00:00:00",
          "y0": 69.54388630649093,
          "y1": 67.8599025611764
         },
         {
          "line": {
           "color": "green",
           "dash": "dash"
          },
          "type": "line",
          "x0": "2024-04-04T00:00:00",
          "x1": "2024-04-18T00:00:00",
          "y0": 68.06851926525933,
          "y1": 68.95864369315406
         },
         {
          "line": {
           "color": "green",
           "dash": "dash"
          },
          "type": "line",
          "x0": "2024-04-18T00:00:00",
          "x1": "2024-05-16T00:00:00",
          "y0": 68.95864369315406,
          "y1": 68.07165294986129
         }
        ],
        "template": {
         "data": {
          "bar": [
           {
            "error_x": {
             "color": "#2a3f5f"
            },
            "error_y": {
             "color": "#2a3f5f"
            },
            "marker": {
             "line": {
              "color": "white",
              "width": 0.5
             },
             "pattern": {
              "fillmode": "overlay",
              "size": 10,
              "solidity": 0.2
             }
            },
            "type": "bar"
           }
          ],
          "barpolar": [
           {
            "marker": {
             "line": {
              "color": "white",
              "width": 0.5
             },
             "pattern": {
              "fillmode": "overlay",
              "size": 10,
              "solidity": 0.2
             }
            },
            "type": "barpolar"
           }
          ],
          "carpet": [
           {
            "aaxis": {
             "endlinecolor": "#2a3f5f",
             "gridcolor": "#C8D4E3",
             "linecolor": "#C8D4E3",
             "minorgridcolor": "#C8D4E3",
             "startlinecolor": "#2a3f5f"
            },
            "baxis": {
             "endlinecolor": "#2a3f5f",
             "gridcolor": "#C8D4E3",
             "linecolor": "#C8D4E3",
             "minorgridcolor": "#C8D4E3",
             "startlinecolor": "#2a3f5f"
            },
            "type": "carpet"
           }
          ],
          "choropleth": [
           {
            "colorbar": {
             "outlinewidth": 0,
             "ticks": ""
            },
            "type": "choropleth"
           }
          ],
          "contour": [
           {
            "colorbar": {
             "outlinewidth": 0,
             "ticks": ""
            },
            "colorscale": [
             [
              0,
              "#0d0887"
             ],
             [
              0.1111111111111111,
              "#46039f"
             ],
             [
              0.2222222222222222,
              "#7201a8"
             ],
             [
              0.3333333333333333,
              "#9c179e"
             ],
             [
              0.4444444444444444,
              "#bd3786"
             ],
             [
              0.5555555555555556,
              "#d8576b"
             ],
             [
              0.6666666666666666,
              "#ed7953"
             ],
             [
              0.7777777777777778,
              "#fb9f3a"
             ],
             [
              0.8888888888888888,
              "#fdca26"
             ],
             [
              1,
              "#f0f921"
             ]
            ],
            "type": "contour"
           }
          ],
          "contourcarpet": [
           {
            "colorbar": {
             "outlinewidth": 0,
             "ticks": ""
            },
            "type": "contourcarpet"
           }
          ],
          "heatmap": [
           {
            "colorbar": {
             "outlinewidth": 0,
             "ticks": ""
            },
            "colorscale": [
             [
              0,
              "#0d0887"
             ],
             [
              0.1111111111111111,
              "#46039f"
             ],
             [
              0.2222222222222222,
              "#7201a8"
             ],
             [
              0.3333333333333333,
              "#9c179e"
             ],
             [
              0.4444444444444444,
              "#bd3786"
             ],
             [
              0.5555555555555556,
              "#d8576b"
             ],
             [
              0.6666666666666666,
              "#ed7953"
             ],
             [
              0.7777777777777778,
              "#fb9f3a"
             ],
             [
              0.8888888888888888,
              "#fdca26"
             ],
             [
              1,
              "#f0f921"
             ]
            ],
            "type": "heatmap"
           }
          ],
          "histogram": [
           {
            "marker": {
             "pattern": {
              "fillmode": "overlay",
              "size": 10,
              "solidity": 0.2
             }
            },
            "type": "histogram"
           }
          ],
          "histogram2d": [
           {
            "colorbar": {
             "outlinewidth": 0,
             "ticks": ""
            },
            "colorscale": [
             [
              0,
              "#0d0887"
             ],
             [
              0.1111111111111111,
              "#46039f"
             ],
             [
              0.2222222222222222,
              "#7201a8"
             ],
             [
              0.3333333333333333,
              "#9c179e"
             ],
             [
              0.4444444444444444,
              "#bd3786"
             ],
             [
              0.5555555555555556,
              "#d8576b"
             ],
             [
              0.6666666666666666,
              "#ed7953"
             ],
             [
              0.7777777777777778,
              "#fb9f3a"
             ],
             [
              0.8888888888888888,
              "#fdca26"
             ],
             [
              1,
              "#f0f921"
             ]
            ],
            "type": "histogram2d"
           }
          ],
          "histogram2dcontour": [
           {
            "colorbar": {
             "outlinewidth": 0,
             "ticks": ""
            },
            "colorscale": [
             [
              0,
              "#0d0887"
             ],
             [
              0.1111111111111111,
              "#46039f"
             ],
             [
              0.2222222222222222,
              "#7201a8"
             ],
             [
              0.3333333333333333,
              "#9c179e"
             ],
             [
              0.4444444444444444,
              "#bd3786"
             ],
             [
              0.5555555555555556,
              "#d8576b"
             ],
             [
              0.6666666666666666,
              "#ed7953"
             ],
             [
              0.7777777777777778,
              "#fb9f3a"
             ],
             [
              0.8888888888888888,
              "#fdca26"
             ],
             [
              1,
              "#f0f921"
             ]
            ],
            "type": "histogram2dcontour"
           }
          ],
          "mesh3d": [
           {
            "colorbar": {
             "outlinewidth": 0,
             "ticks": ""
            },
            "type": "mesh3d"
           }
          ],
          "parcoords": [
           {
            "line": {
             "colorbar": {
              "outlinewidth": 0,
              "ticks": ""
             }
            },
            "type": "parcoords"
           }
          ],
          "pie": [
           {
            "automargin": true,
            "type": "pie"
           }
          ],
          "scatter": [
           {
            "fillpattern": {
             "fillmode": "overlay",
             "size": 10,
             "solidity": 0.2
            },
            "type": "scatter"
           }
          ],
          "scatter3d": [
           {
            "line": {
             "colorbar": {
              "outlinewidth": 0,
              "ticks": ""
             }
            },
            "marker": {
             "colorbar": {
              "outlinewidth": 0,
              "ticks": ""
             }
            },
            "type": "scatter3d"
           }
          ],
          "scattercarpet": [
           {
            "marker": {
             "colorbar": {
              "outlinewidth": 0,
              "ticks": ""
             }
            },
            "type": "scattercarpet"
           }
          ],
          "scattergeo": [
           {
            "marker": {
             "colorbar": {
              "outlinewidth": 0,
              "ticks": ""
             }
            },
            "type": "scattergeo"
           }
          ],
          "scattergl": [
           {
            "marker": {
             "colorbar": {
              "outlinewidth": 0,
              "ticks": ""
             }
            },
            "type": "scattergl"
           }
          ],
          "scattermap": [
           {
            "marker": {
             "colorbar": {
              "outlinewidth": 0,
              "ticks": ""
             }
            },
            "type": "scattermap"
           }
          ],
          "scattermapbox": [
           {
            "marker": {
             "colorbar": {
              "outlinewidth": 0,
              "ticks": ""
             }
            },
            "type": "scattermapbox"
           }
          ],
          "scatterpolar": [
           {
            "marker": {
             "colorbar": {
              "outlinewidth": 0,
              "ticks": ""
             }
            },
            "type": "scatterpolar"
           }
          ],
          "scatterpolargl": [
           {
            "marker": {
             "colorbar": {
              "outlinewidth": 0,
              "ticks": ""
             }
            },
            "type": "scatterpolargl"
           }
          ],
          "scatterternary": [
           {
            "marker": {
             "colorbar": {
              "outlinewidth": 0,
              "ticks": ""
             }
            },
            "type": "scatterternary"
           }
          ],
          "surface": [
           {
            "colorbar": {
             "outlinewidth": 0,
             "ticks": ""
            },
            "colorscale": [
             [
              0,
              "#0d0887"
             ],
             [
              0.1111111111111111,
              "#46039f"
             ],
             [
              0.2222222222222222,
              "#7201a8"
             ],
             [
              0.3333333333333333,
              "#9c179e"
             ],
             [
              0.4444444444444444,
              "#bd3786"
             ],
             [
              0.5555555555555556,
              "#d8576b"
             ],
             [
              0.6666666666666666,
              "#ed7953"
             ],
             [
              0.7777777777777778,
              "#fb9f3a"
             ],
             [
              0.8888888888888888,
              "#fdca26"
             ],
             [
              1,
              "#f0f921"
             ]
            ],
            "type": "surface"
           }
          ],
          "table": [
           {
            "cells": {
             "fill": {
              "color": "#EBF0F8"
             },
             "line": {
              "color": "white"
             }
            },
            "header": {
             "fill": {
              "color": "#C8D4E3"
             },
             "line": {
              "color": "white"
             }
            },
            "type": "table"
           }
          ]
         },
         "layout": {
          "annotationdefaults": {
           "arrowcolor": "#2a3f5f",
           "arrowhead": 0,
           "arrowwidth": 1
          },
          "autotypenumbers": "strict",
          "coloraxis": {
           "colorbar": {
            "outlinewidth": 0,
            "ticks": ""
           }
          },
          "colorscale": {
           "diverging": [
            [
             0,
             "#8e0152"
            ],
            [
             0.1,
             "#c51b7d"
            ],
            [
             0.2,
             "#de77ae"
            ],
            [
             0.3,
             "#f1b6da"
            ],
            [
             0.4,
             "#fde0ef"
            ],
            [
             0.5,
             "#f7f7f7"
            ],
            [
             0.6,
             "#e6f5d0"
            ],
            [
             0.7,
             "#b8e186"
            ],
            [
             0.8,
             "#7fbc41"
            ],
            [
             0.9,
             "#4d9221"
            ],
            [
             1,
             "#276419"
            ]
           ],
           "sequential": [
            [
             0,
             "#0d0887"
            ],
            [
             0.1111111111111111,
             "#46039f"
            ],
            [
             0.2222222222222222,
             "#7201a8"
            ],
            [
             0.3333333333333333,
             "#9c179e"
            ],
            [
             0.4444444444444444,
             "#bd3786"
            ],
            [
             0.5555555555555556,
             "#d8576b"
            ],
            [
             0.6666666666666666,
             "#ed7953"
            ],
            [
             0.7777777777777778,
             "#fb9f3a"
            ],
            [
             0.8888888888888888,
             "#fdca26"
            ],
            [
             1,
             "#f0f921"
            ]
           ],
           "sequentialminus": [
            [
             0,
             "#0d0887"
            ],
            [
             0.1111111111111111,
             "#46039f"
            ],
            [
             0.2222222222222222,
             "#7201a8"
            ],
            [
             0.3333333333333333,
             "#9c179e"
            ],
            [
             0.4444444444444444,
             "#bd3786"
            ],
            [
             0.5555555555555556,
             "#d8576b"
            ],
            [
             0.6666666666666666,
             "#ed7953"
            ],
            [
             0.7777777777777778,
             "#fb9f3a"
            ],
            [
             0.8888888888888888,
             "#fdca26"
            ],
            [
             1,
             "#f0f921"
            ]
           ]
          },
          "colorway": [
           "#636efa",
           "#EF553B",
           "#00cc96",
           "#ab63fa",
           "#FFA15A",
           "#19d3f3",
           "#FF6692",
           "#B6E880",
           "#FF97FF",
           "#FECB52"
          ],
          "font": {
           "color": "#2a3f5f"
          },
          "geo": {
           "bgcolor": "white",
           "lakecolor": "white",
           "landcolor": "white",
           "showlakes": true,
           "showland": true,
           "subunitcolor": "#C8D4E3"
          },
          "hoverlabel": {
           "align": "left"
          },
          "hovermode": "closest",
          "mapbox": {
           "style": "light"
          },
          "paper_bgcolor": "white",
          "plot_bgcolor": "white",
          "polar": {
           "angularaxis": {
            "gridcolor": "#EBF0F8",
            "linecolor": "#EBF0F8",
            "ticks": ""
           },
           "bgcolor": "white",
           "radialaxis": {
            "gridcolor": "#EBF0F8",
            "linecolor": "#EBF0F8",
            "ticks": ""
           }
          },
          "scene": {
           "xaxis": {
            "backgroundcolor": "white",
            "gridcolor": "#DFE8F3",
            "gridwidth": 2,
            "linecolor": "#EBF0F8",
            "showbackground": true,
            "ticks": "",
            "zerolinecolor": "#EBF0F8"
           },
           "yaxis": {
            "backgroundcolor": "white",
            "gridcolor": "#DFE8F3",
            "gridwidth": 2,
            "linecolor": "#EBF0F8",
            "showbackground": true,
            "ticks": "",
            "zerolinecolor": "#EBF0F8"
           },
           "zaxis": {
            "backgroundcolor": "white",
            "gridcolor": "#DFE8F3",
            "gridwidth": 2,
            "linecolor": "#EBF0F8",
            "showbackground": true,
            "ticks": "",
            "zerolinecolor": "#EBF0F8"
           }
          },
          "shapedefaults": {
           "line": {
            "color": "#2a3f5f"
           }
          },
          "ternary": {
           "aaxis": {
            "gridcolor": "#DFE8F3",
            "linecolor": "#A2B1C6",
            "ticks": ""
           },
           "baxis": {
            "gridcolor": "#DFE8F3",
            "linecolor": "#A2B1C6",
            "ticks": ""
           },
           "bgcolor": "white",
           "caxis": {
            "gridcolor": "#DFE8F3",
            "linecolor": "#A2B1C6",
            "ticks": ""
           }
          },
          "title": {
           "x": 0.05
          },
          "xaxis": {
           "automargin": true,
           "gridcolor": "#EBF0F8",
           "linecolor": "#EBF0F8",
           "ticks": "",
           "title": {
            "standoff": 15
           },
           "zerolinecolor": "#EBF0F8",
           "zerolinewidth": 2
          },
          "yaxis": {
           "automargin": true,
           "gridcolor": "#EBF0F8",
           "linecolor": "#EBF0F8",
           "ticks": "",
           "title": {
            "standoff": 15
           },
           "zerolinecolor": "#EBF0F8",
           "zerolinewidth": 2
          }
         }
        },
        "title": {
         "text": "AOT - Head and Shoulders Pattern"
        },
        "xaxis": {
         "rangeslider": {
          "visible": false
         },
         "title": {
          "text": "Date"
         }
        },
        "yaxis": {
         "title": {
          "text": "Price (Baht)"
         }
        }
       }
      }
     },
     "metadata": {},
     "output_type": "display_data"
    }
   ],
   "source": [
    "# Run detection + plot\n",
    "df, patterns = detect_head_and_shoulders(df, 'AOT')\n",
    "plot_chart_with_pattern(df, patterns, 'AOT')"
   ]
  },
  {
   "cell_type": "code",
   "execution_count": null,
   "id": "3db9fac5",
   "metadata": {},
   "outputs": [],
   "source": []
  }
 ],
 "metadata": {
  "kernelspec": {
   "display_name": "Python 3",
   "language": "python",
   "name": "python3"
  },
  "language_info": {
   "codemirror_mode": {
    "name": "ipython",
    "version": 3
   },
   "file_extension": ".py",
   "mimetype": "text/x-python",
   "name": "python",
   "nbconvert_exporter": "python",
   "pygments_lexer": "ipython3",
   "version": "3.11.5"
  }
 },
 "nbformat": 4,
 "nbformat_minor": 5
}
